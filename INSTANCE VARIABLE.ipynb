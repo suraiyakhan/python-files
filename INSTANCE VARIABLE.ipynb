{
 "cells": [
  {
   "cell_type": "code",
   "execution_count": 2,
   "id": "83685409",
   "metadata": {},
   "outputs": [],
   "source": [
    "# ACCESS INSTANCE VARIALBE WITHIN THE INSTANCE METHOD"
   ]
  },
  {
   "cell_type": "code",
   "execution_count": 3,
   "id": "6cb9a5dd",
   "metadata": {},
   "outputs": [],
   "source": [
    "# ACCESS INSTANCE VARIALBE WITHOUT THE INSTANCE METHOD"
   ]
  },
  {
   "cell_type": "code",
   "execution_count": 9,
   "id": "92db6be3",
   "metadata": {},
   "outputs": [
    {
     "name": "stdout",
     "output_type": "stream",
     "text": [
      "NAME: suraiya\n",
      "AGE: 20\n"
     ]
    }
   ],
   "source": [
    "class add:\n",
    "    def __init__(self,name,age):\n",
    "        self.name=name\n",
    "        self.age=age\n",
    "            \n",
    "s=add(\"suraiya\",20)\n",
    "print(\"NAME:\",getattr(s,\"name\"))\n",
    "print(\"AGE:\",getattr(s,\"age\"))        "
   ]
  },
  {
   "cell_type": "code",
   "execution_count": 10,
   "id": "a0d87bc9",
   "metadata": {},
   "outputs": [],
   "source": [
    "# Dynamically Add Instance Variable to a Object\n"
   ]
  },
  {
   "cell_type": "code",
   "execution_count": 11,
   "id": "539da665",
   "metadata": {},
   "outputs": [
    {
     "ename": "AttributeError",
     "evalue": "'add' object has no attribute 'add'",
     "output_type": "error",
     "traceback": [
      "\u001b[1;31m---------------------------------------------------------------------------\u001b[0m",
      "\u001b[1;31mAttributeError\u001b[0m                            Traceback (most recent call last)",
      "Input \u001b[1;32mIn [11]\u001b[0m, in \u001b[0;36m<cell line: 7>\u001b[1;34m()\u001b[0m\n\u001b[0;32m      4\u001b[0m         \u001b[38;5;28mself\u001b[39m\u001b[38;5;241m.\u001b[39mage\u001b[38;5;241m=\u001b[39mage\n\u001b[0;32m      6\u001b[0m s\u001b[38;5;241m=\u001b[39madd(\u001b[38;5;124m\"\u001b[39m\u001b[38;5;124msurya\u001b[39m\u001b[38;5;124m\"\u001b[39m,\u001b[38;5;241m20\u001b[39m)\n\u001b[1;32m----> 7\u001b[0m \u001b[43ms\u001b[49m\u001b[38;5;241;43m.\u001b[39;49m\u001b[43madd\u001b[49m()\n",
      "\u001b[1;31mAttributeError\u001b[0m: 'add' object has no attribute 'add'"
     ]
    }
   ],
   "source": [
    "class add:\n",
    "    def __init__(self,name,age):\n",
    "        self.name=name\n",
    "        self.age=age\n",
    "        \n",
    "s=add(\"surya\",20)\n"
   ]
  },
  {
   "cell_type": "code",
   "execution_count": null,
   "id": "1fb1f053",
   "metadata": {},
   "outputs": [],
   "source": []
  }
 ],
 "metadata": {
  "kernelspec": {
   "display_name": "Python 3 (ipykernel)",
   "language": "python",
   "name": "python3"
  },
  "language_info": {
   "codemirror_mode": {
    "name": "ipython",
    "version": 3
   },
   "file_extension": ".py",
   "mimetype": "text/x-python",
   "name": "python",
   "nbconvert_exporter": "python",
   "pygments_lexer": "ipython3",
   "version": "3.10.4"
  }
 },
 "nbformat": 4,
 "nbformat_minor": 5
}
