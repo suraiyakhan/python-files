{
 "cells": [
  {
   "cell_type": "code",
   "execution_count": 1,
   "id": "97323d37",
   "metadata": {},
   "outputs": [
    {
     "name": "stdout",
     "output_type": "stream",
     "text": [
      "<class '__main__.add'>\n"
     ]
    }
   ],
   "source": [
    "class add:\n",
    "    pass\n",
    "#def sum(my):\n",
    "#print(\"my name is suraiya\")\n",
    "    \n",
    "add1=add()\n",
    "print(type(add1))\n",
    "\n",
    "\n"
   ]
  },
  {
   "cell_type": "code",
   "execution_count": 1,
   "id": "8d64d0b3",
   "metadata": {},
   "outputs": [
    {
     "name": "stdout",
     "output_type": "stream",
     "text": [
      "my name suraiya\n"
     ]
    }
   ],
   "source": [
    "class name:\n",
    "    def func(my):\n",
    "        print(\"my name suraiya\")\n",
    "name.func('my')"
   ]
  },
  {
   "cell_type": "code",
   "execution_count": 56,
   "id": "6c4857a0",
   "metadata": {},
   "outputs": [
    {
     "name": "stdout",
     "output_type": "stream",
     "text": [
      "name: suraya age: 50\n"
     ]
    }
   ],
   "source": [
    "class name:\n",
    "    def add(my):\n",
    "        print(\"my name suraiya\")\n",
    "        \n",
    "m1=name()\n",
    "m2=name()\n",
    "# this type of syntax is standard:\n",
    "\n",
    "# m1.add()\n",
    "# m2.add()\n",
    "\n",
    "class student:\n",
    "    def __init__(self,name,age):\n",
    "        self.name=name  \n",
    "        self.age=age\n",
    "    def show (self):\n",
    "        print(\"name:\",self.name,\"age:\",self.age)\n",
    "s1=student(\"suraya\",50)\n",
    "s2=student(\"minhaj\",52)\n",
    "s1.show()\n",
    "    \n"
   ]
  },
  {
   "cell_type": "code",
   "execution_count": 39,
   "id": "71d00332",
   "metadata": {},
   "outputs": [
    {
     "name": "stdout",
     "output_type": "stream",
     "text": [
      "<__main__.student object at 0x00000214F9FDF8E0> <__main__.student object at 0x00000214F9FDE020>\n",
      "['urdu', 'history'] friday\n"
     ]
    }
   ],
   "source": [
    "\n",
    "# 1st class in python\n",
    "\n",
    "class student:\n",
    "    pass\n",
    "huma=student()\n",
    "juma=student()\n",
    "\n",
    "huma.name=\"huma khan\"\n",
    "huma.std=9\n",
    "huma.add='phonix'\n",
    "huma.subject=[\"urdu\",\"history\"]\n",
    "\n",
    "\n",
    "juma.name=\"friday\"\n",
    "juma.std=5\n",
    "juma.add=\"mall\"\n",
    "\n",
    "print(huma,juma)\n",
    "print(huma.subject,juma.name)"
   ]
  },
  {
   "cell_type": "code",
   "execution_count": 14,
   "id": "213bc515",
   "metadata": {},
   "outputs": [
    {
     "name": "stdout",
     "output_type": "stream",
     "text": [
      "25\n",
      "{'name': 'shaikh', 'role': 'teacher', 'salary': 50000}\n",
      "9\n"
     ]
    }
   ],
   "source": [
    "# instance variable and class variable\n",
    "\n",
    "class EMPLOYEE:\n",
    "    no_of_student=25\n",
    "    pass\n",
    "\n",
    "harry=EMPLOYEE()\n",
    "minhaj=EMPLOYEE()\n",
    "\n",
    "harry.name=\"harry khan\"\n",
    "harry.role=\"instroctor\"\n",
    "harry.salary=50000\n",
    "\n",
    "minhaj.name=\"shaikh\"\n",
    "minhaj.role=\"teacher\"\n",
    "minhaj.salary=50000\n",
    "\n",
    "print(EMPLOYEE.no_of_student)\n",
    "\n",
    "print(minhaj.__dict__)\n",
    "minhaj.no_of_student=9\n",
    "print(minhaj. no_of_student)"
   ]
  },
  {
   "cell_type": "code",
   "execution_count": 55,
   "id": "53999bf8",
   "metadata": {},
   "outputs": [
    {
     "name": "stdout",
     "output_type": "stream",
     "text": [
      "Name: minhaj Age: 20 rollno: 24\n"
     ]
    }
   ],
   "source": [
    "class student:\n",
    "    def __init__(self,name,age,rollno):\n",
    "        self.name=name\n",
    "        self.age=age\n",
    "        self.rollno=rollno\n",
    "    def show (self):\n",
    "        print(\"Name:\",self.name,\"Age:\",self.age,\"rollno:\",self.rollno)\n",
    "# s1=student()\n",
    "s2=student(\"minhaj\",20,24)\n",
    "s2.show()\n",
    "# s2.show()\n"
   ]
  },
  {
   "cell_type": "code",
   "execution_count": 8,
   "id": "b153066d",
   "metadata": {},
   "outputs": [
    {
     "name": "stdout",
     "output_type": "stream",
     "text": [
      "20 harry\n"
     ]
    }
   ],
   "source": [
    "# class employee:\n",
    "# #     pass\n",
    "# harry=employee()\n",
    "# minhaj=employee()\n",
    "\n",
    "harry.name='harry'\n",
    "harry.age=20\n",
    "harry.salary=44000\n",
    "\n",
    "minhaj.name='minhaj'\n",
    "minhaj.age=20\n",
    "minhaj.salary=5000\n",
    "\n",
    "# print(harry,minhaj)\n",
    "print(minhaj.age,harry .name)\n",
    "\n",
    "\n"
   ]
  },
  {
   "cell_type": "code",
   "execution_count": 32,
   "id": "52427612",
   "metadata": {},
   "outputs": [
    {
     "name": "stdout",
     "output_type": "stream",
     "text": [
      "0\n",
      "1\n",
      "2\n",
      "{'name': 'fatima', 'age': 50, 'profession': 'teacher', 'salary': 44000}\n",
      "66000\n"
     ]
    }
   ],
   "source": [
    "class person:\n",
    "    increment = 1.5\n",
    "    no_of_employees=0\n",
    "    \n",
    "    \n",
    "    def __init__(self,name,age,profession,salary):\n",
    "        self.name = name\n",
    "        self.age = age\n",
    "        self.profession = profession\n",
    "        self.salary = salary\n",
    "        person.no_of_employees+=1\n",
    "#         self.increment=1.4\n",
    "\n",
    "        \n",
    "    def increase(self):\n",
    "        self.salary = int(self.salary * person.increment)\n",
    "        \n",
    "print(person.no_of_employees)        \n",
    "p1 = person('fatima',50,'teacher',44000)\n",
    "print(person.no_of_employees)\n",
    "\n",
    "p2 = person('khadija',40,'teacher',30000)\n",
    "print(person.no_of_employees)\n",
    "\n",
    "# print(p1.name,p2 .salary)\n",
    "# print(p1.__dict__)\n",
    "\n",
    "# p1.increment=9\n",
    "print(p1.__dict__)\n",
    "\n",
    "p1.increase()\n",
    "print(p1.salary)\n",
    "\n",
    "\n",
    "        \n",
    "\n",
    "\n"
   ]
  },
  {
   "cell_type": "code",
   "execution_count": 37,
   "id": "0636fef6",
   "metadata": {},
   "outputs": [
    {
     "name": "stdout",
     "output_type": "stream",
     "text": [
      "Student: Harry 12\n",
      "School name: ABC School\n",
      "Student: Jessa 14\n",
      "School name: XYZ School\n"
     ]
    }
   ],
   "source": [
    "class StudentDetail:\n",
    "    # class variables\n",
    "    school_name = 'ABC School'\n",
    "\n",
    "    # constructor\n",
    "    def __init__(self, name, age):\n",
    "        # instance variables\n",
    "        self.name = name\n",
    "        self.age = age\n",
    "\n",
    "s1 = Student(\"Harry\", 12)\n",
    "# access instance variables\n",
    "print('Student:', s1.name, s1.age)\n",
    "\n",
    "# access class variable\n",
    "print('School name:', Student.school_name)\n",
    "\n",
    "# Modify instance variables\n",
    "s1.name = 'Jessa'\n",
    "s1.age = 14\n",
    "print('Student:', s1.name, s1.age)\n",
    "\n",
    "# Modify class variables\n",
    "Student.school_name = 'XYZ School'\n",
    "print('School name:', Student.school_name)"
   ]
  },
  {
   "cell_type": "code",
   "execution_count": 66,
   "id": "1c7d2dc4",
   "metadata": {},
   "outputs": [
    {
     "name": "stdout",
     "output_type": "stream",
     "text": [
      "student: har 10\n",
      "schoolname: ABCschool\n",
      "student: lorry 20\n",
      "schoolname: xyz\n"
     ]
    }
   ],
   "source": [
    "class student:\n",
    "    collagename=\"ABCschool\"\n",
    "    def __init__(self,name,age):\n",
    "        self.name=name\n",
    "        self.age=age\n",
    "s1=student(\"har\",10) \n",
    "\n",
    "print('student:',s1.name,s1.age)\n",
    "print('schoolname:',student.collagename)\n",
    "s1.name='lorry'\n",
    "s1.age=20\n",
    "print('student:',s1.name, s1.age)\n",
    "student.collagename=\"xyz\"\n",
    "print('schoolname:',student.collagename)\n",
    "\n",
    "\n",
    "\n",
    "\n",
    "        "
   ]
  },
  {
   "cell_type": "code",
   "execution_count": 87,
   "id": "69a8d565",
   "metadata": {},
   "outputs": [
    {
     "name": "stdout",
     "output_type": "stream",
     "text": [
      "name: farhana age: 20 schoolname: taleem\n",
      "schoolname: taleem\n",
      "30\n",
      "name: farhana age: 30 schoolname: taleem\n",
      "schoolname: kulliya\n",
      "name: farhana age: 30 schoolname: kulliya\n"
     ]
    }
   ],
   "source": [
    "class standard:\n",
    "    schoolname=\"taleem\"\n",
    "    def __init__(self,name,age):\n",
    "        self.name = name\n",
    "        self.age = age\n",
    "s1=standard('farhana',20)\n",
    "print(\"name:\",s1.name,\"age:\",s1.age,\"schoolname:\",s1.schoolname)\n",
    "print(\"schoolname:\",standard.schoolname)\n",
    "\n",
    "s1.age=30\n",
    "print(s1.age)\n",
    "print(\"name:\",s1.name,\"age:\",s1.age,\"schoolname:\",s1.schoolname)\n",
    "\n",
    "standard.schoolname=\"kulliya\"\n",
    "print(\"schoolname:\",standard.schoolname)\n",
    "print(\"name:\",s1.name,\"age:\",s1.age,\"schoolname:\",s1.schoolname)\n"
   ]
  },
  {
   "cell_type": "markdown",
   "id": "e84713bc",
   "metadata": {},
   "source": [
    "# class variable instance variable"
   ]
  },
  {
   "cell_type": "code",
   "execution_count": 106,
   "id": "a8bef4e8",
   "metadata": {},
   "outputs": [
    {
     "name": "stdout",
     "output_type": "stream",
     "text": [
      "0\n",
      "2\n",
      "70000\n",
      "{'name': 'fatima', 'age': 50, 'salary': 70000, 'profession': 'teacher'}\n",
      "84000\n",
      "{'name': 'khadija', 'age': 20, 'salary': 30000, 'profession': 'student'}\n",
      "36000\n",
      "{'name': 'khadija', 'age': 20, 'salary': 36000, 'profession': 'student'}\n"
     ]
    }
   ],
   "source": [
    "class Employee:\n",
    "    increment=1.2\n",
    "    noofemployee=0\n",
    "    def __init__(self,name,age,salary,profession):\n",
    "        self.name=name\n",
    "        self.age=age\n",
    "        self.salary=salary\n",
    "        self.profession=profession\n",
    "        Employee.noofemployee+=1\n",
    "        \n",
    "    def increase(self):\n",
    "        self.salary=int(self.salary*Employee.increment)\n",
    "print(Employee.noofemployee)        \n",
    "    \n",
    "fatima=Employee('fatima',50,70000,'teacher')\n",
    "khadija=Employee(\"khadija\",20,30000,\"student\")\n",
    "\n",
    "print(Employee.noofemployee)     \n",
    "\n",
    "print(fatima.salary)\n",
    "print(fatima.__dict__)\n",
    "\n",
    "fatima.increase()\n",
    "print(fatima.salary)\n",
    "\n",
    "print(khadija.__dict__)\n",
    "khadija.increase()\n",
    "print(khadija.salary)\n",
    "print(khadija.__dict__)\n",
    "\n",
    "\n",
    "\n"
   ]
  },
  {
   "cell_type": "code",
   "execution_count": 40,
   "id": "dfcf31ef",
   "metadata": {},
   "outputs": [
    {
     "name": "stdout",
     "output_type": "stream",
     "text": [
      "7200\n",
      "14400\n",
      "6000\n",
      "12000\n"
     ]
    }
   ],
   "source": [
    "# instance method\n",
    "\n",
    "class Employee:\n",
    "    increment=1.2\n",
    "    \n",
    "    def __init__(self,name,age,salary,profession):\n",
    "        self.name=name\n",
    "        self.age=age\n",
    "        self.salary=salary\n",
    "        self.profession=profession\n",
    "        \n",
    "        \n",
    "    def increase(self):\n",
    "        self.salary=int(self.salary*Employee.increment)\n",
    "    @classmethod\n",
    "    def change_increment(cls,amount):\n",
    "        cls.increment=amount\n",
    "        \n",
    "    \n",
    "        \n",
    "\n",
    "fatima=Employee('fatima',50,6000,'teacher')\n",
    "khadija=Employee(\"khadija\",20,3000,\"student\")\n",
    "\n",
    "# khadija.increase()\n",
    "# print(khadija.salary)\n",
    "\n",
    "fatima.increase()\n",
    "\n",
    "print(fatima.salary)\n",
    "\n",
    "Employee.change_increment(2)\n",
    "\n",
    "fatima.increase()\n",
    "print(fatima.salary)\n",
    "\n",
    "khadija.increase()\n",
    "print(khadija.salary)\n",
    "Employee.change_increment(2)\n",
    "\n",
    "khadija.increase()\n",
    "print(khadija.salary)\n"
   ]
  },
  {
   "cell_type": "code",
   "execution_count": 15,
   "id": "bcbb79a6",
   "metadata": {},
   "outputs": [
    {
     "data": {
      "text/plain": [
       "65"
      ]
     },
     "execution_count": 15,
     "metadata": {},
     "output_type": "execute_result"
    }
   ],
   "source": [
    "class student:\n",
    "    def __init__(self,name,rollno,age):\n",
    "        self.name = name\n",
    "        self.__rollno = rollno\n",
    "        self.__age = age\n",
    "    \n",
    "    def show(self):\n",
    "        print(self.__rollno)\n",
    "        \n",
    "    def get_rollno(self):\n",
    "        return self.__rollno\n",
    "    \n",
    "    def get_age(self):\n",
    "        return self.__age\n",
    "    \n",
    "    def set_age(self,age):\n",
    "         self.__age=age\n",
    "    \n",
    "    \n",
    "minhaj=student(\"minhaj\",22,20)\n",
    "minhaj.name\n",
    "minhaj._student__rollno\n",
    "\n",
    "# s2=student(\"haj\",29,25)\n",
    "\n",
    "# s3=student(\"huma\",32,22)\n",
    "\n",
    "# minhaj.show()\n",
    "# s2.sho\n",
    "# minhaj.get_rollno()\n",
    "minhaj.get_age()\n",
    "minhaj.set_age(65)\n",
    "minhaj.get_age()"
   ]
  },
  {
   "cell_type": "markdown",
   "id": "a4548093",
   "metadata": {},
   "source": [
    "# default constructor"
   ]
  },
  {
   "cell_type": "code",
   "execution_count": 5,
   "id": "bf8bd726",
   "metadata": {},
   "outputs": [
    {
     "name": "stdout",
     "output_type": "stream",
     "text": [
      "my name is khan.\n"
     ]
    }
   ],
   "source": [
    "class add:\n",
    "    def sum(self):\n",
    "        print(\"my name is khan.\")\n",
    "s=add()\n",
    "s.sum()"
   ]
  },
  {
   "cell_type": "code",
   "execution_count": 1,
   "id": "cb46a8d9",
   "metadata": {},
   "outputs": [],
   "source": [
    "# non-parametrized constructor"
   ]
  },
  {
   "cell_type": "code",
   "execution_count": 2,
   "id": "43a3fd83",
   "metadata": {},
   "outputs": [
    {
     "name": "stdout",
     "output_type": "stream",
     "text": [
      "NAME: khan AGE: 50\n"
     ]
    }
   ],
   "source": [
    "class student:\n",
    "    def __init__(self):\n",
    "        self.name=\"khan\"\n",
    "        self.age=\"50\"\n",
    "    def show(self):\n",
    "        print(\"NAME:\",self.name,\"AGE:\",self.age)\n",
    "        \n",
    "s=student()        \n",
    "s.show()"
   ]
  },
  {
   "cell_type": "code",
   "execution_count": 9,
   "id": "a3308b54",
   "metadata": {},
   "outputs": [],
   "source": [
    "# parametrized constructor\n"
   ]
  },
  {
   "cell_type": "code",
   "execution_count": 11,
   "id": "dfaac126",
   "metadata": {},
   "outputs": [
    {
     "name": "stdout",
     "output_type": "stream",
     "text": [
      "NAME: khan khalid AGE: 30 SALARY: 10000\n",
      "NAME: khan huma AGE: 40 SALARY: 20000\n"
     ]
    }
   ],
   "source": [
    "class Employee:\n",
    "    def __init__(self,name,age,salary):\n",
    "        self.name = name\n",
    "        self.age = age\n",
    "        self.salary = salary\n",
    "    def show(self):\n",
    "        print(\"NAME:\",self.name,\"AGE:\",self.age,\"SALARY:\",self.salary)\n",
    "s1=Employee(\"khan khalid\",30,10000)\n",
    "s1.show()\n",
    "\n",
    "s2=Employee(\"khan huma\",40,20000)\n",
    "s2.show()\n",
    "\n",
    "\n"
   ]
  },
  {
   "cell_type": "code",
   "execution_count": 17,
   "id": "f9b2484a",
   "metadata": {},
   "outputs": [
    {
     "name": "stdout",
     "output_type": "stream",
     "text": [
      "Amma 12 7\n",
      "namma 13 7\n"
     ]
    }
   ],
   "source": [
    "# constructor with default value\n",
    "\n",
    "class Student:\n",
    "    def __init__(self,name, age=12, classroom=7):\n",
    "        \n",
    "        self.name = name\n",
    "        self.age = age\n",
    "        self.classroom = classroom\n",
    "    \n",
    "    def add(self):\n",
    "        print(self.name,self.age,self.classroom)\n",
    "s1 = Student(\"Amma\")\n",
    "s1.add()\n",
    "\n",
    "s2 = Student(\"namma\",13)\n",
    "s2.add()"
   ]
  },
  {
   "cell_type": "code",
   "execution_count": 56,
   "id": "db03a2a6",
   "metadata": {},
   "outputs": [
    {
     "name": "stdout",
     "output_type": "stream",
     "text": [
      "no of employee is: 3\n"
     ]
    }
   ],
   "source": [
    "# counting the no of object\n",
    "class Employee:\n",
    "    count=0\n",
    "    def __init__(self):\n",
    "        Employee.count=Employee.count+1\n",
    "a=Employee()\n",
    "b=Employee()\n",
    "c=Employee()\n",
    "print(\"no of employee is:\",Employee.count)"
   ]
  },
  {
   "cell_type": "code",
   "execution_count": 35,
   "id": "93b918c4",
   "metadata": {},
   "outputs": [
    {
     "name": "stdout",
     "output_type": "stream",
     "text": [
      "12\n",
      "13\n",
      "14\n"
     ]
    }
   ],
   "source": [
    "list=[2,4,5,6]\n",
    "list=[12,13,14]\n",
    "\n",
    "def add():\n",
    "    for i in list:\n",
    "        print(i) \n",
    "def show_element():\n",
    "    for i in list:\n",
    "        print(i)\n",
    "        \n",
    "# add() \n",
    "\n",
    "show_element()\n"
   ]
  },
  {
   "cell_type": "code",
   "execution_count": 47,
   "id": "d83ca729",
   "metadata": {},
   "outputs": [
    {
     "name": "stdout",
     "output_type": "stream",
     "text": [
      "h\n",
      "e\n",
      "l\n",
      "l\n",
      "o\n"
     ]
    }
   ],
   "source": [
    "def show_element(a):\n",
    "    for i in a:\n",
    "        print(i)\n",
    "lst3=[2,3,4]\n",
    "p=\"my name khan\"\n",
    "# show_element(lst3)\n",
    "# show_element(p)\n",
    "show_element(\"hello\")"
   ]
  },
  {
   "cell_type": "code",
   "execution_count": 1,
   "id": "daae71d0",
   "metadata": {},
   "outputs": [
    {
     "name": "stdout",
     "output_type": "stream",
     "text": [
      "2902753935632\n",
      "2902753935632\n",
      "2\n"
     ]
    }
   ],
   "source": [
    "a=2\n",
    "b=a\n",
    "print(id(a))\n",
    "print(id(b))\n",
    "del a\n",
    "# print(a)\n",
    "print(b)\n"
   ]
  },
  {
   "cell_type": "code",
   "execution_count": 8,
   "id": "9f24c873",
   "metadata": {},
   "outputs": [],
   "source": [
    "# return value"
   ]
  },
  {
   "cell_type": "code",
   "execution_count": 19,
   "id": "21162c41",
   "metadata": {},
   "outputs": [
    {
     "name": "stdout",
     "output_type": "stream",
     "text": [
      "11\n"
     ]
    }
   ],
   "source": [
    "class Test:\n",
    "\n",
    "    def __init__(self, i):\n",
    "        self.i = i\n",
    "\n",
    "    def add(self,k):\n",
    "        self.k=k\n",
    "        return(self.i+self.k)\n",
    "        \n",
    "d = Test(8)\n",
    "d.add(3)\n",
    "print(d.add(3))"
   ]
  },
  {
   "cell_type": "code",
   "execution_count": null,
   "id": "59e621b2",
   "metadata": {},
   "outputs": [],
   "source": []
  },
  {
   "cell_type": "code",
   "execution_count": null,
   "id": "e5dcf532",
   "metadata": {},
   "outputs": [],
   "source": []
  },
  {
   "cell_type": "markdown",
   "id": "cf0ca543",
   "metadata": {},
   "source": [
    "# destructor"
   ]
  },
  {
   "cell_type": "code",
   "execution_count": 22,
   "id": "cc6e7b86",
   "metadata": {},
   "outputs": [
    {
     "ename": "NameError",
     "evalue": "name 's' is not defined",
     "output_type": "error",
     "traceback": [
      "\u001b[1;31m---------------------------------------------------------------------------\u001b[0m",
      "\u001b[1;31mNameError\u001b[0m                                 Traceback (most recent call last)",
      "Input \u001b[1;32mIn [22]\u001b[0m, in \u001b[0;36m<cell line: 10>\u001b[1;34m()\u001b[0m\n\u001b[0;32m      7\u001b[0m s\u001b[38;5;241m=\u001b[39madd(\u001b[38;5;124m\"\u001b[39m\u001b[38;5;124msurya\u001b[39m\u001b[38;5;124m\"\u001b[39m,\u001b[38;5;241m50\u001b[39m)\n\u001b[0;32m      9\u001b[0m \u001b[38;5;28;01mdel\u001b[39;00m s\n\u001b[1;32m---> 10\u001b[0m \u001b[43ms\u001b[49m\u001b[38;5;241m.\u001b[39mshow()\n",
      "\u001b[1;31mNameError\u001b[0m: name 's' is not defined"
     ]
    }
   ],
   "source": [
    "class add:\n",
    "    def __init__(self,name,age):\n",
    "        self.name=name\n",
    "        self.age=age\n",
    "    def show(self):\n",
    "        print(\"name:\",self.name,\"age:\",self.age)\n",
    "s=add(\"surya\",50)\n",
    "\n",
    "del s\n",
    "s.show()"
   ]
  },
  {
   "cell_type": "code",
   "execution_count": 42,
   "id": "44bcd221",
   "metadata": {},
   "outputs": [
    {
     "ename": "NameError",
     "evalue": "name 's1' is not defined",
     "output_type": "error",
     "traceback": [
      "\u001b[1;31m---------------------------------------------------------------------------\u001b[0m",
      "\u001b[1;31mNameError\u001b[0m                                 Traceback (most recent call last)",
      "Input \u001b[1;32mIn [42]\u001b[0m, in \u001b[0;36m<cell line: 16>\u001b[1;34m()\u001b[0m\n\u001b[0;32m     13\u001b[0m s3\u001b[38;5;241m=\u001b[39madd(\u001b[38;5;124m\"\u001b[39m\u001b[38;5;124mminja\u001b[39m\u001b[38;5;124m\"\u001b[39m,\u001b[38;5;241m60\u001b[39m)\n\u001b[0;32m     15\u001b[0m \u001b[38;5;28;01mdel\u001b[39;00m s1, s2,s3 \n\u001b[1;32m---> 16\u001b[0m \u001b[43ms1\u001b[49m\u001b[38;5;241m.\u001b[39mshow()\n\u001b[0;32m     17\u001b[0m s3\u001b[38;5;241m.\u001b[39mshow()\n",
      "\u001b[1;31mNameError\u001b[0m: name 's1' is not defined"
     ]
    }
   ],
   "source": [
    "class add:\n",
    "    def __init__(self,name,age):\n",
    "        self.name=name\n",
    "        self.age=age\n",
    "    def show(self):\n",
    "        print(\"name:\",self.name,\"age:\",self.age)\n",
    "    def __del__(self):\n",
    "#         print(\"world\")\n",
    "        \n",
    "        \n",
    "s1=add(\"surya\",20)\n",
    "s2=add(\"ninja\",30)\n",
    "s3=add(\"minja\",60)\n",
    "\n",
    "del s1, s2,s3 \n",
    "s1.show()\n",
    "s3.show()"
   ]
  },
  {
   "cell_type": "code",
   "execution_count": null,
   "id": "d301f499",
   "metadata": {},
   "outputs": [],
   "source": []
  },
  {
   "cell_type": "code",
   "execution_count": null,
   "id": "e025e53d",
   "metadata": {},
   "outputs": [],
   "source": []
  },
  {
   "cell_type": "code",
   "execution_count": 7,
   "id": "37fc3537",
   "metadata": {},
   "outputs": [
    {
     "name": "stdout",
     "output_type": "stream",
     "text": [
      "name: emma\n",
      "name: emma\n"
     ]
    }
   ],
   "source": [
    "class student:\n",
    "    def __init__(self,name):\n",
    "        self.name= name\n",
    "    def show(self):\n",
    "        print(\"name:\",self.name)\n",
    "s1=student('emma')\n",
    "s2=s1\n",
    "s1.show()\n",
    "del s1\n",
    "# s1.show()\n",
    "s2.show()\n",
    "\n",
    " \n",
    "        "
   ]
  },
  {
   "cell_type": "code",
   "execution_count": 11,
   "id": "8772e3b8",
   "metadata": {},
   "outputs": [
    {
     "name": "stdout",
     "output_type": "stream",
     "text": [
      "6\n"
     ]
    }
   ],
   "source": [
    "def add(a,b):\n",
    "    x=a+b\n",
    "    return x\n",
    "c=add(4,2)\n",
    "print(c)\n"
   ]
  },
  {
   "cell_type": "code",
   "execution_count": 7,
   "id": "184fcca2",
   "metadata": {},
   "outputs": [
    {
     "name": "stdout",
     "output_type": "stream",
     "text": [
      "Name: Jessa\n",
      "Age: 20\n",
      "name: Jessa age: 20\n"
     ]
    }
   ],
   "source": [
    "class Student:\n",
    "    # constructor\n",
    "    def __init__(self, name, age):\n",
    "        # Instance variable\n",
    "        self.name = name\n",
    "        self.age = age\n",
    "\n",
    "# create object\n",
    "stud = Student(\"Jessa\", 20)\n",
    "\n",
    "# Use getattr instead of stud.name\n",
    "print('Name:', getattr(stud, 'name'))\n",
    "print('Age:', getattr(stud, 'age'))\n",
    "print(\"name:\",stud.name,\"age:\",20)"
   ]
  },
  {
   "cell_type": "markdown",
   "id": "323f85f5",
   "metadata": {},
   "source": [
    "# encapsulation\n"
   ]
  },
  {
   "cell_type": "code",
   "execution_count": 6,
   "id": "569c9d7a",
   "metadata": {},
   "outputs": [
    {
     "name": "stdout",
     "output_type": "stream",
     "text": [
      "NAME: khan\n",
      "SALARY: 50000\n",
      "khan is working on LMT\n"
     ]
    }
   ],
   "source": [
    "class Employee:\n",
    "    def __init__(self,name,salary,project):\n",
    "        self. name=name\n",
    "        self.salary=salary\n",
    "        self.project=project\n",
    "    \n",
    "    def show(self):\n",
    "        print(\"NAME:\",self.name)\n",
    "        print(\"SALARY:\",self.salary)\n",
    "              \n",
    "        \n",
    "    def work(self):\n",
    "        print(self.name,\"is working on\",self.project)\n",
    "\n",
    "emp=Employee('khan',50000,'LMT')\n",
    "emp.show()\n",
    "emp.work()\n",
    "\n",
    "    "
   ]
  },
  {
   "cell_type": "markdown",
   "id": "c38c9e49",
   "metadata": {},
   "source": [
    "# ACCESS MODIFIERS IN PYTHON"
   ]
  },
  {
   "cell_type": "markdown",
   "id": "534de555",
   "metadata": {},
   "source": [
    "<!-- PUBLIC -->\n"
   ]
  },
  {
   "cell_type": "code",
   "execution_count": 16,
   "id": "06bac091",
   "metadata": {},
   "outputs": [
    {
     "name": "stdout",
     "output_type": "stream",
     "text": [
      "minhaj 20\n",
      "minhaj 20\n"
     ]
    }
   ],
   "source": [
    "# PUBLIC\n",
    "\n",
    "class Student:\n",
    "    def __init__(self,name,age):\n",
    "        self.name = name \n",
    "        self.age = age\n",
    "    \n",
    "    \n",
    "    def show(self):\n",
    "        print(self.name,self.age)\n",
    "stud=Student('minhaj',20)\n",
    "print(stud.name,stud.age)     \n",
    "stud.show()    \n",
    "    "
   ]
  },
  {
   "cell_type": "code",
   "execution_count": 2,
   "id": "91c32579",
   "metadata": {},
   "outputs": [],
   "source": [
    "# PRIVATE"
   ]
  },
  {
   "cell_type": "code",
   "execution_count": 3,
   "id": "1e4c87b7",
   "metadata": {},
   "outputs": [
    {
     "ename": "AttributeError",
     "evalue": "'Employee' object has no attribute '__age'",
     "output_type": "error",
     "traceback": [
      "\u001b[1;31m---------------------------------------------------------------------------\u001b[0m",
      "\u001b[1;31mAttributeError\u001b[0m                            Traceback (most recent call last)",
      "Input \u001b[1;32mIn [3]\u001b[0m, in \u001b[0;36m<cell line: 7>\u001b[1;34m()\u001b[0m\n\u001b[0;32m      4\u001b[0m         \u001b[38;5;28mself\u001b[39m\u001b[38;5;241m.\u001b[39m__age \u001b[38;5;241m=\u001b[39m age\n\u001b[0;32m      6\u001b[0m emp\u001b[38;5;241m=\u001b[39m Employee(\u001b[38;5;124m'\u001b[39m\u001b[38;5;124mkhan\u001b[39m\u001b[38;5;124m'\u001b[39m,\u001b[38;5;241m20\u001b[39m)\n\u001b[1;32m----> 7\u001b[0m \u001b[38;5;28mprint\u001b[39m(\u001b[38;5;124m\"\u001b[39m\u001b[38;5;124mSALARY:\u001b[39m\u001b[38;5;124m\"\u001b[39m,\u001b[43memp\u001b[49m\u001b[38;5;241;43m.\u001b[39;49m\u001b[43m__age\u001b[49m)\n",
      "\u001b[1;31mAttributeError\u001b[0m: 'Employee' object has no attribute '__age'"
     ]
    }
   ],
   "source": [
    "class Employee:\n",
    "    def __init__(self,name,age):\n",
    "        self.name = name \n",
    "        self.__age = age\n",
    "        \n",
    "emp= Employee('khan',20)\n",
    "print(\"SALARY:\",emp.__age)\n",
    "\n",
    "        \n",
    "        \n",
    "        "
   ]
  },
  {
   "cell_type": "code",
   "execution_count": 13,
   "id": "7ab69f73",
   "metadata": {},
   "outputs": [
    {
     "name": "stdout",
     "output_type": "stream",
     "text": [
      "NAME: khan AGE: 20\n"
     ]
    }
   ],
   "source": [
    "# access by instance method\n",
    "class Employee:\n",
    "    def __init__(self,name,age):\n",
    "        self.name = name \n",
    "        self.__age = age\n",
    "     \n",
    "    def show(self):\n",
    "        print(\"NAME:\",self.name,\"AGE:\",self.__age)\n",
    "        \n",
    "emp= Employee('khan',20)\n",
    "\n",
    "emp.show()"
   ]
  },
  {
   "cell_type": "code",
   "execution_count": 26,
   "id": "899ec04f",
   "metadata": {},
   "outputs": [
    {
     "name": "stdout",
     "output_type": "stream",
     "text": [
      "khan 30\n"
     ]
    }
   ],
   "source": [
    "# NAME MANGLING\n",
    "class Add:\n",
    "    def __init__(self,name,age):\n",
    "        self.name = name\n",
    "        self.__age = age\n",
    "\n",
    "d=Add('khan',30)\n",
    "print(d.name,d._Add__age)\n"
   ]
  },
  {
   "cell_type": "code",
   "execution_count": 2,
   "id": "c7b05eb6",
   "metadata": {},
   "outputs": [],
   "source": [
    "# protected member "
   ]
  },
  {
   "cell_type": "code",
   "execution_count": 9,
   "id": "6bb82ea1",
   "metadata": {},
   "outputs": [
    {
     "name": "stdout",
     "output_type": "stream",
     "text": [
      "khan\n",
      "40000\n",
      "salary: 40000\n"
     ]
    }
   ],
   "source": [
    "class Company:\n",
    "    def __init__(self):\n",
    "        self._salary = 40000\n",
    "        \n",
    "class Employee:\n",
    "    def __init__(self,name):\n",
    "        self.name = name\n",
    "        Company.__init__(self)\n",
    "    def show(self):\n",
    "        print(self.name)\n",
    "        print(self._salary)\n",
    "A=Employee(\"khan\")\n",
    "A.show()\n",
    "print(\"salary:\",A._salary)\n",
    "        \n"
   ]
  },
  {
   "cell_type": "code",
   "execution_count": 8,
   "id": "ca235b6a",
   "metadata": {},
   "outputs": [
    {
     "name": "stdout",
     "output_type": "stream",
     "text": [
      "Employee name : Jessa\n",
      "Working on project : NLP\n",
      "project: NLP\n"
     ]
    }
   ],
   "source": [
    "class Company:\n",
    "    def __init__(self):\n",
    "        # Protected member\n",
    "        self._project = \"NLP\"\n",
    "\n",
    "# child class\n",
    "class Employee(Company):\n",
    "    def __init__(self, name):\n",
    "        self.name = name\n",
    "        Company.__init__(self)\n",
    "\n",
    "    def show(self):\n",
    "        print(\"Employee name :\", self.name)\n",
    "        # Accessing protected member in child class\n",
    "        print(\"Working on project :\", self._project)\n",
    "\n",
    "c = Employee(\"Jessa\")\n",
    "c.show()\n",
    "print(\"project:\",c._project)"
   ]
  },
  {
   "cell_type": "code",
   "execution_count": 2,
   "id": "004629cd",
   "metadata": {},
   "outputs": [],
   "source": [
    "# setter and getter "
   ]
  },
  {
   "cell_type": "code",
   "execution_count": 13,
   "id": "622a22e2",
   "metadata": {},
   "outputs": [
    {
     "name": "stdout",
     "output_type": "stream",
     "text": [
      "NAME: khan AGE: 50\n",
      "NAME: khan AGE: 30\n"
     ]
    }
   ],
   "source": [
    "class add:\n",
    "    def __init__(self,name,age):\n",
    "        self.name = name\n",
    "        self.__age = age\n",
    "        \n",
    "    def get_age(self):\n",
    "        return self.__age\n",
    "    \n",
    "    def setage(self,age):\n",
    "        self.__age = age\n",
    "s=add(\"khan\",50)\n",
    "print(\"NAME:\",s.name,\"AGE:\",s.get_age())\n",
    "s.setage(30)\n",
    "print(\"NAME:\",s.name,\"AGE:\",s.get_age())\n"
   ]
  },
  {
   "cell_type": "code",
   "execution_count": 14,
   "id": "7b563834",
   "metadata": {},
   "outputs": [],
   "source": [
    "# SETTER"
   ]
  },
  {
   "cell_type": "code",
   "execution_count": 25,
   "id": "ce91caf9",
   "metadata": {},
   "outputs": [
    {
     "name": "stdout",
     "output_type": "stream",
     "text": [
      "student detail: khan 10\n",
      "invalid roll no plz set correct rollno\n",
      "student detail: khan 40\n"
     ]
    },
    {
     "data": {
      "text/plain": [
       "40"
      ]
     },
     "execution_count": 25,
     "metadata": {},
     "output_type": "execute_result"
    }
   ],
   "source": [
    "class Student:\n",
    "    def __init__(self,name,rollno,age):\n",
    "        self.name = name\n",
    "        self.__rollno = rollno\n",
    "        self.__age = age\n",
    "    def show(self):\n",
    "        print(\"student detail:\",self.name,self.__rollno)\n",
    "        \n",
    "    def get_rollno(self):\n",
    "        return self.__rollno\n",
    "    \n",
    "    def set__rollno(self,number):\n",
    "        if number>50:\n",
    "            print(\"invalid roll no plz set correct rollno\")\n",
    "        else:\n",
    "            self.__rollno=number\n",
    "z=Student(\"khan\",10,15) \n",
    "z.show()\n",
    "z.set__rollno(60)\n",
    "z.set__rollno(40)\n",
    "z.show()\n",
    "z.get_rollno()\n"
   ]
  },
  {
   "cell_type": "markdown",
   "id": "3d2158e1",
   "metadata": {},
   "source": [
    "# CLASS VARIABLE"
   ]
  },
  {
   "cell_type": "code",
   "execution_count": 15,
   "id": "b8258cbf",
   "metadata": {},
   "outputs": [
    {
     "name": "stdout",
     "output_type": "stream",
     "text": [
      "khan 20 ABC_school\n",
      "maan 30 ABC_school\n"
     ]
    }
   ],
   "source": [
    "class Student:\n",
    "    schoolname = \"ABC_school\"\n",
    "    def __init__(self,name,roll):\n",
    "        self.name = name\n",
    "        self.roll = roll\n",
    "s=Student(\"khan\",20)\n",
    "print(s.name,s.roll,Student.schoolname)\n",
    "\n",
    "s1=Student(\"maan\",30)\n",
    "print(s1.name,s1.roll,s1.schoolname)\n",
    "        \n",
    "        "
   ]
  },
  {
   "cell_type": "code",
   "execution_count": 10,
   "id": "e69a6601",
   "metadata": {},
   "outputs": [],
   "source": [
    "# access inside the constructor"
   ]
  },
  {
   "cell_type": "code",
   "execution_count": 12,
   "id": "217a20c7",
   "metadata": {},
   "outputs": [
    {
     "name": "stdout",
     "output_type": "stream",
     "text": [
      "kulliya-umme-salma\n",
      "kulliya-umme-salma\n"
     ]
    }
   ],
   "source": [
    "class student:\n",
    "    madrasa_name = 'kulliya-umme-salma'\n",
    "    \n",
    "    def __init__(self,name):\n",
    "        self.name = name\n",
    "        print(self.madrasa_name)\n",
    "        print(student.madrasa_name)\n",
    "A=student(\"nikhat\") \n",
    "\n",
    "    "
   ]
  },
  {
   "cell_type": "code",
   "execution_count": 14,
   "id": "9348bdc9",
   "metadata": {},
   "outputs": [],
   "source": [
    "# Access class variable inside methodand outside class"
   ]
  },
  {
   "cell_type": "code",
   "execution_count": 20,
   "id": "0941a23e",
   "metadata": {},
   "outputs": [
    {
     "name": "stdout",
     "output_type": "stream",
     "text": [
      "<class 'dict'>\n"
     ]
    }
   ],
   "source": [
    "a={}\n",
    "print(type(a))"
   ]
  },
  {
   "cell_type": "code",
   "execution_count": 18,
   "id": "62d2dd93",
   "metadata": {},
   "outputs": [
    {
     "name": "stdout",
     "output_type": "stream",
     "text": [
      "<class 'set'>\n"
     ]
    }
   ],
   "source": [
    "a={125,'gf',}\n",
    "print(type(a))"
   ]
  },
  {
   "cell_type": "code",
   "execution_count": 2,
   "id": "490550c3",
   "metadata": {},
   "outputs": [
    {
     "name": "stdout",
     "output_type": "stream",
     "text": [
      "<class 'dict'>\n"
     ]
    }
   ],
   "source": [
    "a={}\n",
    "print(type(a))"
   ]
  },
  {
   "cell_type": "code",
   "execution_count": 22,
   "id": "6c3c11d0",
   "metadata": {},
   "outputs": [
    {
     "name": "stdout",
     "output_type": "stream",
     "text": [
      "<class 'set'>\n"
     ]
    }
   ],
   "source": [
    "a=set()\n",
    "print(type(a))"
   ]
  },
  {
   "cell_type": "code",
   "execution_count": 6,
   "id": "c36216fa",
   "metadata": {},
   "outputs": [
    {
     "name": "stdout",
     "output_type": "stream",
     "text": [
      "Before\n",
      "Student name: Emma Course Name: Python\n",
      "Now\n",
      "Student name: Emma Course Name: Machine Learning\n"
     ]
    }
   ],
   "source": [
    "class Course:\n",
    "    # class variable\n",
    "    course = \"Python\"\n",
    "\n",
    "class Student(Course):\n",
    "\n",
    "    def __init__(self, name):\n",
    "        self.name = name\n",
    "\n",
    "    def show_student(self):\n",
    "        # Accessing class variable of parent class\n",
    "        print('Before')\n",
    "        print(\"Student name:\", self.name, \"Course Name:\", Student.course)\n",
    "        # changing class variable value of base class\n",
    "        print('Now')\n",
    "        Student.course = \"Machine Learning\"\n",
    "        print(\"Student name:\", self.name, \"Course Name:\", Student.course)\n",
    "\n",
    "# creating object of Student class\n",
    "stud = Student(\"Emma\")\n",
    "stud.show_student()"
   ]
  },
  {
   "cell_type": "markdown",
   "id": "43b0c692",
   "metadata": {},
   "source": [
    "# polymorphism"
   ]
  },
  {
   "cell_type": "code",
   "execution_count": 7,
   "id": "90f76807",
   "metadata": {},
   "outputs": [
    {
     "name": "stdout",
     "output_type": "stream",
     "text": [
      "NAME: bmw COLOUR: black PRICE: 5000000\n",
      "car max speed is 150\n",
      "vehicle change 6 gear\n",
      "NAME: lorry COLOUR: green PRICE: 200000\n",
      "vehicle max speed is 150\n",
      "vehicle change 6 gear\n"
     ]
    }
   ],
   "source": [
    "class vehicle:\n",
    "    def __init__(self,name,colour,price):\n",
    "        self.name = name\n",
    "        self.colour = colour\n",
    "        self.price = price\n",
    "     \n",
    "    def show(self):\n",
    "        print(\"NAME:\",self.name,\"COLOUR:\",self.colour,\"PRICE:\",self.price)\n",
    "        \n",
    "    def speed(self):\n",
    "        print(\"vehicle max speed is 150\")\n",
    "        \n",
    "    def gear(self):\n",
    "        print(\"vehicle change 6 gear\")\n",
    "        \n",
    "class car(vehicle):\n",
    "    def speed (self):\n",
    "        print(\"car max speed is 150\")\n",
    "        \n",
    "#     def gear(self):\n",
    "#         print(\"car change 5 gear\")\n",
    "        \n",
    "        \n",
    "c=car('bmw','black',5000000) \n",
    "c.show()\n",
    "c.speed()\n",
    "c.gear()\n",
    "\n",
    "k=vehicle('lorry','green',200000)\n",
    "k.show()\n",
    "k.speed()\n",
    "k.gear()\n",
    "    \n",
    "        "
   ]
  },
  {
   "cell_type": "markdown",
   "id": "3b746330",
   "metadata": {},
   "source": [
    "# over ride built in function"
   ]
  },
  {
   "cell_type": "code",
   "execution_count": 11,
   "id": "68cca8a5",
   "metadata": {},
   "outputs": [
    {
     "name": "stdout",
     "output_type": "stream",
     "text": [
      "redefine length\n",
      "6\n"
     ]
    }
   ],
   "source": [
    "class Shopping:\n",
    "    def __init__(self,basket,buyer):\n",
    "        self.basket = list(basket)\n",
    "        self.buyer = buyer\n",
    "    def __len__(self):\n",
    "        print(\"redefine length\")\n",
    "        count = len(self.basket)\n",
    "        return count * 2\n",
    "shopping = Shopping({\"shoes\",\"socks\",\"dress\"},\"khan\")  \n",
    "print(len(shopping))\n",
    "        "
   ]
  },
  {
   "cell_type": "markdown",
   "id": "e22d48be",
   "metadata": {},
   "source": [
    "# polymorphism in class method\n"
   ]
  },
  {
   "cell_type": "code",
   "execution_count": 14,
   "id": "b3d2bd22",
   "metadata": {},
   "outputs": [
    {
     "name": "stdout",
     "output_type": "stream",
     "text": [
      "teacher age is 30\n",
      "teacher rollno is 25\n",
      "student age is 15\n",
      "student rollno is 3\n"
     ]
    }
   ],
   "source": [
    "class teacher:\n",
    "    \n",
    "    def age(self):\n",
    "        print(\"teacher age is 30\")\n",
    "        \n",
    "    def rollno(self):\n",
    "        print(\"teacher rollno is 25\")\n",
    "        \n",
    "class student: \n",
    "    def age(self):\n",
    "        print(\"student age is 15\")\n",
    "        \n",
    "    def rollno(self):\n",
    "        print(\"student rollno is 3\")\n",
    "t=teacher()\n",
    "s=student()\n",
    "for car in (t,s):\n",
    "    car.age()\n",
    "    car.rollno()    "
   ]
  },
  {
   "cell_type": "markdown",
   "id": "75d61fc0",
   "metadata": {},
   "source": [
    "# polymorphism with function and object"
   ]
  },
  {
   "cell_type": "code",
   "execution_count": 17,
   "id": "56f52a38",
   "metadata": {},
   "outputs": [
    {
     "name": "stdout",
     "output_type": "stream",
     "text": [
      "teacher age is 30\n",
      "teacher roll no is 10\n",
      "student age is 12\n",
      "student roll no is 2\n"
     ]
    }
   ],
   "source": [
    "class teacher:\n",
    "    def age(self):\n",
    "        print(\"teacher age is 30\")\n",
    "    \n",
    "    def roll_no(self):\n",
    "        print(\"teacher roll no is 10\")\n",
    "        \n",
    "class student:\n",
    "    def age(self):\n",
    "        print(\"student age is 12\")\n",
    "        \n",
    "    def roll_no(self):\n",
    "        print(\"student roll no is 2\")\n",
    "# normal function\n",
    "def car(a):\n",
    "    a.age()\n",
    "    a.roll_no()\n",
    "    \n",
    "A=teacher()\n",
    "B= student()\n",
    "\n",
    "car(A)\n",
    "car(B)\n",
    "    \n",
    "\n",
    "        \n",
    "        \n",
    "        "
   ]
  },
  {
   "cell_type": "markdown",
   "id": "d2b2b01b",
   "metadata": {},
   "source": [
    "<!-- # REVERSED METHOD -->"
   ]
  },
  {
   "cell_type": "markdown",
   "id": "103adb24",
   "metadata": {},
   "source": [
    "# REVERSED METHOD"
   ]
  },
  {
   "cell_type": "code",
   "execution_count": 36,
   "id": "3faac26b",
   "metadata": {},
   "outputs": [
    {
     "name": "stdout",
     "output_type": "stream",
     "text": [
      "e  v  i  t  a  n  y  p  reverse list\n",
      "salmaummekullya"
     ]
    }
   ],
   "source": [
    "STUDENT=[\"surya\",\"murya\",\"ruqya\"]\n",
    "SCHOOL=\"ABC\"\n",
    "for i in reversed('pynative'):\n",
    "    print(i,end=\"  \")\n",
    "print('reverse list')\n",
    "for i in reversed([\"kullya\",\"umme\",\"salma\"]):\n",
    "    print(i,end=\"\") \n",
    "    \n",
    "    "
   ]
  },
  {
   "cell_type": "code",
   "execution_count": 39,
   "id": "be582d21",
   "metadata": {},
   "outputs": [
    {
     "name": "stdout",
     "output_type": "stream",
     "text": [
      "8\n"
     ]
    }
   ],
   "source": [
    "# method overlaoding\n",
    "\n",
    "def addition(a,b):\n",
    "    c=a+b\n",
    "    print(c)\n",
    "def addition(a,b,c):\n",
    "    d=a+b+c\n",
    "    print(d)\n",
    "    \n",
    "    \n",
    "addition(3,2,3)    \n",
    "        \n",
    "    "
   ]
  },
  {
   "cell_type": "code",
   "execution_count": 41,
   "id": "7b943e64",
   "metadata": {},
   "outputs": [],
   "source": [
    "# method overloading in range"
   ]
  },
  {
   "cell_type": "code",
   "execution_count": 50,
   "id": "8a039b50",
   "metadata": {},
   "outputs": [
    {
     "name": "stdout",
     "output_type": "stream",
     "text": [
      "0 1 2 3 4 \n",
      "5 6 7 8 9 \n",
      "1 3 5 7 9 11 "
     ]
    }
   ],
   "source": [
    "for i in range(5):\n",
    "    print(i,end=\" \")\n",
    "print()    \n",
    "\n",
    "for i in range(5,10):\n",
    "    print(i,end=\" \")\n",
    "print()\n",
    "\n",
    "for i in range(1,12,2):\n",
    "    print(i,end=\" \")"
   ]
  },
  {
   "cell_type": "code",
   "execution_count": 51,
   "id": "740efdd5",
   "metadata": {},
   "outputs": [],
   "source": [
    "# AREA METHOD\n",
    "# User-defined polymorphic method\n",
    "\n"
   ]
  },
  {
   "cell_type": "code",
   "execution_count": 9,
   "id": "fdd11637",
   "metadata": {},
   "outputs": [
    {
     "name": "stdout",
     "output_type": "stream",
     "text": [
      "area of square is: 1\n",
      "area of rectangle is: 12\n"
     ]
    }
   ],
   "source": [
    "class Shape:\n",
    "    def area(self,a,b=0):\n",
    "        if b > 0:\n",
    "            print(\"area of rectangle is:\",a*b)\n",
    "        else:\n",
    "            print(\"area of square is:\",a**b)\n",
    "a=Shape()\n",
    "a.area(5)\n",
    "\n",
    "b=Shape()\n",
    "b.area(4,3)"
   ]
  },
  {
   "cell_type": "code",
   "execution_count": 1,
   "id": "8d4fecf7",
   "metadata": {},
   "outputs": [
    {
     "name": "stdout",
     "output_type": "stream",
     "text": [
      "Worked for 50 days\n",
      "salary is:  40000\n"
     ]
    }
   ],
   "source": [
    "class Employee:\n",
    "    def __init__(self, name, salary):\n",
    "        self.name = name\n",
    "        self.salary = salary\n",
    "\n",
    "    def __mul__(self, sheet):\n",
    "        print('Worked for', sheet.days, 'days')\n",
    "        # calculate salary\n",
    "        return self.salary * sheet.days\n",
    "\n",
    "\n",
    "class TimeSheet:\n",
    "    def __init__(self, name, days):\n",
    "        self.name = name\n",
    "        self.days = days\n",
    "        \n",
    "emp = Employee(\"Jessa\", 800)\n",
    "timesheet = TimeSheet(\"Jessa\", 50)\n",
    "print(\"salary is: \", emp * timesheet)"
   ]
  },
  {
   "cell_type": "code",
   "execution_count": 3,
   "id": "a31bfb57",
   "metadata": {},
   "outputs": [
    {
     "ename": "TypeError",
     "evalue": "unsupported operand type(s) for *: 'Employee' and 'TimeSheet'",
     "output_type": "error",
     "traceback": [
      "\u001b[1;31m---------------------------------------------------------------------------\u001b[0m",
      "\u001b[1;31mTypeError\u001b[0m                                 Traceback (most recent call last)",
      "Input \u001b[1;32mIn [3]\u001b[0m, in \u001b[0;36m<cell line: 20>\u001b[1;34m()\u001b[0m\n\u001b[0;32m     17\u001b[0m emp \u001b[38;5;241m=\u001b[39m Employee(\u001b[38;5;124m\"\u001b[39m\u001b[38;5;124mJessa\u001b[39m\u001b[38;5;124m\"\u001b[39m, \u001b[38;5;241m800\u001b[39m)        \n\u001b[0;32m     18\u001b[0m timesheet \u001b[38;5;241m=\u001b[39m TimeSheet(\u001b[38;5;124m\"\u001b[39m\u001b[38;5;124mJessa\u001b[39m\u001b[38;5;124m\"\u001b[39m, \u001b[38;5;241m50\u001b[39m)\n\u001b[1;32m---> 20\u001b[0m \u001b[38;5;28mprint\u001b[39m(\u001b[38;5;124m\"\u001b[39m\u001b[38;5;124msalary is: \u001b[39m\u001b[38;5;124m\"\u001b[39m, \u001b[43memp\u001b[49m\u001b[38;5;241;43m*\u001b[39;49m\u001b[43mtimesheet\u001b[49m )\n",
      "\u001b[1;31mTypeError\u001b[0m: unsupported operand type(s) for *: 'Employee' and 'TimeSheet'"
     ]
    }
   ],
   "source": [
    "class Employee:\n",
    "    def __init__(self, name, salary):\n",
    "        self.name = name\n",
    "        self.salary = salary\n",
    "#     def __mul__(obj2, obj1):\n",
    "#         print('Worked for', obj1.days, 'days')\n",
    "#         # calculate salary\n",
    "#         return obj2.salary * obj1.days\n",
    "class TimeSheet:\n",
    "    def __init__(self, name, days):\n",
    "        self.name = name\n",
    "        self.days = days\n",
    "    def __mul__(o1,o2):\n",
    "        print('Worked for', o1.days, 'days')\n",
    "        # calculate salary\n",
    "        return o1.days*o2.salary\n",
    "emp = Employee(\"Jessa\", 800)        \n",
    "timesheet = TimeSheet(\"Jessa\", 50)\n",
    " \n",
    "print(\"salary is: \", emp*timesheet )\n",
    "\n"
   ]
  },
  {
   "cell_type": "markdown",
   "id": "faa62c75",
   "metadata": {},
   "source": [
    "# INHERITANCE\n",
    "\n",
    "\n",
    "\n"
   ]
  },
  {
   "cell_type": "markdown",
   "id": "35ab295e",
   "metadata": {},
   "source": [
    "# SINGLE INHERITANCE"
   ]
  },
  {
   "cell_type": "code",
   "execution_count": 21,
   "id": "a7e56a37",
   "metadata": {},
   "outputs": [
    {
     "name": "stdout",
     "output_type": "stream",
     "text": [
      "your teaching method is an engineous\n",
      "minhaj is a bad boy\n"
     ]
    }
   ],
   "source": [
    "class Teacher:\n",
    "    def complement(self):\n",
    "        print(\"your teaching method is an engineous\")\n",
    "        \n",
    "class Student(Teacher):\n",
    "    def punishment(self):\n",
    "        print(\"minhaj is a bad boy\")\n",
    "    \n",
    "A=Student() \n",
    "\n",
    "A.complement()\n",
    "A.punishment()\n",
    "    \n",
    "    \n",
    "    "
   ]
  },
  {
   "cell_type": "code",
   "execution_count": 32,
   "id": "48949347",
   "metadata": {},
   "outputs": [
    {
     "name": "stdout",
     "output_type": "stream",
     "text": [
      "inside a principle class\n",
      "NAME: sadique_sir AGE: 55\n",
      "inside company class\n",
      "NAME: khan ADDRESS: xyz\n",
      "inside child class\n",
      "NAME: neha AGE: 15\n"
     ]
    }
   ],
   "source": [
    "# MULTIPLE INHERITANCE\n",
    "# parent class 1\n",
    "\n",
    "class Principle:\n",
    "    def info(self,name,age):\n",
    "        print(\"inside a principle class\")\n",
    "        print(\"NAME:\",name,\"AGE:\",age)\n",
    "        \n",
    "# parent class 2  \n",
    "\n",
    "class Teacher:\n",
    "    def t(self,name,address):\n",
    "        print(\"inside company class\")\n",
    "        print(\"NAME:\",name,\"ADDRESS:\",address)\n",
    "        \n",
    "# child class  \n",
    "\n",
    "class Student(Principle,Teacher):\n",
    "    def student(self,name,age):\n",
    "        print(\"inside child class\")\n",
    "        print(\"NAME:\",name,\"AGE:\",age)\n",
    "E=Student()\n",
    "E.info('sadique_sir',55)\n",
    "E.t('khan',\"xyz\")\n",
    "E.student('neha',15)\n"
   ]
  },
  {
   "cell_type": "markdown",
   "id": "79def634",
   "metadata": {},
   "source": [
    "# multilevel inharitance"
   ]
  },
  {
   "cell_type": "code",
   "execution_count": 57,
   "id": "fbb2853e",
   "metadata": {},
   "outputs": [
    {
     "name": "stdout",
     "output_type": "stream",
     "text": [
      "Worked for 50 days\n",
      "salary is:  40000\n"
     ]
    }
   ],
   "source": [
    "class Employee:\n",
    "    def __init__(self, name, salary):\n",
    "        self.name = name\n",
    "        self.salary = salary\n",
    "    def __mul__(obj2, obj1):\n",
    "        print('Worked for', obj1.days, 'days')\n",
    "        # calculate salary\n",
    "        return obj2.salary * obj1.days\n",
    "class TimeSheet:\n",
    "    def __init__(self, name, days):\n",
    "        self.name = name\n",
    "        self.days = days\n",
    "#     def __mul__(o1,o2):\n",
    "#         print('Worked for', o1.days, 'days')\n",
    "#         # calculate salary\n",
    "#         return o1.days*o2.salary\n",
    "        \n",
    "timesheet = TimeSheet(\"Jessa\", 50)\n",
    "emp = Employee(\"Jessa\", 800)\n",
    "print(\"salary is: \", emp*timesheet )\n",
    "\n"
   ]
  },
  {
   "cell_type": "code",
   "execution_count": 44,
   "id": "c673d6be",
   "metadata": {},
   "outputs": [
    {
     "name": "stdout",
     "output_type": "stream",
     "text": [
      "father is great\n",
      "child is child\n",
      "[<class '__main__.C'>, <class '__main__.B'>, <class '__main__.A'>, <class 'object'>]\n"
     ]
    }
   ],
   "source": [
    "# multilevel inheritance\n",
    "# this is also called chaining class\n",
    "class A:\n",
    "    \n",
    "    def parent_info(self):\n",
    "        print(\"grandfather is always grand\")\n",
    "        \n",
    "class B(A):\n",
    "    \n",
    "    def parent_info(self):\n",
    "        print(\"father is great\")\n",
    "class C(B,A):\n",
    "    \n",
    "    def child_info(self):\n",
    "        print(\"child is child\")\n",
    "a=C()\n",
    "a.parent_info()\n",
    "\n",
    "a.child_info()\n",
    "print(C.mro())"
   ]
  },
  {
   "cell_type": "markdown",
   "id": "6460ed6b",
   "metadata": {},
   "source": [
    "# HEIRARCHICAL"
   ]
  },
  {
   "cell_type": "code",
   "execution_count": 69,
   "id": "84cf59bf",
   "metadata": {},
   "outputs": [
    {
     "name": "stdout",
     "output_type": "stream",
     "text": [
      "vehical is big\n",
      "truck is large and name: ford\n",
      "vehical is big\n",
      "car name is: BMW\n"
     ]
    }
   ],
   "source": [
    "class Vehical:\n",
    "    def info(self):\n",
    "        print(\"vehical is big\")\n",
    "        \n",
    "class Car(Vehical):\n",
    "    def car_info(self,name):\n",
    "        print(\"car name is:\",name)\n",
    "        \n",
    "class Truck(Vehical):\n",
    "    def truck_info(self,name):\n",
    "        print(\"truck is large and name:\",name)\n",
    "        \n",
    "a=Truck()\n",
    "a.info()\n",
    "a.truck_info('ford')\n",
    "\n",
    "b=Car()\n",
    "b.info()\n",
    "b.car_info('BMW')\n",
    "        \n",
    "        "
   ]
  },
  {
   "cell_type": "markdown",
   "id": "a296c356",
   "metadata": {},
   "source": [
    "# HYBRID INHERITANCE"
   ]
  },
  {
   "cell_type": "code",
   "execution_count": 11,
   "id": "7ed665fb",
   "metadata": {},
   "outputs": [
    {
     "name": "stdout",
     "output_type": "stream",
     "text": [
      "insides ports_car class\n",
      "inside car class\n"
     ]
    }
   ],
   "source": [
    "class Vehicle:\n",
    "    def vehicle_info(self):\n",
    "        print(\"inside vehicle class\")\n",
    "        \n",
    "class Car(Vehicle):\n",
    "    def car_info(self):\n",
    "        print(\"inside car class\")\n",
    "        \n",
    "class Truck(Vehicle):\n",
    "    def truck_info(self):\n",
    "        print(\"inside a truck class\")\n",
    "        \n",
    "class Sports_car(Car,Vehicle):\n",
    "    def sports_info(self):\n",
    "        print(\"insides ports_car class\")\n",
    "a=Sports_car()\n",
    "a.sports_info()\n",
    "# a.truck_info()\n",
    "a.car_info()\n",
    "\n",
    "    "
   ]
  },
  {
   "cell_type": "markdown",
   "id": "005cccc3",
   "metadata": {},
   "source": [
    "# super funtion"
   ]
  },
  {
   "cell_type": "code",
   "execution_count": 15,
   "id": "622c5091",
   "metadata": {},
   "outputs": [
    {
     "name": "stdout",
     "output_type": "stream",
     "text": [
      "inside employee class\n",
      "Employee name is: iram 52\n",
      "Employee name is: iram 52\n",
      "salary: 10000000\n"
     ]
    }
   ],
   "source": [
    "class EMPLOYEE:\n",
    "    def __init__(self,name,age):\n",
    "        print(\"inside employee class\")\n",
    "        self.name= name\n",
    "        self.age= age\n",
    "    def show(self):\n",
    "        print(\"Employee name is:\",self.name,self.age)\n",
    "        \n",
    "class EMPLOYEE1(EMPLOYEE):\n",
    "    def __init__(self,name,age,salary):\n",
    "        super().__init__(name,age)\n",
    "        a=super().show()\n",
    "        self.salary= salary\n",
    "    def show1(self):\n",
    "        print(\"salary:\",self.salary)\n",
    "b=EMPLOYEE1(\"iram\",52,10000000)\n",
    "b.show()\n",
    "b.show1()"
   ]
  },
  {
   "cell_type": "code",
   "execution_count": 8,
   "id": "61572b17",
   "metadata": {},
   "outputs": [
    {
     "name": "stdout",
     "output_type": "stream",
     "text": [
      "Python is iram\n"
     ]
    }
   ],
   "source": [
    "x = \"iram\"\n",
    "\n",
    "def myfunc():\n",
    "    print(\"Python is \" + x)\n",
    "\n",
    "myfunc()"
   ]
  },
  {
   "cell_type": "code",
   "execution_count": null,
   "id": "6063c9e9",
   "metadata": {},
   "outputs": [],
   "source": []
  },
  {
   "cell_type": "code",
   "execution_count": 17,
   "id": "6f8d2061",
   "metadata": {},
   "outputs": [
    {
     "data": {
      "text/plain": [
       "('school name:', 'abp school', 'rollno.:', 55, 'subject:', 'Maths', None)"
      ]
     },
     "execution_count": 17,
     "metadata": {},
     "output_type": "execute_result"
    }
   ],
   "source": [
    "class student:    \n",
    "    def __init__(self,name,rollno):\n",
    "        self.name=name\n",
    "        self.rollno=rollno\n",
    "    def show(self):\n",
    "        return \"Name of the student:\",self.name,\"Roll no of the student:\",self.rollno\n",
    "class school(student):\n",
    "    def __init__(self, name, rollno,age):\n",
    "        super().__init__(name, rollno)       \n",
    "        self.age = age\n",
    "        zikra = super().show()\n",
    "    def show(self):\n",
    "        self.school=\"abp school\"\n",
    "        \"school name:\",self.school, \"rollno.:\",self.rollno, \"age:\", self.age  \n",
    "class home(school):\n",
    "    def __init__(self, name, rollno,age, subject):\n",
    "        super().__init__(name, rollno, age)\n",
    "        self.subject = subject     \n",
    "    def show(self):\n",
    "        zikra = super().show()\n",
    "        self.school=\"abp school\"\n",
    "        return \"school name:\",self.school, \"rollno.:\",self.rollno, \"subject:\", self.subject,zikra \n",
    "s1=home('iram',55,33,\"Maths\")\n",
    "s1.show()"
   ]
  },
  {
   "cell_type": "code",
   "execution_count": 18,
   "id": "c8d3b403",
   "metadata": {},
   "outputs": [
    {
     "name": "stdout",
     "output_type": "stream",
     "text": [
      "Jessa works at Google\n"
     ]
    }
   ],
   "source": [
    "class Company:\n",
    "    def company_name(self):\n",
    "        return 'Google'\n",
    "\n",
    "class Employee(Company):\n",
    "    def info(self):\n",
    "        # Calling the superclass method using super()function\n",
    "        c_name = super().company_name()\n",
    "        print(\"Jessa works at\", c_name)\n",
    "\n",
    "# Creating object of child class\n",
    "emp = Employee()\n",
    "emp.info()"
   ]
  },
  {
   "cell_type": "code",
   "execution_count": 19,
   "id": "cfe08fbb",
   "metadata": {},
   "outputs": [
    {
     "name": "stdout",
     "output_type": "stream",
     "text": [
      "jessa work at Google\n"
     ]
    }
   ],
   "source": [
    "class Company:\n",
    "    def name(self):\n",
    "        return \"Google\"\n",
    "    \n",
    "class Employee(Company):\n",
    "    def info(self):\n",
    "        a=super().name()\n",
    "        print(\"jessa work at\",a)\n",
    "emp= Employee()\n",
    "emp.info()\n",
    "        \n",
    "    "
   ]
  },
  {
   "cell_type": "markdown",
   "id": "97871e17",
   "metadata": {},
   "source": [
    "# issub class"
   ]
  },
  {
   "cell_type": "code",
   "execution_count": 18,
   "id": "836cde03",
   "metadata": {},
   "outputs": [
    {
     "name": "stdout",
     "output_type": "stream",
     "text": [
      "True\n",
      "True\n"
     ]
    }
   ],
   "source": [
    "class GrandFather:\n",
    "    def grand(self):\n",
    "        print(\"inside grand father class\")\n",
    "        \n",
    "class Father(GrandFather):\n",
    "    def father(self):\n",
    "        print(\"inside in father class\")\n",
    "        \n",
    "class Child:\n",
    "    def child(self):\n",
    "        print(\"inside in the child class\")\n",
    "        \n",
    "print(issubclass(Father,GrandFather))  \n",
    "print(issubclass(GrandFather,(tuple,GrandFather)))  \n"
   ]
  },
  {
   "cell_type": "code",
   "execution_count": 31,
   "id": "175fa872",
   "metadata": {},
   "outputs": [
    {
     "name": "stdout",
     "output_type": "stream",
     "text": [
      " In class C\n",
      "[<class '__main__.C'>, <class '__main__.B'>, <class '__main__.A'>, <class 'object'>]\n"
     ]
    }
   ],
   "source": [
    "class A:\n",
    "    def process(self):\n",
    "        print(\" In class A\")\n",
    "\n",
    "class B(A):\n",
    "    def process(self):\n",
    "        print(\" In class B\")\n",
    "\n",
    "class C(B,A):\n",
    "    def process(self):\n",
    "        print(\" In class C\")\n",
    "\n",
    "# Creating object of C class\n",
    "C1 = C()\n",
    "C1.process()\n",
    "print(C.mro())"
   ]
  },
  {
   "cell_type": "code",
   "execution_count": 25,
   "id": "2c7fbc03",
   "metadata": {},
   "outputs": [
    {
     "name": "stdout",
     "output_type": "stream",
     "text": [
      " In class C\n"
     ]
    }
   ],
   "source": [
    "class A:\n",
    "    def process(self):\n",
    "        print(\" In class A\")\n",
    "\n",
    "class B:\n",
    "    def process(self):\n",
    "        print(\" In class B\")\n",
    "\n",
    "class C(A,B):\n",
    "    def process(self):\n",
    "        print(\" In class C\")\n",
    "\n",
    "# Creating object of C class\n",
    "C1 = C()\n",
    "C1.process()"
   ]
  },
  {
   "cell_type": "code",
   "execution_count": null,
   "id": "9765d87a",
   "metadata": {},
   "outputs": [],
   "source": []
  }
 ],
 "metadata": {
  "kernelspec": {
   "display_name": "Python 3 (ipykernel)",
   "language": "python",
   "name": "python3"
  },
  "language_info": {
   "codemirror_mode": {
    "name": "ipython",
    "version": 3
   },
   "file_extension": ".py",
   "mimetype": "text/x-python",
   "name": "python",
   "nbconvert_exporter": "python",
   "pygments_lexer": "ipython3",
   "version": "3.10.4"
  }
 },
 "nbformat": 4,
 "nbformat_minor": 5
}
