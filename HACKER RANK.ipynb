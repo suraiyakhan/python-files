{
 "cells": [
  {
   "cell_type": "code",
   "execution_count": 4,
   "id": "d0330561",
   "metadata": {},
   "outputs": [
    {
     "name": "stdout",
     "output_type": "stream",
     "text": [
      "['blue', 'yellow']\n",
      "['red', 'pink', 'navi', 'green']\n"
     ]
    }
   ],
   "source": [
    "# pythonslicing\n",
    "colours=[\"red\",\"blue\",\"yellow\",\"green\"]\n",
    "print(colours[1:3])\n",
    "\n",
    "colours[1:3]=[\"pink\",\"navi\"]\n",
    "print(colours)"
   ]
  },
  {
   "cell_type": "code",
   "execution_count": 1,
   "id": "edb04b6a",
   "metadata": {},
   "outputs": [
    {
     "name": "stdout",
     "output_type": "stream",
     "text": [
      "python\n"
     ]
    },
    {
     "ename": "TypeError",
     "evalue": "'str' object does not support item assignment",
     "output_type": "error",
     "traceback": [
      "\u001b[1;31m---------------------------------------------------------------------------\u001b[0m",
      "\u001b[1;31mTypeError\u001b[0m                                 Traceback (most recent call last)",
      "Input \u001b[1;32mIn [1]\u001b[0m, in \u001b[0;36m<cell line: 4>\u001b[1;34m()\u001b[0m\n\u001b[0;32m      1\u001b[0m topic\u001b[38;5;241m=\u001b[39m\u001b[38;5;124m\"\u001b[39m\u001b[38;5;124mpython slicing\u001b[39m\u001b[38;5;124m\"\u001b[39m\n\u001b[0;32m      2\u001b[0m \u001b[38;5;28mprint\u001b[39m(topic[\u001b[38;5;241m0\u001b[39m:\u001b[38;5;241m6\u001b[39m])\n\u001b[1;32m----> 4\u001b[0m topic[\u001b[38;5;241m0\u001b[39m:\u001b[38;5;241m6\u001b[39m]\u001b[38;5;241m=\u001b[39m\u001b[38;5;124m\"\u001b[39m\u001b[38;5;124mjava\u001b[39m\u001b[38;5;124m\"\u001b[39m\n\u001b[0;32m      5\u001b[0m \u001b[38;5;28mprint\u001b[39m(topic)\n",
      "\u001b[1;31mTypeError\u001b[0m: 'str' object does not support item assignment"
     ]
    }
   ],
   "source": [
    "topic=\"python slicing\"\n",
    "print(topic[0:6])\n",
    "\n",
    "topic[0:6]=\"java\"\n",
    "print(topic)"
   ]
  },
  {
   "cell_type": "code",
   "execution_count": 12,
   "id": "fd9d2957",
   "metadata": {},
   "outputs": [
    {
     "ename": "TypeError",
     "evalue": "'str' object does not support item assignment",
     "output_type": "error",
     "traceback": [
      "\u001b[1;31m---------------------------------------------------------------------------\u001b[0m",
      "\u001b[1;31mTypeError\u001b[0m                                 Traceback (most recent call last)",
      "Input \u001b[1;32mIn [12]\u001b[0m, in \u001b[0;36m<cell line: 1>\u001b[1;34m()\u001b[0m\n\u001b[1;32m----> 1\u001b[0m topic[\u001b[38;5;241m0\u001b[39m:\u001b[38;5;241m6\u001b[39m]\u001b[38;5;241m=\u001b[39m\u001b[38;5;124m\"\u001b[39m\u001b[38;5;124mjava\u001b[39m\u001b[38;5;124m\"\u001b[39m\n",
      "\u001b[1;31mTypeError\u001b[0m: 'str' object does not support item assignment"
     ]
    }
   ],
   "source": [
    "topic[0:6]=\"java\""
   ]
  },
  {
   "cell_type": "code",
   "execution_count": 14,
   "id": "f9237577",
   "metadata": {},
   "outputs": [
    {
     "name": "stdout",
     "output_type": "stream",
     "text": [
      "['green', 'blue', 'orange']\n"
     ]
    }
   ],
   "source": [
    "colors = ['red', 'green', 'blue', 'orange']\n",
    "print(colors[1:])"
   ]
  },
  {
   "cell_type": "code",
   "execution_count": 5,
   "id": "300279d6",
   "metadata": {},
   "outputs": [
    {
     "name": "stdout",
     "output_type": "stream",
     "text": [
      "['l', 'w']\n"
     ]
    }
   ],
   "source": [
    "x=[\"h\",\"e\",\"l\",\"l\",\"o\",\"w\",\"o\",\"r\",\"l\",\"d\"]\n",
    "print(x[3:-3:2])"
   ]
  },
  {
   "cell_type": "code",
   "execution_count": 7,
   "id": "0c1d6f25",
   "metadata": {},
   "outputs": [
    {
     "name": "stdout",
     "output_type": "stream",
     "text": [
      "['d', 'b']\n",
      "['d', 'b']\n"
     ]
    }
   ],
   "source": [
    "a=['a','b','c','d','e','f','h']\n",
    "print(a[3:-8:-2])\n",
    "print(a[3::-2])"
   ]
  },
  {
   "cell_type": "code",
   "execution_count": 1,
   "id": "7765edcb",
   "metadata": {},
   "outputs": [
    {
     "name": "stdout",
     "output_type": "stream",
     "text": [
      "Hello, World!\n"
     ]
    }
   ],
   "source": [
    "print(\"Hello, World!\")"
   ]
  },
  {
   "cell_type": "code",
   "execution_count": null,
   "id": "495e1ca8",
   "metadata": {},
   "outputs": [],
   "source": []
  },
  {
   "cell_type": "code",
   "execution_count": null,
   "id": "f9dc8259",
   "metadata": {},
   "outputs": [],
   "source": []
  },
  {
   "cell_type": "code",
   "execution_count": null,
   "id": "d6d2da89",
   "metadata": {},
   "outputs": [],
   "source": []
  },
  {
   "cell_type": "code",
   "execution_count": null,
   "id": "7cdb5630",
   "metadata": {},
   "outputs": [],
   "source": []
  },
  {
   "cell_type": "code",
   "execution_count": null,
   "id": "95c37407",
   "metadata": {},
   "outputs": [],
   "source": []
  },
  {
   "cell_type": "code",
   "execution_count": null,
   "id": "e621c517",
   "metadata": {},
   "outputs": [],
   "source": []
  },
  {
   "cell_type": "code",
   "execution_count": null,
   "id": "9f3aa383",
   "metadata": {},
   "outputs": [],
   "source": []
  },
  {
   "cell_type": "code",
   "execution_count": null,
   "id": "90d5543b",
   "metadata": {},
   "outputs": [],
   "source": []
  },
  {
   "cell_type": "markdown",
   "id": "819318f2",
   "metadata": {},
   "source": [
    "# HACKER RANK"
   ]
  },
  {
   "cell_type": "code",
   "execution_count": 3,
   "id": "e090fb95",
   "metadata": {},
   "outputs": [
    {
     "name": "stdout",
     "output_type": "stream",
     "text": [
      "enter number5\n",
      "Weird\n"
     ]
    }
   ],
   "source": [
    "# (2)\n",
    "n= int(input(\"enter number\"))\n",
    "if n%2==1:\n",
    "        print(\"Weird\")\n",
    "elif n%2==0 and n in range (2,6):\n",
    "        print(\"Not Weird\")\n",
    "elif n%2==0 and n in range (6,21):\n",
    "        print(\"Weird\")\n",
    "elif n%2==0 and n>20:\n",
    "        print(\"not Weird\")"
   ]
  },
  {
   "cell_type": "code",
   "execution_count": null,
   "id": "08e64ffc",
   "metadata": {},
   "outputs": [],
   "source": [
    "\"\"\" The provided code stub reads two integers from STDIN,  and . (3)\n",
    "Add code to print three lines where:\n",
    "\n",
    "The first line contains the sum of the two numbers.\n",
    "The second line contains the difference of the two numbers (first - second).\n",
    "The third line contains the product of the two numbers\"\"\"\n",
    "\n",
    "a=int(input(\"enter number\"))\n",
    "b=int(input(\"enter number\"))\n",
    "print(a+b)\n",
    "print(a-b)\n",
    "print(a*b)\n",
    "print(a//b)\n"
   ]
  },
  {
   "cell_type": "code",
   "execution_count": null,
   "id": "871e88a8",
   "metadata": {},
   "outputs": [],
   "source": [
    "\"\"\"The provided code stub reads two integers,  and , from STDIN.(4)\n",
    "\n",
    "Add logic to print two lines. The first line should contain the result of\n",
    "integer division, a //b . The second line should contain the result\n",
    "of float division, a /b .\n",
    "No rounding or formatting is necessary.\"\"\"\n",
    "\n",
    "a=int(input(\"enter number\"))\n",
    "b=int(input(\"enter number\"))\n",
    "print(a//b)\n",
    "print(a/b)"
   ]
  },
  {
   "cell_type": "code",
   "execution_count": 1,
   "id": "35ebe43b",
   "metadata": {},
   "outputs": [
    {
     "name": "stdout",
     "output_type": "stream",
     "text": [
      "enter number5\n",
      "0\n",
      "1\n",
      "4\n",
      "9\n",
      "16\n"
     ]
    }
   ],
   "source": [
    "n=int(input(\"enter number\"))\n",
    "for i in range(0,n):\n",
    "    print(i**2)"
   ]
  },
  {
   "cell_type": "code",
   "execution_count": 2,
   "id": "fcabb24f",
   "metadata": {},
   "outputs": [
    {
     "name": "stdout",
     "output_type": "stream",
     "text": [
      "enter number7\n",
      "[0, 1, 4, 9, 16, 25, 36]\n"
     ]
    }
   ],
   "source": [
    "# Write a Python function to create and print a list where \n",
    "# the values are square\n",
    "# of numbers between 1 and 30 (both included).(5)\n",
    "\n",
    "n=int(input(\"enter number\"))\n",
    "def fun():\n",
    "    l=list()\n",
    "    for i in range(0,n):\n",
    "        l.append(i**2)\n",
    "    print(l)\n",
    "fun()    \n",
    "    "
   ]
  },
  {
   "cell_type": "code",
   "execution_count": 10,
   "id": "3d7d3fe3",
   "metadata": {},
   "outputs": [
    {
     "name": "stdout",
     "output_type": "stream",
     "text": [
      "input year2004\n",
      "it is leap year\n"
     ]
    }
   ],
   "source": [
    "n=int(input(\"input year\"))\n",
    "def is_leap(year):\n",
    "    if (year%4==0)or(year%400==0 and year%100==0):\n",
    "        return True\n",
    "    else:\n",
    "        return False\n",
    "if is_leap(n):\n",
    "    print(\"it is leap year\")\n",
    "else:\n",
    "    print(\"it is not leap year\")"
   ]
  },
  {
   "cell_type": "code",
   "execution_count": 1,
   "id": "9fce9173",
   "metadata": {},
   "outputs": [
    {
     "name": "stdout",
     "output_type": "stream",
     "text": [
      "5\n",
      "5\n"
     ]
    }
   ],
   "source": [
    "# using any string methods, try to print the following:\n",
    "# Note that \"\" represents the consecutive values in between\n",
    "\n",
    "n=input(\"\")\n",
    "print(n)\n"
   ]
  },
  {
   "cell_type": "code",
   "execution_count": 3,
   "id": "37a03e2f",
   "metadata": {},
   "outputs": [
    {
     "name": "stdout",
     "output_type": "stream",
     "text": [
      "6\n",
      "123456"
     ]
    }
   ],
   "source": [
    "# without using any string methods, try to print the following:\n",
    "# Note that \"\" represents the consecutive values in between\n",
    "\n",
    "n=int(input(\"\"))\n",
    "for i in range (1,n+1):\n",
    "    print(i, end=\"\")\n",
    "\n",
    "    "
   ]
  },
  {
   "cell_type": "code",
   "execution_count": 1,
   "id": "6c4ecace",
   "metadata": {},
   "outputs": [
    {
     "name": "stdout",
     "output_type": "stream",
     "text": [
      "wertyxyjh \n",
      "['wert', 'yxyj', 'h']\n",
      "wer\n",
      "tyx\n",
      "yjh\n"
     ]
    }
   ],
   "source": [
    "# wrap and fill function\n",
    "import textwrap\n",
    "string=input()\n",
    "print(textwrap.wrap(string,4))\n",
    "print(textwrap.fill(string,3))\n"
   ]
  },
  {
   "cell_type": "code",
   "execution_count": null,
   "id": "a95eb643",
   "metadata": {},
   "outputs": [],
   "source": [
    "n=input(\"\")\n",
    "def split_and_join(n):\n",
    "    a=line.split()\n",
    "    b=\"-\".join(a)\n",
    "    return b\n",
    "result=split_and_join(n)\n",
    "print(result)\n"
   ]
  },
  {
   "cell_type": "code",
   "execution_count": 13,
   "id": "7f64825e",
   "metadata": {},
   "outputs": [
    {
     "name": "stdout",
     "output_type": "stream",
     "text": [
      "['my', 'name', 'is', 'suraiya']\n",
      "my_name_is_suraiya\n"
     ]
    }
   ],
   "source": [
    "a=\"my name is suraiya\"\n",
    "a=a.split()\n",
    "print(a)\n",
    "a=\"_\".join(a)\n",
    "print(a)"
   ]
  },
  {
   "cell_type": "code",
   "execution_count": 17,
   "id": "8ab2e130",
   "metadata": {},
   "outputs": [
    {
     "name": "stdout",
     "output_type": "stream",
     "text": [
      "['my name i', ' ', 'uraiya']\n"
     ]
    }
   ],
   "source": [
    "a=\"my name is suraiya\"\n",
    "x=a.split('s')\n",
    "print(x)"
   ]
  },
  {
   "cell_type": "code",
   "execution_count": 5,
   "id": "eaf380f2",
   "metadata": {},
   "outputs": [
    {
     "name": "stdout",
     "output_type": "stream",
     "text": [
      "minhaj pagal\n",
      "hai\n",
      "Hello minhaj pagal hai !you just\n"
     ]
    }
   ],
   "source": [
    "first=input()\n",
    "last=input()\n",
    "def print_full_name(first,last):\n",
    "    print(\"Hello\" , first ,last , \"!you just\")\n",
    "print_full_name(first,last)    \n",
    "    \n",
    "          "
   ]
  },
  {
   "cell_type": "code",
   "execution_count": 1,
   "id": "d4244d30",
   "metadata": {},
   "outputs": [
    {
     "name": "stdout",
     "output_type": "stream",
     "text": [
      "minhaj khan\n"
     ]
    },
    {
     "data": {
      "text/plain": [
       "'Minhaj Khan'"
      ]
     },
     "execution_count": 1,
     "metadata": {},
     "output_type": "execute_result"
    }
   ],
   "source": [
    "# You are asked to ensure that the first and last names of people begin \n",
    "# with a capital letter in their passports. For example, \n",
    "# alison heck should be capitalised correctly as Alison Heck.\n",
    "s=input()\n",
    "def solve(s):\n",
    "    for i in s.split():\n",
    "        s=s.replace(i,i.capitalize())\n",
    "    return s\n",
    "solve(s)\n"
   ]
  },
  {
   "cell_type": "code",
   "execution_count": 3,
   "id": "7103c564",
   "metadata": {},
   "outputs": [
    {
     "name": "stdout",
     "output_type": "stream",
     "text": [
      "4\n",
      "1\n",
      "-6644214454873602895\n"
     ]
    }
   ],
   "source": [
    "n=int(input(\"\"))\n",
    "integer_list=map(int, input().split())\n",
    "t=tuple (integer_list)\n",
    "print(hash(t))"
   ]
  },
  {
   "cell_type": "code",
   "execution_count": null,
   "id": "0859c828",
   "metadata": {},
   "outputs": [],
   "source": [
    "# In this challenge, the user enters a string and a substring.\n",
    "# You have to print the number of times that the substring occurs \n",
    "# in the given string. String traversal will take place from \n",
    "# left to right,\n",
    "# not from right to left.\n",
    "string=input(\"enter string\")\n",
    "sub_string=input(\"enter substring\")\n",
    "\n",
    "def count_substring(string,sub_string):\n",
    "    count=0\n",
    "    l=len(sub_string)\n",
    "    for i in range(len(string)):\n",
    "        s=string[i:i+l]\n",
    "        if s==sub_string:\n",
    "            count=count+1\n",
    "    return count\n",
    "c=count_substring(string, sub_string)\n",
    "print(c)"
   ]
  },
  {
   "cell_type": "code",
   "execution_count": 15,
   "id": "a051cf1a",
   "metadata": {},
   "outputs": [
    {
     "name": "stdout",
     "output_type": "stream",
     "text": [
      "6\n",
      "6\n"
     ]
    }
   ],
   "source": [
    "string=\"hello world hello\"\n",
    "x=string.find('wor')\n",
    "print(x)\n",
    "y=string.rfind('wor')\n",
    "print(y)\n"
   ]
  },
  {
   "cell_type": "code",
   "execution_count": 4,
   "id": "e5ca33ee",
   "metadata": {},
   "outputs": [
    {
     "name": "stdout",
     "output_type": "stream",
     "text": [
      "5\n"
     ]
    },
    {
     "ename": "TypeError",
     "evalue": "unsupported operand type(s) for +: 'NoneType' and 'int'",
     "output_type": "error",
     "traceback": [
      "\u001b[1;31m---------------------------------------------------------------------------\u001b[0m",
      "\u001b[1;31mTypeError\u001b[0m                                 Traceback (most recent call last)",
      "Input \u001b[1;32mIn [4]\u001b[0m, in \u001b[0;36m<cell line: 4>\u001b[1;34m()\u001b[0m\n\u001b[0;32m      2\u001b[0m     \u001b[38;5;28mprint\u001b[39m(a\u001b[38;5;241m+\u001b[39mb)\n\u001b[0;32m      3\u001b[0m a\u001b[38;5;241m=\u001b[39madd(\u001b[38;5;241m3\u001b[39m,\u001b[38;5;241m2\u001b[39m)    \n\u001b[1;32m----> 4\u001b[0m \u001b[38;5;28mprint\u001b[39m(\u001b[43ma\u001b[49m\u001b[38;5;241;43m+\u001b[39;49m\u001b[38;5;241;43m5\u001b[39;49m)\n",
      "\u001b[1;31mTypeError\u001b[0m: unsupported operand type(s) for +: 'NoneType' and 'int'"
     ]
    }
   ],
   "source": [
    "def add (a,b):\n",
    "    print(a+b)\n",
    "a=add(3,2)    \n",
    "print(a+5)"
   ]
  },
  {
   "cell_type": "code",
   "execution_count": 5,
   "id": "dee76f6f",
   "metadata": {},
   "outputs": [
    {
     "name": "stdout",
     "output_type": "stream",
     "text": [
      "12\n"
     ]
    }
   ],
   "source": [
    "def add (a,b):\n",
    "    return(a+b)\n",
    "c=add(3,3)\n",
    "print(c+6)"
   ]
  },
  {
   "cell_type": "code",
   "execution_count": 3,
   "id": "3b94c601",
   "metadata": {},
   "outputs": [
    {
     "name": "stdout",
     "output_type": "stream",
     "text": [
      "<map object at 0x00000255DC08ADD0>\n",
      "[1, 4, 9, 16]\n"
     ]
    }
   ],
   "source": [
    "def calculateSquare(n):\n",
    "    return n*n\n",
    "numbers = (1, 2, 3, 4)\n",
    "result = map(calculateSquare, numbers)\n",
    "print(result)\n",
    "# converting map object to set\n",
    "numbersSquare = list(result)\n",
    "print(numbersSquare)"
   ]
  },
  {
   "cell_type": "code",
   "execution_count": 4,
   "id": "dab36a40",
   "metadata": {},
   "outputs": [
    {
     "name": "stdout",
     "output_type": "stream",
     "text": [
      "[9, 11, 13]\n"
     ]
    }
   ],
   "source": [
    "num1 = [4, 5, 6]\n",
    "num2 = [5, 6, 7]\n",
    "result = map(lambda n1, n2: n1+n2, num1, num2)\n",
    "print(list(result))"
   ]
  },
  {
   "cell_type": "code",
   "execution_count": null,
   "id": "22f7077d",
   "metadata": {},
   "outputs": [],
   "source": []
  }
 ],
 "metadata": {
  "kernelspec": {
   "display_name": "Python 3 (ipykernel)",
   "language": "python",
   "name": "python3"
  },
  "language_info": {
   "codemirror_mode": {
    "name": "ipython",
    "version": 3
   },
   "file_extension": ".py",
   "mimetype": "text/x-python",
   "name": "python",
   "nbconvert_exporter": "python",
   "pygments_lexer": "ipython3",
   "version": "3.10.4"
  }
 },
 "nbformat": 4,
 "nbformat_minor": 5
}
