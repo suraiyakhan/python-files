{
 "cells": [
  {
   "cell_type": "raw",
   "id": "5c4d1534",
   "metadata": {},
   "source": [
    "# stings\n",
    "# to check weather a given string is a palindrome?(1)\n",
    "# b=\"level\"\n",
    "# print(b[0:5])\n",
    "# print(b[-5:5])\n",
    "\n",
    "a=input(\"enter here\")\n",
    "b=a[::-1]\n",
    "if a==b:\n",
    "    print(\"palindrome\")\n",
    "else:\n",
    "    print(\"not palindrome\")"
   ]
  },
  {
   "cell_type": "code",
   "execution_count": 5,
   "id": "3f582694",
   "metadata": {},
   "outputs": [
    {
     "name": "stdout",
     "output_type": "stream",
     "text": [
      "Minhaj is a good girl\n",
      "['minhaj', 'is', 'a', 'bad', 'boy']\n"
     ]
    }
   ],
   "source": [
    "# to capitalize the first character in a given sentence:(2)\n",
    "a=\"minhaj is a good girl\"\n",
    "x=a.capitalize()\n",
    "print(x)\n",
    "\n",
    "# 3.Program to convert String to a List.(3)\n",
    "\n",
    "x=\"minhaj is a bad boy\"\n",
    "y=x.split()\n",
    "print(y)"
   ]
  },
  {
   "cell_type": "code",
   "execution_count": 7,
   "id": "312510f8",
   "metadata": {},
   "outputs": [
    {
     "name": "stdout",
     "output_type": "stream",
     "text": [
      "ball\n",
      "hello\n",
      "why\n"
     ]
    }
   ],
   "source": [
    "# to sort alphabetically the words in a given sentence(4)\n",
    "x= \"hello why ball\"\n",
    "y=x.split()\n",
    "y.sort()\n",
    "for i in y:\n",
    "    print(i)\n"
   ]
  },
  {
   "cell_type": "code",
   "execution_count": 10,
   "id": "29a71a3e",
   "metadata": {},
   "outputs": [
    {
     "name": "stdout",
     "output_type": "stream",
     "text": [
      "My name is khan\n"
     ]
    }
   ],
   "source": [
    "# (1)\n",
    "# to demonstrate any 10 functions of string class(5)\n",
    "mystr=\"my name is khan\"\n",
    "x=mystr.capitalize()\n",
    "print(x)"
   ]
  },
  {
   "cell_type": "code",
   "execution_count": 11,
   "id": "e34d92ca",
   "metadata": {},
   "outputs": [
    {
     "name": "stdout",
     "output_type": "stream",
     "text": [
      "2\n"
     ]
    }
   ],
   "source": [
    "# (3)\n",
    "# count\n",
    "fruits=\" apple is my fav and banana and orange also\"\n",
    "x=fruits.count(\"and\")\n",
    "print(x)"
   ]
  },
  {
   "cell_type": "code",
   "execution_count": 13,
   "id": "92d35761",
   "metadata": {},
   "outputs": [
    {
     "name": "stdout",
     "output_type": "stream",
     "text": [
      "True\n"
     ]
    }
   ],
   "source": [
    "# (4)\n",
    "# isspace\n",
    "car=\"  \"\n",
    "x=car.isspace()\n",
    "print(x)"
   ]
  },
  {
   "cell_type": "code",
   "execution_count": 2,
   "id": "e2af9e09",
   "metadata": {},
   "outputs": [
    {
     "name": "stdout",
     "output_type": "stream",
     "text": [
      "True\n"
     ]
    }
   ],
   "source": [
    "# (5)\n",
    "# isalnum\n",
    "car=\"nano12\"\n",
    "x=car.isalnum()\n",
    "print(x)"
   ]
  },
  {
   "cell_type": "code",
   "execution_count": 15,
   "id": "922116d9",
   "metadata": {},
   "outputs": [
    {
     "name": "stdout",
     "output_type": "stream",
     "text": [
      "3\n"
     ]
    }
   ],
   "source": [
    "# (6)\n",
    "txt=\"my name is khan.\"\n",
    "x=txt.rindex(\"name\")\n",
    "print(x)"
   ]
  },
  {
   "cell_type": "code",
   "execution_count": 3,
   "id": "249e6a1e",
   "metadata": {},
   "outputs": [
    {
     "name": "stdout",
     "output_type": "stream",
     "text": [
      "kal#aj#parso\n"
     ]
    }
   ],
   "source": [
    "# (7)\n",
    "# join(\"\")\n",
    "on=(\"kal\",\"aj\",\"parso\")\n",
    "x=\"#\".join(on)\n",
    "print(x)"
   ]
  },
  {
   "cell_type": "code",
   "execution_count": 17,
   "id": "908788db",
   "metadata": {},
   "outputs": [
    {
     "name": "stdout",
     "output_type": "stream",
     "text": [
      "4\n"
     ]
    }
   ],
   "source": [
    "# (8)\n",
    "# rfind\n",
    "txt=(\"kal parso narso\")\n",
    "x=txt.rfind('parso')\n",
    "print(x)"
   ]
  },
  {
   "cell_type": "code",
   "execution_count": 18,
   "id": "a0d5eae7",
   "metadata": {},
   "outputs": [
    {
     "name": "stdout",
     "output_type": "stream",
     "text": [
      "HELLO MY WORLD\n"
     ]
    }
   ],
   "source": [
    "# (9)\n",
    "# swapcase\n",
    "txt=(\"hello my world\")\n",
    "x=txt.swapcase()\n",
    "print(x)"
   ]
  },
  {
   "cell_type": "code",
   "execution_count": 19,
   "id": "b56691e8",
   "metadata": {},
   "outputs": [
    {
     "name": "stdout",
     "output_type": "stream",
     "text": [
      "0000000050\n"
     ]
    }
   ],
   "source": [
    "# (10)\n",
    "# zfill\n",
    "txt=\"50\"\n",
    "x=txt.zfill(10)\n",
    "print(x)"
   ]
  },
  {
   "cell_type": "code",
   "execution_count": 20,
   "id": "2ed28ffc",
   "metadata": {},
   "outputs": [
    {
     "name": "stdout",
     "output_type": "stream",
     "text": [
      "ello w\n",
      "fello world\n",
      "fello world\n",
      "orl\n",
      "fel\n"
     ]
    }
   ],
   "source": [
    "# to demonstrate string slice\n",
    "x=\"fello world\"\n",
    "print(x[1:7])\n",
    "print(x[:40])\n",
    "print(x[0:40])\n",
    "print(x[-4:-1])\n",
    "print(x[:-8])"
   ]
  },
  {
   "cell_type": "code",
   "execution_count": 21,
   "id": "46a545c1",
   "metadata": {},
   "outputs": [
    {
     "name": "stdout",
     "output_type": "stream",
     "text": [
      "True\n"
     ]
    }
   ],
   "source": [
    "# to check substring is present in a given string this should be complete by EOD\n",
    "x=\"mumbai coding club\"\n",
    "print(\"coding\" in x)\n"
   ]
  },
  {
   "cell_type": "markdown",
   "id": "1a906c16",
   "metadata": {},
   "source": [
    "# list task"
   ]
  },
  {
   "cell_type": "code",
   "execution_count": 22,
   "id": "ee0c36d2",
   "metadata": {},
   "outputs": [
    {
     "name": "stdout",
     "output_type": "stream",
     "text": [
      "['apple', 'ball', 'cat']\n"
     ]
    }
   ],
   "source": [
    "# (1)TO CREAT 5 DIFFERENT LIST USING LIST COMPREHENSION METHOD loop method\n",
    "\n",
    "list1=[\"apple\",\"ball\",\"cat\",\"dog\"]\n",
    "newlist=[]\n",
    "for x in list1:\n",
    "    if \"a\" in x:\n",
    "        newlist.append(x)\n",
    "print(newlist)\n"
   ]
  },
  {
   "cell_type": "code",
   "execution_count": 4,
   "id": "54181ae5",
   "metadata": {},
   "outputs": [
    {
     "name": "stdout",
     "output_type": "stream",
     "text": [
      "['apple', 'banana']\n"
     ]
    }
   ],
   "source": [
    "# with lisT comprehension we can do all that with only one line of code\n",
    "\n",
    "fruits=[\"apple\",\"cherry\",\"banana\",\"lichi\"]\n",
    "newlist=[x for x in fruits if \"a\"in x ]\n",
    "print(newlist)"
   ]
  },
  {
   "cell_type": "code",
   "execution_count": 26,
   "id": "58c19d2b",
   "metadata": {},
   "outputs": [
    {
     "name": "stdout",
     "output_type": "stream",
     "text": [
      "['apple', 'banana', 'lichi']\n"
     ]
    }
   ],
   "source": [
    "# only execpt items that are not \"cherry\"\n",
    "\n",
    "fruits=[\"apple\",\"cherry\",\"banana\",\"lichi\"]\n",
    "newlist=[x for x in fruits if x!=\"cherry\" ]\n",
    "print(newlist)"
   ]
  },
  {
   "cell_type": "code",
   "execution_count": 9,
   "id": "6a8865bf",
   "metadata": {},
   "outputs": [
    {
     "name": "stdout",
     "output_type": "stream",
     "text": [
      "['hello', 'hello', 'hello', 'hello']\n"
     ]
    }
   ],
   "source": [
    "# set all values in the new list\n",
    "\n",
    "fruits=[\"apple\",\"cherry\",\"banana\",\"lichi\"]\n",
    "newlist=[\"hello\" for x in fruits]\n",
    "print(newlist)"
   ]
  },
  {
   "cell_type": "code",
   "execution_count": 11,
   "id": "fee1ee82",
   "metadata": {},
   "outputs": [
    {
     "name": "stdout",
     "output_type": "stream",
     "text": [
      "['apple', 'cherry', 'orange', 'lichi']\n"
     ]
    }
   ],
   "source": [
    "# if else\n",
    "\n",
    "fruits=[\"apple\",\"cherry\",\"banana\",\"lichi\"]\n",
    "newlist=[x if x!= \"banana\" else\"orange\" for x in fruits]\n",
    "print(newlist)"
   ]
  },
  {
   "cell_type": "code",
   "execution_count": 29,
   "id": "d5e3d928",
   "metadata": {},
   "outputs": [
    {
     "name": "stdout",
     "output_type": "stream",
     "text": [
      "55\n"
     ]
    }
   ],
   "source": [
    "# 2.Create list , add random 10 numbers in list and print largest number of list.\n",
    "\n",
    "\n",
    "list1=[5,3,8,10,21,1,6,8,55]\n",
    "print(max(list1))"
   ]
  },
  {
   "cell_type": "code",
   "execution_count": 30,
   "id": "b484d8ab",
   "metadata": {},
   "outputs": [
    {
     "name": "stdout",
     "output_type": "stream",
     "text": [
      "True\n"
     ]
    }
   ],
   "source": [
    "# (3) to check whethere a given number is present in list or not\n",
    "\n",
    "x=[23,56,78,96]\n",
    "print(23 in x)"
   ]
  },
  {
   "cell_type": "code",
   "execution_count": 31,
   "id": "3a959740",
   "metadata": {},
   "outputs": [
    {
     "name": "stdout",
     "output_type": "stream",
     "text": [
      "['apple', 'banana', 'cherry', 'orange']\n"
     ]
    }
   ],
   "source": [
    "# to demonstrate any 10 method of list(1)\n",
    "\n",
    "fruits = [\"apple\", \"banana\", \"cherry\"]\n",
    "\n",
    "fruits.append(\"orange\")\n",
    "\n",
    "print(fruits)\n"
   ]
  },
  {
   "cell_type": "code",
   "execution_count": 32,
   "id": "ad574f78",
   "metadata": {},
   "outputs": [
    {
     "name": "stdout",
     "output_type": "stream",
     "text": [
      "['apple', 'banana', 'cherry', 'rose', 'rosemerry', 'lilly']\n"
     ]
    }
   ],
   "source": [
    "# extend(2)\n",
    "fruits = [\"apple\", \"banana\", \"cherry\"]\n",
    "flower=[\"rose\",\"rosemerry\",\"lilly\"]\n",
    "fruits.extend(flower)\n",
    "print(fruits)\n",
    "\n"
   ]
  },
  {
   "cell_type": "code",
   "execution_count": 33,
   "id": "f1c24b5d",
   "metadata": {},
   "outputs": [
    {
     "name": "stdout",
     "output_type": "stream",
     "text": [
      "1\n"
     ]
    }
   ],
   "source": [
    "# (3)count\n",
    "fruits = [\"apple\", \"banana\", \"cherry\"]\n",
    "x=fruits.count(\"apple\")\n",
    "print(x)"
   ]
  },
  {
   "cell_type": "code",
   "execution_count": 34,
   "id": "10d41c14",
   "metadata": {},
   "outputs": [
    {
     "name": "stdout",
     "output_type": "stream",
     "text": [
      "['cherry', 'banana', 'apple']\n"
     ]
    }
   ],
   "source": [
    "# (4)reverse\n",
    "fruits = [\"apple\", \"banana\", \"cherry\"]\n",
    "fruits . reverse()\n",
    "print(fruits)"
   ]
  },
  {
   "cell_type": "code",
   "execution_count": 1,
   "id": "c2e4e6ca",
   "metadata": {},
   "outputs": [
    {
     "name": "stdout",
     "output_type": "stream",
     "text": [
      "['anana', 'bpple', 'hherry']\n"
     ]
    }
   ],
   "source": [
    "# (5)sort\n",
    "fruits = [\"bpple\", \"anana\", \"hherry\"]\n",
    "fruits.sort()\n",
    "print(fruits)\n"
   ]
  },
  {
   "cell_type": "code",
   "execution_count": 13,
   "id": "31786723",
   "metadata": {},
   "outputs": [
    {
     "name": "stdout",
     "output_type": "stream",
     "text": [
      "['apple', 'banana']\n"
     ]
    }
   ],
   "source": [
    "# (6)pop\n",
    "fruits = [\"apple\", \"banana\", \"cherry\"]\n",
    "fruits.pop(2)\n",
    "print(fruits)"
   ]
  },
  {
   "cell_type": "code",
   "execution_count": 3,
   "id": "8d2a373a",
   "metadata": {},
   "outputs": [
    {
     "name": "stdout",
     "output_type": "stream",
     "text": [
      "['apple', 'banana', 'orange', 'cherry']\n"
     ]
    }
   ],
   "source": [
    "# (7)insert\n",
    "fruits = [\"apple\", \"banana\", \"cherry\"]\n",
    "fruits.insert(2,\"orange\")\n",
    "print(fruits)"
   ]
  },
  {
   "cell_type": "code",
   "execution_count": 4,
   "id": "cee2673c",
   "metadata": {},
   "outputs": [
    {
     "name": "stdout",
     "output_type": "stream",
     "text": [
      "2\n"
     ]
    }
   ],
   "source": [
    "# (8)index\n",
    "fruits = [\"apple\", \"banana\", \"cherry\"]\n",
    "x=fruits.index(\"cherry\")\n",
    "print(x)"
   ]
  },
  {
   "cell_type": "code",
   "execution_count": 5,
   "id": "b63867b8",
   "metadata": {},
   "outputs": [
    {
     "name": "stdout",
     "output_type": "stream",
     "text": [
      "['apple', 'banana', 'cherry']\n"
     ]
    }
   ],
   "source": [
    "# (9)copy\n",
    "fruits = [\"apple\", \"banana\", \"cherry\"]\n",
    "x=fruits . copy()\n",
    "print(x)\n"
   ]
  },
  {
   "cell_type": "code",
   "execution_count": 6,
   "id": "aecced4d",
   "metadata": {},
   "outputs": [
    {
     "name": "stdout",
     "output_type": "stream",
     "text": [
      "[]\n"
     ]
    }
   ],
   "source": [
    "# (10)clear\n",
    "fruits = [\"apple\", \"banana\", \"cherry\"]\n",
    "fruits.clear()\n",
    "print(fruits)"
   ]
  },
  {
   "cell_type": "code",
   "execution_count": 7,
   "id": "2ac7e8fd",
   "metadata": {},
   "outputs": [
    {
     "name": "stdout",
     "output_type": "stream",
     "text": [
      "[(6, 'apple'), (8, 'banana'), (43, 'cherry'), (9, 'melon')]\n"
     ]
    }
   ],
   "source": [
    "# (5)to add two list [adding elements of list]\n",
    "list1 = [6,8,43,9]\n",
    "list2 = [\"apple\",\"banana\",\"cherry\",\"melon\"]\n",
    "zipped = zip(list1, list2)\n",
    "print(list(zipped))\n",
    "\n",
    "\n"
   ]
  },
  {
   "cell_type": "code",
   "execution_count": 8,
   "id": "9ab39711",
   "metadata": {},
   "outputs": [
    {
     "name": "stdout",
     "output_type": "stream",
     "text": [
      "['apple', 'ball', 'cat']\n",
      "['apple', 'ball']\n",
      "['apple']\n",
      "[]\n"
     ]
    }
   ],
   "source": [
    "# how to implement stack\n",
    "# stack\n",
    "a=[]\n",
    "a.append(\"apple\")\n",
    "a.append(\"ball\")\n",
    "a.append(\"cat\")\n",
    "print(a)\n",
    "\n",
    "a.pop()\n",
    "print(a)\n",
    "\n",
    "a.pop()\n",
    "print(a)\n",
    "\n",
    "a.pop()\n",
    "print(a)"
   ]
  },
  {
   "cell_type": "markdown",
   "id": "0847a5ee",
   "metadata": {},
   "source": [
    "# if else for loop and range ()task"
   ]
  },
  {
   "cell_type": "code",
   "execution_count": 1,
   "id": "96272c3e",
   "metadata": {},
   "outputs": [
    {
     "name": "stdout",
     "output_type": "stream",
     "text": [
      "enter number3\n",
      "odd number\n"
     ]
    }
   ],
   "source": [
    "# (1)\n",
    "# to print odd and even number\n",
    "\n",
    "number=int(input(\"enter number\"))\n",
    "if number%2==1:\n",
    "    print(\"odd number\")\n",
    "else:\n",
    "    print(\"even number\")"
   ]
  },
  {
   "cell_type": "code",
   "execution_count": 1,
   "id": "a1197554",
   "metadata": {},
   "outputs": [
    {
     "name": "stdout",
     "output_type": "stream",
     "text": [
      "enter number5\n",
      "5 x 1 = 5\n",
      "5 x 2 = 10\n",
      "5 x 3 = 15\n",
      "5 x 4 = 20\n",
      "5 x 5 = 25\n",
      "5 x 6 = 30\n",
      "5 x 7 = 35\n",
      "5 x 8 = 40\n",
      "5 x 9 = 45\n",
      "5 x 10 = 50\n"
     ]
    }
   ],
   "source": [
    "## (3)\n",
    "# write a programm to print multiplication table of a given number\n",
    "\n",
    "# i=1\n",
    "a=int(input(\"enter number\"))\n",
    "i=1\n",
    "while (i<=10):\n",
    "    print(a,\"x\",i,\"=\",a*i)\n",
    "    i=i+1"
   ]
  },
  {
   "cell_type": "code",
   "execution_count": 1,
   "id": "5087d889",
   "metadata": {},
   "outputs": [
    {
     "name": "stdout",
     "output_type": "stream",
     "text": [
      "enter the number32563\n",
      "number of digits 5\n"
     ]
    }
   ],
   "source": [
    "# (2)\n",
    "# count the total number of digits in a number while loop \n",
    "\n",
    "n= int (input(\"enter the number\"))\n",
    "count=0\n",
    "while n > 0:\n",
    "    n=n//10\n",
    "    count+=1\n",
    "print(\"number of digits\",count)"
   ]
  },
  {
   "cell_type": "code",
   "execution_count": 1,
   "id": "c207b6df",
   "metadata": {},
   "outputs": [
    {
     "name": "stdout",
     "output_type": "stream",
     "text": [
      "enter a number:ryt678\n",
      "number of digits: 3\n"
     ]
    }
   ],
   "source": [
    "# (4)\n",
    "# count the total number of digits in a number for loop\n",
    "\n",
    "number = input(\"enter a number:\")\n",
    "def countdigits(number):\n",
    "    dcount=0\n",
    "    for x in number:\n",
    "        if x.isdigit():\n",
    "            dcount+=1\n",
    "    return dcount\n",
    "d=countdigits(number)\n",
    "print(\"number of digits:\",d)"
   ]
  },
  {
   "cell_type": "code",
   "execution_count": 8,
   "id": "3aeb66e9",
   "metadata": {},
   "outputs": [
    {
     "name": "stdout",
     "output_type": "stream",
     "text": [
      "enter a number:5\n",
      "factorial= 120\n"
     ]
    }
   ],
   "source": [
    "# (5)find a factorial of a given number\n",
    "\n",
    "i=int(input(\"enter a number:\"))\n",
    "fac=1\n",
    "while i > 0:\n",
    "    fac=fac*i\n",
    "    i=i-1\n",
    "print(\"factorial=\",fac)"
   ]
  },
  {
   "cell_type": "code",
   "execution_count": 8,
   "id": "9c109d12",
   "metadata": {},
   "outputs": [
    {
     "name": "stdout",
     "output_type": "stream",
     "text": [
      "enter number5\n",
      "0\n",
      "1\n",
      "1\n",
      "2\n",
      "3\n",
      "5\n"
     ]
    }
   ],
   "source": [
    "# display fibonacci series up to 10 terms\n",
    "\n",
    "n=int(input(\"enter number\"))\n",
    "x=0\n",
    "y=1\n",
    "z=0\n",
    "while (z <= n):\n",
    "    print(z)\n",
    "    x=y\n",
    "    y=z\n",
    "    z=x+y\n",
    "    "
   ]
  },
  {
   "cell_type": "code",
   "execution_count": null,
   "id": "34389d59",
   "metadata": {},
   "outputs": [],
   "source": [
    "# calculate the cube of all numbers from 1 to a given number\n",
    "def cube (x):\n",
    "    res = x**3\n",
    "    return res\n",
    "n= int (input(\"enter number\"))\n",
    "print(cube(n))"
   ]
  },
  {
   "cell_type": "markdown",
   "id": "c64e2b16",
   "metadata": {},
   "source": [
    "# TUPLE"
   ]
  },
  {
   "cell_type": "code",
   "execution_count": 1,
   "id": "a98abb29",
   "metadata": {},
   "outputs": [
    {
     "name": "stdout",
     "output_type": "stream",
     "text": [
      "(1, 2, 3, 4, 5, 6, 7, 8, 9, 10)\n",
      "(11, 12, 13, 14, 15, 16, 17, 18, 19, 20)\n"
     ]
    }
   ],
   "source": [
    "(1)# TO CREAT A TUPLE HAVING A NUMBER FROM 1-20.PRINT THE HALF OF ITS VALUE IN 1 LINE AND OTHER HALF IN NEXT LINE \n",
    "\n",
    "tp=(1,2,3,4,5,6,7,8,9,10,11,12,13,14,15,16,17,18,19,20)\n",
    "tp1=tp[:10]\n",
    "tp2=tp[10:]\n",
    "print(tp1)\n",
    "print(tp2)\n"
   ]
  },
  {
   "cell_type": "code",
   "execution_count": 5,
   "id": "4c9a3a9f",
   "metadata": {},
   "outputs": [
    {
     "name": "stdout",
     "output_type": "stream",
     "text": [
      "enter number1\n",
      "enter number2\n",
      "enter number3\n",
      "enter number4\n",
      "enter number5\n",
      "enter number6\n",
      "enter number7\n",
      "enter number8\n",
      "enter number9\n",
      "enter number10\n",
      "(1, 2, 3, 4, 5, 6, 7, 8, 9, 10)\n",
      "(2, 4, 6, 8, 10)\n"
     ]
    }
   ],
   "source": [
    "# (2). To create a tuple consisting of 20 number from a user. Create \n",
    "#  another tuple whose values are even number in the first tuple.\n",
    "\n",
    "a=[]\n",
    "for x in range(10):\n",
    "    user=int(input(\"enter number\"))\n",
    "    a.append(user)\n",
    "print(tuple(a))  \n",
    "b=[]\n",
    "for i in a:\n",
    "    if i%2==0:\n",
    "        b.append(i)\n",
    "print(tuple(b))"
   ]
  },
  {
   "cell_type": "code",
   "execution_count": 3,
   "id": "a9b494e7",
   "metadata": {},
   "outputs": [
    {
     "name": "stdout",
     "output_type": "stream",
     "text": [
      "(1, 5, 7, 9, 2, 4, 6, 7)\n"
     ]
    }
   ],
   "source": [
    "# <!-- (3)# c. To concatenate two tuples . -->\n",
    "tp1 = (1,5,7,9)\n",
    "tp2 = (2,4,6,7)\n",
    "tp3 = tp1+tp2\n",
    "print(tp3)"
   ]
  },
  {
   "cell_type": "code",
   "execution_count": 1,
   "id": "3aefceed",
   "metadata": {},
   "outputs": [
    {
     "name": "stdout",
     "output_type": "stream",
     "text": [
      "Yes, 'apple' is in the fruits tuple\n"
     ]
    }
   ],
   "source": [
    "(4)#d. To check whether a given element is present in tuple or not .\n",
    "\n",
    "thistuple = (\"apple\", \"banana\", \"cherry\")\n",
    "if \"apple\" in thistuple:\n",
    "  print(\"Yes, 'apple' is in the fruits tuple\")"
   ]
  },
  {
   "cell_type": "code",
   "execution_count": 6,
   "id": "aaae1d9b",
   "metadata": {},
   "outputs": [
    {
     "ename": "NameError",
     "evalue": "name 'cmp' is not defined",
     "output_type": "error",
     "traceback": [
      "\u001b[1;31m---------------------------------------------------------------------------\u001b[0m",
      "\u001b[1;31mNameError\u001b[0m                                 Traceback (most recent call last)",
      "Input \u001b[1;32mIn [6]\u001b[0m, in \u001b[0;36m<cell line: 2>\u001b[1;34m()\u001b[0m\n\u001b[0;32m      1\u001b[0m (\u001b[38;5;241m5\u001b[39m)\u001b[38;5;66;03m# e. To use the following methods on a tuple in the program: \u001b[39;00m\n\u001b[1;32m----> 2\u001b[0m \u001b[43mcmp\u001b[49m(t1,t2)\u001b[38;5;241m/\u001b[39mt1\u001b[38;5;241m==\u001b[39mt2 ,\u001b[38;5;28mlen\u001b[39m(t1) , \u001b[38;5;28mzip\u001b[39m(t1,t2) , \u001b[38;5;28mmax\u001b[39m(t) , \u001b[38;5;28mmin\u001b[39m(t) , \u001b[38;5;28mtuple\u001b[39m()\n",
      "\u001b[1;31mNameError\u001b[0m: name 'cmp' is not defined"
     ]
    }
   ],
   "source": [
    "(5)# e. To use the following methods on a tuple in the program: \n",
    "cmp(t1,t2)/t1==t2 ,len(t1) , zip(t1,t2) , max(t) , min(t) , tuple()\n",
    "\n"
   ]
  },
  {
   "cell_type": "code",
   "execution_count": 5,
   "id": "73201e8a",
   "metadata": {},
   "outputs": [
    {
     "name": "stdout",
     "output_type": "stream",
     "text": [
      "[(6, 'apple'), (8, 'banana'), (43, 'cherry'), (9, 'melon')]\n"
     ]
    }
   ],
   "source": [
    "list1 = [6,8,43,9]\n",
    "list2 = [\"apple\",\"banana\",\"cherry\",\"melon\"]\n",
    "zipped = zip(list1, list2)\n",
    "print(list(zipped))"
   ]
  },
  {
   "cell_type": "code",
   "execution_count": 14,
   "id": "ca45ab4f",
   "metadata": {},
   "outputs": [
    {
     "name": "stdout",
     "output_type": "stream",
     "text": [
      "2\n"
     ]
    }
   ],
   "source": [
    "tp1=(\"e\",10)\n",
    "print(len(tp1))"
   ]
  },
  {
   "cell_type": "code",
   "execution_count": 15,
   "id": "2edd6c5a",
   "metadata": {},
   "outputs": [
    {
     "name": "stdout",
     "output_type": "stream",
     "text": [
      "20\n"
     ]
    }
   ],
   "source": [
    "tp=(1,5,9,4,20)\n",
    "print(max(tp))"
   ]
  },
  {
   "cell_type": "code",
   "execution_count": 16,
   "id": "14beec49",
   "metadata": {},
   "outputs": [
    {
     "name": "stdout",
     "output_type": "stream",
     "text": [
      "1\n"
     ]
    }
   ],
   "source": [
    "tp=(1,5,9,4,20)\n",
    "print(min(tp))"
   ]
  },
  {
   "cell_type": "markdown",
   "id": "43e908be",
   "metadata": {},
   "source": [
    "# dictionaries"
   ]
  },
  {
   "cell_type": "code",
   "execution_count": 4,
   "id": "6b36a218",
   "metadata": {},
   "outputs": [
    {
     "name": "stdout",
     "output_type": "stream",
     "text": [
      "{'name': 'suraiya', 'occupation': 'teacher', 'age': 25, 'address': 'phonix mall'}\n",
      "{'name': 'suraiya', 'occupation': 'teacher', 'age': 25, 'address': 'phonix mall', 'area': 'narayan nagar'}\n",
      "{'name': 'suraiya', 'age': 25, 'address': 'phonix mall', 'area': 'narayan nagar'}\n"
     ]
    }
   ],
   "source": [
    "# f. To create a dictionary with any five key value pair . print the \n",
    "# dictionary . Add an element in a given dictionary and delete an \n",
    "# element\n",
    "\n",
    "mydict={\n",
    "    \"name\":\"suraiya\",\n",
    "    \"occupation\":\"teacher\",\n",
    "    \"age\":25,\n",
    "    \"address\":\"phonix mall\"\n",
    "}\n",
    "print(mydict)\n",
    "mydict[\"area\"]=\"narayan nagar\"\n",
    "print(mydict)\n",
    "\n",
    "mydict.pop(\"occupation\")\n",
    "print(mydict)"
   ]
  },
  {
   "cell_type": "code",
   "execution_count": 5,
   "id": "1c9db1eb",
   "metadata": {},
   "outputs": [
    {
     "name": "stdout",
     "output_type": "stream",
     "text": [
      "{'apple': 'rad', 'banana': 'yellow', 'cherry': 'green'}\n"
     ]
    },
    {
     "data": {
      "text/plain": [
       "{0: 0, 1: 1, 2: 4, 3: 9, 4: 16}"
      ]
     },
     "execution_count": 5,
     "metadata": {},
     "output_type": "execute_result"
    }
   ],
   "source": [
    "# g. To create 2 dictionaries using dictionary comprehension method.\n",
    "\n",
    "fruits={\n",
    "    \"apple\":\"rad\",\n",
    "    \"banana\":\"yellow\",\n",
    "    \"cherry\":\"green\"\n",
    "}\n",
    "# fruit1={x for x in fruits}\n",
    "# print(fruit1)\n",
    "print(fruits)\n",
    "\n",
    "{k:v for k,v in fruits.items() }\n",
    "\n",
    "{i:i**2 for i in range (5)}\n"
   ]
  },
  {
   "cell_type": "code",
   "execution_count": null,
   "id": "62e16cb0",
   "metadata": {},
   "outputs": [],
   "source": []
  },
  {
   "cell_type": "code",
   "execution_count": 17,
   "id": "808f7068",
   "metadata": {},
   "outputs": [
    {
     "name": "stdout",
     "output_type": "stream",
     "text": [
      "{'nargis': 'khan', 'suraiya': 'khan', 'anam': 'khan'}\n"
     ]
    }
   ],
   "source": [
    "# h. To demonstrate any five methods on dictionary (fromkeys)1\n",
    "x=('nargis','suraiya','anam')\n",
    "y='khan'\n",
    "mydict=dict.fromkeys(x,y)\n",
    "print(mydict)"
   ]
  },
  {
   "cell_type": "code",
   "execution_count": 19,
   "id": "7ca687fa",
   "metadata": {},
   "outputs": [
    {
     "name": "stdout",
     "output_type": "stream",
     "text": [
      "dict_keys(['suraiya', 'ruqaiya', 'anam'])\n",
      "dict_values(['khan', 'shaikh', 'malik'])\n"
     ]
    }
   ],
   "source": [
    "# key and value 2\n",
    "name={\n",
    "    \"suraiya\":\"khan\",\n",
    "    \"ruqaiya\":\"shaikh\",\n",
    "    \"anam\":\"malik\"\n",
    "}\n",
    "x=name.keys()\n",
    "print(x)\n",
    "x=name.values()\n",
    "print(x)"
   ]
  },
  {
   "cell_type": "code",
   "execution_count": 7,
   "id": "2fe98695",
   "metadata": {},
   "outputs": [
    {
     "name": "stdout",
     "output_type": "stream",
     "text": [
      "{'brand': 'Ford', 'model': 'Mustang', 'year': 1964, 'color': 'White'}\n"
     ]
    }
   ],
   "source": [
    "# update 3\n",
    "car = {\n",
    "  \"brand\": \"Ford\",\n",
    "  \"model\": \"Mustang\",\n",
    "  \"year\": 1964\n",
    "}\n",
    "\n",
    "car.update({\"color\": \"White\"})\n",
    "\n",
    "print(car)\n"
   ]
  },
  {
   "cell_type": "code",
   "execution_count": 24,
   "id": "d0633670",
   "metadata": {},
   "outputs": [
    {
     "name": "stdout",
     "output_type": "stream",
     "text": [
      "1964\n"
     ]
    }
   ],
   "source": [
    "# GET 4\n",
    "car = {\n",
    "  \"brand\": \"Ford\",\n",
    "  \"model\": \"Mustang\",\n",
    "  \"year\": 1964\n",
    "}\n",
    "\n",
    "x=car.get(\"year\")\n",
    "\n",
    "print(x)\n"
   ]
  },
  {
   "cell_type": "code",
   "execution_count": 26,
   "id": "aa8b74b0",
   "metadata": {},
   "outputs": [
    {
     "name": "stdout",
     "output_type": "stream",
     "text": [
      "dict_items([('brand', 'Ford'), ('model', 'Mustang'), ('year', 1964)])\n"
     ]
    }
   ],
   "source": [
    "# 5\n",
    "car = {\n",
    "  \"brand\": \"Ford\",\n",
    "  \"model\": \"Mustang\",\n",
    "  \"year\": 1964\n",
    "}\n",
    "\n",
    "x=car.items()\n",
    "\n",
    "print(x)\n"
   ]
  },
  {
   "cell_type": "code",
   "execution_count": 27,
   "id": "8dbeffba",
   "metadata": {},
   "outputs": [
    {
     "name": "stdout",
     "output_type": "stream",
     "text": [
      "{'ball', 'cat', 'cmg', 'google'}\n"
     ]
    }
   ],
   "source": [
    "#  To demonstrate 5 methods of python data structure set .(1)\n",
    "\n",
    "x={\"apple\",\"ball\",\"cat\"}\n",
    "y={\"google\",\"cmg\",\"apple\"}\n",
    "z=x.symmetric_difference(y)\n",
    "print(z)"
   ]
  },
  {
   "cell_type": "code",
   "execution_count": 28,
   "id": "7aa4eca8",
   "metadata": {},
   "outputs": [
    {
     "name": "stdout",
     "output_type": "stream",
     "text": [
      "{'ball', 'cat', 'cmg', 'google'}\n"
     ]
    }
   ],
   "source": [
    "# 2\n",
    "x={\"apple\",\"ball\",\"cat\"}\n",
    "y={\"google\",\"cmg\",\"apple\"}\n",
    "x.symmetric_difference_update(y)\n",
    "print(x)"
   ]
  },
  {
   "cell_type": "code",
   "execution_count": 29,
   "id": "63e5d416",
   "metadata": {},
   "outputs": [
    {
     "name": "stdout",
     "output_type": "stream",
     "text": [
      "{'apple'}\n"
     ]
    }
   ],
   "source": [
    "# 3\n",
    "x={\"apple\",\"ball\",\"cat\"}\n",
    "y={\"google\",\"cmg\",\"apple\"}\n",
    "z=x.intersection(y)\n",
    "print(z)"
   ]
  },
  {
   "cell_type": "code",
   "execution_count": 30,
   "id": "2cd9a9cc",
   "metadata": {},
   "outputs": [
    {
     "name": "stdout",
     "output_type": "stream",
     "text": [
      "{'apple', 'ball', 'cat', 'cmg', 'google'}\n"
     ]
    }
   ],
   "source": [
    "# 4\n",
    "x={\"apple\",\"ball\",\"cat\"}\n",
    "y={\"google\",\"cmg\",\"apple\"}\n",
    "z=x.union(y)\n",
    "print(z)"
   ]
  },
  {
   "cell_type": "code",
   "execution_count": 33,
   "id": "056f1fbd",
   "metadata": {},
   "outputs": [
    {
     "name": "stdout",
     "output_type": "stream",
     "text": [
      "{'apple', 'ball', 'cat', 'cmg', 'google'}\n"
     ]
    }
   ],
   "source": [
    "# 5\n",
    "x={\"apple\",\"ball\",\"cat\"}\n",
    "y={\"google\",\"cmg\",\"apple\"}\n",
    "x.update(y)\n",
    "print(x)"
   ]
  },
  {
   "cell_type": "code",
   "execution_count": null,
   "id": "194341eb",
   "metadata": {},
   "outputs": [],
   "source": [
    "data=[2,3,5,6,8]\n",
    "for i in list:\n",
    "    if i%2==0:\n",
    "        print(f')\n",
    "        \n",
    "    "
   ]
  },
  {
   "cell_type": "code",
   "execution_count": 3,
   "id": "10e5c518",
   "metadata": {},
   "outputs": [
    {
     "name": "stdout",
     "output_type": "stream",
     "text": [
      "1\n",
      "0\n",
      "2\n",
      "4\n"
     ]
    }
   ],
   "source": [
    "a='1024'\n",
    "for i in a:\n",
    "    print(i)"
   ]
  },
  {
   "cell_type": "code",
   "execution_count": 4,
   "id": "03e1647d",
   "metadata": {},
   "outputs": [
    {
     "name": "stdout",
     "output_type": "stream",
     "text": [
      "lev\n"
     ]
    }
   ],
   "source": [
    "a=\"level\"\n",
    "b=a[:-2]\n",
    "print(b)\n"
   ]
  },
  {
   "cell_type": "code",
   "execution_count": 7,
   "id": "66913d02",
   "metadata": {},
   "outputs": [
    {
     "name": "stdout",
     "output_type": "stream",
     "text": [
      "{'anam': 40, 'boy': 30, 'shoib': 20}\n"
     ]
    }
   ],
   "source": [
    "data={\"anam\":40,\"boy\":30}\n",
    "x=data.update({\"shoib\":20})\n",
    "print(data)\n"
   ]
  },
  {
   "cell_type": "code",
   "execution_count": 3,
   "id": "517beb47",
   "metadata": {},
   "outputs": [
    {
     "ename": "NameError",
     "evalue": "name 'add' is not defined",
     "output_type": "error",
     "traceback": [
      "\u001b[1;31m---------------------------------------------------------------------------\u001b[0m",
      "\u001b[1;31mNameError\u001b[0m                                 Traceback (most recent call last)",
      "Input \u001b[1;32mIn [3]\u001b[0m, in \u001b[0;36m<cell line: 1>\u001b[1;34m()\u001b[0m\n\u001b[1;32m----> 1\u001b[0m c\u001b[38;5;241m=\u001b[39m\u001b[43madd\u001b[49m(\u001b[38;5;241m2\u001b[39m,\u001b[38;5;241m4\u001b[39m)\n\u001b[0;32m      2\u001b[0m \u001b[38;5;28mprint\u001b[39m(c)\n\u001b[0;32m      3\u001b[0m \u001b[38;5;28;01mdef\u001b[39;00m \u001b[38;5;21madd\u001b[39m(a,b):\n",
      "\u001b[1;31mNameError\u001b[0m: name 'add' is not defined"
     ]
    }
   ],
   "source": [
    "c=add(2,4)\n",
    "print(c)\n",
    "def add(a,b):\n",
    "    c=a+b\n",
    "    return c"
   ]
  },
  {
   "cell_type": "code",
   "execution_count": 6,
   "id": "7c7e79f7",
   "metadata": {},
   "outputs": [
    {
     "name": "stdout",
     "output_type": "stream",
     "text": [
      "{'boy': 30}\n"
     ]
    }
   ],
   "source": [
    "data={\"anam\":40,\"boy\":30}\n",
    "x=data.pop(\"anam\")\n",
    "print(data)\n"
   ]
  },
  {
   "cell_type": "code",
   "execution_count": 17,
   "id": "27a877f9",
   "metadata": {},
   "outputs": [
    {
     "ename": "SyntaxError",
     "evalue": "invalid syntax (524700667.py, line 2)",
     "output_type": "error",
     "traceback": [
      "\u001b[1;36m  Input \u001b[1;32mIn [17]\u001b[1;36m\u001b[0m\n\u001b[1;33m    x=data.del(\"anam\")\u001b[0m\n\u001b[1;37m           ^\u001b[0m\n\u001b[1;31mSyntaxError\u001b[0m\u001b[1;31m:\u001b[0m invalid syntax\n"
     ]
    }
   ],
   "source": [
    "data={\"anam\":40,\"boy\":30,\"asif\":80}\n",
    "x=data.del(\"anam\")\n",
    "print(data)\n"
   ]
  },
  {
   "cell_type": "code",
   "execution_count": 2,
   "id": "8114c02a",
   "metadata": {},
   "outputs": [
    {
     "name": "stdout",
     "output_type": "stream",
     "text": [
      "{1, 2, 3, 4}\n",
      "[1, 2, 3, 4]\n"
     ]
    }
   ],
   "source": [
    "value=[1,1,2,3,4,3]\n",
    "a=set(value)\n",
    "print(a)\n",
    "b=list(a)\n",
    "print(b)\n",
    "\n",
    "\n",
    "\n",
    "\n",
    "# print(value[1:5])\n",
    "\n",
    "\n",
    "\n"
   ]
  },
  {
   "cell_type": "markdown",
   "id": "c09a2754",
   "metadata": {},
   "source": [
    "# task (*)"
   ]
  },
  {
   "cell_type": "code",
   "execution_count": 57,
   "id": "f64383a0",
   "metadata": {},
   "outputs": [
    {
     "name": "stdout",
     "output_type": "stream",
     "text": [
      "* \n",
      "* * \n",
      "* * * \n",
      "* * * * \n",
      "* * * * * \n"
     ]
    }
   ],
   "source": [
    "# (1)\n",
    "for i in range(5):\n",
    "    for j in range(i+1):\n",
    "        print(\"*\",end=\" \")\n",
    "    print(\"\")\n",
    "    "
   ]
  },
  {
   "cell_type": "code",
   "execution_count": null,
   "id": "cd4fdbcc",
   "metadata": {},
   "outputs": [],
   "source": []
  },
  {
   "cell_type": "code",
   "execution_count": 55,
   "id": "4d7d73e2",
   "metadata": {},
   "outputs": [
    {
     "name": "stdout",
     "output_type": "stream",
     "text": [
      "Enter number of rows to be displayed:7\n",
      "* \n",
      "* * \n",
      "* * * \n",
      "* * * * \n",
      "* * * * * \n",
      "* * * * * * \n",
      "* * * * * * * \n"
     ]
    }
   ],
   "source": [
    "n=int(input(\"Enter number of rows to be displayed:\"))\n",
    "\n",
    "for i in range(n):\n",
    "    for j in range(i+1):\n",
    "        print(\"*\",end=\" \")\n",
    "    print(\"\")\n",
    "  "
   ]
  },
  {
   "cell_type": "code",
   "execution_count": 5,
   "id": "1778b20f",
   "metadata": {},
   "outputs": [
    {
     "name": "stdout",
     "output_type": "stream",
     "text": [
      "* * * * * \n",
      "* * * * \n",
      "* * * \n",
      "* * \n",
      "* \n"
     ]
    }
   ],
   "source": [
    "# (2)reverse star pattern\n",
    "\n",
    "for i in range(5,0,-1):\n",
    "    for j in range(i,0,-1):\n",
    "        print(\"*\",end=\" \")\n",
    "    print(\"\")    \n"
   ]
  },
  {
   "cell_type": "code",
   "execution_count": 7,
   "id": "9848d024",
   "metadata": {},
   "outputs": [
    {
     "name": "stdout",
     "output_type": "stream",
     "text": [
      "* * * * * \n",
      "* * * * \n",
      "* * * \n",
      "* * \n",
      "* \n"
     ]
    }
   ],
   "source": [
    "# (2)minhaj decreasing triangle patteren\n",
    "\n",
    "n=5\n",
    "for i in range(n):\n",
    "    for j in range(i,n):\n",
    "        print(\"*\",end=\" \")\n",
    "    print()    \n",
    "    "
   ]
  },
  {
   "cell_type": "code",
   "execution_count": 5,
   "id": "45fceedd",
   "metadata": {},
   "outputs": [
    {
     "name": "stdout",
     "output_type": "stream",
     "text": [
      "* * * * * \n",
      "* * * * * \n",
      "* * * * * \n",
      "* * * * * \n",
      "* * * * * \n"
     ]
    }
   ],
   "source": [
    "# (3)square patteren\n",
    "n=5\n",
    "for i in range(n):\n",
    "    for j in range(n):\n",
    "        print(\"*\",end=\" \")\n",
    "    print()    \n"
   ]
  },
  {
   "cell_type": "code",
   "execution_count": 18,
   "id": "f499e941",
   "metadata": {},
   "outputs": [
    {
     "name": "stdout",
     "output_type": "stream",
     "text": [
      "          * \n",
      "        * * \n",
      "      * * * \n",
      "    * * * * \n",
      "  * * * * * \n"
     ]
    }
   ],
   "source": [
    "# (4)right sided triangle\n",
    "n=5\n",
    "for i in range(n):\n",
    "    for j in range(i,n):\n",
    "        print(' ',end=\" \")\n",
    "    for j in range(i+1):\n",
    "        print(\"*\",end=\" \")\n",
    "    print(\"\")     \n",
    "\n"
   ]
  },
  {
   "cell_type": "code",
   "execution_count": 28,
   "id": "7f6131ca",
   "metadata": {},
   "outputs": [
    {
     "name": "stdout",
     "output_type": "stream",
     "text": [
      "  * * * * * \n",
      "    * * * * \n",
      "      * * * \n",
      "        * * \n",
      "          * \n"
     ]
    }
   ],
   "source": [
    "# (5) right sided decreasing triangle\n",
    "\n",
    "n=5\n",
    "for i in range(n):\n",
    "    for j in range(i+1):\n",
    "        print(\" \",end=\" \")\n",
    "    for j in range(i,n):\n",
    "        print(\"*\",end=\" \")\n",
    "    print()    \n",
    "    "
   ]
  },
  {
   "cell_type": "code",
   "execution_count": 41,
   "id": "dcfd5185",
   "metadata": {},
   "outputs": [
    {
     "name": "stdout",
     "output_type": "stream",
     "text": [
      "          * \n",
      "        * * * \n",
      "      * * * * * \n",
      "    * * * * * * * \n",
      "  * * * * * * * * * \n"
     ]
    }
   ],
   "source": [
    "# (8)hill patteren\n",
    "\n",
    "n=5\n",
    "for i in range(n):\n",
    "    for j in range(i,n):\n",
    "        print(\" \",end=\" \")\n",
    "    for j in range(i+0):\n",
    "        print(\"*\",end=\" \")\n",
    "    for j in range(i+1):\n",
    "        print(\"*\",end=\" \")\n",
    "    print()    "
   ]
  },
  {
   "cell_type": "code",
   "execution_count": 43,
   "id": "a573fcfe",
   "metadata": {},
   "outputs": [
    {
     "name": "stdout",
     "output_type": "stream",
     "text": [
      "  * * * * * * * * * \n",
      "    * * * * * * * \n",
      "      * * * * * \n",
      "        * * * \n",
      "          * \n"
     ]
    }
   ],
   "source": [
    "# (9)\n",
    "\n",
    "n=5\n",
    "for i in range(n):\n",
    "    for j in range(i+1):\n",
    "        print(\" \",end=\" \")\n",
    "    for j in range(i,n-1):\n",
    "        print(\"*\",end=\" \")\n",
    "    for j in range(i,n):\n",
    "        print(\"*\",end=\" \")\n",
    "    print()    \n",
    "    "
   ]
  },
  {
   "cell_type": "code",
   "execution_count": 46,
   "id": "843e163f",
   "metadata": {},
   "outputs": [
    {
     "name": "stdout",
     "output_type": "stream",
     "text": [
      "1 \n",
      "1 1 \n",
      "1 1 1 \n",
      "1 1 1 1 \n",
      "1 1 1 1 1 \n"
     ]
    }
   ],
   "source": [
    "n=5\n",
    "for i in range(n):\n",
    "    for j in range(i+1):\n",
    "        print(\"1\",end=\" \")\n",
    "    print()    "
   ]
  },
  {
   "cell_type": "code",
   "execution_count": 50,
   "id": "ece65b3d",
   "metadata": {},
   "outputs": [
    {
     "name": "stdout",
     "output_type": "stream",
     "text": [
      "1 1 1 1 1 1 \n",
      "1 1 1 1 1 1 \n",
      "1 1 1 1 1 1 \n",
      "1 1 1 1 1 1 \n",
      "1 1 1 1 1 1 \n"
     ]
    }
   ],
   "source": [
    "n=5\n",
    "for i in range(n):\n",
    "    for j in range(n+1):\n",
    "        print(\"1\",end=\" \")\n",
    "    print()    \n",
    "    \n",
    "    \n",
    "\n"
   ]
  },
  {
   "cell_type": "markdown",
   "id": "c4ec8fea",
   "metadata": {},
   "source": [
    "# number pattern programm"
   ]
  },
  {
   "cell_type": "code",
   "execution_count": 69,
   "id": "297f4783",
   "metadata": {},
   "outputs": [
    {
     "name": "stdout",
     "output_type": "stream",
     "text": [
      "\n",
      "1 \n",
      "2 2 \n",
      "3 3 3 \n",
      "4 4 4 4 \n",
      "5 5 5 5 5 \n"
     ]
    }
   ],
   "source": [
    "for i in range(6):\n",
    "    for j in range(i):\n",
    "        print(i,end=\" \")\n",
    "    print()    \n"
   ]
  },
  {
   "cell_type": "code",
   "execution_count": 67,
   "id": "f5f5c554",
   "metadata": {},
   "outputs": [
    {
     "name": "stdout",
     "output_type": "stream",
     "text": [
      "5 5 5 5 5 \n",
      "4 4 4 4 \n",
      "3 3 3 \n",
      "2 2 \n",
      "1 \n"
     ]
    }
   ],
   "source": [
    "\n",
    "for i in range(5,0,-1):\n",
    "    for j in range(i):\n",
    "        print(i,end=\" \")\n",
    "    print()    "
   ]
  },
  {
   "cell_type": "code",
   "execution_count": 20,
   "id": "91b0089d",
   "metadata": {},
   "outputs": [
    {
     "name": "stdout",
     "output_type": "stream",
     "text": [
      "1 \n",
      "1 2 \n",
      "1 2 3 \n",
      "1 2 3 4 \n",
      "1 2 3 4 5 \n"
     ]
    }
   ],
   "source": [
    "for i in range(5):\n",
    "    for j in range(i+1):\n",
    "        print(j+1,end=\" \")\n",
    "    print()        "
   ]
  },
  {
   "cell_type": "code",
   "execution_count": 23,
   "id": "3a545cea",
   "metadata": {},
   "outputs": [
    {
     "name": "stdout",
     "output_type": "stream",
     "text": [
      "\n",
      "1 \n",
      "1 2 \n",
      "1 2 3 \n",
      "1 2 3 4 \n",
      "1 2 3 4 5 \n"
     ]
    }
   ],
   "source": [
    "for i in range(6):\n",
    "    for j in range(1,i+1):\n",
    "        print(j,end=\" \")\n",
    "    print()    "
   ]
  },
  {
   "cell_type": "code",
   "execution_count": 24,
   "id": "b858d6c0",
   "metadata": {},
   "outputs": [
    {
     "name": "stdout",
     "output_type": "stream",
     "text": [
      "1 2 3 4 5 \n",
      "1 2 3 4 \n",
      "1 2 3 \n",
      "1 2 \n",
      "1 \n"
     ]
    }
   ],
   "source": [
    "for i in range(5,0,-1):\n",
    "    for j in range(1,i+1):\n",
    "        print(j,end=\" \")\n",
    "    print()    "
   ]
  },
  {
   "cell_type": "code",
   "execution_count": 29,
   "id": "7e1e1dd3",
   "metadata": {},
   "outputs": [
    {
     "name": "stdout",
     "output_type": "stream",
     "text": [
      "1 \n",
      "2 3 \n",
      "4 5 6 \n",
      "7 8 9 10 \n"
     ]
    }
   ],
   "source": [
    "num=1\n",
    "for row in range(1,5):\n",
    "    for col in range(1,row+1):\n",
    "        print(num,end=\" \")\n",
    "        num=num+1\n",
    "    print()    \n",
    "        "
   ]
  },
  {
   "cell_type": "markdown",
   "id": "34b7340a",
   "metadata": {},
   "source": [
    "# ALPHABET PATTERN"
   ]
  },
  {
   "cell_type": "code",
   "execution_count": 34,
   "id": "e408e26f",
   "metadata": {},
   "outputs": [
    {
     "name": "stdout",
     "output_type": "stream",
     "text": [
      "A \n",
      "B C \n",
      "D E F \n",
      "G H I J \n",
      "K L M N O \n"
     ]
    }
   ],
   "source": [
    "n=5\n",
    "a=65\n",
    "for i in range(n):\n",
    "    for j in range(i+1):\n",
    "        print(chr(a),end=\" \")\n",
    "        a+=1\n",
    "    print()    "
   ]
  },
  {
   "cell_type": "code",
   "execution_count": 39,
   "id": "56375c65",
   "metadata": {},
   "outputs": [
    {
     "name": "stdout",
     "output_type": "stream",
     "text": [
      "103\n"
     ]
    }
   ],
   "source": [
    "k=ord(\"g\")\n",
    "print(k)"
   ]
  },
  {
   "cell_type": "code",
   "execution_count": null,
   "id": "8df1ee77",
   "metadata": {},
   "outputs": [],
   "source": []
  },
  {
   "cell_type": "code",
   "execution_count": null,
   "id": "d3e17679",
   "metadata": {},
   "outputs": [],
   "source": []
  },
  {
   "cell_type": "code",
   "execution_count": null,
   "id": "d52e6f49",
   "metadata": {},
   "outputs": [],
   "source": []
  },
  {
   "cell_type": "code",
   "execution_count": null,
   "id": "f4659606",
   "metadata": {},
   "outputs": [],
   "source": []
  },
  {
   "cell_type": "markdown",
   "id": "f27d01b3",
   "metadata": {},
   "source": [
    "# functions task"
   ]
  },
  {
   "cell_type": "code",
   "execution_count": null,
   "id": "75bb489c",
   "metadata": {},
   "outputs": [],
   "source": [
    "# Write a Python function to find the Max of three numbers.(1)\n",
    "\n",
    "n1=int(input(\"enter number\")) \n",
    "n2=int(input(\"enter number\"))\n",
    "n3=int(input(\"enter number\"))\n",
    "\n",
    "def max():\n",
    "    \n",
    "    if(n1>=n2) and (n1>=n3):\n",
    "\n",
    "        l=n1\n",
    "\n",
    "    elif(n2>=n1) and (n2>=n3):\n",
    "\n",
    "         l=n2\n",
    "\n",
    "    else:\n",
    "\n",
    "         l=n3\n",
    "\n",
    "    print(\"Largest number among  the three is\",l)\n",
    "\n",
    "max()"
   ]
  },
  {
   "cell_type": "code",
   "execution_count": 1,
   "id": "3a24e1cf",
   "metadata": {},
   "outputs": [
    {
     "name": "stdout",
     "output_type": "stream",
     "text": [
      "enter number7\n",
      "enter number5\n",
      "sum of given number: 12\n",
      "subtraction of given number: 2\n",
      "multiplicationof given number: 35\n"
     ]
    }
   ],
   "source": [
    "# define a function that accepts 2 values and return its sum, subtraction and multiplication..(2)\n",
    "\n",
    "a=int(input(\"enter number\"))\n",
    "b=int(input(\"enter number\"))\n",
    "\n",
    "def add (a,b):\n",
    "    c=a+b\n",
    "    d=a-b\n",
    "    e=a*b\n",
    "    print(\"sum of given number:\",c)\n",
    "    print(\"subtraction of given number:\",d)\n",
    "    print(\"multiplicationof given number:\",e)\n",
    "add(a,b)    "
   ]
  },
  {
   "cell_type": "code",
   "execution_count": 18,
   "id": "514bd2e4",
   "metadata": {},
   "outputs": [
    {
     "name": "stdout",
     "output_type": "stream",
     "text": [
      "24\n"
     ]
    }
   ],
   "source": [
    "# .Write a Python function to multiply all the numbers in a list.(3)\n",
    "# traversal\n",
    "list=[3,2,4]\n",
    "result=1\n",
    "for x in list:\n",
    "    result=result*x\n",
    "print(result)    \n",
    "    "
   ]
  },
  {
   "cell_type": "code",
   "execution_count": 20,
   "id": "8303cc4c",
   "metadata": {},
   "outputs": [
    {
     "name": "stdout",
     "output_type": "stream",
     "text": [
      "enter a number:2\n",
      "factorial= 2\n"
     ]
    }
   ],
   "source": [
    "#.Write a Python function to calculate the factorial of a number (a non-negative integer). (4)\n",
    "#The function accepts the number as an argument\n",
    "\n",
    "i=int(input(\"enter a number:\"))\n",
    "fac=1\n",
    "while i > 0:\n",
    "    fac=fac*i\n",
    "    i=i-1\n",
    "print(\"factorial=\",fac)\n"
   ]
  },
  {
   "cell_type": "code",
   "execution_count": 17,
   "id": "eafe110f",
   "metadata": {},
   "outputs": [
    {
     "name": "stdout",
     "output_type": "stream",
     "text": [
      "120\n"
     ]
    }
   ],
   "source": [
    "# factorial using for loop\n",
    "\n",
    "def fact(number):\n",
    "    result=1\n",
    "    for i in range(1,number+1):\n",
    "        result=result*i\n",
    "#         result*=i   \n",
    "    print(result)     \n",
    "fact(5)        \n",
    "    "
   ]
  },
  {
   "cell_type": "code",
   "execution_count": 1,
   "id": "77dd20ca",
   "metadata": {},
   "outputs": [
    {
     "name": "stdout",
     "output_type": "stream",
     "text": [
      "[0, 1, 4, 9, 16, 25, 36, 49, 64, 81, 100, 121, 144, 169, 196, 225, 256, 289, 324, 361, 400, 441, 484, 529, 576, 625, 676, 729, 784, 841]\n"
     ]
    }
   ],
   "source": [
    "# Write a Python function to create and print a list where \n",
    "# the values are square\n",
    "# of numbers between 1 and 30 (both included).(5)\n",
    "\n",
    "def printValues():\n",
    "    l = list()\n",
    "    for i in range(0,30):\n",
    "        l.append(i**2)\n",
    "    print(l)\n",
    "printValues()\n",
    "\n",
    "\n"
   ]
  },
  {
   "cell_type": "code",
   "execution_count": 12,
   "id": "14067c28",
   "metadata": {},
   "outputs": [
    {
     "name": "stdout",
     "output_type": "stream",
     "text": [
      "enter any string:uygbn\n",
      "lower count: 5\n",
      "upper count: 0\n"
     ]
    }
   ],
   "source": [
    "# 6.Write a Python function that accepts a string and calculate the number \n",
    "# of upper case letters and lower case letter\n",
    "n=str(input(\"enter any string:\"))\n",
    "def function(n):\n",
    "    lowerc=0\n",
    "    upperc=0\n",
    "    for i in n:\n",
    "        if i .islower():\n",
    "            lowerc=lowerc+1\n",
    "        elif i .isupper():\n",
    "            upperc=upperc+1\n",
    "    print(\"lower count:\",lowerc)\n",
    "    print(\"upper count:\",upperc)\n",
    "# X=str(input(\"enter any string:\"))    \n",
    "function(n)    "
   ]
  },
  {
   "cell_type": "code",
   "execution_count": 13,
   "id": "fc0fdcbb",
   "metadata": {},
   "outputs": [
    {
     "name": "stdout",
     "output_type": "stream",
     "text": [
      "enter the number2\n",
      "student is ubsent\n"
     ]
    }
   ],
   "source": [
    "# 7.Define a function that accepts roll number and \n",
    "# returns whether the student is present or absent.\n",
    "\n",
    "a=[1,3,7,9,5,45,76,28]\n",
    "n=int(input(\"enter the number\"))\n",
    "def add(n):\n",
    "    if n in a:\n",
    "        print(\"student is present:\",n)\n",
    "    else :\n",
    "        print(\"student is ubsent\")\n",
    "add(n)       \n",
    "        \n",
    "        \n",
    "    "
   ]
  },
  {
   "cell_type": "code",
   "execution_count": 20,
   "id": "c6ab56e0",
   "metadata": {},
   "outputs": [
    {
     "name": "stdout",
     "output_type": "stream",
     "text": [
      "enter the string:wdfrtg\n",
      "total vowels: 0\n",
      "total consonant: 6\n"
     ]
    }
   ],
   "source": [
    "# .Define a function which counts vowels and consonant in a word.\n",
    "\n",
    "alpha=input('enter the string:')\n",
    "def add (a):\n",
    "    vowel1=\"a,e,i,o,u\"\n",
    "    vowel=0\n",
    "    cons=0\n",
    "    for i in alpha:\n",
    "        if i in vowel1:\n",
    "            vowel+=1\n",
    "        else:\n",
    "            cons+=1\n",
    "    print(\"total vowels:\",vowel)\n",
    "    print(\"total consonant:\",cons)\n",
    "    \n",
    "add(alpha)    \n",
    "        \n"
   ]
  },
  {
   "cell_type": "code",
   "execution_count": 1,
   "id": "100d29fc",
   "metadata": {},
   "outputs": [
    {
     "name": "stdout",
     "output_type": "stream",
     "text": [
      "Enter the radius of a circle:1\n",
      "Area of a circle = 3.14\n"
     ]
    }
   ],
   "source": [
    "# 9.Define a function that accepts radius and returns the area of a circle.\n",
    "\n",
    "PI = 3.14\n",
    "r = float(input(\"Enter the radius of a circle:\"))\n",
    "def area(r):\n",
    "    area=PI*r*r\n",
    "\n",
    "    print(\"Area of a circle =\",area)\n",
    "area(r)"
   ]
  },
  {
   "cell_type": "code",
   "execution_count": 3,
   "id": "5cf2be37",
   "metadata": {},
   "outputs": [
    {
     "name": "stdout",
     "output_type": "stream",
     "text": [
      "enter of circle1\n",
      "area 3.14\n"
     ]
    }
   ],
   "source": [
    "r=int(input(\"enter of circle\"))\n",
    "def circle(r):\n",
    "    print(\"area\",3.14*r**2)\n",
    "circle(r)    \n",
    "    \n",
    "    "
   ]
  },
  {
   "cell_type": "code",
   "execution_count": 6,
   "id": "0b241d18",
   "metadata": {},
   "outputs": [
    {
     "name": "stdout",
     "output_type": "stream",
     "text": [
      "hello world!\n"
     ]
    }
   ],
   "source": [
    "print(\"hello world!\")"
   ]
  },
  {
   "cell_type": "code",
   "execution_count": 19,
   "id": "7af98c0b",
   "metadata": {},
   "outputs": [
    {
     "name": "stdout",
     "output_type": "stream",
     "text": [
      "24\n",
      "correct\n"
     ]
    }
   ],
   "source": [
    "n=int(input())\n",
    "if n%2!=0:\n",
    "    print(\"weird\")\n",
    "# elif n%2==0 and n>=2 and n<=5:\n",
    "elif n%2==0 and n in range(2,5):\n",
    "    print(\"not wierd\")\n",
    "elif n%2==0 and n>20:\n",
    "    print(\"correct\")"
   ]
  },
  {
   "cell_type": "code",
   "execution_count": 21,
   "id": "c35bd544",
   "metadata": {},
   "outputs": [
    {
     "name": "stdout",
     "output_type": "stream",
     "text": [
      "104\n"
     ]
    }
   ],
   "source": [
    "k=ord(\"h\")\n",
    "print(k)"
   ]
  },
  {
   "cell_type": "code",
   "execution_count": 22,
   "id": "4cdfec1c",
   "metadata": {},
   "outputs": [
    {
     "name": "stdout",
     "output_type": "stream",
     "text": [
      "112\n"
     ]
    }
   ],
   "source": [
    "k=ord(\"p\")\n",
    "print(k)"
   ]
  },
  {
   "cell_type": "code",
   "execution_count": 2,
   "id": "a32f21d1",
   "metadata": {},
   "outputs": [
    {
     "name": "stdout",
     "output_type": "stream",
     "text": [
      "enter number1\n",
      "Weird\n"
     ]
    }
   ],
   "source": []
  },
  {
   "cell_type": "code",
   "execution_count": 2,
   "id": "242869d5",
   "metadata": {},
   "outputs": [
    {
     "name": "stdout",
     "output_type": "stream",
     "text": [
      "first\n",
      "second\n",
      "third\n"
     ]
    }
   ],
   "source": [
    "def firstfunc():\n",
    "    \n",
    "    print(\"first\")\n",
    "    secondfunc()\n",
    "    \n",
    "def secondfunc():   \n",
    "    print(\"second\")\n",
    "    thirdfunc()\n",
    "    \n",
    "def thirdfunc():\n",
    "    print(\"third\")\n",
    "    \n",
    "firstfunc()    \n",
    "\n",
    "    "
   ]
  },
  {
   "cell_type": "code",
   "execution_count": 9,
   "id": "db445609",
   "metadata": {},
   "outputs": [
    {
     "name": "stdout",
     "output_type": "stream",
     "text": [
      "The_Living_World=1\n",
      "Biological_Classification=2\n",
      "Plant_Kingdom=3\n",
      "Animal_Kingdom=4\n",
      "Morphology_Of_Flowering_Plants=5\n",
      "Anatomy_Of_Flowering_Plants=6\n",
      "Structural_Organisation_In_Animals=7\n",
      "Cell_The_Unit_Of_Life=8\n",
      "Biomolecules=9\n",
      "Cell_Cycle_And_Cell_Division=10\n",
      "Transport_In_Plants=11\n",
      "Mineral_Nutrition=12\n",
      "Photosynthesis_In_Higher_Plants=13\n",
      "Respiration_In_Plants=14\n",
      "Plant_Growth_And_Development=15\n",
      "Digestion_And_Absorption=16\n",
      "Breathing_And_Exchange_Of_Gases=17\n",
      "Body_Fluids_And_Circulation=18\n",
      "Excretory_Products_And_Their_Elimination=19\n",
      "Locomotion_And_Movement=20\n",
      "Neural_Control_And_Coordination=21\n",
      "Chemical_Coordination_And_Integration=22\n",
      "Reproduction_In_Organisms=23\n",
      "Sexual_Reproduction_In_Flowering_Plants=24\n",
      "Human_Reproduction=25\n",
      "Reproductive_Health=26\n",
      "Principles_Of_Inheritance_And_Variation=27\n",
      "Molecular_Basis_Of_Inheritance=28\n",
      "Evolution=29\n",
      "Human_Health_And_Disease=30\n",
      "Strategies_For_Enhancement_In_Food_Production=31\n",
      "Microbes_In_Human_Welfare=32\n",
      "Biotechnology_Principles_And_Processes=33\n",
      "Biotechnology_And_Its_Applications=34\n",
      "Organisms_And_Populations=35\n",
      "Ecosystem=36\n",
      "Biodiversity_And_Conservation=37\n",
      "Environmental_Issues=38\n"
     ]
    }
   ],
   "source": [
    "count=0\n",
    "f = open(\"Biology.txt\",\"r\")\n",
    "f2 = open(\"newfile.txt\",\"w\")\n",
    "\n",
    "for x in f:\n",
    "    a=x.replace(\" \",\"_\").strip()\n",
    "    count+=1\n",
    "    b=a+\"=\"+ str(count)\n",
    "    f2.write(b)\n",
    "    print(b)\n",
    "\n",
    "    "
   ]
  },
  {
   "cell_type": "code",
   "execution_count": 9,
   "id": "d0a5c1c1",
   "metadata": {},
   "outputs": [
    {
     "name": "stdout",
     "output_type": "stream",
     "text": [
      "enter number12\n"
     ]
    },
    {
     "ename": "AttributeError",
     "evalue": "'int' object has no attribute 'index'",
     "output_type": "error",
     "traceback": [
      "\u001b[1;31m---------------------------------------------------------------------------\u001b[0m",
      "\u001b[1;31mAttributeError\u001b[0m                            Traceback (most recent call last)",
      "Input \u001b[1;32mIn [9]\u001b[0m, in \u001b[0;36m<cell line: 2>\u001b[1;34m()\u001b[0m\n\u001b[0;32m      1\u001b[0m a\u001b[38;5;241m=\u001b[39m\u001b[38;5;28mint\u001b[39m(\u001b[38;5;28minput\u001b[39m(\u001b[38;5;124m\"\u001b[39m\u001b[38;5;124menter number\u001b[39m\u001b[38;5;124m\"\u001b[39m))\n\u001b[1;32m----> 2\u001b[0m x\u001b[38;5;241m=\u001b[39m\u001b[43ma\u001b[49m\u001b[38;5;241;43m.\u001b[39;49m\u001b[43mindex\u001b[49m()\n",
      "\u001b[1;31mAttributeError\u001b[0m: 'int' object has no attribute 'index'"
     ]
    }
   ],
   "source": [
    "a=int(input(\"enter number\"))\n",
    "for i in a()"
   ]
  },
  {
   "cell_type": "code",
   "execution_count": 5,
   "id": "b4d26878",
   "metadata": {},
   "outputs": [
    {
     "name": "stdout",
     "output_type": "stream",
     "text": [
      "[2, 0]\n",
      "[0, 2]\n"
     ]
    }
   ],
   "source": [
    "num=[2,7,11,15]\n",
    "target=13\n",
    "for i in range(len(num)):\n",
    "    for j in range(len(num)):\n",
    "        if num[j]+ num[i]==target:\n",
    "            a=[j,i]\n",
    "            print(list(a))            \n",
    "            "
   ]
  },
  {
   "cell_type": "code",
   "execution_count": null,
   "id": "1e6503eb",
   "metadata": {},
   "outputs": [],
   "source": [
    "number=int(input(\"enter number\"))\n",
    "if number%2==1:\n",
    "    print(\"odd number\")\n",
    "else:\n",
    "    print(\"even number\")"
   ]
  },
  {
   "cell_type": "code",
   "execution_count": 14,
   "id": "bbcb3d84",
   "metadata": {},
   "outputs": [
    {
     "ename": "SyntaxError",
     "evalue": "invalid syntax (3787559877.py, line 2)",
     "output_type": "error",
     "traceback": [
      "\u001b[1;36m  Input \u001b[1;32mIn [14]\u001b[1;36m\u001b[0m\n\u001b[1;33m    i**2 for i in n:\u001b[0m\n\u001b[1;37m         ^\u001b[0m\n\u001b[1;31mSyntaxError\u001b[0m\u001b[1;31m:\u001b[0m invalid syntax\n"
     ]
    }
   ],
   "source": [
    "n=int(input(\"enter number\"))\n",
    "if n ** 2:\n",
    "    print\n",
    "    "
   ]
  },
  {
   "cell_type": "code",
   "execution_count": null,
   "id": "6f595338",
   "metadata": {},
   "outputs": [],
   "source": [
    "# a=[1,2,3,4,5]\n",
    "n=int(input(\"enter number\"))\n",
    "b=list(map(lambda x:x*x*2,a))\n",
    "\n",
    "\n",
    "print(b)"
   ]
  },
  {
   "cell_type": "code",
   "execution_count": 7,
   "id": "9e7bcfbd",
   "metadata": {},
   "outputs": [
    {
     "name": "stdout",
     "output_type": "stream",
     "text": [
      "5\n"
     ]
    },
    {
     "ename": "TypeError",
     "evalue": "'int' object is not iterable",
     "output_type": "error",
     "traceback": [
      "\u001b[1;31m---------------------------------------------------------------------------\u001b[0m",
      "\u001b[1;31mTypeError\u001b[0m                                 Traceback (most recent call last)",
      "Input \u001b[1;32mIn [7]\u001b[0m, in \u001b[0;36m<cell line: 2>\u001b[1;34m()\u001b[0m\n\u001b[0;32m      1\u001b[0m n\u001b[38;5;241m=\u001b[39m\u001b[38;5;28mint\u001b[39m(\u001b[38;5;28minput\u001b[39m(\u001b[38;5;124m\"\u001b[39m\u001b[38;5;124m\"\u001b[39m))\n\u001b[1;32m----> 2\u001b[0m b\u001b[38;5;241m=\u001b[39m\u001b[38;5;28mlist\u001b[39m(\u001b[38;5;28;43mmap\u001b[39;49m\u001b[43m(\u001b[49m\u001b[38;5;28;43;01mlambda\u001b[39;49;00m\u001b[43m \u001b[49m\u001b[43mx\u001b[49m\u001b[43m:\u001b[49m\u001b[43mx\u001b[49m\u001b[38;5;241;43m*\u001b[39;49m\u001b[43mx\u001b[49m\u001b[43m,\u001b[49m\u001b[43mn\u001b[49m\u001b[43m)\u001b[49m)\n\u001b[0;32m      3\u001b[0m \u001b[38;5;28mprint\u001b[39m(b)\n",
      "\u001b[1;31mTypeError\u001b[0m: 'int' object is not iterable"
     ]
    }
   ],
   "source": [
    "n=int(input(\"\"))\n",
    "b=list(map(lambda x:x*x,n))\n",
    "print(b)\n"
   ]
  },
  {
   "cell_type": "code",
   "execution_count": 2,
   "id": "a6c4ffd1",
   "metadata": {},
   "outputs": [
    {
     "name": "stdout",
     "output_type": "stream",
     "text": [
      "enter number2\n"
     ]
    },
    {
     "ename": "TypeError",
     "evalue": "'int' object is not iterable",
     "output_type": "error",
     "traceback": [
      "\u001b[1;31m---------------------------------------------------------------------------\u001b[0m",
      "\u001b[1;31mTypeError\u001b[0m                                 Traceback (most recent call last)",
      "Input \u001b[1;32mIn [2]\u001b[0m, in \u001b[0;36m<cell line: 2>\u001b[1;34m()\u001b[0m\n\u001b[0;32m      1\u001b[0m a\u001b[38;5;241m=\u001b[39m\u001b[38;5;28mint\u001b[39m(\u001b[38;5;28minput\u001b[39m(\u001b[38;5;124m\"\u001b[39m\u001b[38;5;124menter number\u001b[39m\u001b[38;5;124m\"\u001b[39m))\n\u001b[1;32m----> 2\u001b[0m \u001b[38;5;28;01mfor\u001b[39;00m i \u001b[38;5;129;01min\u001b[39;00m a\u001b[38;5;241m*\u001b[39ma\u001b[38;5;241m*\u001b[39m\u001b[38;5;241m2\u001b[39m:\n\u001b[0;32m      3\u001b[0m     \u001b[38;5;28mprint\u001b[39m(i)\n",
      "\u001b[1;31mTypeError\u001b[0m: 'int' object is not iterable"
     ]
    }
   ],
   "source": [
    "a=int(input(\"enter number\"))\n",
    "for i in a*a*2:\n",
    "    print(i)"
   ]
  },
  {
   "cell_type": "code",
   "execution_count": 6,
   "id": "c12ea177",
   "metadata": {},
   "outputs": [
    {
     "name": "stdout",
     "output_type": "stream",
     "text": [
      "enter number3\n"
     ]
    },
    {
     "ename": "TypeError",
     "evalue": "unsupported operand type(s) for *: 'function' and 'function'",
     "output_type": "error",
     "traceback": [
      "\u001b[1;31m---------------------------------------------------------------------------\u001b[0m",
      "\u001b[1;31mTypeError\u001b[0m                                 Traceback (most recent call last)",
      "Input \u001b[1;32mIn [6]\u001b[0m, in \u001b[0;36m<cell line: 4>\u001b[1;34m()\u001b[0m\n\u001b[0;32m      2\u001b[0m \u001b[38;5;28;01mdef\u001b[39;00m \u001b[38;5;21mnumber\u001b[39m(x):\n\u001b[0;32m      3\u001b[0m     \u001b[38;5;28;01mreturn\u001b[39;00m number\u001b[38;5;241m*\u001b[39mnumber\u001b[38;5;241m*\u001b[39m\u001b[38;5;241m2\u001b[39m\n\u001b[1;32m----> 4\u001b[0m \u001b[38;5;28mprint\u001b[39m(\u001b[43mnumber\u001b[49m\u001b[43m(\u001b[49m\u001b[38;5;241;43m3\u001b[39;49m\u001b[43m)\u001b[49m)\n",
      "Input \u001b[1;32mIn [6]\u001b[0m, in \u001b[0;36mnumber\u001b[1;34m(x)\u001b[0m\n\u001b[0;32m      2\u001b[0m \u001b[38;5;28;01mdef\u001b[39;00m \u001b[38;5;21mnumber\u001b[39m(x):\n\u001b[1;32m----> 3\u001b[0m     \u001b[38;5;28;01mreturn\u001b[39;00m \u001b[43mnumber\u001b[49m\u001b[38;5;241;43m*\u001b[39;49m\u001b[43mnumber\u001b[49m\u001b[38;5;241m*\u001b[39m\u001b[38;5;241m2\u001b[39m\n",
      "\u001b[1;31mTypeError\u001b[0m: unsupported operand type(s) for *: 'function' and 'function'"
     ]
    }
   ],
   "source": [
    "number=int(input(\"enter number\"))\n",
    "def number(x):\n",
    "    return number*number*2\n",
    "print(number(3))    \n"
   ]
  },
  {
   "cell_type": "code",
   "execution_count": null,
   "id": "567949fa",
   "metadata": {},
   "outputs": [],
   "source": [
    "a={'a':45,'b':65,'A':5}\n",
    "\n"
   ]
  },
  {
   "cell_type": "code",
   "execution_count": null,
   "id": "d613df84",
   "metadata": {},
   "outputs": [],
   "source": []
  }
 ],
 "metadata": {
  "kernelspec": {
   "display_name": "Python 3 (ipykernel)",
   "language": "python",
   "name": "python3"
  },
  "language_info": {
   "codemirror_mode": {
    "name": "ipython",
    "version": 3
   },
   "file_extension": ".py",
   "mimetype": "text/x-python",
   "name": "python",
   "nbconvert_exporter": "python",
   "pygments_lexer": "ipython3",
   "version": "3.10.4"
  }
 },
 "nbformat": 4,
 "nbformat_minor": 5
}
