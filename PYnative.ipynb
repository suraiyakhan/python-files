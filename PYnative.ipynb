{
 "cells": [
  {
   "cell_type": "code",
   "execution_count": 8,
   "id": "3db81ef6",
   "metadata": {},
   "outputs": [
    {
     "name": "stdout",
     "output_type": "stream",
     "text": [
      "280\n"
     ]
    }
   ],
   "source": [
    "# Explicit multiline statement\n",
    "\n",
    "addition = 10+20+\\\n",
    "           30+40+\\\n",
    "           50+60+70\n",
    "print(addition)        "
   ]
  },
  {
   "cell_type": "code",
   "execution_count": 10,
   "id": "ed19cf9e",
   "metadata": {},
   "outputs": [],
   "source": [
    "# multiple statement in single line using semicolon"
   ]
  },
  {
   "cell_type": "code",
   "execution_count": 18,
   "id": "0fc32e97",
   "metadata": {},
   "outputs": [
    {
     "name": "stdout",
     "output_type": "stream",
     "text": [
      "60\n"
     ]
    }
   ],
   "source": [
    "l=2;b=6;a=5\n",
    "print(l*b*a)"
   ]
  },
  {
   "cell_type": "code",
   "execution_count": 19,
   "id": "c723fa88",
   "metadata": {},
   "outputs": [],
   "source": [
    "# we should need 4 spaces per indentation level"
   ]
  },
  {
   "cell_type": "code",
   "execution_count": 25,
   "id": "24bc235d",
   "metadata": {},
   "outputs": [
    {
     "name": "stdout",
     "output_type": "stream",
     "text": [
      "num1 is greater than num2\n"
     ]
    }
   ],
   "source": [
    "num1 = 200\n",
    "num2 = 100\n",
    "if num1 > num2:\n",
    "    print(\"num1 is greater than num2\")\n",
    "elif num2 > num1:\n",
    "    print(\"num2 is greater than num1\")\n",
    "else:\n",
    "    print(\"both numbers are equal\")\n",
    "    \n",
    "          "
   ]
  },
  {
   "cell_type": "code",
   "execution_count": 26,
   "id": "aecc68bc",
   "metadata": {},
   "outputs": [],
   "source": [
    "# implicit continuation"
   ]
  },
  {
   "cell_type": "code",
   "execution_count": 27,
   "id": "215e0803",
   "metadata": {},
   "outputs": [],
   "source": [
    "a=(10+20+\n",
    "  30+40+\n",
    "  40+50)"
   ]
  },
  {
   "cell_type": "code",
   "execution_count": 30,
   "id": "09baf1f3",
   "metadata": {},
   "outputs": [
    {
     "ename": "ZeroDivisionError",
     "evalue": "division by zero",
     "output_type": "error",
     "traceback": [
      "\u001b[1;31m---------------------------------------------------------------------------\u001b[0m",
      "\u001b[1;31mZeroDivisionError\u001b[0m                         Traceback (most recent call last)",
      "Input \u001b[1;32mIn [30]\u001b[0m, in \u001b[0;36m<cell line: 1>\u001b[1;34m()\u001b[0m\n\u001b[1;32m----> 1\u001b[0m \u001b[38;5;28mprint\u001b[39m(\u001b[38;5;241;43m2\u001b[39;49m\u001b[38;5;241;43m/\u001b[39;49m\u001b[38;5;241;43m0\u001b[39;49m)\n",
      "\u001b[1;31mZeroDivisionError\u001b[0m: division by zero"
     ]
    }
   ],
   "source": [
    "# try statement in statement\n",
    "print(2/0)"
   ]
  },
  {
   "cell_type": "code",
   "execution_count": 36,
   "id": "d45869d8",
   "metadata": {},
   "outputs": [
    {
     "name": "stdout",
     "output_type": "stream",
     "text": [
      "12\n"
     ]
    }
   ],
   "source": [
    "x=2+10\n",
    "print(x)"
   ]
  },
  {
   "cell_type": "code",
   "execution_count": null,
   "id": "62d32b7f",
   "metadata": {},
   "outputs": [],
   "source": []
  }
 ],
 "metadata": {
  "kernelspec": {
   "display_name": "Python 3 (ipykernel)",
   "language": "python",
   "name": "python3"
  },
  "language_info": {
   "codemirror_mode": {
    "name": "ipython",
    "version": 3
   },
   "file_extension": ".py",
   "mimetype": "text/x-python",
   "name": "python",
   "nbconvert_exporter": "python",
   "pygments_lexer": "ipython3",
   "version": "3.10.4"
  }
 },
 "nbformat": 4,
 "nbformat_minor": 5
}
