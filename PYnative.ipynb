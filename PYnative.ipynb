{
 "cells": [
  {
   "cell_type": "code",
   "execution_count": 8,
   "id": "3db81ef6",
   "metadata": {},
   "outputs": [
    {
     "name": "stdout",
     "output_type": "stream",
     "text": [
      "280\n"
     ]
    }
   ],
   "source": [
    "# Explicit multiline statement\n",
    "\n",
    "addition = 10+20+\\\n",
    "           30+40+\\\n",
    "           50+60+70\n",
    "print(addition)        "
   ]
  },
  {
   "cell_type": "code",
   "execution_count": 10,
   "id": "ed19cf9e",
   "metadata": {},
   "outputs": [],
   "source": [
    "# multiple statement in single line using semicolon"
   ]
  },
  {
   "cell_type": "code",
   "execution_count": 18,
   "id": "0fc32e97",
   "metadata": {},
   "outputs": [
    {
     "name": "stdout",
     "output_type": "stream",
     "text": [
      "60\n"
     ]
    }
   ],
   "source": [
    "l=2;b=6;a=5\n",
    "print(l*b*a)"
   ]
  },
  {
   "cell_type": "code",
   "execution_count": 19,
   "id": "c723fa88",
   "metadata": {},
   "outputs": [],
   "source": [
    "# we should need 4 spaces per indentation level"
   ]
  },
  {
   "cell_type": "code",
   "execution_count": 25,
   "id": "24bc235d",
   "metadata": {},
   "outputs": [
    {
     "name": "stdout",
     "output_type": "stream",
     "text": [
      "num1 is greater than num2\n"
     ]
    }
   ],
   "source": [
    "num1 = 200\n",
    "num2 = 100\n",
    "if num1 > num2:\n",
    "    print(\"num1 is greater than num2\")\n",
    "elif num2 > num1:\n",
    "    print(\"num2 is greater than num1\")\n",
    "else:\n",
    "    print(\"both numbers are equal\")\n",
    "    \n",
    "          "
   ]
  },
  {
   "cell_type": "code",
   "execution_count": 26,
   "id": "aecc68bc",
   "metadata": {},
   "outputs": [],
   "source": [
    "# implicit continuation"
   ]
  },
  {
   "cell_type": "code",
   "execution_count": 27,
   "id": "215e0803",
   "metadata": {},
   "outputs": [],
   "source": [
    "a=(10+20+\n",
    "  30+40+\n",
    "  40+50)"
   ]
  },
  {
   "cell_type": "code",
   "execution_count": 4,
   "id": "09baf1f3",
   "metadata": {},
   "outputs": [
    {
     "ename": "ZeroDivisionError",
     "evalue": "division by zero",
     "output_type": "error",
     "traceback": [
      "\u001b[1;31m---------------------------------------------------------------------------\u001b[0m",
      "\u001b[1;31mZeroDivisionError\u001b[0m                         Traceback (most recent call last)",
      "Input \u001b[1;32mIn [4]\u001b[0m, in \u001b[0;36m<cell line: 2>\u001b[1;34m()\u001b[0m\n\u001b[0;32m      1\u001b[0m \u001b[38;5;66;03m# try statement in statement\u001b[39;00m\n\u001b[1;32m----> 2\u001b[0m \u001b[38;5;28mprint\u001b[39m(\u001b[38;5;241;43m2\u001b[39;49m\u001b[38;5;241;43m/\u001b[39;49m\u001b[38;5;241;43m0\u001b[39;49m)\n",
      "\u001b[1;31mZeroDivisionError\u001b[0m: division by zero"
     ]
    }
   ],
   "source": [
    "# try statement in statement\n",
    "print(2/0)"
   ]
  },
  {
   "cell_type": "code",
   "execution_count": 36,
   "id": "d45869d8",
   "metadata": {},
   "outputs": [
    {
     "name": "stdout",
     "output_type": "stream",
     "text": [
      "12\n"
     ]
    }
   ],
   "source": [
    "x=2+10\n",
    "print(x)"
   ]
  },
  {
   "cell_type": "code",
   "execution_count": 1,
   "id": "62d32b7f",
   "metadata": {},
   "outputs": [],
   "source": [
    "# return statement"
   ]
  },
  {
   "cell_type": "code",
   "execution_count": 6,
   "id": "6cc10e23",
   "metadata": {},
   "outputs": [
    {
     "name": "stdout",
     "output_type": "stream",
     "text": [
      "None\n"
     ]
    }
   ],
   "source": [
    "def add(num1,num2):\n",
    "    c= num1+num2\n",
    "c=add(5,2)\n",
    "print(c)"
   ]
  },
  {
   "cell_type": "code",
   "execution_count": 11,
   "id": "8f0ebaa2",
   "metadata": {},
   "outputs": [
    {
     "name": "stdout",
     "output_type": "stream",
     "text": [
      "7\n"
     ]
    }
   ],
   "source": [
    "'''uyfnmzxcvbn\n",
    "zxcvbn\n",
    "xcvbn\n",
    "cvbnm\n",
    "cvbnm'''\n",
    "\n",
    "c=2+5\n",
    "print(c)\n"
   ]
  },
  {
   "cell_type": "code",
   "execution_count": 1,
   "id": "a63f1037",
   "metadata": {},
   "outputs": [
    {
     "name": "stdout",
     "output_type": "stream",
     "text": [
      "['False', 'None', 'True', 'and', 'as', 'assert', 'async', 'await', 'break', 'class', 'continue', 'def', 'del', 'elif', 'else', 'except', 'finally', 'for', 'from', 'global', 'if', 'import', 'in', 'is', 'lambda', 'nonlocal', 'not', 'or', 'pass', 'raise', 'return', 'try', 'while', 'with', 'yield']\n"
     ]
    }
   ],
   "source": [
    "import keyword\n",
    "print(keyword.kwlist)"
   ]
  },
  {
   "cell_type": "code",
   "execution_count": 2,
   "id": "362f9a8c",
   "metadata": {},
   "outputs": [
    {
     "name": "stdout",
     "output_type": "stream",
     "text": [
      "\n",
      "Here is a list of the Python keywords.  Enter any keyword to get more help.\n",
      "\n",
      "False               class               from                or\n",
      "None                continue            global              pass\n",
      "True                def                 if                  raise\n",
      "and                 del                 import              return\n",
      "as                  elif                in                  try\n",
      "assert              else                is                  while\n",
      "async               except              lambda              with\n",
      "await               finally             nonlocal            yield\n",
      "break               for                 not                 \n",
      "\n"
     ]
    }
   ],
   "source": [
    "help(\"keywords\")"
   ]
  },
  {
   "cell_type": "code",
   "execution_count": 1,
   "id": "5cf1ec9f",
   "metadata": {},
   "outputs": [
    {
     "name": "stdout",
     "output_type": "stream",
     "text": [
      "The \"if\" statement\n",
      "******************\n",
      "\n",
      "The \"if\" statement is used for conditional execution:\n",
      "\n",
      "   if_stmt ::= \"if\" assignment_expression \":\" suite\n",
      "               (\"elif\" assignment_expression \":\" suite)*\n",
      "               [\"else\" \":\" suite]\n",
      "\n",
      "It selects exactly one of the suites by evaluating the expressions one\n",
      "by one until one is found to be true (see section Boolean operations\n",
      "for the definition of true and false); then that suite is executed\n",
      "(and no other part of the \"if\" statement is executed or evaluated).\n",
      "If all expressions are false, the suite of the \"else\" clause, if\n",
      "present, is executed.\n",
      "\n",
      "Related help topics: TRUTHVALUE\n",
      "\n",
      "None\n"
     ]
    }
   ],
   "source": [
    "print(help('if'))"
   ]
  },
  {
   "cell_type": "code",
   "execution_count": 13,
   "id": "731f2719",
   "metadata": {},
   "outputs": [
    {
     "name": "stdout",
     "output_type": "stream",
     "text": [
      "['_', 'case', 'match']\n"
     ]
    }
   ],
   "source": [
    "# import keyword\n",
    "\n",
    "# print(keyword.iskeyword('if'))\n",
    "# print(keyword.iskeyword('range'))\n",
    "import keyword\n",
    "# print(keyword.kwlist)\n",
    "print(keyword.softkwlist)\n"
   ]
  },
  {
   "cell_type": "code",
   "execution_count": 12,
   "id": "b6bb9ecd",
   "metadata": {},
   "outputs": [
    {
     "name": "stdout",
     "output_type": "stream",
     "text": [
      "True\n",
      "1932166103568\n",
      "1932166103568\n"
     ]
    }
   ],
   "source": [
    "a=10\n",
    "b=10\n",
    "print(a is b)\n",
    "print(id(a))\n",
    "print(id(b))"
   ]
  },
  {
   "cell_type": "code",
   "execution_count": 14,
   "id": "d58eda25",
   "metadata": {},
   "outputs": [],
   "source": [
    "# conditional keywords\n"
   ]
  },
  {
   "cell_type": "code",
   "execution_count": 18,
   "id": "7e889240",
   "metadata": {},
   "outputs": [
    {
     "name": "stdout",
     "output_type": "stream",
     "text": [
      "x is less than 40\n"
     ]
    }
   ],
   "source": [
    "x=50\n",
    "if x > 100:\n",
    "    print(\"x is greater than 100\")\n",
    "elif x >50:\n",
    "    print(\"x is greater than 50 and less than 100\")\n",
    "else:\n",
    "    print(\"x is less than 40\")"
   ]
  },
  {
   "cell_type": "code",
   "execution_count": 21,
   "id": "b691b983",
   "metadata": {},
   "outputs": [
    {
     "name": "stdout",
     "output_type": "stream",
     "text": [
      "Some Basic Concepts Of Chemistry\n",
      "Structure Of Atom\n",
      "Classification Of Elements And Periodicity In Properties\n",
      "Chemical Bonding And Molecular Structure\n",
      "States Of Matter\n",
      "Thermodynamics\n",
      "Equilibrium\n",
      "Redox Reactions\n",
      "Hydrogen\n",
      "The S Block Elements\n",
      "The P Block Elements\n",
      "Organic Chemistry\n",
      "Hydrocarbons\n",
      "Environmental Chemistry\n",
      "The Solid State\n",
      "Solutions\n",
      "Electrochemistry\n",
      "Chemical Kinetics\n",
      "Surface Chemistry\n",
      "General Principles And Processes Of Isolation Of Elements\n",
      "The D And F Block Elements\n",
      "Coordination Compounds\n",
      "Haloalkanes And Haloarenes\n",
      "Alcohols Phenols And Ethers\n",
      "Aldehydes Ketones And Carboxylic Acids\n",
      "Amines\n",
      "Biomolecules\n",
      "Polymers\n",
      "Chemistry In Everyday Life\n"
     ]
    }
   ],
   "source": [
    "with open('Chemistry.txt', 'r', encoding='utf-8') as fp:\n",
    "    # read sample.txt\n",
    "    print(fp.read())"
   ]
  },
  {
   "cell_type": "code",
   "execution_count": 8,
   "id": "8d0dac51",
   "metadata": {},
   "outputs": [
    {
     "name": "stdout",
     "output_type": "stream",
     "text": [
      "Some_Basic_Concepts_Of_Chemistry=1\n",
      "Structure_Of_Atom=2\n",
      "Classification_Of_Elements_And_Periodicity_In_Properties=3\n",
      "Chemical_Bonding_And_Molecular_Structure=4\n",
      "States_Of_Matter=5\n",
      "Thermodynamics=6\n",
      "Equilibrium=7\n",
      "Redox_Reactions=8\n",
      "Hydrogen=9\n",
      "The_S_Block_Elements=10\n",
      "The_P_Block_Elements=11\n",
      "Organic_Chemistry=12\n",
      "Hydrocarbons=13\n",
      "Environmental_Chemistry=14\n",
      "The_Solid_State=15\n",
      "Solutions=16\n",
      "Electrochemistry=17\n",
      "Chemical_Kinetics=18\n",
      "Surface_Chemistry=19\n",
      "General_Principles_And_Processes_Of_Isolation_Of_Elements=20\n",
      "The_D_And_F_Block_Elements=21\n",
      "Coordination_Compounds=22\n",
      "Haloalkanes_And_Haloarenes=23\n",
      "Alcohols_Phenols_And_Ethers=24\n",
      "Aldehydes_Ketones_And_Carboxylic_Acids=25\n",
      "Amines=26\n",
      "Biomolecules=27\n",
      "Polymers=28\n",
      "Chemistry_In_Everyday_Life=29\n"
     ]
    }
   ],
   "source": [
    "count=0\n",
    "f = open(\"Chemistry.txt\",\"r\")\n",
    "f2 = open(\"newfile.txt\",\"w\")\n",
    "\n",
    "for x in f:\n",
    "    a=x.replace(\" \",\"_\").strip()\n",
    "    count+=1\n",
    "    b=a+\"=\"+ str(count)\n",
    "    f2.write(b)\n",
    "    print(b)\n"
   ]
  },
  {
   "cell_type": "code",
   "execution_count": 10,
   "id": "d0be79dd",
   "metadata": {},
   "outputs": [
    {
     "name": "stdout",
     "output_type": "stream",
     "text": [
      "2022-07-26 12:14:18.102285\n"
     ]
    }
   ],
   "source": [
    "import datetime\n",
    "\n",
    "# get current datetime\n",
    "now = datetime.datetime.now()\n",
    "print(now)\n",
    "#  Run"
   ]
  },
  {
   "cell_type": "code",
   "execution_count": 13,
   "id": "6f00654c",
   "metadata": {},
   "outputs": [
    {
     "name": "stdout",
     "output_type": "stream",
     "text": [
      "2022-07-26 12:15:54.741648\n"
     ]
    }
   ],
   "source": [
    "# import only datetime class\n",
    "from datetime import datetime\n",
    "\n",
    "# get current datetime\n",
    "now = datetime.now()\n",
    "print(now)\n"
   ]
  },
  {
   "cell_type": "code",
   "execution_count": 17,
   "id": "8c23ebcd",
   "metadata": {},
   "outputs": [
    {
     "name": "stdout",
     "output_type": "stream",
     "text": [
      "2022-07-26 12:20:38.709930\n"
     ]
    }
   ],
   "source": [
    "import datetime\n",
    "now=datetime.datetime.now()\n",
    "print(now)"
   ]
  },
  {
   "cell_type": "code",
   "execution_count": 11,
   "id": "7a209797",
   "metadata": {},
   "outputs": [
    {
     "ename": "NameError",
     "evalue": "name 'keyword' is not defined",
     "output_type": "error",
     "traceback": [
      "\u001b[1;31m---------------------------------------------------------------------------\u001b[0m",
      "\u001b[1;31mNameError\u001b[0m                                 Traceback (most recent call last)",
      "Input \u001b[1;32mIn [11]\u001b[0m, in \u001b[0;36m<cell line: 5>\u001b[1;34m()\u001b[0m\n\u001b[0;32m      1\u001b[0m \u001b[38;5;66;03m# from datetime import datetime\u001b[39;00m\n\u001b[0;32m      2\u001b[0m \u001b[38;5;66;03m# now=datetime.now()\u001b[39;00m\n\u001b[0;32m      3\u001b[0m \u001b[38;5;66;03m# print(now)\u001b[39;00m\n\u001b[1;32m----> 5\u001b[0m \u001b[43mkeyword\u001b[49m\u001b[38;5;241m.\u001b[39msoftkwlist\n",
      "\u001b[1;31mNameError\u001b[0m: name 'keyword' is not defined"
     ]
    }
   ],
   "source": [
    "# from datetime import datetime\n",
    "# now=datetime.now()\n",
    "# print(now)\n",
    "\n",
    "keyword.softkwlist\n"
   ]
  },
  {
   "cell_type": "code",
   "execution_count": 22,
   "id": "eeb496c8",
   "metadata": {},
   "outputs": [
    {
     "name": "stdout",
     "output_type": "stream",
     "text": [
      "fgh\n",
      "5\n",
      "sdfghTEST\n"
     ]
    }
   ],
   "source": [
    "str='sdfgh'\n",
    "print(str[2:5])  \n",
    "print(len(str))  # 8\n",
    "print(str + \"TEST\")  # "
   ]
  },
  {
   "cell_type": "code",
   "execution_count": 23,
   "id": "7adfdd08",
   "metadata": {},
   "outputs": [],
   "source": [
    "# variable"
   ]
  },
  {
   "cell_type": "code",
   "execution_count": 24,
   "id": "d0f5c502",
   "metadata": {},
   "outputs": [
    {
     "name": "stdout",
     "output_type": "stream",
     "text": [
      "list\n"
     ]
    }
   ],
   "source": [
    "my_list =[10,20,20.5,'Python',100]\n",
    "# It will print only datatype of variable\n",
    "print(type(my_list).__name__) # list"
   ]
  },
  {
   "cell_type": "code",
   "execution_count": 25,
   "id": "87201e16",
   "metadata": {},
   "outputs": [
    {
     "name": "stdout",
     "output_type": "stream",
     "text": [
      "<class 'list'>\n"
     ]
    }
   ],
   "source": [
    "my_list =[10,20,20.5,'Python',100]\n",
    "# It will print only datatype of variable\n",
    "print(type(my_list)) # list"
   ]
  },
  {
   "cell_type": "code",
   "execution_count": 26,
   "id": "26bed7af",
   "metadata": {},
   "outputs": [
    {
     "name": "stdout",
     "output_type": "stream",
     "text": [
      "list\n"
     ]
    }
   ],
   "source": [
    "my_list =[10,20,20.5,'Python',100]\n",
    "# It will print only datatype of variable\n",
    "print(type(my_list).__name__) # list"
   ]
  },
  {
   "cell_type": "code",
   "execution_count": null,
   "id": "370c2b13",
   "metadata": {},
   "outputs": [],
   "source": []
  },
  {
   "cell_type": "code",
   "execution_count": 2,
   "id": "924e9574",
   "metadata": {},
   "outputs": [
    {
     "name": "stdout",
     "output_type": "stream",
     "text": [
      "(10, 20, 20, 40)\n"
     ]
    }
   ],
   "source": [
    "a = 10\n",
    "b = 20\n",
    "c = 20\n",
    "d = 40\n",
    "tuple1 = a, b, c, d # Packing tuple\n",
    "print(tuple1) # (10, 20, 20, 40)"
   ]
  },
  {
   "cell_type": "code",
   "execution_count": 5,
   "id": "b857cddf",
   "metadata": {},
   "outputs": [],
   "source": [
    "# Operators"
   ]
  },
  {
   "cell_type": "code",
   "execution_count": 6,
   "id": "89d3d3de",
   "metadata": {},
   "outputs": [
    {
     "name": "stdout",
     "output_type": "stream",
     "text": [
      "3\n"
     ]
    }
   ],
   "source": [
    "x = 15\n",
    "y = 4\n",
    "\n",
    "print(x % y)"
   ]
  },
  {
   "cell_type": "code",
   "execution_count": 15,
   "id": "c95c40a2",
   "metadata": {},
   "outputs": [
    {
     "name": "stdout",
     "output_type": "stream",
     "text": [
      "2364\n",
      "2364\n",
      "2364\n"
     ]
    }
   ],
   "source": [
    "import sys\n",
    "a=10\n",
    "b=10\n",
    "c=10\n",
    "print(sys.getrefcount(a))\n",
    "print(sys.getrefcount(b))\n",
    "print(sys.getrefcount(b))\n",
    "  "
   ]
  },
  {
   "cell_type": "code",
   "execution_count": 2,
   "id": "1a178445",
   "metadata": {},
   "outputs": [
    {
     "name": "stdout",
     "output_type": "stream",
     "text": [
      "125\n"
     ]
    }
   ],
   "source": [
    "x=5\n",
    "x**=3\n",
    "print(x)"
   ]
  },
  {
   "cell_type": "code",
   "execution_count": 3,
   "id": "2e0a963d",
   "metadata": {},
   "outputs": [],
   "source": [
    "# logical operator AND"
   ]
  },
  {
   "cell_type": "code",
   "execution_count": 6,
   "id": "86b79da6",
   "metadata": {},
   "outputs": [
    {
     "name": "stdout",
     "output_type": "stream",
     "text": [
      "False\n"
     ]
    }
   ],
   "source": [
    "x=5\n",
    "print(x > 3 and x < )"
   ]
  },
  {
   "cell_type": "code",
   "execution_count": 7,
   "id": "df3427d1",
   "metadata": {},
   "outputs": [
    {
     "name": "stdout",
     "output_type": "stream",
     "text": [
      "20\n"
     ]
    }
   ],
   "source": [
    "print(10 and 20)"
   ]
  },
  {
   "cell_type": "code",
   "execution_count": 10,
   "id": "33870ec7",
   "metadata": {},
   "outputs": [
    {
     "name": "stdout",
     "output_type": "stream",
     "text": [
      "False\n"
     ]
    }
   ],
   "source": [
    "x = 5\n",
    "print(not(x > 3 and x < 10))"
   ]
  },
  {
   "cell_type": "code",
   "execution_count": 13,
   "id": "8b2958fe",
   "metadata": {},
   "outputs": [
    {
     "name": "stdout",
     "output_type": "stream",
     "text": [
      "False\n",
      "False\n",
      "False\n",
      "True\n"
     ]
    }
   ],
   "source": [
    "# in the case of arithmetic\n",
    "print(not 10)\n",
    "print(not 1)  \n",
    "print(not 5)  \n",
    "print(not 0)"
   ]
  },
  {
   "cell_type": "code",
   "execution_count": 14,
   "id": "0fb27880",
   "metadata": {},
   "outputs": [],
   "source": [
    "# membership operators"
   ]
  },
  {
   "cell_type": "code",
   "execution_count": 15,
   "id": "6940a445",
   "metadata": {},
   "outputs": [],
   "source": [
    "# in and not in\n"
   ]
  },
  {
   "cell_type": "code",
   "execution_count": 16,
   "id": "02c3e8b6",
   "metadata": {},
   "outputs": [],
   "source": [
    "# in operators"
   ]
  },
  {
   "cell_type": "code",
   "execution_count": 23,
   "id": "977ee0c7",
   "metadata": {},
   "outputs": [
    {
     "name": "stdout",
     "output_type": "stream",
     "text": [
      "string is present\n"
     ]
    }
   ],
   "source": [
    "l=['ds','q','o']\n",
    "number=4\n",
    "if number in l:\n",
    "    print(\"yess\")\n",
    "else:\n",
    "    print(\"string is present\")"
   ]
  },
  {
   "cell_type": "code",
   "execution_count": 27,
   "id": "f108c203",
   "metadata": {},
   "outputs": [
    {
     "name": "stdout",
     "output_type": "stream",
     "text": [
      "True\n",
      "True\n",
      "True\n",
      "True\n"
     ]
    }
   ],
   "source": [
    "x=10\n",
    "y=10\n",
    "z=x\n",
    "print(x is z)\n",
    "print(x is y)\n",
    "print(x==y)\n",
    "print(y==z)"
   ]
  },
  {
   "cell_type": "code",
   "execution_count": 28,
   "id": "c48dcfd4",
   "metadata": {},
   "outputs": [],
   "source": [
    "# bitwise"
   ]
  },
  {
   "cell_type": "code",
   "execution_count": 29,
   "id": "ac93a3d2",
   "metadata": {},
   "outputs": [
    {
     "name": "stdout",
     "output_type": "stream",
     "text": [
      "4\n",
      "5\n",
      "4\n"
     ]
    }
   ],
   "source": [
    "a = 7\n",
    "b = 4\n",
    "c = 5\n",
    "print(a & b)\n",
    "print(a & c)\n",
    "print(b & c)"
   ]
  },
  {
   "cell_type": "code",
   "execution_count": 30,
   "id": "75681fd0",
   "metadata": {},
   "outputs": [
    {
     "name": "stdout",
     "output_type": "stream",
     "text": [
      "-8\n"
     ]
    }
   ],
   "source": [
    "a=7\n",
    "print(~a)"
   ]
  },
  {
   "cell_type": "code",
   "execution_count": 31,
   "id": "b0e2b265",
   "metadata": {},
   "outputs": [
    {
     "name": "stdout",
     "output_type": "stream",
     "text": [
      "16\n"
     ]
    }
   ],
   "source": [
    "print(4<<2)"
   ]
  },
  {
   "cell_type": "code",
   "execution_count": 32,
   "id": "6c7d7c5d",
   "metadata": {},
   "outputs": [
    {
     "name": "stdout",
     "output_type": "stream",
     "text": [
      "240\n"
     ]
    }
   ],
   "source": [
    "print(30<<3)"
   ]
  },
  {
   "cell_type": "code",
   "execution_count": 33,
   "id": "802e9bca",
   "metadata": {},
   "outputs": [
    {
     "name": "stdout",
     "output_type": "stream",
     "text": [
      "240\n"
     ]
    }
   ],
   "source": [
    "a=128+64+32+16\n",
    "print(a)"
   ]
  },
  {
   "cell_type": "code",
   "execution_count": 51,
   "id": "1627dd08",
   "metadata": {},
   "outputs": [
    {
     "name": "stdout",
     "output_type": "stream",
     "text": [
      "1\n",
      "12\n"
     ]
    }
   ],
   "source": [
    "print(5>>2)\n",
    "\n",
    "# XOR\n",
    "a=10\n",
    "b=6\n",
    "print(a^b)"
   ]
  },
  {
   "cell_type": "markdown",
   "id": "cbaa1d73",
   "metadata": {},
   "source": [
    "# datatype"
   ]
  },
  {
   "cell_type": "code",
   "execution_count": 37,
   "id": "be13175a",
   "metadata": {},
   "outputs": [],
   "source": [
    "# to check the data type of variable use built-in function type()isinstance"
   ]
  },
  {
   "cell_type": "code",
   "execution_count": 42,
   "id": "54375afe",
   "metadata": {},
   "outputs": [
    {
     "name": "stdout",
     "output_type": "stream",
     "text": [
      "<class 'int'>\n",
      "True\n"
     ]
    }
   ],
   "source": [
    "a=2\n",
    "\n",
    "print(type(a))\n",
    "print(isinstance(a,int))"
   ]
  },
  {
   "cell_type": "code",
   "execution_count": 44,
   "id": "d11c2568",
   "metadata": {},
   "outputs": [
    {
     "name": "stdout",
     "output_type": "stream",
     "text": [
      "['emma', 'kantamma']\n"
     ]
    }
   ],
   "source": [
    "lst=['emma','amma']\n",
    "lst[1]='kantamma'\n",
    "print(lst)"
   ]
  },
  {
   "cell_type": "code",
   "execution_count": 48,
   "id": "282b0998",
   "metadata": {},
   "outputs": [
    {
     "name": "stdout",
     "output_type": "stream",
     "text": [
      "('a', 'd', 'y', 'i')\n"
     ]
    }
   ],
   "source": [
    "t=tuple(('a','d','y','i'))\n",
    "print(t)\n"
   ]
  },
  {
   "cell_type": "code",
   "execution_count": 49,
   "id": "7ac10751",
   "metadata": {},
   "outputs": [
    {
     "name": "stdout",
     "output_type": "stream",
     "text": [
      "('s', 'g')\n"
     ]
    }
   ],
   "source": [
    "t=(\"s\",\"g\")\n",
    "print(t)\n"
   ]
  },
  {
   "cell_type": "code",
   "execution_count": 50,
   "id": "39a5729c",
   "metadata": {},
   "outputs": [
    {
     "name": "stdout",
     "output_type": "stream",
     "text": [
      "12\n"
     ]
    }
   ],
   "source": [
    "a=10\n",
    "b=6\n",
    "print(a^b)"
   ]
  },
  {
   "cell_type": "code",
   "execution_count": 56,
   "id": "4f07846e",
   "metadata": {},
   "outputs": [
    {
     "name": "stdout",
     "output_type": "stream",
     "text": [
      "{1: 'Smith', 2: 'smith', 3: 'Jessa'}\n"
     ]
    }
   ],
   "source": [
    "my_dict = {1: \"Smith\", 2: \"Emma\", 3: \"Jessa\",2:\"smith\"}\n",
    "print(my_dict)"
   ]
  },
  {
   "cell_type": "code",
   "execution_count": 60,
   "id": "5e1a3348",
   "metadata": {},
   "outputs": [
    {
     "name": "stdout",
     "output_type": "stream",
     "text": [
      "{1: 'Smith', 2: 'Emma', 3: 'Jessa'}\n"
     ]
    }
   ],
   "source": [
    "my = dict({1: \"Smith\", 2: \"Emma\", 3: \"Jessa\"})\n",
    "print(my)\n"
   ]
  },
  {
   "cell_type": "code",
   "execution_count": 64,
   "id": "b641bb4a",
   "metadata": {},
   "outputs": [
    {
     "name": "stdout",
     "output_type": "stream",
     "text": [
      "{25.75, 'jessa', 100}\n"
     ]
    }
   ],
   "source": [
    "my_set = {100,\"jessa\", 25.75, \"jessa\"}\n",
    "print(my_set)  "
   ]
  },
  {
   "cell_type": "code",
   "execution_count": 74,
   "id": "ceb49785",
   "metadata": {},
   "outputs": [
    {
     "name": "stdout",
     "output_type": "stream",
     "text": [
      "{200, 25.75, 100}\n"
     ]
    }
   ],
   "source": [
    "my = set({100, 25.75, \"essa\"})\n",
    "# print(my)\n",
    "my.add(200)\n",
    "my.remove(\"essa\")\n",
    "print(my)\n",
    "# print(my)"
   ]
  },
  {
   "cell_type": "code",
   "execution_count": 4,
   "id": "d7eb5261",
   "metadata": {},
   "outputs": [
    {
     "name": "stdout",
     "output_type": "stream",
     "text": [
      "<class 'int'>\n",
      "False\n"
     ]
    }
   ],
   "source": [
    "a=0\n",
    "print(type(a))\n",
    "b=bool(a)\n",
    "print(b)"
   ]
  },
  {
   "cell_type": "code",
   "execution_count": 5,
   "id": "f6f89dbf",
   "metadata": {},
   "outputs": [],
   "source": [
    "# frozen set"
   ]
  },
  {
   "cell_type": "code",
   "execution_count": 9,
   "id": "f6f60422",
   "metadata": {},
   "outputs": [
    {
     "name": "stdout",
     "output_type": "stream",
     "text": [
      "frozenset({1, 2, 3, 4, 5})\n",
      "<class 'frozenset'>\n"
     ]
    }
   ],
   "source": [
    "b={1,2,3,4,5}\n",
    "a=frozenset(b)\n",
    "print(a)\n",
    "print(type(a))"
   ]
  },
  {
   "cell_type": "markdown",
   "id": "0e8ec00c",
   "metadata": {},
   "source": [
    "# bytes"
   ]
  },
  {
   "cell_type": "markdown",
   "id": "a0de6ed6",
   "metadata": {},
   "source": []
  },
  {
   "cell_type": "code",
   "execution_count": 18,
   "id": "6ba08f17",
   "metadata": {},
   "outputs": [
    {
     "name": "stdout",
     "output_type": "stream",
     "text": [
      "<class 'bytes'>\n",
      "89\n"
     ]
    }
   ],
   "source": [
    "a = [1,2,5,7,8,89,255]\n",
    "b=bytes(a)\n",
    "print(type(b))\n",
    "print(b[5])"
   ]
  },
  {
   "cell_type": "code",
   "execution_count": null,
   "id": "16da545c",
   "metadata": {},
   "outputs": [],
   "source": []
  }
 ],
 "metadata": {
  "kernelspec": {
   "display_name": "Python 3 (ipykernel)",
   "language": "python",
   "name": "python3"
  },
  "language_info": {
   "codemirror_mode": {
    "name": "ipython",
    "version": 3
   },
   "file_extension": ".py",
   "mimetype": "text/x-python",
   "name": "python",
   "nbconvert_exporter": "python",
   "pygments_lexer": "ipython3",
   "version": "3.10.4"
  }
 },
 "nbformat": 4,
 "nbformat_minor": 5
}
