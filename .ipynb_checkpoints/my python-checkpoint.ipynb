{
 "cells": [
  {
   "cell_type": "code",
   "execution_count": 1,
   "id": "66eee26b",
   "metadata": {},
   "outputs": [
    {
     "name": "stdout",
     "output_type": "stream",
     "text": [
      "suraiya\n"
     ]
    }
   ],
   "source": [
    "print(\"suraiya\")"
   ]
  },
  {
   "cell_type": "code",
   "execution_count": 3,
   "id": "ecae0556",
   "metadata": {},
   "outputs": [
    {
     "name": "stdout",
     "output_type": "stream",
     "text": [
      "6\n"
     ]
    }
   ],
   "source": [
    "a=3\n",
    "b=3\n",
    "print(a+b)"
   ]
  },
  {
   "cell_type": "code",
   "execution_count": 4,
   "id": "91e58129",
   "metadata": {},
   "outputs": [
    {
     "name": "stdout",
     "output_type": "stream",
     "text": [
      "7\n"
     ]
    }
   ],
   "source": [
    "print(3+4)\n"
   ]
  },
  {
   "cell_type": "code",
   "execution_count": 1,
   "id": "27163dfe",
   "metadata": {},
   "outputs": [
    {
     "name": "stdout",
     "output_type": "stream",
     "text": [
      "3+4\n"
     ]
    }
   ],
   "source": [
    "print(\"3+4\")"
   ]
  },
  {
   "cell_type": "code",
   "execution_count": 8,
   "id": "b0ff108f",
   "metadata": {},
   "outputs": [
    {
     "name": "stdout",
     "output_type": "stream",
     "text": [
      "jhon\n"
     ]
    }
   ],
   "source": [
    "my_name=\"jhon\"\n",
    "print(my_name)"
   ]
  },
  {
   "cell_type": "code",
   "execution_count": 9,
   "id": "299dad66",
   "metadata": {},
   "outputs": [
    {
     "name": "stdout",
     "output_type": "stream",
     "text": [
      "orange banana apple\n"
     ]
    }
   ],
   "source": [
    "#multiple variables\n",
    "x=\"orange\"\n",
    "y=\"banana\"\n",
    "z=\"apple\"\n",
    "print(x,y,z)\n"
   ]
  },
  {
   "cell_type": "code",
   "execution_count": 1,
   "id": "1ab27310",
   "metadata": {},
   "outputs": [
    {
     "name": "stdout",
     "output_type": "stream",
     "text": [
      "36\n"
     ]
    }
   ],
   "source": [
    "#mathematical variable\n",
    "x=17\n",
    "y=19\n",
    "print(x+y)"
   ]
  },
  {
   "cell_type": "code",
   "execution_count": 7,
   "id": "640098f3",
   "metadata": {},
   "outputs": [
    {
     "name": "stdout",
     "output_type": "stream",
     "text": [
      "(1+0j)\n",
      "2\n",
      "1.0\n"
     ]
    }
   ],
   "source": [
    "#convert from one type to another type\n",
    "x=1\n",
    "y=2.0\n",
    "z=1\n",
    "a=complex(x)\n",
    "b=int(y)\n",
    "c=float(z)\n",
    "print(a)\n",
    "print(b)\n",
    "print(c)"
   ]
  },
  {
   "cell_type": "code",
   "execution_count": 19,
   "id": "9c61f600",
   "metadata": {},
   "outputs": [
    {
     "name": "stdout",
     "output_type": "stream",
     "text": [
      "9\n",
      "airs\n",
      "2\n"
     ]
    }
   ],
   "source": [
    "#string sclicing\n",
    "mystr=\"su rai ya\"\n",
    "print(len (mystr))\n",
    "print(str[::-2])\n",
    "print(str.count(\"a\"))\n"
   ]
  },
  {
   "cell_type": "code",
   "execution_count": 30,
   "id": "9a06488e",
   "metadata": {},
   "outputs": [
    {
     "name": "stdout",
     "output_type": "stream",
     "text": [
      "she is minhaj her age is 22\n"
     ]
    }
   ],
   "source": [
    "#string format\n",
    "age=22\n",
    "name=\"she is minhaj her age is {}\"\n",
    "\n",
    "print(name.format(age))"
   ]
  },
  {
   "cell_type": "code",
   "execution_count": 7,
   "id": "60fcdd77",
   "metadata": {},
   "outputs": [
    {
     "name": "stdout",
     "output_type": "stream",
     "text": [
      "8\n",
      "1220096295248\n",
      "1220096295248\n",
      "1220170066352\n",
      "1220170066352\n"
     ]
    }
   ],
   "source": [
    "#how to check memory location using(id)\n",
    "a=4\n",
    "b=4\n",
    "print(a+b)\n",
    "print(id(a))\n",
    "print(id(b))\n",
    "a=\"hello\"\n",
    "b=\"hello\"\n",
    "print(id(a))\n",
    "print(id(b))"
   ]
  },
  {
   "cell_type": "code",
   "execution_count": 5,
   "id": "8644b162",
   "metadata": {},
   "outputs": [
    {
     "name": "stdout",
     "output_type": "stream",
     "text": [
      "<class 'float'>\n",
      "<class 'complex'>\n"
     ]
    }
   ],
   "source": [
    "#TYPE CONVERSION \n",
    "x=1\n",
    "y=1.0\n",
    "\n",
    "\n",
    "a=float(x)\n",
    "b=complex(y)\n",
    "\n",
    "print(type(a))\n",
    "print(type(b))"
   ]
  },
  {
   "cell_type": "code",
   "execution_count": 3,
   "id": "3fe46cb8",
   "metadata": {},
   "outputs": [
    {
     "name": "stdout",
     "output_type": "stream",
     "text": [
      "True\n"
     ]
    }
   ],
   "source": [
    "#not in\n",
    "txt=\"minhaj is good girl.\"\n",
    "print(\"good\"in txt)"
   ]
  },
  {
   "cell_type": "code",
   "execution_count": 12,
   "id": "a0ddc6ce",
   "metadata": {},
   "outputs": [
    {
     "name": "stdout",
     "output_type": "stream",
     "text": [
      "22\n",
      ".lrig doog a si jahnim\n"
     ]
    }
   ],
   "source": [
    "#slicing\n",
    "mystr=\"minhaj is a good girl.\"\n",
    "print(len(mystr))\n",
    "print(mystr[::-1])"
   ]
  },
  {
   "cell_type": "code",
   "execution_count": 15,
   "id": "5a9dedb4",
   "metadata": {},
   "outputs": [
    {
     "ename": "TypeError",
     "evalue": "can only concatenate str (not \"int\") to str",
     "output_type": "error",
     "traceback": [
      "\u001b[1;31m---------------------------------------------------------------------------\u001b[0m",
      "\u001b[1;31mTypeError\u001b[0m                                 Traceback (most recent call last)",
      "Input \u001b[1;32mIn [15]\u001b[0m, in \u001b[0;36m<cell line: 3>\u001b[1;34m()\u001b[0m\n\u001b[0;32m      1\u001b[0m x\u001b[38;5;241m=\u001b[39m\u001b[38;5;124m\"\u001b[39m\u001b[38;5;124mpink\u001b[39m\u001b[38;5;124m\"\u001b[39m\n\u001b[0;32m      2\u001b[0m y\u001b[38;5;241m=\u001b[39m\u001b[38;5;241m67\u001b[39m\n\u001b[1;32m----> 3\u001b[0m \u001b[38;5;28mprint\u001b[39m(\u001b[43mx\u001b[49m\u001b[38;5;241;43m+\u001b[39;49m\u001b[43my\u001b[49m)\n",
      "\u001b[1;31mTypeError\u001b[0m: can only concatenate str (not \"int\") to str"
     ]
    }
   ],
   "source": [
    "x=\"pink\"\n",
    "y=67\n",
    "print(x+y)"
   ]
  },
  {
   "cell_type": "markdown",
   "id": "19306cf4",
   "metadata": {},
   "source": [
    "# OPERATORS\n",
    "\n"
   ]
  },
  {
   "cell_type": "code",
   "execution_count": 14,
   "id": "5ea8c377",
   "metadata": {},
   "outputs": [
    {
     "name": "stdout",
     "output_type": "stream",
     "text": [
      "8\n",
      "2\n",
      "15\n",
      "1.6666666666666667\n",
      "3\n",
      "125\n",
      "1\n"
     ]
    }
   ],
   "source": [
    "#ARITHMETIC{1}\n",
    "\n",
    "#ADDITION(+)\n",
    "\n",
    "x=5\n",
    "y=3\n",
    "print(x+y)\n",
    "\n",
    "#subtraction(-)\n",
    "\n",
    "x=5\n",
    "y=3\n",
    "print(x-y)\n",
    "\n",
    "#multiplication(*)\n",
    "\n",
    "x=5\n",
    "y=3\n",
    "print(x*y)\n",
    "\n",
    "#division(/)\n",
    "\n",
    "x=5\n",
    "y=3\n",
    "print(x/y)\n",
    "\n",
    "#modulus(%)\n",
    "\n",
    "x=3\n",
    "y=5\n",
    "print(x%y)\n",
    "\n",
    "#exponentiation\n",
    "\n",
    "x=5\n",
    "y=3\n",
    "print(x**y)\n",
    "\n",
    "#floor division\n",
    "\n",
    "x=5\n",
    "y=3\n",
    "print(x//Y)\n",
    "\n"
   ]
  },
  {
   "cell_type": "code",
   "execution_count": 31,
   "id": "795a8666",
   "metadata": {},
   "outputs": [
    {
     "name": "stdout",
     "output_type": "stream",
     "text": [
      "8\n",
      "3\n",
      "15\n",
      "1.6666666666666667\n",
      "2\n",
      "1\n",
      "125\n",
      "1\n",
      "7\n",
      "6\n"
     ]
    }
   ],
   "source": [
    "#ASSIGNMENT\n",
    "\n",
    "x=5\n",
    "x+=3\n",
    "print(x)\n",
    "\n",
    "x=5\n",
    "x-=2\n",
    "print(x)\n",
    "\n",
    "x=5\n",
    "x*=3\n",
    "print(x)\n",
    "\n",
    "x=5\n",
    "x/=3\n",
    "print(x)\n",
    "\n",
    "x=5\n",
    "x%=3\n",
    "print(x)\n",
    "\n",
    "x=5\n",
    "x//=3\n",
    "print(x)\n",
    "\n",
    "x=5\n",
    "x**=3\n",
    "print(x)\n",
    "\n",
    "x=5\n",
    "x&=3\n",
    "print(x)\n",
    "\n",
    "x=5\n",
    "x|=3\n",
    "print(x)\n",
    "\n",
    "x=5\n",
    "x^=3\n",
    "print(x)\n",
    "\n",
    "\n"
   ]
  },
  {
   "cell_type": "code",
   "execution_count": 38,
   "id": "4f5b1bda",
   "metadata": {},
   "outputs": [
    {
     "name": "stdout",
     "output_type": "stream",
     "text": [
      "False\n",
      "True\n",
      "True\n",
      "False\n",
      "True\n",
      "False\n"
     ]
    }
   ],
   "source": [
    "#comparision operators\n",
    "#x==y(equal)\n",
    "x=5\n",
    "y=3\n",
    "print(x==y)\n",
    "\n",
    "#x!=y (not eequal)\n",
    "x=5\n",
    "y=3\n",
    "print(x!=y)\n",
    "\n",
    "#>greater than\n",
    "\n",
    "x=5\n",
    "y=3\n",
    "print(x>y)\n",
    "\n",
    "#<less than \n",
    "\n",
    "x=5\n",
    "y=3\n",
    "print(x<y)\n",
    "\n",
    "#>=greater than or equal to\n",
    "\n",
    "x=5\n",
    "y=3\n",
    "print(x>=y)\n",
    "\n",
    "#<=less than orequalto\n",
    "x=5\n",
    "y=3\n",
    "print(x<=y)\n",
    "\n",
    "\n"
   ]
  },
  {
   "cell_type": "code",
   "execution_count": 49,
   "id": "239cb82b",
   "metadata": {},
   "outputs": [
    {
     "name": "stdout",
     "output_type": "stream",
     "text": [
      "True\n",
      "True\n",
      "True\n",
      "True\n",
      "True\n",
      "False\n"
     ]
    }
   ],
   "source": [
    "#logical operators\n",
    "\n",
    "#AND\n",
    "\n",
    "x=5\n",
    "print(x>3 and x<10)\n",
    "\n",
    "x=7\n",
    "print(x>4 and x<11)\n",
    "\n",
    "x=9\n",
    "print(x>2 and x<10)\n",
    "\n",
    "#OR\n",
    "\n",
    "x=5\n",
    "print(x>3 or x>9)\n",
    "\n",
    "x=6\n",
    "print(x>4 or x>5)\n",
    "\n",
    "#NOT\n",
    "\n",
    "x=5\n",
    "print(not(x>4 and x<6))\n"
   ]
  },
  {
   "cell_type": "code",
   "execution_count": 58,
   "id": "fdcb8926",
   "metadata": {},
   "outputs": [
    {
     "name": "stdout",
     "output_type": "stream",
     "text": [
      "False\n",
      "True\n",
      "True\n",
      "2262897025408\n",
      "False\n",
      "False\n",
      "True\n"
     ]
    }
   ],
   "source": [
    "# identity operators\n",
    "# (IS)\n",
    "x=[\"apple\",\"banana\",\"cherry\"]\n",
    "y=[\"apple\",\"banana\",\"cherry\"]\n",
    "z=x\n",
    "print(x is y)\n",
    "print(z is x)\n",
    "print(x==y)\n",
    "print(id(x))\n",
    "\n",
    "# IS NOT\n",
    "a=[\"apple\",\"banana\",\"cherry\"]\n",
    "b=[\"apple\",\"banana\",\"cherry\"]\n",
    "z=a\n",
    "print(a is b)\n",
    "print(z is not a)\n",
    "print(a==b)\n"
   ]
  },
  {
   "cell_type": "code",
   "execution_count": 60,
   "id": "465880a5",
   "metadata": {},
   "outputs": [
    {
     "name": "stdout",
     "output_type": "stream",
     "text": [
      "True\n",
      "False\n"
     ]
    }
   ],
   "source": [
    "#MEMBERSHIP OPERATORS\n",
    "# IN\n",
    "x=[\"apple\",\"ball\",\"cat\"]\n",
    "print(\"cat\" in x)\n",
    "\n",
    "# IN NOT\n",
    "\n",
    "y=[\"dog\",\"cat\",\"ball\"]\n",
    "print(\"dog\" not in y)\n",
    "\n"
   ]
  },
  {
   "cell_type": "code",
   "execution_count": 3,
   "id": "be47b92c",
   "metadata": {},
   "outputs": [
    {
     "name": "stdout",
     "output_type": "stream",
     "text": [
      "80\n"
     ]
    }
   ],
   "source": [
    "# BITWISE OPERATORS\n",
    "a=20\n",
    "a<<=2\n",
    "print(a)"
   ]
  },
  {
   "cell_type": "markdown",
   "id": "a196e0d4",
   "metadata": {},
   "source": [
    "# LIST"
   ]
  },
  {
   "cell_type": "code",
   "execution_count": 1,
   "id": "bd2d9bc5",
   "metadata": {},
   "outputs": [
    {
     "name": "stdout",
     "output_type": "stream",
     "text": [
      "['apple', 'banana', 'orange']\n",
      "3\n",
      "['all', 'ball', 'call'] ['1', '2', '3'] ['t', 'f', 't']\n",
      "['black', 40, True]\n",
      "cherry\n"
     ]
    }
   ],
   "source": [
    "\n",
    "thislist=[\"apple\",\"banana\",\"orange\"]\n",
    "print(thislist)\n",
    "\n",
    "#len function\n",
    "\n",
    "thislist=[\"apple\",\"banana\",\"cherry\"]\n",
    "print(len(thislist))\n",
    "\n",
    "#LIST DATA TYPES\n",
    "list1=[\"all\",\"ball\",\"call\"]\n",
    "list2=[\"1\",\"2\",\"3\"]\n",
    "list3=[\"t\",\"f\",\"t\"]\n",
    "print(list1, list2, list3)\n",
    "\n",
    "# DIFFERENT DATA TYPES\n",
    "list1=[\"black\",40,True]\n",
    "print(list1)\n",
    "\n",
    "#negative indexing\n",
    "\n",
    "#start from the end\n",
    "\n",
    "thislist=[\"apple\",\"banana\",\"cherry\"]\n",
    "print(thislist[-1])\n",
    "\n",
    "\n",
    "\n"
   ]
  },
  {
   "cell_type": "code",
   "execution_count": 8,
   "id": "872e19f7",
   "metadata": {},
   "outputs": [
    {
     "name": "stdout",
     "output_type": "stream",
     "text": [
      "banana\n",
      "melon\n",
      "['cherry', 'mango', 'kiwi']\n",
      "['apple', 'banana', 'cherry', 'mango']\n",
      "['cherry', 'mango', 'kiwi', 'orange', 'melon']\n",
      "['mango', 'kiwi', 'orange']\n"
     ]
    }
   ],
   "source": [
    "#ACCESS LIST ITEMS\n",
    "\n",
    "thislist=[\"apple\",\"banana\",\"cherry\",\"mango\",\"kiwi\",\"orange\",\"melon\"]\n",
    "print(thislist[1])\n",
    "\n",
    "print(thislist[-1])\n",
    "\n",
    "print(thislist[2:5])\n",
    "\n",
    "print(thislist[:4])\n",
    "\n",
    "print(thislist[2:])\n",
    "\n",
    "print(thislist[-4:-1])"
   ]
  },
  {
   "cell_type": "code",
   "execution_count": 9,
   "id": "ff356e0f",
   "metadata": {},
   "outputs": [
    {
     "name": "stdout",
     "output_type": "stream",
     "text": [
      "yes,'apple' is in the fruit list\n"
     ]
    }
   ],
   "source": [
    "#CHECK IF ITEM EXIST\n",
    "\n",
    "thislist=[\"apple\",\"banana\",\"cherry\",\"mango\",\"kiwi\",\"orange\",\"melon\"]\n",
    "if \"apple\" in thislist:\n",
    "        print(\"yes,'apple' is in the fruit list\")    "
   ]
  },
  {
   "cell_type": "code",
   "execution_count": 10,
   "id": "a14771de",
   "metadata": {},
   "outputs": [
    {
     "name": "stdout",
     "output_type": "stream",
     "text": [
      "['apple', 'banana', 'cherry', 'mango', 'kiwi', 'minhaj', 'melon']\n"
     ]
    }
   ],
   "source": [
    "#CHANGE LIST ITEMS\n",
    "thislist=[\"apple\",\"banana\",\"cherry\",\"mango\",\"kiwi\",\"orange\",\"melon\"]\n",
    "thislist[5]=\"minhaj\"\n",
    "print(thislist)\n",
    "\n"
   ]
  },
  {
   "cell_type": "code",
   "execution_count": 13,
   "id": "ba163a35",
   "metadata": {},
   "outputs": [
    {
     "name": "stdout",
     "output_type": "stream",
     "text": [
      "['apple', 'banana', 'minhaj', 'suraiya', 'ndhf', 'orange', 'melon']\n"
     ]
    }
   ],
   "source": [
    "#change arange of item value\n",
    "\n",
    "thislist=[\"apple\",\"banana\",\"cherry\",\"mango\",\"kiwi\",\"orange\",\"melon\"]\n",
    "thislist[2:5]=[\"minhaj\",\"suraiya\",\"ndhf\"]\n",
    "print(thislist)"
   ]
  },
  {
   "cell_type": "code",
   "execution_count": 17,
   "id": "359ad532",
   "metadata": {
    "scrolled": false
   },
   "outputs": [
    {
     "name": "stdout",
     "output_type": "stream",
     "text": [
      "['apple', 'banana', 'cherry', 'minhaj', 'mango', 'kiwi', 'orange', 'melon']\n",
      "['apple', 'banana', 'cherry', 'minhaj', 'mango', 'kiwi', 'orange', 'melon', 'suraiya']\n",
      "['apple', 'banana', 'cherry', 'minhaj', 'mango', 'kiwi', 'orange', 'melon', 'apple', 'banana', 'cherry', 'suraiya']\n",
      "['apple', 'banana', 'cherry', 'minhaj', 'mango', 'kiwi', 'orange', 'melon', 'apple', 'banana', 'cherry', 'minhaj', 'mango', 'kiwi', 'orange', 'melon', 'suraiya']\n",
      "['apple', 'banana', 'cherry', 'pink', 'yellow', 'gray']\n",
      "['apple', 'banana', 'cherry', 'kiwi', 'orange', 'melon']\n",
      "['apple', 'banana', 'cherry', 'minhaj', 'kiwi', 'orange', 'melon']\n",
      "['apple', 'banana', 'cherry', 'minhaj', 'mango', 'orange', 'melon']\n",
      "[]\n",
      "['apple', 'banana', 'cherry', 'kiwi', 'mango', 'melon', 'minhaj', 'orange']\n",
      "[200, 477, 700, 1000]\n",
      "['orange', 'minhaj', 'melon', 'mango', 'kiwi', 'cherry', 'banana', 'apple']\n",
      "[1000, 700, 477, 200]\n",
      "['Kiwi', 'Minhaj', 'Orange', 'apple', 'banana', 'cherry', 'mango', 'melon']\n",
      "['2', '3', '5', '9']\n"
     ]
    }
   ],
   "source": [
    "#insert method\n",
    "\n",
    "list=[\"apple\",\"banana\",\"cherry\",\"mango\",\"kiwi\",\"orange\",\"melon\"]\n",
    "list.insert(3,\"minhaj\")\n",
    "print(list)\n",
    "\n",
    "#APPEND\n",
    "\n",
    "list.append(\"suraiya\")\n",
    "print(list)\n",
    "\n",
    "# EXTEND\n",
    "\n",
    "list=['apple', 'banana', 'cherry', 'minhaj', 'mango', 'kiwi', 'orange', 'melon']\n",
    "list1=['apple', 'banana', 'cherry','suraiya']\n",
    "list.extend(list1)\n",
    "print(list)\n",
    "\n",
    "list=['apple', 'banana', 'cherry', 'minhaj', 'mango', 'kiwi', 'orange', 'melon']\n",
    "list1=['apple', 'banana', 'cherry', 'minhaj', 'mango', 'kiwi', 'orange', 'melon', 'suraiya']\n",
    "list.extend(list1)\n",
    "print(list)\n",
    "\n",
    "#ADD ANY ITERABLE\n",
    "\n",
    "list=[\"apple\",\"banana\",\"cherry\"]\n",
    "tuple=(\"pink\",\"yellow\",\"gray\")\n",
    "list.extend(tuple)\n",
    "print(list)\n",
    "\n",
    "# remove method\n",
    "\n",
    "list=['apple', 'banana', 'cherry', 'minhaj', 'mango', 'kiwi', 'orange', 'melon']\n",
    "\n",
    "list.remove('minhaj')\n",
    "list.remove('mango')\n",
    "print(list)\n",
    "\n",
    "# POP METHOD\n",
    "\n",
    "list=['apple', 'banana', 'cherry', 'minhaj', 'mango', 'kiwi', 'orange', 'melon']\n",
    "list.pop(4)\n",
    "print(list)\n",
    "\n",
    "# DEL KEYWORD\n",
    "list=['apple', 'banana', 'cherry', 'minhaj', 'mango', 'kiwi', 'orange', 'melon']\n",
    "del list[5]\n",
    "print(list)\n",
    "\n",
    "# CLEAR METHOD\n",
    "\n",
    "list=['apple', 'banana', 'cherry', 'minhaj', 'mango', 'kiwi', 'orange', 'melon']\n",
    "list.clear()\n",
    "print(list)\n",
    "\n",
    "# SORT LIST ALPHA NUMERICALLY\n",
    "\n",
    "list=['apple', 'banana', 'cherry', 'minhaj', 'mango', 'kiwi', 'orange', 'melon']\n",
    "list.sort()\n",
    "print(list)\n",
    "\n",
    "# SORT LIST NUMERICALLY\n",
    "\n",
    "list=[1000,477,200,700]\n",
    "list.sort()\n",
    "print(list)\n",
    "\n",
    "# SORT DECENDING\n",
    "# REVERSE=TRUE\n",
    "list=['apple', 'banana', 'cherry', 'minhaj', 'mango', 'kiwi', 'orange', 'melon']\n",
    "list.sort(reverse=True)\n",
    "print(list)\n",
    "\n",
    "list=[1000,477,200,700]\n",
    "list.sort(reverse=True)\n",
    "print(list)\n",
    "\n",
    "# CASE INSENSITIVE SORT\n",
    "# BY DEFAULT THE SORT() METHOD IS CASE SENSITIVE\n",
    "\n",
    "\n",
    "list=['apple', 'banana', 'cherry', 'Minhaj', 'mango', 'Kiwi', 'Orange', 'melon']\n",
    "list.sort()\n",
    "print(list)\n",
    "\n",
    "#lower case\n",
    "\n",
    "thislist = ['2','5','3','9']\n",
    "thislist.sort(key = str.lower)\n",
    "print(thislist)\n",
    "\n",
    "\n",
    "\n",
    "\n",
    "\n",
    "\n",
    "\n",
    "\n",
    "\n",
    "\n"
   ]
  },
  {
   "cell_type": "code",
   "execution_count": 13,
   "id": "3a670780",
   "metadata": {},
   "outputs": [
    {
     "name": "stdout",
     "output_type": "stream",
     "text": [
      "['Kiwi', 'Minhaj', 'Orange', 'apple', 'banana', 'cherry', 'mango', 'melon']\n"
     ]
    }
   ],
   "source": [
    "# sort the list decending\n",
    "list=['apple', 'banana', 'cherry', 'Minhaj', 'mango', 'Kiwi', 'Orange', 'melon']\n",
    "list.sort()\n",
    "print(list)"
   ]
  },
  {
   "cell_type": "code",
   "execution_count": 12,
   "id": "433f64d6",
   "metadata": {},
   "outputs": [
    {
     "name": "stdout",
     "output_type": "stream",
     "text": [
      "['melon', 'mango', 'cherry', 'banana', 'apple', 'Orange', 'Minhaj', 'Kiwi']\n"
     ]
    }
   ],
   "source": [
    "list=['apple', 'banana', 'cherry', 'Minhaj', 'mango', 'Kiwi', 'Orange', 'melon']\n",
    "list.sort(reverse=True)\n",
    "print(list)"
   ]
  },
  {
   "cell_type": "code",
   "execution_count": 15,
   "id": "9393aac8",
   "metadata": {},
   "outputs": [
    {
     "name": "stdout",
     "output_type": "stream",
     "text": [
      "[1, 2, 3, 4, 5]\n"
     ]
    }
   ],
   "source": [
    "a=[3,2,4,1,5]\n",
    "a.sort()\n",
    "print(a)"
   ]
  },
  {
   "cell_type": "code",
   "execution_count": 16,
   "id": "2c5fee2d",
   "metadata": {},
   "outputs": [
    {
     "name": "stdout",
     "output_type": "stream",
     "text": [
      "[5, 4, 3, 2, 1]\n"
     ]
    }
   ],
   "source": [
    "a=[3,2,4,1,5]\n",
    "a.sort(reverse=True)\n",
    "print(a)"
   ]
  },
  {
   "cell_type": "code",
   "execution_count": 18,
   "id": "81342b80",
   "metadata": {},
   "outputs": [
    {
     "name": "stdout",
     "output_type": "stream",
     "text": [
      "['apple', 'banana', 'cherry']\n"
     ]
    }
   ],
   "source": [
    "# COPY\n",
    "thislist = [\"apple\", \"banana\", \"cherry\"]\n",
    "mylist = thislist.copy()\n",
    "print(mylist)"
   ]
  },
  {
   "cell_type": "code",
   "execution_count": 19,
   "id": "a792482d",
   "metadata": {},
   "outputs": [
    {
     "name": "stdout",
     "output_type": "stream",
     "text": [
      "['apple', 'banana', 'cherry']\n"
     ]
    }
   ],
   "source": [
    "# COPY()METHOD\n",
    "list=[\"apple\",\"banana\",\"cherry\"]\n",
    "mylist=list.copy()\n",
    "print(mylist)"
   ]
  },
  {
   "cell_type": "code",
   "execution_count": 2,
   "id": "39d06a7e",
   "metadata": {},
   "outputs": [
    {
     "name": "stdout",
     "output_type": "stream",
     "text": [
      "['apple', 'banana', 'cherry']\n"
     ]
    }
   ],
   "source": [
    "# list() method\n",
    "thislist = [\"apple\", \"banana\", \"cherry\"]\n",
    "mylist = list(thislist)\n",
    "print(mylist)"
   ]
  },
  {
   "cell_type": "code",
   "execution_count": 5,
   "id": "fe3b4a70",
   "metadata": {},
   "outputs": [
    {
     "name": "stdout",
     "output_type": "stream",
     "text": [
      "[12, 52, 58, 98, 54, 32]\n"
     ]
    }
   ],
   "source": [
    "# join two list + operators\n",
    "list1=[12,52,58]\n",
    "list2=[98,54,32]\n",
    "list3=list1+list2\n",
    "print(list3)"
   ]
  },
  {
   "cell_type": "code",
   "execution_count": 6,
   "id": "9400f52d",
   "metadata": {},
   "outputs": [
    {
     "name": "stdout",
     "output_type": "stream",
     "text": [
      "[12, 52, 58, 98, 54, 32]\n"
     ]
    }
   ],
   "source": [
    "# extend list\n",
    "list1=[12,52,58]\n",
    "list2=[98,54,32]\n",
    "list1.extend(list2)\n",
    "print(list1)\n"
   ]
  },
  {
   "cell_type": "code",
   "execution_count": 1,
   "id": "ff2aae51",
   "metadata": {},
   "outputs": [],
   "source": [
    "# list loop\n"
   ]
  },
  {
   "cell_type": "code",
   "execution_count": 2,
   "id": "012eb8da",
   "metadata": {},
   "outputs": [
    {
     "name": "stdout",
     "output_type": "stream",
     "text": [
      "1\n",
      "2\n",
      "3\n",
      "4\n"
     ]
    }
   ],
   "source": [
    "list=[1,2,3,4]\n",
    "for x in list:\n",
    "    print(x)\n"
   ]
  },
  {
   "cell_type": "code",
   "execution_count": 10,
   "id": "7a97260e",
   "metadata": {},
   "outputs": [
    {
     "name": "stdout",
     "output_type": "stream",
     "text": [
      "1\n",
      "2\n",
      "3\n",
      "4\n"
     ]
    }
   ],
   "source": [
    "# break\n",
    "list=['1','2','3','4','5']\n",
    "for x in list:\n",
    "    print(x)\n",
    "    if x=='4':\n",
    "        break"
   ]
  },
  {
   "cell_type": "code",
   "execution_count": 9,
   "id": "a70827b8",
   "metadata": {},
   "outputs": [
    {
     "name": "stdout",
     "output_type": "stream",
     "text": [
      "a\n",
      "b\n"
     ]
    }
   ],
   "source": [
    "list=['a','b','c']\n",
    "for x in list:\n",
    "    print(x)\n",
    "    if x=='b':\n",
    "        break"
   ]
  },
  {
   "cell_type": "code",
   "execution_count": 11,
   "id": "b73a303b",
   "metadata": {},
   "outputs": [
    {
     "name": "stdout",
     "output_type": "stream",
     "text": [
      "a\n"
     ]
    }
   ],
   "source": [
    "list=['a','b','c']\n",
    "for x in list:\n",
    "    if x=='b':\n",
    "        break\n",
    "    print(x)"
   ]
  },
  {
   "cell_type": "markdown",
   "id": "2a7afc3a",
   "metadata": {},
   "source": [
    "# TUPLES\n",
    "\n"
   ]
  },
  {
   "cell_type": "markdown",
   "id": "901c0be7",
   "metadata": {},
   "source": [
    "<!-- TUPLE IS ODERED AND ALLOW DUPLICATES  -->\n",
    "<!-- TUPLE IS UNCHANGEABLE -->\n",
    "<!-- TUPLE ARE USED TO STORE MULTIPLE ITEMS -->"
   ]
  },
  {
   "cell_type": "code",
   "execution_count": 3,
   "id": "44b13120",
   "metadata": {},
   "outputs": [
    {
     "name": "stdout",
     "output_type": "stream",
     "text": [
      "3\n"
     ]
    }
   ],
   "source": [
    "#len functions\n",
    "tuple=(\"apple\",\"banana\",\"cherry\")\n",
    "print(len(tuple))"
   ]
  },
  {
   "cell_type": "code",
   "execution_count": 5,
   "id": "136301b5",
   "metadata": {},
   "outputs": [
    {
     "name": "stdout",
     "output_type": "stream",
     "text": [
      "<class 'tuple'>\n"
     ]
    }
   ],
   "source": [
    "#to creat a tuple with only one item you have to add a (,)\n",
    "tuple=(\"apple\",)\n",
    "print(type(tuple))"
   ]
  },
  {
   "cell_type": "code",
   "execution_count": null,
   "id": "37b92cd9",
   "metadata": {},
   "outputs": [],
   "source": [
    "\n",
    "\n",
    "\n",
    "\n",
    "\n",
    "\n",
    "\n",
    "\n",
    "\n",
    "\n",
    "\n",
    "\n",
    "\n",
    "\n",
    "\n",
    "\n",
    "\n",
    "\n",
    "\n",
    "\n",
    "\n",
    "\n",
    "\n",
    "\n",
    "\n",
    "\n",
    "\n",
    "\n",
    "\n",
    "\n",
    "\n",
    "\n",
    "\n",
    "\n",
    "\n",
    "\n",
    "\n",
    "\n",
    "\n",
    "\n",
    "\n",
    "\n",
    "\n",
    "\n",
    "\n",
    "\n",
    "\n",
    "\n",
    "\n",
    "\n",
    "\n",
    "\n",
    "\n",
    "\n",
    "\n",
    "\n",
    "\n",
    "\n",
    "\n",
    "\n",
    "\n",
    "\n",
    "\n",
    "\n",
    "\n",
    "\n",
    "\n",
    "\n",
    "\n",
    "\n",
    "\n",
    "\n",
    "\n",
    "\n",
    "\n",
    "\n",
    "\n",
    "\n",
    "\n",
    "\n",
    "\n",
    "\n",
    "\n",
    "\n",
    "\n",
    "\n",
    "\n",
    "\n",
    "\n",
    "\n",
    "\n",
    "\n",
    "\n",
    "\n",
    "\n",
    "\n",
    "\n",
    "\n",
    "\n",
    "\n",
    "\n",
    "\n",
    "\n",
    "\n",
    "\n",
    "\n",
    "\n",
    "\n",
    "\n",
    "\n",
    "\n",
    "\n",
    "\n",
    "\n",
    "\n",
    "\n",
    "\n",
    "\n",
    "\n",
    "\n",
    "\n",
    "\n",
    "\n",
    "\n",
    "\n",
    "\n",
    "\n",
    "\n",
    "\n",
    "\n",
    "\n",
    "\n",
    "\n",
    "\n",
    "\n",
    "\n",
    "\n",
    "\n",
    "\n",
    "\n",
    "\n",
    "\n",
    "\n",
    "\n",
    "\n",
    "\n",
    "\n",
    "\n",
    "\n",
    "\n",
    "\n",
    "\n",
    "\n",
    "\n",
    "\n",
    "\n",
    "\n",
    "\n",
    "\n",
    "\n",
    "\n",
    "\n",
    "\n",
    "\n",
    "\n",
    "\n",
    "\n",
    "\n",
    "\n",
    "\n",
    "\n",
    "\n",
    "\n",
    "\n",
    "\n",
    "\n",
    "\n",
    "\n",
    "\n",
    "\n",
    "\n",
    "\n",
    "\n",
    "\n",
    "\n",
    "\n",
    "\n",
    "\n",
    "\n"
   ]
  },
  {
   "cell_type": "markdown",
   "id": "d10e4bc7",
   "metadata": {},
   "source": [
    "# TUPLE\n",
    "\n",
    "\n",
    "# convert a tuple into a list \n",
    "\n",
    "x=(\"apple\",\"banan\",\"cherry\")\n",
    "y=list(x)\n",
    "y[2]=\"orange\"\n",
    "x=tuple(y)\n",
    "print(x)"
   ]
  },
  {
   "cell_type": "code",
   "execution_count": 2,
   "id": "50f0d761",
   "metadata": {},
   "outputs": [
    {
     "name": "stdout",
     "output_type": "stream",
     "text": [
      "(1, '5', 3, 4)\n"
     ]
    }
   ],
   "source": [
    "x# EXTEND\n",
    "a=(1,2,3,4)\n",
    "b=list(a)\n",
    "b[1]=\"5\"\n",
    "a=tuple(b)\n",
    "print(a)"
   ]
  },
  {
   "cell_type": "code",
   "execution_count": 5,
   "id": "485c3ac5",
   "metadata": {},
   "outputs": [
    {
     "name": "stdout",
     "output_type": "stream",
     "text": [
      "('minhaj', 'suraiya', 'ruqaiya')\n"
     ]
    }
   ],
   "source": [
    "x=(\"minhaj\",\"suraiya\",\"sumaiya\")\n",
    "b=list(x)\n",
    "b[2]=\"ruqaiya\"\n",
    "x=tuple(b)\n",
    "print(x)\n",
    "\n"
   ]
  },
  {
   "cell_type": "code",
   "execution_count": 4,
   "id": "ca4660fd",
   "metadata": {},
   "outputs": [
    {
     "name": "stdout",
     "output_type": "stream",
     "text": [
      "(1, 2, 3, '6')\n",
      "(1, 2, 3, 4, '15')\n",
      "('m', 'r', 'e', 'u')\n"
     ]
    }
   ],
   "source": [
    "# append\n",
    "tuple1=(1,2,3,)\n",
    "x=list(tuple1)\n",
    "x.append('6')\n",
    "tuple1=tuple(x)\n",
    "print(tuple1)\n",
    "\n",
    "\n",
    "tuple2=(1,2,3,4,)\n",
    "x=list(tuple2)\n",
    "x.append(\"15\")\n",
    "tuple2=tuple(x)\n",
    "print(tuple2)\n",
    "\n",
    "\n",
    "minhaj=('m','r','e')\n",
    "x=list(minhaj)\n",
    "x.append('u')\n",
    "minhaj=tuple(x)\n",
    "print(minhaj)\n"
   ]
  },
  {
   "cell_type": "code",
   "execution_count": 12,
   "id": "226b3dc5",
   "metadata": {},
   "outputs": [
    {
     "name": "stdout",
     "output_type": "stream",
     "text": [
      "('apple', 'ball', 'cat', 'dog')\n",
      "('bat', 'cat', 'rat', 'mat', 'hat')\n"
     ]
    }
   ],
   "source": [
    "# ADD WITH + OPERATORS\n",
    "tuple=('apple','ball','cat')\n",
    "y=(\"dog\",)\n",
    "tuple+=y\n",
    "print(tuple)\n",
    "\n",
    "tuple=('bat','cat','rat','mat')\n",
    "y=('hat',)\n",
    "tuple+=y\n",
    "print(tuple)"
   ]
  },
  {
   "cell_type": "code",
   "execution_count": 1,
   "id": "210a5aec",
   "metadata": {},
   "outputs": [
    {
     "name": "stdout",
     "output_type": "stream",
     "text": [
      "('banana', 'cherry')\n"
     ]
    }
   ],
   "source": [
    "# .remove method\n",
    "\n",
    "tuple1=('apple','banana','cherry')\n",
    "x=list(tuple1)\n",
    "x.remove('apple')\n",
    "tuple1=tuple(x)\n",
    "print(tuple1)"
   ]
  },
  {
   "cell_type": "code",
   "execution_count": 2,
   "id": "99396bb1",
   "metadata": {},
   "outputs": [],
   "source": [
    "thistuple = (\"apple\", \"banana\", \"cherry\")\n",
    "y = list(thistuple)\n",
    "y.remove(\"apple\")\n",
    "thistuple = tuple(y)"
   ]
  },
  {
   "cell_type": "code",
   "execution_count": 5,
   "id": "8c59dc35",
   "metadata": {},
   "outputs": [
    {
     "ename": "NameError",
     "evalue": "name 'tuple1' is not defined",
     "output_type": "error",
     "traceback": [
      "\u001b[1;31m---------------------------------------------------------------------------\u001b[0m",
      "\u001b[1;31mNameError\u001b[0m                                 Traceback (most recent call last)",
      "Input \u001b[1;32mIn [5]\u001b[0m, in \u001b[0;36m<cell line: 4>\u001b[1;34m()\u001b[0m\n\u001b[0;32m      2\u001b[0m tuple1\u001b[38;5;241m=\u001b[39m(\u001b[38;5;124m\"\u001b[39m\u001b[38;5;124mapple\u001b[39m\u001b[38;5;124m\"\u001b[39m,\u001b[38;5;124m\"\u001b[39m\u001b[38;5;124mball\u001b[39m\u001b[38;5;124m\"\u001b[39m,\u001b[38;5;124m\"\u001b[39m\u001b[38;5;124mcat\u001b[39m\u001b[38;5;124m\"\u001b[39m)\n\u001b[0;32m      3\u001b[0m \u001b[38;5;28;01mdel\u001b[39;00m tuple1\n\u001b[1;32m----> 4\u001b[0m \u001b[38;5;28mprint\u001b[39m(\u001b[43mtuple1\u001b[49m)\n",
      "\u001b[1;31mNameError\u001b[0m: name 'tuple1' is not defined"
     ]
    }
   ],
   "source": [
    "# del keyword\n",
    "tuple1=(\"apple\",\"ball\",\"cat\")\n",
    "del tuple1\n",
    "print(tuple1)"
   ]
  },
  {
   "cell_type": "code",
   "execution_count": 11,
   "id": "6121f883",
   "metadata": {},
   "outputs": [
    {
     "name": "stdout",
     "output_type": "stream",
     "text": [
      "rehman\n",
      "arman\n",
      "mnbg\n"
     ]
    }
   ],
   "source": [
    "# unpack tuple\n",
    "\n",
    "name=('rehman','arman','mnbg')\n",
    "(m,n,c)=name\n",
    "print(m) \n",
    "print(n) \n",
    "print(c)"
   ]
  },
  {
   "cell_type": "code",
   "execution_count": 16,
   "id": "1216038f",
   "metadata": {},
   "outputs": [
    {
     "name": "stdout",
     "output_type": "stream",
     "text": [
      "apple\n",
      "['banana', 'melon', 'cherry']\n",
      "apple\n",
      "['seb', 'lalseb', 'kalaseb']\n",
      "pagalapple\n"
     ]
    }
   ],
   "source": [
    "# using asterisk*\n",
    "name=(\"apple\",\"banana\",\"melon\",\"cherry\")\n",
    "(an,*man)=name\n",
    "print(an)\n",
    "print(man)\n",
    "\n",
    "\n",
    "man=('apple','seb','lalseb','kalaseb','pagalapple')\n",
    "(a,*b,c)=man\n",
    "print(a)\n",
    "print(b)\n",
    "print(c)\n",
    "\n",
    "\n"
   ]
  },
  {
   "cell_type": "code",
   "execution_count": 17,
   "id": "bf65dd67",
   "metadata": {},
   "outputs": [
    {
     "name": "stdout",
     "output_type": "stream",
     "text": [
      "('1', '2', '3', '4')\n"
     ]
    }
   ],
   "source": [
    "# join 2 tuples\n",
    "tuple1=('1','2','3','4')\n",
    "tuple2=('3','5','7')\n",
    "tuple3=tuple1+tuple2\n",
    "print(tuple1)"
   ]
  },
  {
   "cell_type": "code",
   "execution_count": 18,
   "id": "669afa4f",
   "metadata": {},
   "outputs": [
    {
     "name": "stdout",
     "output_type": "stream",
     "text": [
      "('a', 'b', 'c', 'd', 'a', 'b', 'c', 'd', 'a', 'b', 'c', 'd')\n"
     ]
    }
   ],
   "source": [
    "# mutiply tuple by 3\n",
    "fruits=('a','b','c','d')\n",
    "name=fruits *3\n",
    "print(name)\n",
    "\n"
   ]
  },
  {
   "cell_type": "code",
   "execution_count": 19,
   "id": "ef913eed",
   "metadata": {},
   "outputs": [
    {
     "name": "stdout",
     "output_type": "stream",
     "text": [
      "3\n"
     ]
    }
   ],
   "source": [
    "# count method\n",
    "thistuple = (1, 3, 7, 8,8, 7, 5, 4, 6, 8, 5)\n",
    "\n",
    "x = thistuple.count(8)\n",
    "\n",
    "print(x)\n"
   ]
  },
  {
   "cell_type": "code",
   "execution_count": 20,
   "id": "cd0c2c2b",
   "metadata": {},
   "outputs": [
    {
     "ename": "TypeError",
     "evalue": "descriptor 'index' for 'tuple' objects doesn't apply to a 'int' object",
     "output_type": "error",
     "traceback": [
      "\u001b[1;31m---------------------------------------------------------------------------\u001b[0m",
      "\u001b[1;31mTypeError\u001b[0m                                 Traceback (most recent call last)",
      "Input \u001b[1;32mIn [20]\u001b[0m, in \u001b[0;36m<cell line: 2>\u001b[1;34m()\u001b[0m\n\u001b[0;32m      1\u001b[0m name\u001b[38;5;241m=\u001b[39m(\u001b[38;5;124m'\u001b[39m\u001b[38;5;124m1\u001b[39m\u001b[38;5;124m'\u001b[39m,\u001b[38;5;124m'\u001b[39m\u001b[38;5;124m2\u001b[39m\u001b[38;5;124m'\u001b[39m,\u001b[38;5;124m'\u001b[39m\u001b[38;5;124m3\u001b[39m\u001b[38;5;124m'\u001b[39m,\u001b[38;5;124m'\u001b[39m\u001b[38;5;124m4\u001b[39m\u001b[38;5;124m'\u001b[39m)\n\u001b[1;32m----> 2\u001b[0m \u001b[38;5;28;43mtuple\u001b[39;49m\u001b[38;5;241;43m.\u001b[39;49m\u001b[43mindex\u001b[49m\u001b[43m(\u001b[49m\u001b[38;5;241;43m3\u001b[39;49m\u001b[43m)\u001b[49m\n\u001b[0;32m      3\u001b[0m \u001b[38;5;28mprint\u001b[39m(\u001b[38;5;28mtuple\u001b[39m)\n",
      "\u001b[1;31mTypeError\u001b[0m: descriptor 'index' for 'tuple' objects doesn't apply to a 'int' object"
     ]
    }
   ],
   "source": [
    "name=('1','2','3','4')\n",
    "tuple.index(3)\n",
    "print(tuple)"
   ]
  },
  {
   "cell_type": "markdown",
   "id": "7265352b",
   "metadata": {},
   "source": [
    "# SETS"
   ]
  },
  {
   "cell_type": "code",
   "execution_count": 9,
   "id": "c1658bbc",
   "metadata": {},
   "outputs": [
    {
     "name": "stdout",
     "output_type": "stream",
     "text": [
      "banana\n",
      "apple\n",
      "cherry\n",
      "False\n"
     ]
    }
   ],
   "source": [
    "#(in)keyword\n",
    "\n",
    "myset={\"apple\",\"banana\",\"cherry\"}\n",
    "for x in myset:\n",
    "    print(x)\n",
    "\n",
    "thisset={'a','b','c'}\n",
    "print('banana'in thisset)\n",
    "    "
   ]
  },
  {
   "cell_type": "code",
   "execution_count": 10,
   "id": "4e49f3ec",
   "metadata": {},
   "outputs": [
    {
     "name": "stdout",
     "output_type": "stream",
     "text": [
      "{'d', 'c', 'a', 'b'}\n"
     ]
    }
   ],
   "source": [
    "#ADD METHOD\n",
    "\n",
    "myset={'a','b','c',}\n",
    "myset.add('d')\n",
    "print(myset)"
   ]
  },
  {
   "cell_type": "code",
   "execution_count": 11,
   "id": "f6f60879",
   "metadata": {},
   "outputs": [
    {
     "name": "stdout",
     "output_type": "stream",
     "text": [
      "{'b', 'e', 'a', 'f', 'c', 'd'}\n"
     ]
    }
   ],
   "source": [
    "# update method\n",
    "thisset={'a','b','c'}\n",
    "myset={'d','e','f'}\n",
    "thisset.update(myset)\n",
    "print(thisset)"
   ]
  },
  {
   "cell_type": "code",
   "execution_count": 3,
   "id": "e19aeea6",
   "metadata": {},
   "outputs": [
    {
     "name": "stdout",
     "output_type": "stream",
     "text": [
      "{'shaikh', 'kela', 'minhaj', 'seb', 'banana', 'cat', 'apple'}\n"
     ]
    }
   ],
   "source": [
    "# it can be any iterable objet\n",
    "\n",
    "myset={\"apple\",\"banana\",\"cat\"}\n",
    "mylist=[\"seb\",\"kela\"]\n",
    "mytuple=(\"minhaj\",\"shaikh\")\n",
    "myset.update(mylist,mytuple)\n",
    "print(myset)"
   ]
  },
  {
   "cell_type": "code",
   "execution_count": 9,
   "id": "03a32357",
   "metadata": {},
   "outputs": [
    {
     "name": "stdout",
     "output_type": "stream",
     "text": [
      "{'shaikh', 'cat'}\n",
      "{'s', 'h'}\n"
     ]
    }
   ],
   "source": [
    "myset={'shaikh','kela','cat'}\n",
    "myset.remove('kela')\n",
    "print(myset)\n",
    "\n",
    "myset={'s','g','h'}\n",
    "myset.discard('g')\n",
    "print(myset)"
   ]
  },
  {
   "cell_type": "code",
   "execution_count": 17,
   "id": "c4e533b4",
   "metadata": {},
   "outputs": [
    {
     "name": "stdout",
     "output_type": "stream",
     "text": [
      "bat\n",
      "{'apple', 'dog', 'ball'}\n",
      "bat\n",
      "{'baby', 'box', 'ball'}\n",
      "all\n",
      "{'doll', 'call', 'ball'}\n"
     ]
    }
   ],
   "source": [
    "# pop(method)\n",
    "thisset={'apple','ball','cat','dog'}\n",
    "thisset.pop()\n",
    "print(x)\n",
    "print(thisset)\n",
    "\n",
    "set1={'bat','ball','box','baby'}\n",
    "set1.pop()\n",
    "print(x)\n",
    "print(set1)\n",
    "\n",
    "set2={'all','ball','call','doll'}\n",
    "x=set2.pop()\n",
    "print(x)\n",
    "print(set2)"
   ]
  },
  {
   "cell_type": "code",
   "execution_count": 18,
   "id": "d765bd10",
   "metadata": {},
   "outputs": [
    {
     "name": "stdout",
     "output_type": "stream",
     "text": [
      "set()\n"
     ]
    }
   ],
   "source": [
    "# clear method\n",
    "set2={'hat','rat','cat'}\n",
    "set2.clear()\n",
    "print(set2)"
   ]
  },
  {
   "cell_type": "code",
   "execution_count": 2,
   "id": "f88e1f44",
   "metadata": {},
   "outputs": [
    {
     "ename": "NameError",
     "evalue": "name 'thisset' is not defined",
     "output_type": "error",
     "traceback": [
      "\u001b[1;31m---------------------------------------------------------------------------\u001b[0m",
      "\u001b[1;31mNameError\u001b[0m                                 Traceback (most recent call last)",
      "Input \u001b[1;32mIn [2]\u001b[0m, in \u001b[0;36m<cell line: 5>\u001b[1;34m()\u001b[0m\n\u001b[0;32m      3\u001b[0m thisset\u001b[38;5;241m=\u001b[39m{\u001b[38;5;124m'\u001b[39m\u001b[38;5;124m1\u001b[39m\u001b[38;5;124m'\u001b[39m,\u001b[38;5;124m'\u001b[39m\u001b[38;5;124m2\u001b[39m\u001b[38;5;124m'\u001b[39m,\u001b[38;5;124m'\u001b[39m\u001b[38;5;124m3\u001b[39m\u001b[38;5;124m'\u001b[39m}\n\u001b[0;32m      4\u001b[0m \u001b[38;5;28;01mdel\u001b[39;00m thisset\n\u001b[1;32m----> 5\u001b[0m \u001b[38;5;28mprint\u001b[39m(\u001b[43mthisset\u001b[49m)\n",
      "\u001b[1;31mNameError\u001b[0m: name 'thisset' is not defined"
     ]
    }
   ],
   "source": [
    "# del keyword\n",
    "\n",
    "thisset={'1','2','3'}\n",
    "del thisset\n",
    "print(thisset)"
   ]
  },
  {
   "cell_type": "code",
   "execution_count": 3,
   "id": "094314ac",
   "metadata": {},
   "outputs": [
    {
     "name": "stdout",
     "output_type": "stream",
     "text": [
      "3\n",
      "2\n",
      "6\n"
     ]
    }
   ],
   "source": [
    "# loop items\n",
    "myset={'3','2','6'}\n",
    "for x in myset:\n",
    " print(x)"
   ]
  },
  {
   "cell_type": "code",
   "execution_count": 7,
   "id": "f008d5d5",
   "metadata": {},
   "outputs": [
    {
     "name": "stdout",
     "output_type": "stream",
     "text": [
      "{'b', 'a', '2', '5', '1'}\n"
     ]
    }
   ],
   "source": [
    "# join two sets\n",
    "# .union method\n",
    "set1={'a','b','5'}\n",
    "set2={'1','2','5'}\n",
    "set3=set1.union(set2)\n",
    "print(set3)"
   ]
  },
  {
   "cell_type": "code",
   "execution_count": 22,
   "id": "ec29a431",
   "metadata": {},
   "outputs": [
    {
     "name": "stdout",
     "output_type": "stream",
     "text": [
      "{'t', 'a', 'w', 'i', 'u', 'd'}\n"
     ]
    }
   ],
   "source": [
    "# update\n",
    "\n",
    "set1={'w','u','t'}\n",
    "set2={'a','d','i'}\n",
    "set1.update(set2)\n",
    "print(set1)"
   ]
  },
  {
   "cell_type": "code",
   "execution_count": 20,
   "id": "d5c34dba",
   "metadata": {},
   "outputs": [
    {
     "name": "stdout",
     "output_type": "stream",
     "text": [
      "{'an'}\n",
      "{'ruqaiya'}\n"
     ]
    }
   ],
   "source": [
    "# intersection_update\n",
    "a={'apple','ball','an','cat','rat'}\n",
    "b={'an','man'}\n",
    "a.intersection_update(b)\n",
    "print(a)\n",
    "\n",
    "# intersection\n",
    "\n",
    "a={'sumaiya','suraiya','ruqaiya'}\n",
    "b={'ruqaiya','minhaj','marya'}\n",
    "c=a.intersection(b)\n",
    "print(c)"
   ]
  },
  {
   "cell_type": "code",
   "execution_count": 23,
   "id": "efc4df08",
   "metadata": {},
   "outputs": [
    {
     "name": "stdout",
     "output_type": "stream",
     "text": [
      "{'c', 'e', 'f', 'a', 'd'}\n"
     ]
    }
   ],
   "source": [
    "# keep all but not theduplicates\n",
    "# symmetric_difference_update\n",
    "a={'a','b','c'}\n",
    "b={'d','b','e','f'}\n",
    "a.symmetric_difference_update(b)\n",
    "print(a)\n"
   ]
  },
  {
   "cell_type": "markdown",
   "id": "770b2ac8",
   "metadata": {},
   "source": [
    "# DICTIONARIES"
   ]
  },
  {
   "cell_type": "code",
   "execution_count": 50,
   "id": "0664d007",
   "metadata": {},
   "outputs": [
    {
     "name": "stdout",
     "output_type": "stream",
     "text": [
      "<class 'set'>\n",
      "{'b', 'a'}\n"
     ]
    }
   ],
   "source": [
    "set=('a','b')\n",
    "print(type(x))\n",
    "print(x)"
   ]
  },
  {
   "cell_type": "code",
   "execution_count": 50,
   "id": "5925266d",
   "metadata": {},
   "outputs": [
    {
     "name": "stdout",
     "output_type": "stream",
     "text": [
      "24\n",
      "2\n",
      "c\n",
      "dict_keys(['my', 'why'])\n"
     ]
    }
   ],
   "source": [
    "# print the \"age\"value of the dict\n",
    "mydict={\n",
    "    \"minhaj\":\"shaikh\",\n",
    "    \"suraiya\":\"khan\",\n",
    "    \"age\":24   \n",
    "}\n",
    "print(mydict[\"age\"])\n",
    "\n",
    "# print(x)\n",
    "\n",
    "thisdict={\n",
    "    'a':'1',\n",
    "    'b':'2'\n",
    "}\n",
    "x=thisdict['b']\n",
    "print(x)\n",
    "\n",
    "# get()method\n",
    "\n",
    "dict1={\n",
    "    '1':'a',\n",
    "    '2':'b',\n",
    "    '3':'c'\n",
    "}\n",
    "x=dict1.get('3')\n",
    "print(x)\n",
    "\n",
    "# keys method\n",
    "dict2={\n",
    "    'my':'no',\n",
    "    'why':'yes',\n",
    "}\n",
    "x=dict2.keys()\n",
    "print(x)\n"
   ]
  },
  {
   "cell_type": "markdown",
   "id": "7b7dadf0",
   "metadata": {},
   "source": []
  },
  {
   "cell_type": "code",
   "execution_count": 45,
   "id": "31c18e69",
   "metadata": {},
   "outputs": [
    {
     "name": "stdout",
     "output_type": "stream",
     "text": [
      "{'suma': 'khan', 'huma': 'age', 'ruhma': 142}\n"
     ]
    }
   ],
   "source": [
    "# creat and print a dictionary\n",
    "mydict={\n",
    "    \"suma\":\"khan\",\n",
    "    \"huma\":\"age\",\n",
    "    \"ruhma\":142,\n",
    "}\n",
    "print(mydict)"
   ]
  },
  {
   "cell_type": "code",
   "execution_count": 46,
   "id": "51fc65c5",
   "metadata": {},
   "outputs": [
    {
     "name": "stdout",
     "output_type": "stream",
     "text": [
      "{'name': 'reena', 'age': '23'}\n"
     ]
    }
   ],
   "source": [
    "# duplicate not allowed\n",
    "mydict={\n",
    "    \"name\":'neha',\n",
    "    \"name\":\"reena\",\n",
    "    \"age\":'23',\n",
    "}\n",
    "print(mydict)\n"
   ]
  },
  {
   "cell_type": "code",
   "execution_count": 15,
   "id": "7ea9340b",
   "metadata": {},
   "outputs": [
    {
     "name": "stdout",
     "output_type": "stream",
     "text": [
      "2\n"
     ]
    }
   ],
   "source": [
    "# len()function\n",
    "mydict={\n",
    "    \"name\":'neha',\n",
    "    \"name\":\"reena\",\n",
    "    \"age\":'23',\n",
    "}\n",
    "print(len(mydict))"
   ]
  },
  {
   "cell_type": "code",
   "execution_count": 32,
   "id": "afa08f24",
   "metadata": {},
   "outputs": [
    {
     "name": "stdout",
     "output_type": "stream",
     "text": [
      "{'an': '1', 'man': '2.1', 'pan': '23', 'ban': False, 'color': ['red', 'yellow', 'blue'], 'fruits': ('apple', 'banana')}\n"
     ]
    }
   ],
   "source": [
    "# any data type\n",
    "mydict={\n",
    "    'an':'1',\n",
    "    'man':'2.1',\n",
    "    'pan':'23',\n",
    "    'ban':False,\n",
    "    'color':[\"red\",\"yellow\",\"blue\"],\n",
    "    'fruits':('apple','banana')\n",
    "}\n",
    "print(mydict)"
   ]
  },
  {
   "cell_type": "code",
   "execution_count": 39,
   "id": "88023897",
   "metadata": {},
   "outputs": [
    {
     "name": "stdout",
     "output_type": "stream",
     "text": [
      "<class 'dict'>\n",
      "<class 'dict'>\n",
      "<class 'set'>\n"
     ]
    }
   ],
   "source": [
    "# type()method\n",
    "mydict={}\n",
    "print(type(mydict))\n",
    "\n",
    "myset={}\n",
    "print(type(myset))\n",
    "\n",
    "myset={'w','e'}\n",
    "print(type(myset))\n",
    "\n",
    "\n"
   ]
  },
  {
   "cell_type": "code",
   "execution_count": 5,
   "id": "23780f50",
   "metadata": {},
   "outputs": [
    {
     "name": "stdout",
     "output_type": "stream",
     "text": [
      "dict_keys(['name', 'model', 'year'])\n",
      "dict_keys(['name', 'model', 'year', 'color'])\n"
     ]
    }
   ],
   "source": [
    "# keys method\n",
    "car={\n",
    "    'name':'nano',\n",
    "    'model':'ola',\n",
    "    'year':'1998'\n",
    "}\n",
    "x=car.keys()\n",
    "print(x)\n",
    "car['color']='black'\n",
    "print (x)"
   ]
  },
  {
   "cell_type": "code",
   "execution_count": 65,
   "id": "9508ceaf",
   "metadata": {},
   "outputs": [
    {
     "name": "stdout",
     "output_type": "stream",
     "text": [
      "dict_values(['ola', 'mcgm', '1998'])\n",
      "dict_values(['ola', 'mcgm', '1998', 'vip'])\n",
      "dict_values(['ola', 'mcgm', '345', 'vip'])\n"
     ]
    }
   ],
   "source": [
    "# values method\n",
    "car={\n",
    "    'name':'ola',\n",
    "    'model':'mcgm',\n",
    "    'year':'1998'\n",
    "    \n",
    "}\n",
    "x=car.values()\n",
    "print(x)\n",
    "car['brand']='vip'\n",
    "print(x)\n",
    "car['year']='345'\n",
    "print(x)\n"
   ]
  },
  {
   "cell_type": "code",
   "execution_count": 67,
   "id": "2e2c7d4c",
   "metadata": {},
   "outputs": [
    {
     "name": "stdout",
     "output_type": "stream",
     "text": [
      "dict_items([('name', 'jahan'), ('education', 'phd'), ('age', '24')])\n",
      "dict_items([('name', 'jahan'), ('education', 'phd'), ('age', '24'), ('birth year', '1998')])\n"
     ]
    }
   ],
   "source": [
    "# items.methods\n",
    "teacher={\n",
    "    'name':'jahan',\n",
    "    'education':'phd',\n",
    "    'age':'24'\n",
    "}\n",
    "x=teacher.items()\n",
    "print(x)\n",
    "teacher['birth year']='1998'\n",
    "print(x)"
   ]
  },
  {
   "cell_type": "code",
   "execution_count": 69,
   "id": "0141ee78",
   "metadata": {},
   "outputs": [
    {
     "name": "stdout",
     "output_type": "stream",
     "text": [
      "yes\n"
     ]
    }
   ],
   "source": [
    "# use in()keyword\n",
    "\n",
    "doctor={\n",
    "    'marya':'khan',\n",
    "    'age':'24',\n",
    "    'degree':'mbbs'\n",
    "}\n",
    "if 'degree' in doctor:\n",
    "    print('yes',)"
   ]
  },
  {
   "cell_type": "code",
   "execution_count": 3,
   "id": "4264e021",
   "metadata": {},
   "outputs": [
    {
     "name": "stdout",
     "output_type": "stream",
     "text": [
      "{'anam': 'khan', 'age': '23', 'fatima': 'khan', 'year': '25'}\n"
     ]
    }
   ],
   "source": [
    "# change values\n",
    "student={\n",
    "    \"anam\":\"khan\",\n",
    "    \"age\":\"24\",\n",
    "    \"fatima\":\"khan\",\n",
    "    \"year\":\"25\"\n",
    "}\n",
    "student[\"age\"]=\"23\"\n",
    "print(student)"
   ]
  },
  {
   "cell_type": "code",
   "execution_count": 4,
   "id": "e190dd04",
   "metadata": {},
   "outputs": [
    {
     "name": "stdout",
     "output_type": "stream",
     "text": [
      "{'marya': 'shaikh', 'edu': 'bed', 'age': '30'}\n"
     ]
    }
   ],
   "source": [
    "# update()method\n",
    "teacher={\n",
    "    \"marya\":\"khan\",\n",
    "    \"edu\":\"bed\",\n",
    "    \"age\":\"30\"\n",
    "    \n",
    "}\n",
    "teacher.update({\"marya\":\"shaikh\"})\n",
    "print(teacher)\n",
    "\n",
    "    \n",
    "    "
   ]
  },
  {
   "cell_type": "code",
   "execution_count": 6,
   "id": "ef7d86f8",
   "metadata": {},
   "outputs": [
    {
     "name": "stdout",
     "output_type": "stream",
     "text": [
      "{'model': 'mk', 'brand': 'vip', 'year': '1997', 'name': 'nano'}\n"
     ]
    }
   ],
   "source": [
    "# adding items\n",
    "car={\n",
    "    \"model\":\"mk\",\n",
    "    \"brand\":\"vip\",\n",
    "    \"year\":\"1997\"\n",
    "    \n",
    "}\n",
    "car[\"name\"]=\"nano\"\n",
    "print(car)"
   ]
  },
  {
   "cell_type": "code",
   "execution_count": 7,
   "id": "f61b8033",
   "metadata": {},
   "outputs": [
    {
     "name": "stdout",
     "output_type": "stream",
     "text": [
      "{'name': 'nano', 'brand': 'oppo', 'color': 'black'}\n"
     ]
    }
   ],
   "source": [
    "# update method with adding the item\n",
    "car={\n",
    "    \"name\":\"nano\",\n",
    "    \"brand\":\"oppo\"\n",
    "}\n",
    "car.update({\"color\":\"black\"})\n",
    "print(car)"
   ]
  },
  {
   "cell_type": "code",
   "execution_count": 21,
   "id": "9047aea9",
   "metadata": {},
   "outputs": [
    {
     "name": "stdout",
     "output_type": "stream",
     "text": [
      "{'neha': 'khan'}\n",
      "{'nargis': 'khan'}\n",
      "{'oppo': 'nokia'}\n"
     ]
    },
    {
     "ename": "NameError",
     "evalue": "name 'mobile' is not defined",
     "output_type": "error",
     "traceback": [
      "\u001b[1;31m---------------------------------------------------------------------------\u001b[0m",
      "\u001b[1;31mNameError\u001b[0m                                 Traceback (most recent call last)",
      "Input \u001b[1;32mIn [21]\u001b[0m, in \u001b[0;36m<cell line: 32>\u001b[1;34m()\u001b[0m\n\u001b[0;32m     27\u001b[0m mobile\u001b[38;5;241m=\u001b[39m{\n\u001b[0;32m     28\u001b[0m     \u001b[38;5;124m\"\u001b[39m\u001b[38;5;124moppo\u001b[39m\u001b[38;5;124m\"\u001b[39m:\u001b[38;5;124m\"\u001b[39m\u001b[38;5;124mnokia\u001b[39m\u001b[38;5;124m\"\u001b[39m,\n\u001b[0;32m     29\u001b[0m     \u001b[38;5;124m\"\u001b[39m\u001b[38;5;124msamsung\u001b[39m\u001b[38;5;124m\"\u001b[39m:\u001b[38;5;124m\"\u001b[39m\u001b[38;5;124mmotorolla\u001b[39m\u001b[38;5;124m\"\u001b[39m,\n\u001b[0;32m     30\u001b[0m }\n\u001b[0;32m     31\u001b[0m \u001b[38;5;28;01mdel\u001b[39;00m mobile\n\u001b[1;32m---> 32\u001b[0m \u001b[38;5;28mprint\u001b[39m(\u001b[43mmobile\u001b[49m)\n",
      "\u001b[1;31mNameError\u001b[0m: name 'mobile' is not defined"
     ]
    }
   ],
   "source": [
    "# remove items\n",
    "t={\n",
    "    \"neha\":\"khan\",\n",
    "    \"age\":\"28\"\n",
    "}\n",
    "t.pop(\"age\")\n",
    "print(t)\n",
    "\n",
    "# pop items\n",
    "s={\n",
    "    \"nargis\":\"khan\",\n",
    "    \"occupation\":\"teachr\"\n",
    "    \n",
    "}\n",
    "s.popitem()\n",
    "print(s)\n",
    "\n",
    "# del keyword\n",
    "\n",
    "mobile={\n",
    "    \"oppo\":\"nokia\",\n",
    "    \"samsung\":\"motorolla\",\n",
    "}\n",
    "del mobile[\"samsung\"]\n",
    "print(mobile)\n",
    "\n",
    "mobile={\n",
    "    \"oppo\":\"nokia\",\n",
    "    \"samsung\":\"motorolla\",\n",
    "}\n",
    "del mobile\n",
    "print(mobile)\n",
    "\n"
   ]
  },
  {
   "cell_type": "code",
   "execution_count": 23,
   "id": "2ed85377",
   "metadata": {},
   "outputs": [
    {
     "name": "stdout",
     "output_type": "stream",
     "text": [
      "{}\n"
     ]
    }
   ],
   "source": [
    "# clear()method\n",
    "phon={\n",
    "    \"mi\":\"nokia\",\n",
    "    \"redmi\":95\n",
    "    \n",
    "}\n",
    "phon.clear()\n",
    "print(phon)"
   ]
  },
  {
   "cell_type": "code",
   "execution_count": 24,
   "id": "512e60b7",
   "metadata": {},
   "outputs": [
    {
     "name": "stdout",
     "output_type": "stream",
     "text": [
      "bajaj\n",
      "lg\n"
     ]
    }
   ],
   "source": [
    "# for loop\n",
    "mydict={\n",
    "    \"bajaj\":\"iron\",\n",
    "    \"lg\":\"fridge\"\n",
    "}\n",
    "for x in mydict:\n",
    "    print(x)"
   ]
  },
  {
   "cell_type": "code",
   "execution_count": 25,
   "id": "e73bb5e5",
   "metadata": {},
   "outputs": [
    {
     "name": "stdout",
     "output_type": "stream",
     "text": [
      "18000\n",
      "1200\n"
     ]
    }
   ],
   "source": [
    "thisdict={\n",
    "    \"washingmachine\":\"18000\",\n",
    "    \"washbesen\":\"1200\"\n",
    "}\n",
    "for x in thisdict:\n",
    "    print(thisdict[x])"
   ]
  },
  {
   "cell_type": "code",
   "execution_count": 27,
   "id": "177f01ef",
   "metadata": {},
   "outputs": [
    {
     "name": "stdout",
     "output_type": "stream",
     "text": [
      "add\n",
      "and\n"
     ]
    }
   ],
   "source": [
    "# values()method\n",
    "mydict={\n",
    "    \"as\":\"add\",\n",
    "    \"an\":\"and\"\n",
    "}\n",
    "for x in mydict.values():\n",
    "    print(x)"
   ]
  },
  {
   "cell_type": "code",
   "execution_count": 29,
   "id": "35519410",
   "metadata": {},
   "outputs": [
    {
     "name": "stdout",
     "output_type": "stream",
     "text": [
      "washingmachine\n",
      "washbesen\n"
     ]
    }
   ],
   "source": [
    "# keys()method\n",
    "thisdict={\n",
    "    \"washingmachine\":\"18000\",\n",
    "    \"washbesen\":\"1200\"\n",
    "}\n",
    "for x in thisdict.keys():\n",
    "    print(x)"
   ]
  },
  {
   "cell_type": "code",
   "execution_count": 30,
   "id": "aea7dca4",
   "metadata": {},
   "outputs": [
    {
     "name": "stdout",
     "output_type": "stream",
     "text": [
      "('washingmachine', '18000')\n",
      "('washbesen', '1200')\n"
     ]
    }
   ],
   "source": [
    "# items() method\n",
    "thisdict={\n",
    "    \"washingmachine\":\"18000\",\n",
    "    \"washbesen\":\"1200\"\n",
    "}\n",
    "for x in thisdict.items():\n",
    "    print(x)"
   ]
  },
  {
   "cell_type": "code",
   "execution_count": 31,
   "id": "5bd81f67",
   "metadata": {},
   "outputs": [
    {
     "name": "stdout",
     "output_type": "stream",
     "text": [
      "{'pen': '5', 'pencil': 9, 'book': '8'}\n"
     ]
    }
   ],
   "source": [
    "# copy method\n",
    "thisdict={\n",
    "    \"pen\":\"5\",\n",
    "    \"pencil\":9,\n",
    "    \"book\":\"8\"\n",
    "}\n",
    "mydict=thisdict.copy()\n",
    "print(mydict)"
   ]
  },
  {
   "cell_type": "code",
   "execution_count": 32,
   "id": "04b55986",
   "metadata": {},
   "outputs": [
    {
     "name": "stdout",
     "output_type": "stream",
     "text": [
      "{'pen': '5', 'pencil': 9, 'book': '8'}\n"
     ]
    }
   ],
   "source": [
    "# dict function\n",
    "\n",
    "thisdict={\n",
    "    \"pen\":\"5\",\n",
    "    \"pencil\":9,\n",
    "    \"book\":\"8\"\n",
    "}\n",
    "mydict=dict(thisdict)\n",
    "print(mydict)"
   ]
  },
  {
   "cell_type": "code",
   "execution_count": 2,
   "id": "365c1d37",
   "metadata": {},
   "outputs": [
    {
     "name": "stdout",
     "output_type": "stream",
     "text": [
      "{'sisters': {'name': 'sanya', 'year': '2005'}, 'brothers': {'name': 'musanna', 'year': '1994'}, 'mothers': {'name': 'fatima', 'age': '50'}}\n"
     ]
    }
   ],
   "source": [
    "# nested dictionaries\n",
    "family={\n",
    "    \"sisters\":{\n",
    "        \"name\":\"sanya\",\n",
    "        \"year\":\"2005\"\n",
    "    },\"brothers\":{\n",
    "        \"name\":\"musanna\",\n",
    "        \"year\":\"1994\"\n",
    "    },\"mothers\":{\n",
    "        \"name\":\"fatima\",\n",
    "        \"age\":\"50\"\n",
    "    }\n",
    "\n",
    "}\n",
    "print(family)"
   ]
  },
  {
   "cell_type": "code",
   "execution_count": 3,
   "id": "06ee902d",
   "metadata": {},
   "outputs": [
    {
     "name": "stdout",
     "output_type": "stream",
     "text": [
      "{'child1': {'name': 'hamza', 'age': '3'}, 'child2': {'name': 'zuhaira', 'age': '5'}, 'child3': {'name': 'ibrahim', 'age': '6'}}\n"
     ]
    }
   ],
   "source": [
    "child1={\n",
    "    \"name\":\"hamza\",\n",
    "    \"age\":\"3\"\n",
    "}\n",
    "child2={\n",
    "    \"name\":\"zuhaira\",\n",
    "    \"age\":\"5\"\n",
    "}\n",
    "child3={\n",
    "    \"name\":\"ibrahim\",\n",
    "    \"age\":\"6\"\n",
    "}\n",
    "myfamily={\n",
    "    \"child1\":child1,\n",
    "    \"child2\":child2,\n",
    "    \"child3\":child3,\n",
    "}\n",
    "print(myfamily)"
   ]
  },
  {
   "cell_type": "code",
   "execution_count": 6,
   "id": "52f59d4f",
   "metadata": {},
   "outputs": [
    {
     "name": "stdout",
     "output_type": "stream",
     "text": [
      "b is greater than a\n"
     ]
    }
   ],
   "source": [
    "# if statement\n",
    "a=100\n",
    "b=200\n",
    "if b > a:\n",
    "    print(\"b is greater than a\")"
   ]
  },
  {
   "cell_type": "code",
   "execution_count": 8,
   "id": "54b3607d",
   "metadata": {},
   "outputs": [
    {
     "name": "stdout",
     "output_type": "stream",
     "text": [
      "a and b are equal\n"
     ]
    }
   ],
   "source": [
    "# elif keyword\n",
    "a=200\n",
    "b=200\n",
    "if b > a:\n",
    "    print(\"b is greater than a\")\n",
    "elif a==b:\n",
    "    print(\"a and b are equal\")\n",
    "\n",
    "    "
   ]
  },
  {
   "cell_type": "code",
   "execution_count": 10,
   "id": "ea51dd50",
   "metadata": {},
   "outputs": [
    {
     "name": "stdout",
     "output_type": "stream",
     "text": [
      "b is greater than a\n"
     ]
    }
   ],
   "source": [
    "# else keyword\n",
    "a=20\n",
    "b=30\n",
    "if a > b:\n",
    "    print(\"a is greater than b\")\n",
    "elif a==b:\n",
    "    print(\"a and b are equal\")\n",
    "else:\n",
    "    print(\"b is greater than a\")"
   ]
  },
  {
   "cell_type": "code",
   "execution_count": 11,
   "id": "8c56eea1",
   "metadata": {},
   "outputs": [
    {
     "name": "stdout",
     "output_type": "stream",
     "text": [
      "b is greater than equal\n"
     ]
    }
   ],
   "source": [
    "# short hand if \n",
    "a=100\n",
    "b=200\n",
    "if a < b:print(\"b is greater than equal\")"
   ]
  },
  {
   "cell_type": "code",
   "execution_count": 12,
   "id": "b97628f9",
   "metadata": {},
   "outputs": [
    {
     "name": "stdout",
     "output_type": "stream",
     "text": [
      "b\n"
     ]
    }
   ],
   "source": [
    "# if else\n",
    "a=100\n",
    "b=200\n",
    "print(\"A\")if a > b else print (\"b\")"
   ]
  },
  {
   "cell_type": "code",
   "execution_count": 15,
   "id": "66d0f4d7",
   "metadata": {},
   "outputs": [
    {
     "name": "stdout",
     "output_type": "stream",
     "text": [
      "level\n",
      "level\n"
     ]
    }
   ],
   "source": [
    "# stings\n",
    "# to check weather a given string is a palindrome?\n",
    "b=\"level\"\n",
    "print(b[0:5])\n",
    "print(b[-5:5])\n"
   ]
  },
  {
   "cell_type": "code",
   "execution_count": 21,
   "id": "2f926e2f",
   "metadata": {},
   "outputs": [
    {
     "name": "stdout",
     "output_type": "stream",
     "text": [
      "Minhaj is a good girl\n"
     ]
    }
   ],
   "source": [
    "# to capitalize the first character in a given sentence:\n",
    "a=\"minhaj is a good girl\"\n",
    "x=a.capitalize()\n",
    "print(x)"
   ]
  },
  {
   "cell_type": "code",
   "execution_count": 15,
   "id": "175223ce",
   "metadata": {},
   "outputs": [
    {
     "name": "stdout",
     "output_type": "stream",
     "text": [
      "['hello']\n"
     ]
    }
   ],
   "source": [
    "# program to convert string to a list\n",
    "txt=\"hello\"\n",
    "x=txt.split()\n",
    "print(x)"
   ]
  },
  {
   "cell_type": "code",
   "execution_count": 8,
   "id": "dce7d69e",
   "metadata": {},
   "outputs": [
    {
     "name": "stdout",
     "output_type": "stream",
     "text": [
      "ball\n",
      "hello\n",
      "why\n"
     ]
    }
   ],
   "source": [
    "# to sort alphabetically the words in a given sentence\n",
    "x= \"hello why ball\"\n",
    "words=x.split()\n",
    "words.sort()\n",
    "for word in words:\n",
    "   print(word)\n"
   ]
  },
  {
   "cell_type": "code",
   "execution_count": 9,
   "id": "82e63a7b",
   "metadata": {},
   "outputs": [
    {
     "name": "stdout",
     "output_type": "stream",
     "text": [
      "My name is khan\n"
     ]
    }
   ],
   "source": [
    "# (1)\n",
    "# to demonstrate any 10 functions of string class\n",
    "mystr=\"my name is khan\"\n",
    "x=mystr.capitalize()\n",
    "print(x)"
   ]
  },
  {
   "cell_type": "code",
   "execution_count": 4,
   "id": "903f0136",
   "metadata": {},
   "outputs": [
    {
     "name": "stdout",
     "output_type": "stream",
     "text": [
      "My name is khan\n"
     ]
    }
   ],
   "source": [
    "# (2)\n",
    "# to demonstrate any 10 functions of string class\n",
    "mystr=\"my name is khan\"\n",
    "x=mystr.capitalize()\n",
    "print(x)"
   ]
  },
  {
   "cell_type": "code",
   "execution_count": 5,
   "id": "4d584e17",
   "metadata": {},
   "outputs": [
    {
     "name": "stdout",
     "output_type": "stream",
     "text": [
      "2\n"
     ]
    }
   ],
   "source": [
    "# (3)\n",
    "# count\n",
    "fruits=\" apple is my fav and banana and orange also\"\n",
    "x=fruits.count(\"and\")\n",
    "print(x)"
   ]
  },
  {
   "cell_type": "code",
   "execution_count": 14,
   "id": "290282a3",
   "metadata": {},
   "outputs": [
    {
     "name": "stdout",
     "output_type": "stream",
     "text": [
      "True\n"
     ]
    }
   ],
   "source": [
    "# (4)\n",
    "# isspace\n",
    "car=\"  \"\n",
    "x=car.isspace()\n",
    "print(x)"
   ]
  },
  {
   "cell_type": "code",
   "execution_count": 15,
   "id": "a39cbf7a",
   "metadata": {},
   "outputs": [
    {
     "name": "stdout",
     "output_type": "stream",
     "text": [
      "True\n"
     ]
    }
   ],
   "source": [
    "# (5)\n",
    "# isalnum\n",
    "car=\"nano12\"\n",
    "x=car.isalnum()\n",
    "print(x)"
   ]
  },
  {
   "cell_type": "code",
   "execution_count": 20,
   "id": "81605d57",
   "metadata": {},
   "outputs": [
    {
     "name": "stdout",
     "output_type": "stream",
     "text": [
      "3\n"
     ]
    }
   ],
   "source": [
    "# (6)\n",
    "txt=\"my name is khan.\"\n",
    "x=txt.rindex(\"name\")\n",
    "print(x)"
   ]
  },
  {
   "cell_type": "code",
   "execution_count": 26,
   "id": "7c64a991",
   "metadata": {},
   "outputs": [
    {
     "name": "stdout",
     "output_type": "stream",
     "text": [
      "('kal', 'aj', 'parso')\n"
     ]
    }
   ],
   "source": [
    "# (7)\n",
    "# join(\"\")\n",
    "on=(\"kal\",\"aj\",\"parso\")\n",
    "x=\"#\".join(on)\n",
    "print(on)"
   ]
  },
  {
   "cell_type": "code",
   "execution_count": 29,
   "id": "30f295e2",
   "metadata": {},
   "outputs": [
    {
     "name": "stdout",
     "output_type": "stream",
     "text": [
      "4\n"
     ]
    }
   ],
   "source": [
    "# (8)\n",
    "# rfind\n",
    "txt=(\"kal parso narso\")\n",
    "x=txt.rfind('parso')\n",
    "print(x)"
   ]
  },
  {
   "cell_type": "code",
   "execution_count": 31,
   "id": "de2dd63a",
   "metadata": {},
   "outputs": [
    {
     "name": "stdout",
     "output_type": "stream",
     "text": [
      "HELLO MY WORLD\n"
     ]
    }
   ],
   "source": [
    "# (9)\n",
    "# swapcase\n",
    "txt=(\"hello my world\")\n",
    "x=txt.swapcase()\n",
    "print(x)"
   ]
  },
  {
   "cell_type": "code",
   "execution_count": 36,
   "id": "b6bc2c23",
   "metadata": {},
   "outputs": [
    {
     "name": "stdout",
     "output_type": "stream",
     "text": [
      "0000000050\n"
     ]
    }
   ],
   "source": [
    "# (10)\n",
    "# zfill\n",
    "txt=\"50\"\n",
    "x=txt.zfill(10)\n",
    "print(x)"
   ]
  },
  {
   "cell_type": "code",
   "execution_count": 47,
   "id": "0dbb1229",
   "metadata": {},
   "outputs": [
    {
     "name": "stdout",
     "output_type": "stream",
     "text": [
      "ello w\n",
      "fello world\n",
      "fello world\n",
      "orl\n",
      "fel\n"
     ]
    }
   ],
   "source": [
    "# to demonstrate string slice\n",
    "x=\"fello world\"\n",
    "print(x[1:7])\n",
    "print(x[:40])\n",
    "print(x[0:40])\n",
    "print(x[-4:-1])\n",
    "print(x[:-8])"
   ]
  },
  {
   "cell_type": "code",
   "execution_count": 52,
   "id": "5854225c",
   "metadata": {},
   "outputs": [
    {
     "name": "stdout",
     "output_type": "stream",
     "text": [
      "True\n"
     ]
    }
   ],
   "source": [
    "# to check substring is present in a given string this should be complete by EOD\n",
    "x=\"mumbai coding club\"\n",
    "print(\"coding\" in x)\n"
   ]
  },
  {
   "cell_type": "markdown",
   "id": "2f27c7ce",
   "metadata": {},
   "source": [
    "# if"
   ]
  },
  {
   "cell_type": "code",
   "execution_count": 4,
   "id": "0a45492d",
   "metadata": {},
   "outputs": [
    {
     "name": "stdout",
     "output_type": "stream",
     "text": [
      "==\n"
     ]
    }
   ],
   "source": [
    "# one line if else statement \n",
    "a=30\n",
    "b=30\n",
    "print(\"A\")if a > b else print(\"==\")if a==b else print(\"B\")"
   ]
  },
  {
   "cell_type": "code",
   "execution_count": 2,
   "id": "2bf90075",
   "metadata": {},
   "outputs": [
    {
     "name": "stdout",
     "output_type": "stream",
     "text": [
      "both conditions are true\n"
     ]
    }
   ],
   "source": [
    "# and logical operators\n",
    "a=500\n",
    "b=300\n",
    "c=200\n",
    "if a > b and c < b:\n",
    "    print(\"both conditions are true\")"
   ]
  },
  {
   "cell_type": "code",
   "execution_count": 9,
   "id": "42a53fc8",
   "metadata": {},
   "outputs": [
    {
     "name": "stdout",
     "output_type": "stream",
     "text": [
      "at leat one condition is true\n"
     ]
    }
   ],
   "source": [
    "# OR keyword\n",
    "x=100 \n",
    "y=200\n",
    "z=300\n",
    "# print(a > b or z > y)\n",
    "if x > y or z > y:\n",
    "    print(\"at leat one condition is true\")\n"
   ]
  },
  {
   "cell_type": "code",
   "execution_count": 18,
   "id": "28d97d01",
   "metadata": {},
   "outputs": [
    {
     "name": "stdout",
     "output_type": "stream",
     "text": [
      "true\n",
      "true\n"
     ]
    }
   ],
   "source": [
    "# NESTED IF \n",
    "x=50\n",
    "if x < 60:\n",
    "    print(\"true\")\n",
    "    if x >40:\n",
    "        print(\"true\")\n",
    "    else:\n",
    "            print(false)"
   ]
  },
  {
   "cell_type": "code",
   "execution_count": 20,
   "id": "35c24292",
   "metadata": {},
   "outputs": [],
   "source": [
    "# if statement with no content but with pass statement\n",
    "a=200\n",
    "b=300\n",
    "if a < b:\n",
    "    pass"
   ]
  },
  {
   "cell_type": "code",
   "execution_count": null,
   "id": "fc7a43ce",
   "metadata": {},
   "outputs": [],
   "source": [
    "\n"
   ]
  },
  {
   "cell_type": "code",
   "execution_count": null,
   "id": "d8761da5",
   "metadata": {},
   "outputs": [],
   "source": []
  },
  {
   "cell_type": "markdown",
   "id": "d4afef64",
   "metadata": {},
   "source": [
    "# list task\n",
    "\n",
    "\n",
    "        \n"
   ]
  },
  {
   "cell_type": "code",
   "execution_count": 16,
   "id": "04564be8",
   "metadata": {},
   "outputs": [
    {
     "name": "stdout",
     "output_type": "stream",
     "text": [
      "['apple', 'ball', 'cat']\n"
     ]
    }
   ],
   "source": [
    "# (1)TO CREAT 5 DIFFERENT LIST USIN LIST COMPREHENSION METHOD loop method\n",
    "\n",
    "list1=[\"apple\",\"ball\",\"cat\",\"dog\"]\n",
    "newlist=[]\n",
    "for x in list1:\n",
    "    if \"a\" in x:\n",
    "        newlist.append(x)\n",
    "print(newlist)\n"
   ]
  },
  {
   "cell_type": "code",
   "execution_count": 18,
   "id": "f824286b",
   "metadata": {},
   "outputs": [
    {
     "name": "stdout",
     "output_type": "stream",
     "text": [
      "['apple', 'banana']\n"
     ]
    }
   ],
   "source": [
    "# with lis comprehension we can do all that with only one line of code\n",
    "\n",
    "fruits=[\"apple\",\"cherry\",\"banana\",\"lichi\"]\n",
    "newlist=[x for x in fruits if \"a\"in x ]\n",
    "print(newlist)"
   ]
  },
  {
   "cell_type": "code",
   "execution_count": 19,
   "id": "79ef27bf",
   "metadata": {},
   "outputs": [
    {
     "name": "stdout",
     "output_type": "stream",
     "text": [
      "['apple', 'banana', 'lichi']\n"
     ]
    }
   ],
   "source": [
    "# only execpt items that are not \"cherry\"\n",
    "\n",
    "fruits=[\"apple\",\"cherry\",\"banana\",\"lichi\"]\n",
    "newlist=[x for x in fruits if x!=\"cherry\" ]\n",
    "print(newlist)"
   ]
  },
  {
   "cell_type": "code",
   "execution_count": 21,
   "id": "74a7945f",
   "metadata": {},
   "outputs": [
    {
     "name": "stdout",
     "output_type": "stream",
     "text": [
      "['hello', 'hello', 'hello', 'hello']\n"
     ]
    }
   ],
   "source": [
    "# set all values in the new list\n",
    "\n",
    "fruits=[\"apple\",\"cherry\",\"banana\",\"lichi\"]\n",
    "newlist=[\"hello\" for x in fruits]\n",
    "print(newlist)"
   ]
  },
  {
   "cell_type": "code",
   "execution_count": 4,
   "id": "f80142f3",
   "metadata": {},
   "outputs": [
    {
     "name": "stdout",
     "output_type": "stream",
     "text": [
      "['apple', 'cherry', 'orange', 'lichi']\n"
     ]
    }
   ],
   "source": [
    "# if else\n",
    "\n",
    "fruits=[\"apple\",\"cherry\",\"banana\",\"lichi\"]\n",
    "newlist=[x if x!= \"banana\" else\"orange\" for x in fruits]\n",
    "print(newlist)"
   ]
  },
  {
   "cell_type": "code",
   "execution_count": 8,
   "id": "3b5fc16b",
   "metadata": {},
   "outputs": [
    {
     "name": "stdout",
     "output_type": "stream",
     "text": [
      "55\n"
     ]
    }
   ],
   "source": [
    "# (2)random number\n",
    "\n",
    "list1=[5,3,8,10,21,1,6,8,55]\n",
    "print(max(list1))"
   ]
  },
  {
   "cell_type": "code",
   "execution_count": 13,
   "id": "275fd88d",
   "metadata": {},
   "outputs": [
    {
     "name": "stdout",
     "output_type": "stream",
     "text": [
      "True\n"
     ]
    }
   ],
   "source": [
    "# (3) to check whethere a given number is present in list or not\n",
    "\n",
    "x=[23,56,78,96]\n",
    "print(23 in x)"
   ]
  },
  {
   "cell_type": "code",
   "execution_count": 14,
   "id": "1c00c7d1",
   "metadata": {},
   "outputs": [
    {
     "name": "stdout",
     "output_type": "stream",
     "text": [
      "['apple', 'banana', 'cherry', 'orange']\n"
     ]
    }
   ],
   "source": [
    "# to demonstrate any 10 method of list(1)\n",
    "\n",
    "fruits = [\"apple\", \"banana\", \"cherry\"]\n",
    "\n",
    "fruits.append(\"orange\")\n",
    "\n",
    "print(fruits)\n"
   ]
  },
  {
   "cell_type": "code",
   "execution_count": 17,
   "id": "4fd94ded",
   "metadata": {},
   "outputs": [
    {
     "name": "stdout",
     "output_type": "stream",
     "text": [
      "['apple', 'banana', 'cherry', 'rose', 'rosemerry', 'lilly']\n"
     ]
    }
   ],
   "source": [
    "# extend(2)\n",
    "fruits = [\"apple\", \"banana\", \"cherry\"]\n",
    "flower=[\"rose\",\"rosemerry\",\"lilly\"]\n",
    "fruits.extend(flower)\n",
    "print(fruits)\n",
    "\n"
   ]
  },
  {
   "cell_type": "code",
   "execution_count": 21,
   "id": "4640c643",
   "metadata": {},
   "outputs": [
    {
     "name": "stdout",
     "output_type": "stream",
     "text": [
      "1\n"
     ]
    }
   ],
   "source": [
    "# (3)count\n",
    "fruits = [\"apple\", \"banana\", \"cherry\"]\n",
    "x=fruits.count(\"apple\")\n",
    "print(x)"
   ]
  },
  {
   "cell_type": "code",
   "execution_count": 22,
   "id": "8158e4e3",
   "metadata": {},
   "outputs": [
    {
     "name": "stdout",
     "output_type": "stream",
     "text": [
      "['cherry', 'banana', 'apple']\n"
     ]
    }
   ],
   "source": [
    "# (4)reverse\n",
    "fruits = [\"apple\", \"banana\", \"cherry\"]\n",
    "fruits . reverse()\n",
    "print(fruits)"
   ]
  },
  {
   "cell_type": "code",
   "execution_count": 23,
   "id": "32ae2efe",
   "metadata": {},
   "outputs": [
    {
     "name": "stdout",
     "output_type": "stream",
     "text": [
      "['anana', 'bpple', 'hherry']\n"
     ]
    }
   ],
   "source": [
    "# (5)sort\n",
    "fruits = [\"bpple\", \"anana\", \"hherry\"]\n",
    "fruits.sort()\n",
    "print(fruits)\n"
   ]
  },
  {
   "cell_type": "code",
   "execution_count": 25,
   "id": "5fb36a13",
   "metadata": {},
   "outputs": [
    {
     "data": {
      "text/plain": [
       "'cherry'"
      ]
     },
     "execution_count": 25,
     "metadata": {},
     "output_type": "execute_result"
    }
   ],
   "source": [
    "# (6)pop\n",
    "fruits = [\"apple\", \"banana\", \"cherry\"]\n",
    "fruits.pop(2)"
   ]
  },
  {
   "cell_type": "code",
   "execution_count": 26,
   "id": "13708369",
   "metadata": {},
   "outputs": [
    {
     "name": "stdout",
     "output_type": "stream",
     "text": [
      "['apple', 'banana', 'orange', 'cherry']\n"
     ]
    }
   ],
   "source": [
    "# (7)insert\n",
    "fruits = [\"apple\", \"banana\", \"cherry\"]\n",
    "fruits.insert(2,\"orange\")\n",
    "print(fruits)"
   ]
  },
  {
   "cell_type": "code",
   "execution_count": 27,
   "id": "22777b38",
   "metadata": {},
   "outputs": [
    {
     "name": "stdout",
     "output_type": "stream",
     "text": [
      "2\n"
     ]
    }
   ],
   "source": [
    "# (8)index\n",
    "fruits = [\"apple\", \"banana\", \"cherry\"]\n",
    "x=fruits.index(\"cherry\")\n",
    "print(x)"
   ]
  },
  {
   "cell_type": "code",
   "execution_count": 28,
   "id": "e45b39b6",
   "metadata": {},
   "outputs": [
    {
     "name": "stdout",
     "output_type": "stream",
     "text": [
      "['apple', 'banana', 'cherry']\n"
     ]
    }
   ],
   "source": [
    "# (9)copy\n",
    "fruits = [\"apple\", \"banana\", \"cherry\"]\n",
    "x=fruits . copy()\n",
    "print(x)\n"
   ]
  },
  {
   "cell_type": "code",
   "execution_count": 31,
   "id": "5ce7a02e",
   "metadata": {},
   "outputs": [
    {
     "name": "stdout",
     "output_type": "stream",
     "text": [
      "[]\n"
     ]
    }
   ],
   "source": [
    "# (10)clear\n",
    "fruits = [\"apple\", \"banana\", \"cherry\"]\n",
    "fruits.clear()\n",
    "print(fruits)"
   ]
  },
  {
   "cell_type": "code",
   "execution_count": 5,
   "id": "ffe34287",
   "metadata": {},
   "outputs": [
    {
     "name": "stdout",
     "output_type": "stream",
     "text": [
      "[(6, 'apple'), (8, 'banana'), (43, 'cherry'), (9, 'melon')]\n"
     ]
    }
   ],
   "source": [
    "# (5)to add two list [adding elements of list]\n",
    "list1 = [6,8,43,9]\n",
    "list2 = [\"apple\",\"banana\",\"cherry\",\"melon\"]\n",
    "zipped = zip(list1, list2)\n",
    "print(list(zipped))\n",
    "\n",
    "\n"
   ]
  },
  {
   "cell_type": "code",
   "execution_count": 12,
   "id": "0fe01180",
   "metadata": {},
   "outputs": [
    {
     "name": "stdout",
     "output_type": "stream",
     "text": [
      "['apple', 'ball', 'cat']\n",
      "['apple', 'ball']\n",
      "['apple']\n",
      "[]\n"
     ]
    }
   ],
   "source": [
    "# how to implement stack\n",
    "# stack\n",
    "a=[]\n",
    "a.append(\"apple\")\n",
    "a.append(\"ball\")\n",
    "a.append(\"cat\")\n",
    "print(a)\n",
    "\n",
    "a.pop()\n",
    "print(a)\n",
    "\n",
    "a.pop()\n",
    "print(a)\n",
    "\n",
    "a.pop()\n",
    "print(a)"
   ]
  },
  {
   "cell_type": "code",
   "execution_count": 13,
   "id": "ee54f521",
   "metadata": {},
   "outputs": [
    {
     "name": "stdout",
     "output_type": "stream",
     "text": [
      "['harry', 'larry', 'carry', 'cherry']\n",
      "harry\n",
      "larry\n",
      "carry\n"
     ]
    }
   ],
   "source": [
    "# for loop\n",
    "list1=[\"harry\",\"larry\",\"carry\",\"cherry\"]\n",
    "print(list1)\n",
    "\n",
    "list2=[\"harry\",\"larry\",\"carry\"]\n",
    "# print(list2[0],list2[1],list2[2])\n",
    "\n",
    "for item in list2:\n",
    "    print(item)"
   ]
  },
  {
   "cell_type": "markdown",
   "id": "5c524862",
   "metadata": {},
   "source": [
    "# for loop"
   ]
  },
  {
   "cell_type": "code",
   "execution_count": 1,
   "id": "32f171fe",
   "metadata": {},
   "outputs": [
    {
     "name": "stdout",
     "output_type": "stream",
     "text": [
      "f\n",
      "r\n",
      "u\n",
      "i\n",
      "t\n"
     ]
    }
   ],
   "source": [
    "fruit=[\"apple\",\"banana\",\"cat\"]\n",
    "for x in \"fruit\":\n",
    "    print(x)"
   ]
  },
  {
   "cell_type": "code",
   "execution_count": 2,
   "id": "5f8cacf4",
   "metadata": {},
   "outputs": [
    {
     "name": "stdout",
     "output_type": "stream",
     "text": [
      "apple\n",
      "ball\n",
      "cat\n"
     ]
    }
   ],
   "source": [
    "fruits=[\"apple\",\"ball\",\"cat\"]\n",
    "for x in fruits:\n",
    "    print(x)"
   ]
  },
  {
   "cell_type": "code",
   "execution_count": 3,
   "id": "41b218da",
   "metadata": {},
   "outputs": [
    {
     "name": "stdout",
     "output_type": "stream",
     "text": [
      "b\n",
      "a\n",
      "l\n",
      "l\n"
     ]
    }
   ],
   "source": [
    "# loop through the letteres in the word banana\n",
    "fruits=[\"apple\",\"ball\",\"cat\"]\n",
    "for x in \"ball\":\n",
    "    print(x)"
   ]
  },
  {
   "cell_type": "code",
   "execution_count": 5,
   "id": "0665b1c4",
   "metadata": {},
   "outputs": [
    {
     "name": "stdout",
     "output_type": "stream",
     "text": [
      "apple\n",
      "ball\n",
      "call\n"
     ]
    }
   ],
   "source": [
    "# break statement\n",
    "fruits=[\"apple\",\"ball\",\"call\",\"doll\"]\n",
    "for x in fruits:\n",
    "    print(x)\n",
    "    if x ==\"call\":\n",
    "        break"
   ]
  },
  {
   "cell_type": "code",
   "execution_count": 6,
   "id": "60707b76",
   "metadata": {},
   "outputs": [
    {
     "name": "stdout",
     "output_type": "stream",
     "text": [
      "apple\n"
     ]
    }
   ],
   "source": [
    "# exit the loop when x is banana\n",
    "\n",
    "fruits=[\"apple\",\"ball\",\"call\",\"doll\"]\n",
    "for x in fruits:\n",
    "    if x ==\"ball\":\n",
    "        break\n",
    "    print(x)"
   ]
  },
  {
   "cell_type": "code",
   "execution_count": 7,
   "id": "733d91a0",
   "metadata": {},
   "outputs": [
    {
     "name": "stdout",
     "output_type": "stream",
     "text": [
      "3\n",
      "6\n",
      "5\n",
      "9\n",
      "1\n"
     ]
    }
   ],
   "source": [
    "number=[3,6,5,9,1]\n",
    "for x in number:\n",
    "    print(x)"
   ]
  },
  {
   "cell_type": "code",
   "execution_count": 49,
   "id": "5705c15b",
   "metadata": {},
   "outputs": [
    {
     "name": "stdout",
     "output_type": "stream",
     "text": [
      "3\n",
      "6\n",
      "8\n",
      "4\n"
     ]
    }
   ],
   "source": [
    "# break statement\n",
    "\n",
    "num=[3,6,8,4,1,9]\n",
    "for x in num:\n",
    "    print(x)\n",
    "    if x == 4:\n",
    "        break\n"
   ]
  },
  {
   "cell_type": "code",
   "execution_count": 22,
   "id": "714a695a",
   "metadata": {},
   "outputs": [
    {
     "name": "stdout",
     "output_type": "stream",
     "text": [
      "3\n",
      "6\n",
      "0\n"
     ]
    }
   ],
   "source": [
    "# exit the loop when x is 9\n",
    "\n",
    "num=[\"3\",\"6\",\"0\",\"9\",\"4\",\"2\",\"1\",]\n",
    "for x in num:\n",
    "    if x ==\"9\":\n",
    "        break\n",
    "    print(x)"
   ]
  },
  {
   "cell_type": "code",
   "execution_count": 17,
   "id": "0f4e5341",
   "metadata": {},
   "outputs": [
    {
     "name": "stdout",
     "output_type": "stream",
     "text": [
      "4\n",
      "5\n"
     ]
    }
   ],
   "source": [
    "fruits = [\"4\",\"5\",\"3\",\"2\"]\n",
    "for x in fruits:\n",
    "    if x == \"3\":\n",
    "      break\n",
    "    print(x)"
   ]
  },
  {
   "cell_type": "code",
   "execution_count": 23,
   "id": "97a9db5e",
   "metadata": {},
   "outputs": [
    {
     "name": "stdout",
     "output_type": "stream",
     "text": [
      "rose\n",
      "lotus\n"
     ]
    }
   ],
   "source": [
    "# we can stop current iteration of the loop an continue with the next\n",
    "flower=[\"rose\",\"lilly\",\"lotus\"]\n",
    "for x in flower:\n",
    "    if x ==\"lilly\":\n",
    "        continue\n",
    "    print(x)"
   ]
  },
  {
   "cell_type": "code",
   "execution_count": 26,
   "id": "6ca05471",
   "metadata": {},
   "outputs": [
    {
     "name": "stdout",
     "output_type": "stream",
     "text": [
      "0\n",
      "1\n",
      "2\n",
      "3\n",
      "4\n",
      "5\n"
     ]
    }
   ],
   "source": [
    "# range()6\n",
    "for x in range (6):\n",
    "    print(x)"
   ]
  },
  {
   "cell_type": "code",
   "execution_count": 27,
   "id": "915d5c4d",
   "metadata": {},
   "outputs": [
    {
     "name": "stdout",
     "output_type": "stream",
     "text": [
      "0\n",
      "1\n",
      "2\n",
      "3\n",
      "4\n",
      "5\n",
      "6\n",
      "7\n",
      "8\n"
     ]
    }
   ],
   "source": [
    "for x in range(9):\n",
    "    print(x)"
   ]
  },
  {
   "cell_type": "code",
   "execution_count": 29,
   "id": "de2e5730",
   "metadata": {},
   "outputs": [
    {
     "name": "stdout",
     "output_type": "stream",
     "text": [
      "3\n",
      "4\n",
      "5\n",
      "6\n",
      "7\n",
      "8\n"
     ]
    }
   ],
   "source": [
    "for x in range(3,9):\n",
    "  print(x)"
   ]
  },
  {
   "cell_type": "code",
   "execution_count": 30,
   "id": "295ee3bb",
   "metadata": {},
   "outputs": [
    {
     "name": "stdout",
     "output_type": "stream",
     "text": [
      "2\n",
      "4\n",
      "6\n",
      "8\n",
      "10\n",
      "12\n",
      "14\n",
      "16\n",
      "18\n"
     ]
    }
   ],
   "source": [
    "for x in range(2,20,2):\n",
    "    print(x)"
   ]
  },
  {
   "cell_type": "code",
   "execution_count": 44,
   "id": "5622616f",
   "metadata": {},
   "outputs": [
    {
     "name": "stdout",
     "output_type": "stream",
     "text": [
      "0\n",
      "1\n",
      "2\n",
      "3\n",
      "4\n",
      "5\n",
      "finally finished\n"
     ]
    }
   ],
   "source": [
    "# else keyword\n",
    "\n",
    "for x in range(6):\n",
    "    print(x)\n",
    "else:\n",
    "    print(\"finally finished\")"
   ]
  },
  {
   "cell_type": "code",
   "execution_count": 47,
   "id": "00583649",
   "metadata": {},
   "outputs": [
    {
     "name": "stdout",
     "output_type": "stream",
     "text": [
      "apple\n",
      "ball\n",
      "call\n",
      "properly ended\n"
     ]
    }
   ],
   "source": [
    "fruits=[\"apple\",\"ball\",\"call\"]\n",
    "for fruit in fruits:\n",
    "    print(fruit)\n",
    "else:\n",
    "    print(\"properly ended\")"
   ]
  },
  {
   "cell_type": "code",
   "execution_count": 48,
   "id": "12a65043",
   "metadata": {},
   "outputs": [
    {
     "name": "stdout",
     "output_type": "stream",
     "text": [
      "apple red\n",
      "apple yellow\n",
      "apple green\n",
      "ball red\n",
      "ball yellow\n",
      "ball green\n",
      "call red\n",
      "call yellow\n",
      "call green\n"
     ]
    }
   ],
   "source": [
    "# nested loop\n",
    "\n",
    "list1=[\"apple\",\"ball\",\"call\"]\n",
    "list2=[\"red\",\"yellow\",\"green\"]\n",
    "for x in list1:\n",
    "    for y in list2:\n",
    "        print(x,y)"
   ]
  },
  {
   "cell_type": "code",
   "execution_count": 56,
   "id": "8ce5d637",
   "metadata": {},
   "outputs": [],
   "source": [
    "# pass statement\n",
    "for x in [0,4,8,2]:\n",
    "    pass"
   ]
  },
  {
   "cell_type": "markdown",
   "id": "6961c85a",
   "metadata": {},
   "source": [
    "# while loop"
   ]
  },
  {
   "cell_type": "code",
   "execution_count": 60,
   "id": "9aab8d5b",
   "metadata": {},
   "outputs": [
    {
     "name": "stdout",
     "output_type": "stream",
     "text": [
      "1\n",
      "2\n",
      "3\n",
      "4\n",
      "5\n",
      "6\n"
     ]
    }
   ],
   "source": [
    "# print i as long as i is less than 7\n",
    "\n",
    "i=1\n",
    "while i < 7:\n",
    "    print(i)\n",
    "    i+=1"
   ]
  },
  {
   "cell_type": "code",
   "execution_count": 61,
   "id": "de6c8274",
   "metadata": {},
   "outputs": [
    {
     "name": "stdout",
     "output_type": "stream",
     "text": [
      "2\n",
      "4\n",
      "6\n",
      "8\n"
     ]
    }
   ],
   "source": [
    "i=2\n",
    "while i < 9:\n",
    "    print(i)\n",
    "    i+=2"
   ]
  },
  {
   "cell_type": "code",
   "execution_count": 7,
   "id": "f1296e58",
   "metadata": {},
   "outputs": [
    {
     "name": "stdout",
     "output_type": "stream",
     "text": [
      "1\n",
      "2\n",
      "3\n"
     ]
    }
   ],
   "source": [
    "# break statement\n",
    "i=1\n",
    "while i < 5:\n",
    "    print(i)\n",
    "    if i == 3:\n",
    "       break\n",
    "    i+=1\n",
    "    "
   ]
  },
  {
   "cell_type": "code",
   "execution_count": 5,
   "id": "557aea2d",
   "metadata": {},
   "outputs": [
    {
     "name": "stdout",
     "output_type": "stream",
     "text": [
      "2\n",
      "3\n",
      "4\n",
      "5\n",
      "6\n",
      "7\n"
     ]
    }
   ],
   "source": [
    "i=2\n",
    "while i < 10:\n",
    "    print(i)\n",
    "    if i == 7:\n",
    "        break\n",
    "    i+=1\n",
    "    "
   ]
  },
  {
   "cell_type": "code",
   "execution_count": 2,
   "id": "40a1e9d7",
   "metadata": {},
   "outputs": [
    {
     "name": "stdout",
     "output_type": "stream",
     "text": [
      "1\n",
      "2\n",
      "4\n",
      "5\n",
      "6\n"
     ]
    }
   ],
   "source": [
    "i = 0\n",
    "while i < 6:\n",
    "  i += 1\n",
    "  if i == 3:\n",
    "    continue\n",
    "  print(i)\n",
    "    "
   ]
  },
  {
   "cell_type": "code",
   "execution_count": 6,
   "id": "1224327b",
   "metadata": {},
   "outputs": [
    {
     "name": "stdout",
     "output_type": "stream",
     "text": [
      "2\n",
      "3\n",
      "4\n",
      "5\n",
      "7\n",
      "8\n"
     ]
    }
   ],
   "source": [
    "i=1\n",
    "while i < 8:\n",
    " i +=1\n",
    " if i == 6:\n",
    "  continue\n",
    " print(i)"
   ]
  },
  {
   "cell_type": "code",
   "execution_count": 3,
   "id": "58afba7a",
   "metadata": {},
   "outputs": [
    {
     "name": "stdout",
     "output_type": "stream",
     "text": [
      "true\n"
     ]
    }
   ],
   "source": [
    "i=1\n",
    "while i > 6:\n",
    "    print(i)\n",
    "    i+=1\n",
    "else:\n",
    "    print(\"true\")"
   ]
  },
  {
   "cell_type": "code",
   "execution_count": null,
   "id": "9cb3ed24",
   "metadata": {},
   "outputs": [],
   "source": [
    "# to print odd and even number\n",
    "number = int(input(\"enter an integer number\"))\n",
    "remainder= number % 2\n",
    "if (remainder==0):\n",
    "    print(number,\"is an even number\")\n",
    "else:\n",
    "    print(number,\"is an odd number\")"
   ]
  },
  {
   "cell_type": "markdown",
   "id": "29624137",
   "metadata": {},
   "source": [
    "# FUNCTIONS"
   ]
  },
  {
   "cell_type": "code",
   "execution_count": 1,
   "id": "30eca72d",
   "metadata": {},
   "outputs": [
    {
     "name": "stdout",
     "output_type": "stream",
     "text": [
      "hello world\n"
     ]
    }
   ],
   "source": [
    "# calling a function\n",
    "\n",
    "def add():\n",
    "    print(\"hello world\")\n",
    "add()    "
   ]
  },
  {
   "cell_type": "code",
   "execution_count": 1,
   "id": "d52ceefc",
   "metadata": {},
   "outputs": [
    {
     "name": "stdout",
     "output_type": "stream",
     "text": [
      "add 3\n",
      "add 99\n"
     ]
    }
   ],
   "source": [
    "# ARGUMENT\n",
    "\n",
    "def add (a,b):\n",
    "    c=a+b\n",
    "    print(\"add\",c)\n",
    "add(2,1)  \n",
    "add(45,54)\n",
    "    "
   ]
  },
  {
   "cell_type": "code",
   "execution_count": 2,
   "id": "3f9fade9",
   "metadata": {},
   "outputs": [
    {
     "name": "stdout",
     "output_type": "stream",
     "text": [
      "add 20\n"
     ]
    }
   ],
   "source": [
    "\n",
    "def add (x,y):\n",
    "    z=x*y\n",
    "    print(\"add\",z)\n",
    "add(4,5)    "
   ]
  },
  {
   "cell_type": "code",
   "execution_count": 4,
   "id": "12644dbf",
   "metadata": {},
   "outputs": [
    {
     "name": "stdout",
     "output_type": "stream",
     "text": [
      "somakhan\n",
      "homakhan\n",
      "romakhan\n"
     ]
    }
   ],
   "source": [
    "def name(surname):\n",
    "    print(surname+\"khan\")\n",
    "name('soma')\n",
    "name('homa')\n",
    "name('roma')\n",
    "\n",
    "    \n",
    "\n"
   ]
  },
  {
   "cell_type": "code",
   "execution_count": 6,
   "id": "cf8fda7e",
   "metadata": {},
   "outputs": [
    {
     "name": "stdout",
     "output_type": "stream",
     "text": [
      "tabaschool\n",
      "sabaschool\n",
      "habaschool\n"
     ]
    }
   ],
   "source": [
    "def teacher(teach):\n",
    "    print(teach+\"school\")\n",
    "teacher(\"taba\")\n",
    "teacher(\"saba\")\n",
    "teacher(\"haba\")"
   ]
  },
  {
   "cell_type": "code",
   "execution_count": 9,
   "id": "220196c9",
   "metadata": {},
   "outputs": [
    {
     "name": "stdout",
     "output_type": "stream",
     "text": [
      "suraiya khan\n"
     ]
    }
   ],
   "source": [
    "# number of arguments\n",
    "def name(khan,pathan):\n",
    "    print(khan+\" \"+pathan)\n",
    "name (\"suraiya\",\"khan\")    "
   ]
  },
  {
   "cell_type": "code",
   "execution_count": 10,
   "id": "f7955e01",
   "metadata": {},
   "outputs": [
    {
     "name": "stdout",
     "output_type": "stream",
     "text": [
      "suraiya khan\n"
     ]
    }
   ],
   "source": [
    "def name (nargis,khan):\n",
    "    print(nargis+\" \"+khan)\n",
    "name(\"suraiya\",\"khan\")    "
   ]
  },
  {
   "cell_type": "markdown",
   "id": "89021c11",
   "metadata": {},
   "source": [
    "# ARGS"
   ]
  },
  {
   "cell_type": "code",
   "execution_count": 16,
   "id": "d46f2819",
   "metadata": {},
   "outputs": [
    {
     "name": "stdout",
     "output_type": "stream",
     "text": [
      "this is information:\n",
      "sadique\n",
      "harry\n",
      "minhaj\n",
      "suraiya\n",
      "sadique sir is a teacher\n",
      "harry is a monitor\n",
      "minhaj is a pagal\n",
      "suraiya is a nargis\n"
     ]
    }
   ],
   "source": [
    "# for loop\n",
    "\n",
    "def function(normal,*kids,**kwargs):\n",
    "    \n",
    "    print(normal)\n",
    "    \n",
    "    for x in kids:\n",
    "        print(x)\n",
    "    for key,value in kwargs.items():\n",
    "        print(f\"{key} is a {value}\")\n",
    "        \n",
    "#     print(kids[:4])\n",
    "name=(\"sadique\",\"harry\",\"minhaj\",\"suraiya\")\n",
    "\n",
    "normal=\"this is information:\"\n",
    "kw={\"sadique sir\":\"teacher\",\"harry\":\"monitor\",\"minhaj\":\"pagal\",\"suraiya\":\"nargis\"}\n",
    "function(normal,*name,**kw)\n"
   ]
  },
  {
   "cell_type": "code",
   "execution_count": 23,
   "id": "93a41a69",
   "metadata": {},
   "outputs": [
    {
     "name": "stdout",
     "output_type": "stream",
     "text": [
      "the first boy is rema\n"
     ]
    }
   ],
   "source": [
    "def func(*kids):\n",
    "    print(\"the first boy is\"+\" \" +kids[0])\n",
    "    \n",
    "func(\"rema\",\"sema\",\"jema\")    \n",
    "    \n"
   ]
  },
  {
   "cell_type": "code",
   "execution_count": 24,
   "id": "78099637",
   "metadata": {},
   "outputs": [
    {
     "name": "stdout",
     "output_type": "stream",
     "text": [
      "she is a  seema\n"
     ]
    }
   ],
   "source": [
    "def function(*good):\n",
    "    print(\"she is a \"+\" \"+good[1])\n",
    "function(\"meena\",\"seema\",\"reema\")    "
   ]
  },
  {
   "cell_type": "code",
   "execution_count": 2,
   "id": "5475e506",
   "metadata": {},
   "outputs": [
    {
     "name": "stdout",
     "output_type": "stream",
     "text": [
      "she is a sad\n"
     ]
    }
   ],
   "source": [
    "def function(*args):\n",
    "    print(\"she is a\"+\" \"+args[2])\n",
    "function(\"good\",\"bad\",\"sad\")    \n"
   ]
  },
  {
   "cell_type": "markdown",
   "id": "01cdcae0",
   "metadata": {},
   "source": [
    "# kwargs"
   ]
  },
  {
   "cell_type": "code",
   "execution_count": 21,
   "id": "ab4ef08f",
   "metadata": {},
   "outputs": [
    {
     "name": "stdout",
     "output_type": "stream",
     "text": [
      "huma\n",
      "ruma\n",
      "juma\n",
      "guma\n"
     ]
    }
   ],
   "source": [
    "def function(normal,*args):\n",
    "    for x in args:\n",
    "        print(x)\n",
    "function(\"juma\",\"huma\",\"ruma\",\"juma\",\"guma\")\n",
    "\n",
    "         \n",
    "    "
   ]
  },
  {
   "cell_type": "code",
   "execution_count": 26,
   "id": "72ec3c83",
   "metadata": {},
   "outputs": [
    {
     "name": "stdout",
     "output_type": "stream",
     "text": [
      "sadique sir is a teacher\n",
      "harry is a monitor\n",
      "minhaj is a pagal\n",
      "suraiya is a nargis\n",
      "stu is a 5\n"
     ]
    }
   ],
   "source": [
    "def function(**kwargs):\n",
    "    for key,value in kwargs.items():\n",
    "        print(f'{key} is a {value}')\n",
    "kw={\"sadique sir\":\"teacher\",\"harry\":\"monitor\",\"minhaj\":\"pagal\",\"suraiya\":\"nargis\",\"stu\":\"5\"}        \n",
    "        \n",
    "function(**kw)\n",
    "    "
   ]
  },
  {
   "cell_type": "code",
   "execution_count": 1,
   "id": "a24ee682",
   "metadata": {},
   "outputs": [
    {
     "name": "stdout",
     "output_type": "stream",
     "text": [
      "6\n"
     ]
    }
   ],
   "source": [
    "# write a programm adding 2 number \n",
    "\n",
    "def add(a,b):\n",
    "    x=a+b\n",
    "    return x\n",
    "c=add(2,4)\n",
    "print(c)\n",
    "\n",
    "    "
   ]
  },
  {
   "cell_type": "code",
   "execution_count": 39,
   "id": "5b337953",
   "metadata": {},
   "outputs": [
    {
     "name": "stdout",
     "output_type": "stream",
     "text": [
      "20\n",
      "i am from pakistan\n",
      "i am from china\n",
      "i am from india\n",
      "i am from nepal\n"
     ]
    }
   ],
   "source": [
    "# DEFAULT VALUE\n",
    "\n",
    "def add(a,b,c=5):\n",
    "    d=a+b+c\n",
    "    print(d)\n",
    "add(5,6,9)    \n",
    "    \n",
    "def odd(country=\"india\"):\n",
    "    print(\"i am from\"+\" \"+country)\n",
    "odd(\"pakistan\")\n",
    "odd(\"china\")\n",
    "odd()\n",
    "odd(\"nepal\")"
   ]
  },
  {
   "cell_type": "code",
   "execution_count": 44,
   "id": "2cbc9408",
   "metadata": {},
   "outputs": [
    {
     "name": "stdout",
     "output_type": "stream",
     "text": [
      "apple\n",
      "ball\n",
      "cat\n"
     ]
    }
   ],
   "source": [
    "# passing a list as an argument \n",
    "\n",
    "def khana(food):\n",
    " for x in food:\n",
    "    print(x)\n",
    "eat=[\"apple\",\"ball\",\"cat\"]\n",
    "khana(eat)"
   ]
  },
  {
   "cell_type": "code",
   "execution_count": 46,
   "id": "0db66956",
   "metadata": {},
   "outputs": [
    {
     "name": "stdout",
     "output_type": "stream",
     "text": [
      "15\n",
      "6\n",
      "21\n"
     ]
    }
   ],
   "source": [
    "# RETURN VALUE\n",
    "def multi(x):\n",
    "    return 3*x\n",
    "print(multi(5))\n",
    "print(multi(2))\n",
    "print(multi(7))"
   ]
  },
  {
   "cell_type": "code",
   "execution_count": 50,
   "id": "f118e985",
   "metadata": {},
   "outputs": [],
   "source": [
    "# pass statement\n",
    "def function():\n",
    "    pass"
   ]
  },
  {
   "cell_type": "code",
   "execution_count": 4,
   "id": "09454402",
   "metadata": {},
   "outputs": [
    {
     "name": "stdout",
     "output_type": "stream",
     "text": [
      "minhaj\n",
      "not palindrome\n"
     ]
    }
   ],
   "source": [
    "# palindrome\n",
    "a=input(\"\")\n",
    "b=a[::-1]\n",
    "if a==b:\n",
    "    print(\"palindrome\")\n",
    "else:\n",
    "    print(\"not palindrome\")\n",
    "    "
   ]
  },
  {
   "cell_type": "code",
   "execution_count": 5,
   "id": "82371c0e",
   "metadata": {},
   "outputs": [
    {
     "name": "stdout",
     "output_type": "stream",
     "text": [
      "ram\n",
      "not palindrome\n"
     ]
    }
   ],
   "source": [
    "a=input(\"\")\n",
    "b=a[::-1]\n",
    "if a==b:\n",
    "    print(\"palindrome\")\n",
    "else:\n",
    "    print(\"not palindrome\")"
   ]
  },
  {
   "cell_type": "code",
   "execution_count": 7,
   "id": "f45a879f",
   "metadata": {},
   "outputs": [
    {
     "name": "stdout",
     "output_type": "stream",
     "text": [
      "madam\n",
      "palindrome\n"
     ]
    }
   ],
   "source": [
    "a=input(\"\")\n",
    "b=a[::-1]\n",
    "if a==b:\n",
    "    print(\"palindrome\")\n",
    "else:\n",
    "    print(\"not palindrome\")"
   ]
  },
  {
   "cell_type": "code",
   "execution_count": 8,
   "id": "cd6ee160",
   "metadata": {},
   "outputs": [
    {
     "name": "stdout",
     "output_type": "stream",
     "text": [
      "Minhaj is a good girl\n"
     ]
    }
   ],
   "source": [
    "a=\"minhaj is a good girl\"\n",
    "b=a.capitalize()\n",
    "print(b)"
   ]
  },
  {
   "cell_type": "code",
   "execution_count": 9,
   "id": "aac6b424",
   "metadata": {},
   "outputs": [
    {
     "name": "stdout",
     "output_type": "stream",
     "text": [
      "Khan sir is very calm teacher\n"
     ]
    }
   ],
   "source": [
    "x=\"khan sir is very calm teacher\"\n",
    "y=x.capitalize()\n",
    "print(y)"
   ]
  },
  {
   "cell_type": "code",
   "execution_count": 10,
   "id": "ceb1e57f",
   "metadata": {},
   "outputs": [
    {
     "name": "stdout",
     "output_type": "stream",
     "text": [
      "['minhaj', 'is', 'a', 'good', 'girl']\n"
     ]
    }
   ],
   "source": [
    "# string to a list\n",
    "\n",
    "x=\"minhaj is a good girl\"\n",
    "y=x.split()\n",
    "print(y)"
   ]
  },
  {
   "cell_type": "code",
   "execution_count": 11,
   "id": "c22247f4",
   "metadata": {},
   "outputs": [
    {
     "name": "stdout",
     "output_type": "stream",
     "text": [
      "['he', 'is', 'a', 'very', 'smart']\n"
     ]
    }
   ],
   "source": [
    "a=\"he is a very smart\"\n",
    "b=a.split()\n",
    "print(b)"
   ]
  },
  {
   "cell_type": "code",
   "execution_count": 12,
   "id": "0ebdd4c1",
   "metadata": {},
   "outputs": [
    {
     "name": "stdout",
     "output_type": "stream",
     "text": [
      "ball\n",
      "hello\n",
      "why\n"
     ]
    }
   ],
   "source": [
    "# to sort alphabetically the words in a given sentence\n",
    "x= \"hello why ball\"\n",
    "words=x.split()\n",
    "words.sort()\n",
    "for word in words:\n",
    "    print(word)"
   ]
  },
  {
   "cell_type": "code",
   "execution_count": 16,
   "id": "b77249a5",
   "metadata": {},
   "outputs": [
    {
     "name": "stdout",
     "output_type": "stream",
     "text": [
      "['am', 'hello', 'i', 'surya']\n"
     ]
    }
   ],
   "source": [
    "x=\"hello i am surya\"\n",
    "y=x.split()\n",
    "y.sort()\n",
    "print(y)"
   ]
  },
  {
   "cell_type": "code",
   "execution_count": 1,
   "id": "64a9ff93",
   "metadata": {},
   "outputs": [
    {
     "name": "stdout",
     "output_type": "stream",
     "text": [
      "am\n",
      "hello\n",
      "i\n",
      "surya\n"
     ]
    }
   ],
   "source": [
    "x=\"hello i am surya\"\n",
    "words=x.split()\n",
    "words.sort()\n",
    "for word in words:\n",
    "    print(word)"
   ]
  },
  {
   "cell_type": "code",
   "execution_count": 3,
   "id": "43441dad",
   "metadata": {},
   "outputs": [
    {
     "name": "stdout",
     "output_type": "stream",
     "text": [
      "am\n",
      "hello\n",
      "i\n",
      "surya\n"
     ]
    }
   ],
   "source": [
    "x=\"hello i am surya\"\n",
    "y=x.split()\n",
    "y.sort()\n",
    "for i in y:\n",
    "    print(i)"
   ]
  },
  {
   "cell_type": "code",
   "execution_count": 2,
   "id": "e8da0288",
   "metadata": {},
   "outputs": [
    {
     "name": "stdout",
     "output_type": "stream",
     "text": [
      "minhaj\n",
      "notpalindrome\n"
     ]
    }
   ],
   "source": [
    "a=input(\"\")\n",
    "b=a[::-1]\n",
    "if a==b:\n",
    "    print(\"palindrome\")\n",
    "else:\n",
    "    print(\"notpalindrome\")"
   ]
  },
  {
   "cell_type": "code",
   "execution_count": 3,
   "id": "db9457dc",
   "metadata": {},
   "outputs": [
    {
     "name": "stdout",
     "output_type": "stream",
     "text": [
      "Minhaj is a khan\n"
     ]
    }
   ],
   "source": [
    "a=\"minhaj is a khan\"\n",
    "b=a.capitalize()\n",
    "print(b)"
   ]
  },
  {
   "cell_type": "code",
   "execution_count": 4,
   "id": "e7944a9b",
   "metadata": {},
   "outputs": [
    {
     "name": "stdout",
     "output_type": "stream",
     "text": [
      "['minhaj', 'is', 'a', 'good', 'girl']\n"
     ]
    }
   ],
   "source": [
    "x=\"minhaj is a good girl\"\n",
    "y=x.split()\n",
    "print(y)"
   ]
  },
  {
   "cell_type": "code",
   "execution_count": 6,
   "id": "f1ace76c",
   "metadata": {},
   "outputs": [
    {
     "name": "stdout",
     "output_type": "stream",
     "text": [
      "hello\n",
      "my\n",
      "world\n"
     ]
    }
   ],
   "source": [
    "a=\"hello my world\"\n",
    "b=a.split()\n",
    "b.sort()\n",
    "for i in b:\n",
    "    print(i)"
   ]
  },
  {
   "cell_type": "code",
   "execution_count": 7,
   "id": "d377c780",
   "metadata": {},
   "outputs": [
    {
     "name": "stdout",
     "output_type": "stream",
     "text": [
      "3\n"
     ]
    }
   ],
   "source": [
    "# count method\n",
    "a=\"she is very pretty\"\n",
    "b=a.count(\"e\")\n",
    "print(b)"
   ]
  },
  {
   "cell_type": "code",
   "execution_count": 10,
   "id": "ab215b10",
   "metadata": {},
   "outputs": [
    {
     "name": "stdout",
     "output_type": "stream",
     "text": [
      "4\n"
     ]
    }
   ],
   "source": [
    "x=\"minhajasuraiya\"\n",
    "y=x.count(\"a\")\n",
    "print(y)"
   ]
  },
  {
   "cell_type": "code",
   "execution_count": 11,
   "id": "ce46b5a8",
   "metadata": {},
   "outputs": [
    {
     "name": "stdout",
     "output_type": "stream",
     "text": [
      "True\n"
     ]
    }
   ],
   "source": [
    "# isspace\n",
    "a=\" \"\n",
    "b=a.isspace()\n",
    "print(b)"
   ]
  },
  {
   "cell_type": "code",
   "execution_count": 12,
   "id": "96d0cf36",
   "metadata": {},
   "outputs": [
    {
     "name": "stdout",
     "output_type": "stream",
     "text": [
      "My name is khan\n"
     ]
    }
   ],
   "source": [
    "a=\"my name is khan\"\n",
    "b=a.capitalize()\n",
    "print(b)"
   ]
  },
  {
   "cell_type": "code",
   "execution_count": 13,
   "id": "acb762f3",
   "metadata": {},
   "outputs": [
    {
     "name": "stdout",
     "output_type": "stream",
     "text": [
      "True\n"
     ]
    }
   ],
   "source": [
    "x=\"safari\"\n",
    "y=x.isalnum()\n",
    "print(y)"
   ]
  },
  {
   "cell_type": "code",
   "execution_count": 24,
   "id": "71a27a4d",
   "metadata": {},
   "outputs": [
    {
     "name": "stdout",
     "output_type": "stream",
     "text": [
      "15\n"
     ]
    }
   ],
   "source": [
    "# r index\n",
    "k=\"good minhaj is good girl\"\n",
    "l=k.rindex(\"good\")\n",
    "print(l)"
   ]
  },
  {
   "cell_type": "code",
   "execution_count": 23,
   "id": "ca62d59c",
   "metadata": {},
   "outputs": [
    {
     "name": "stdout",
     "output_type": "stream",
     "text": [
      "6\n"
     ]
    }
   ],
   "source": [
    "k=\"ngyyi good minhaj is good girl\"\n",
    "l=k.index(\"good\")\n",
    "print(l)"
   ]
  },
  {
   "cell_type": "code",
   "execution_count": 27,
   "id": "4dcc5ddf",
   "metadata": {},
   "outputs": [
    {
     "name": "stdout",
     "output_type": "stream",
     "text": [
      "k#a#l#,#a#j#,#p#a#r#s#o\n"
     ]
    }
   ],
   "source": [
    "# join#\n",
    "x=\"kal,aj,parso\"\n",
    "y= \"#\".join(x)\n",
    "print(y)"
   ]
  },
  {
   "cell_type": "code",
   "execution_count": 28,
   "id": "d038583d",
   "metadata": {},
   "outputs": [
    {
     "name": "stdout",
     "output_type": "stream",
     "text": [
      "kal#aj#parso\n"
     ]
    }
   ],
   "source": [
    "x=\"kal\",\"aj\",\"parso\"\n",
    "y=\"#\".join(x)\n",
    "print(y)"
   ]
  },
  {
   "cell_type": "code",
   "execution_count": 30,
   "id": "40461a7b",
   "metadata": {},
   "outputs": [
    {
     "name": "stdout",
     "output_type": "stream",
     "text": [
      "4\n"
     ]
    }
   ],
   "source": [
    "x=\"kal,aj,parso\"\n",
    "y=x.rfind('aj')\n",
    "print(y)"
   ]
  },
  {
   "cell_type": "code",
   "execution_count": 31,
   "id": "d627ad35",
   "metadata": {},
   "outputs": [
    {
     "name": "stdout",
     "output_type": "stream",
     "text": [
      "MINHAJ PAGAL HAI\n"
     ]
    }
   ],
   "source": [
    "# swapcase\n",
    "k=\"minhaj pagal hai\"\n",
    "l=k.swapcase()\n",
    "print(l)"
   ]
  },
  {
   "cell_type": "code",
   "execution_count": 32,
   "id": "d2ac2a50",
   "metadata": {},
   "outputs": [
    {
     "name": "stdout",
     "output_type": "stream",
     "text": [
      "SHE IS CUTE\n"
     ]
    }
   ],
   "source": [
    "x=\"she is cute\"\n",
    "y=x.swapcase()\n",
    "print(y)"
   ]
  },
  {
   "cell_type": "code",
   "execution_count": 37,
   "id": "f54ef98a",
   "metadata": {},
   "outputs": [
    {
     "name": "stdout",
     "output_type": "stream",
     "text": [
      "0000minhaj\n",
      "0000minhaj good girl\n",
      "0000000010\n"
     ]
    }
   ],
   "source": [
    "x=\"minhaj\"\n",
    "y=\"minhaj good girl\"\n",
    "z=\"10\"\n",
    "print(x.zfill(10))\n",
    "print(y.zfill(20))\n",
    "print(z.zfill(10))"
   ]
  },
  {
   "cell_type": "code",
   "execution_count": 38,
   "id": "aeb32ee5",
   "metadata": {},
   "outputs": [
    {
     "name": "stdout",
     "output_type": "stream",
     "text": [
      "0000000050\n"
     ]
    }
   ],
   "source": [
    "x=\"50\"\n",
    "y=x.zfill(10)\n",
    "print(y)"
   ]
  },
  {
   "cell_type": "code",
   "execution_count": 39,
   "id": "d2d914d9",
   "metadata": {},
   "outputs": [
    {
     "name": "stdout",
     "output_type": "stream",
     "text": [
      "SEGOSE\n"
     ]
    }
   ],
   "source": [
    "# String slicing\n",
    "String = 'GEEKSFORGEEKS'\n",
    " \n",
    "# Using indexing sequence\n",
    "print(String[-1:-12:-2])"
   ]
  },
  {
   "cell_type": "code",
   "execution_count": 44,
   "id": "0ff612c6",
   "metadata": {},
   "outputs": [
    {
     "name": "stdout",
     "output_type": "stream",
     "text": [
      "wledrwle\n"
     ]
    }
   ],
   "source": [
    "# string slicing\n",
    "z=\"helloworldfelloworld\"\n",
    "# print(z[3::-1])\n",
    "print(z[-5::-2])"
   ]
  },
  {
   "cell_type": "code",
   "execution_count": 8,
   "id": "d76845f1",
   "metadata": {},
   "outputs": [
    {
     "name": "stdout",
     "output_type": "stream",
     "text": [
      "True\n"
     ]
    }
   ],
   "source": [
    "x='120'\n",
    "y=x.isnumeric()\n",
    "print(y)"
   ]
  },
  {
   "cell_type": "code",
   "execution_count": 50,
   "id": "f9e4565d",
   "metadata": {},
   "outputs": [
    {
     "name": "stdout",
     "output_type": "stream",
     "text": [
      "o\n"
     ]
    }
   ],
   "source": [
    "x=\"world\"\n",
    "print(x[1::-2])"
   ]
  },
  {
   "cell_type": "code",
   "execution_count": 51,
   "id": "5b5b0b7f",
   "metadata": {},
   "outputs": [
    {
     "name": "stdout",
     "output_type": "stream",
     "text": [
      "True\n"
     ]
    }
   ],
   "source": [
    "# substring in string\n",
    "x=\"mumbai coding club\"\n",
    "print(\"club\"in x)"
   ]
  },
  {
   "cell_type": "code",
   "execution_count": null,
   "id": "5695f9a1",
   "metadata": {},
   "outputs": [],
   "source": []
  }
 ],
 "metadata": {
  "kernelspec": {
   "display_name": "Python 3 (ipykernel)",
   "language": "python",
   "name": "python3"
  },
  "language_info": {
   "codemirror_mode": {
    "name": "ipython",
    "version": 3
   },
   "file_extension": ".py",
   "mimetype": "text/x-python",
   "name": "python",
   "nbconvert_exporter": "python",
   "pygments_lexer": "ipython3",
   "version": "3.10.4"
  }
 },
 "nbformat": 4,
 "nbformat_minor": 5
}
