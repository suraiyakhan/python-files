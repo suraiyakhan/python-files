{
 "cells": [
  {
   "cell_type": "code",
   "execution_count": 2,
   "id": "97323d37",
   "metadata": {},
   "outputs": [
    {
     "name": "stdout",
     "output_type": "stream",
     "text": [
      "<class '__main__.add'>\n"
     ]
    }
   ],
   "source": [
    "class add:\n",
    "    pass\n",
    "#def sum(my):\n",
    "#print(\"my name is suraiya\")\n",
    "    \n",
    "add1=add()\n",
    "print(type(add1))\n",
    "\n",
    "\n"
   ]
  },
  {
   "cell_type": "code",
   "execution_count": 1,
   "id": "8d64d0b3",
   "metadata": {},
   "outputs": [
    {
     "name": "stdout",
     "output_type": "stream",
     "text": [
      "my name suraiya\n"
     ]
    }
   ],
   "source": [
    "class name:\n",
    "    def func(my):\n",
    "        print(\"my name suraiya\")\n",
    "name.func('my')"
   ]
  },
  {
   "cell_type": "code",
   "execution_count": 56,
   "id": "6c4857a0",
   "metadata": {},
   "outputs": [
    {
     "name": "stdout",
     "output_type": "stream",
     "text": [
      "name: suraya age: 50\n"
     ]
    }
   ],
   "source": [
    "class name:\n",
    "    def add(my):\n",
    "        print(\"my name suraiya\")\n",
    "        \n",
    "m1=name()\n",
    "m2=name()\n",
    "# this type of syntax is standard:\n",
    "\n",
    "# m1.add()\n",
    "# m2.add()\n",
    "\n",
    "class student:\n",
    "    def __init__(self,name,age):\n",
    "        self.name=name  \n",
    "        self.age=age\n",
    "    def show (self):\n",
    "        print(\"name:\",self.name,\"age:\",self.age)\n",
    "s1=student(\"suraya\",50)\n",
    "s2=student(\"minhaj\",52)\n",
    "s1.show()\n",
    "    \n"
   ]
  },
  {
   "cell_type": "code",
   "execution_count": 39,
   "id": "71d00332",
   "metadata": {},
   "outputs": [
    {
     "name": "stdout",
     "output_type": "stream",
     "text": [
      "<__main__.student object at 0x00000214F9FDF8E0> <__main__.student object at 0x00000214F9FDE020>\n",
      "['urdu', 'history'] friday\n"
     ]
    }
   ],
   "source": [
    "\n",
    "# 1st class in python\n",
    "\n",
    "class student:\n",
    "    pass\n",
    "huma=student()\n",
    "juma=student()\n",
    "\n",
    "huma.name=\"huma khan\"\n",
    "huma.std=9\n",
    "huma.add='phonix'\n",
    "huma.subject=[\"urdu\",\"history\"]\n",
    "\n",
    "\n",
    "juma.name=\"friday\"\n",
    "juma.std=5\n",
    "juma.add=\"mall\"\n",
    "\n",
    "print(huma,juma)\n",
    "print(huma.subject,juma.name)"
   ]
  },
  {
   "cell_type": "code",
   "execution_count": 14,
   "id": "213bc515",
   "metadata": {},
   "outputs": [
    {
     "name": "stdout",
     "output_type": "stream",
     "text": [
      "25\n",
      "{'name': 'shaikh', 'role': 'teacher', 'salary': 50000}\n",
      "9\n"
     ]
    }
   ],
   "source": [
    "# instance variable and class variable\n",
    "\n",
    "class EMPLOYEE:\n",
    "    no_of_student=25\n",
    "    pass\n",
    "\n",
    "harry=EMPLOYEE()\n",
    "minhaj=EMPLOYEE()\n",
    "\n",
    "harry.name=\"harry khan\"\n",
    "harry.role=\"instroctor\"\n",
    "harry.salary=50000\n",
    "\n",
    "minhaj.name=\"shaikh\"\n",
    "minhaj.role=\"teacher\"\n",
    "minhaj.salary=50000\n",
    "\n",
    "print(EMPLOYEE.no_of_student)\n",
    "\n",
    "print(minhaj.__dict__)\n",
    "minhaj.no_of_student=9\n",
    "print(minhaj. no_of_student)"
   ]
  },
  {
   "cell_type": "code",
   "execution_count": 55,
   "id": "53999bf8",
   "metadata": {},
   "outputs": [
    {
     "name": "stdout",
     "output_type": "stream",
     "text": [
      "Name: minhaj Age: 20 rollno: 24\n"
     ]
    }
   ],
   "source": [
    "class student:\n",
    "    def __init__(self,name,age,rollno):\n",
    "        self.name=name\n",
    "        self.age=age\n",
    "        self.rollno=rollno\n",
    "    def show (self):\n",
    "        print(\"Name:\",self.name,\"Age:\",self.age,\"rollno:\",self.rollno)\n",
    "# s1=student()\n",
    "s2=student(\"minhaj\",20,24)\n",
    "s2.show()\n",
    "# s2.show()\n"
   ]
  },
  {
   "cell_type": "code",
   "execution_count": 8,
   "id": "b153066d",
   "metadata": {},
   "outputs": [
    {
     "name": "stdout",
     "output_type": "stream",
     "text": [
      "20 harry\n"
     ]
    }
   ],
   "source": [
    "# class employee:\n",
    "# #     pass\n",
    "# harry=employee()\n",
    "# minhaj=employee()\n",
    "\n",
    "harry.name='harry'\n",
    "harry.age=20\n",
    "harry.salary=44000\n",
    "\n",
    "minhaj.name='minhaj'\n",
    "minhaj.age=20\n",
    "minhaj.salary=5000\n",
    "\n",
    "# print(harry,minhaj)\n",
    "print(minhaj.age,harry .name)\n",
    "\n",
    "\n"
   ]
  },
  {
   "cell_type": "code",
   "execution_count": 32,
   "id": "52427612",
   "metadata": {},
   "outputs": [
    {
     "name": "stdout",
     "output_type": "stream",
     "text": [
      "0\n",
      "1\n",
      "2\n",
      "{'name': 'fatima', 'age': 50, 'profession': 'teacher', 'salary': 44000}\n",
      "66000\n"
     ]
    }
   ],
   "source": [
    "class person:\n",
    "    increment = 1.5\n",
    "    no_of_employees=0\n",
    "    \n",
    "    \n",
    "    def __init__(self,name,age,profession,salary):\n",
    "        self.name = name\n",
    "        self.age = age\n",
    "        self.profession = profession\n",
    "        self.salary = salary\n",
    "        person.no_of_employees+=1\n",
    "#         self.increment=1.4\n",
    "\n",
    "        \n",
    "    def increase(self):\n",
    "        self.salary = int(self.salary * person.increment)\n",
    "        \n",
    "print(person.no_of_employees)        \n",
    "p1 = person('fatima',50,'teacher',44000)\n",
    "print(person.no_of_employees)\n",
    "\n",
    "p2 = person('khadija',40,'teacher',30000)\n",
    "print(person.no_of_employees)\n",
    "\n",
    "# print(p1.name,p2 .salary)\n",
    "# print(p1.__dict__)\n",
    "\n",
    "# p1.increment=9\n",
    "print(p1.__dict__)\n",
    "\n",
    "p1.increase()\n",
    "print(p1.salary)\n",
    "\n",
    "\n",
    "        \n",
    "\n",
    "\n"
   ]
  },
  {
   "cell_type": "code",
   "execution_count": 37,
   "id": "0636fef6",
   "metadata": {},
   "outputs": [
    {
     "name": "stdout",
     "output_type": "stream",
     "text": [
      "Student: Harry 12\n",
      "School name: ABC School\n",
      "Student: Jessa 14\n",
      "School name: XYZ School\n"
     ]
    }
   ],
   "source": [
    "class StudentDetail:\n",
    "    # class variables\n",
    "    school_name = 'ABC School'\n",
    "\n",
    "    # constructor\n",
    "    def __init__(self, name, age):\n",
    "        # instance variables\n",
    "        self.name = name\n",
    "        self.age = age\n",
    "\n",
    "s1 = Student(\"Harry\", 12)\n",
    "# access instance variables\n",
    "print('Student:', s1.name, s1.age)\n",
    "\n",
    "# access class variable\n",
    "print('School name:', Student.school_name)\n",
    "\n",
    "# Modify instance variables\n",
    "s1.name = 'Jessa'\n",
    "s1.age = 14\n",
    "print('Student:', s1.name, s1.age)\n",
    "\n",
    "# Modify class variables\n",
    "Student.school_name = 'XYZ School'\n",
    "print('School name:', Student.school_name)"
   ]
  },
  {
   "cell_type": "code",
   "execution_count": 66,
   "id": "1c7d2dc4",
   "metadata": {},
   "outputs": [
    {
     "name": "stdout",
     "output_type": "stream",
     "text": [
      "student: har 10\n",
      "schoolname: ABCschool\n",
      "student: lorry 20\n",
      "schoolname: xyz\n"
     ]
    }
   ],
   "source": [
    "class student:\n",
    "    collagename=\"ABCschool\"\n",
    "    def __init__(self,name,age):\n",
    "        self.name=name\n",
    "        self.age=age\n",
    "s1=student(\"har\",10) \n",
    "\n",
    "print('student:',s1.name,s1.age)\n",
    "print('schoolname:',student.collagename)\n",
    "s1.name='lorry'\n",
    "s1.age=20\n",
    "print('student:',s1.name, s1.age)\n",
    "student.collagename=\"xyz\"\n",
    "print('schoolname:',student.collagename)\n",
    "\n",
    "\n",
    "\n",
    "\n",
    "        "
   ]
  },
  {
   "cell_type": "code",
   "execution_count": 87,
   "id": "69a8d565",
   "metadata": {},
   "outputs": [
    {
     "name": "stdout",
     "output_type": "stream",
     "text": [
      "name: farhana age: 20 schoolname: taleem\n",
      "schoolname: taleem\n",
      "30\n",
      "name: farhana age: 30 schoolname: taleem\n",
      "schoolname: kulliya\n",
      "name: farhana age: 30 schoolname: kulliya\n"
     ]
    }
   ],
   "source": [
    "class standard:\n",
    "    schoolname=\"taleem\"\n",
    "    def __init__(self,name,age):\n",
    "        self.name = name\n",
    "        self.age = age\n",
    "s1=standard('farhana',20)\n",
    "print(\"name:\",s1.name,\"age:\",s1.age,\"schoolname:\",s1.schoolname)\n",
    "print(\"schoolname:\",standard.schoolname)\n",
    "\n",
    "s1.age=30\n",
    "print(s1.age)\n",
    "print(\"name:\",s1.name,\"age:\",s1.age,\"schoolname:\",s1.schoolname)\n",
    "\n",
    "standard.schoolname=\"kulliya\"\n",
    "print(\"schoolname:\",standard.schoolname)\n",
    "print(\"name:\",s1.name,\"age:\",s1.age,\"schoolname:\",s1.schoolname)\n"
   ]
  },
  {
   "cell_type": "markdown",
   "id": "e84713bc",
   "metadata": {},
   "source": [
    "# class variable instance variable"
   ]
  },
  {
   "cell_type": "code",
   "execution_count": 106,
   "id": "a8bef4e8",
   "metadata": {},
   "outputs": [
    {
     "name": "stdout",
     "output_type": "stream",
     "text": [
      "0\n",
      "2\n",
      "70000\n",
      "{'name': 'fatima', 'age': 50, 'salary': 70000, 'profession': 'teacher'}\n",
      "84000\n",
      "{'name': 'khadija', 'age': 20, 'salary': 30000, 'profession': 'student'}\n",
      "36000\n",
      "{'name': 'khadija', 'age': 20, 'salary': 36000, 'profession': 'student'}\n"
     ]
    }
   ],
   "source": [
    "class Employee:\n",
    "    increment=1.2\n",
    "    noofemployee=0\n",
    "    def __init__(self,name,age,salary,profession):\n",
    "        self.name=name\n",
    "        self.age=age\n",
    "        self.salary=salary\n",
    "        self.profession=profession\n",
    "        Employee.noofemployee+=1\n",
    "        \n",
    "    def increase(self):\n",
    "        self.salary=int(self.salary*Employee.increment)\n",
    "print(Employee.noofemployee)        \n",
    "    \n",
    "fatima=Employee('fatima',50,70000,'teacher')\n",
    "khadija=Employee(\"khadija\",20,30000,\"student\")\n",
    "\n",
    "print(Employee.noofemployee)     \n",
    "\n",
    "print(fatima.salary)\n",
    "print(fatima.__dict__)\n",
    "\n",
    "fatima.increase()\n",
    "print(fatima.salary)\n",
    "\n",
    "print(khadija.__dict__)\n",
    "khadija.increase()\n",
    "print(khadija.salary)\n",
    "print(khadija.__dict__)\n",
    "\n",
    "\n",
    "\n"
   ]
  },
  {
   "cell_type": "code",
   "execution_count": 40,
   "id": "dfcf31ef",
   "metadata": {},
   "outputs": [
    {
     "name": "stdout",
     "output_type": "stream",
     "text": [
      "7200\n",
      "14400\n",
      "6000\n",
      "12000\n"
     ]
    }
   ],
   "source": [
    "# instance method\n",
    "\n",
    "class Employee:\n",
    "    increment=1.2\n",
    "    \n",
    "    def __init__(self,name,age,salary,profession):\n",
    "        self.name=name\n",
    "        self.age=age\n",
    "        self.salary=salary\n",
    "        self.profession=profession\n",
    "        \n",
    "        \n",
    "    def increase(self):\n",
    "        self.salary=int(self.salary*Employee.increment)\n",
    "    @classmethod\n",
    "    def change_increment(cls,amount):\n",
    "        cls.increment=amount\n",
    "        \n",
    "    \n",
    "        \n",
    "\n",
    "fatima=Employee('fatima',50,6000,'teacher')\n",
    "khadija=Employee(\"khadija\",20,3000,\"student\")\n",
    "\n",
    "# khadija.increase()\n",
    "# print(khadija.salary)\n",
    "\n",
    "fatima.increase()\n",
    "\n",
    "print(fatima.salary)\n",
    "\n",
    "Employee.change_increment(2)\n",
    "\n",
    "fatima.increase()\n",
    "print(fatima.salary)\n",
    "\n",
    "khadija.increase()\n",
    "print(khadija.salary)\n",
    "Employee.change_increment(2)\n",
    "\n",
    "khadija.increase()\n",
    "print(khadija.salary)\n"
   ]
  },
  {
   "cell_type": "code",
   "execution_count": 15,
   "id": "bcbb79a6",
   "metadata": {},
   "outputs": [
    {
     "data": {
      "text/plain": [
       "65"
      ]
     },
     "execution_count": 15,
     "metadata": {},
     "output_type": "execute_result"
    }
   ],
   "source": [
    "class student:\n",
    "    def __init__(self,name,rollno,age):\n",
    "        self.name = name\n",
    "        self.__rollno = rollno\n",
    "        self.__age = age\n",
    "    \n",
    "    def show(self):\n",
    "        print(self.__rollno)\n",
    "        \n",
    "    def get_rollno(self):\n",
    "        return self.__rollno\n",
    "    \n",
    "    def get_age(self):\n",
    "        return self.__age\n",
    "    \n",
    "    def set_age(self,age):\n",
    "         self.__age=age\n",
    "    \n",
    "    \n",
    "minhaj=student(\"minhaj\",22,20)\n",
    "minhaj.name\n",
    "minhaj._student__rollno\n",
    "\n",
    "# s2=student(\"haj\",29,25)\n",
    "\n",
    "# s3=student(\"huma\",32,22)\n",
    "\n",
    "# minhaj.show()\n",
    "# s2.sho\n",
    "# minhaj.get_rollno()\n",
    "minhaj.get_age()\n",
    "minhaj.set_age(65)\n",
    "minhaj.get_age()"
   ]
  },
  {
   "cell_type": "markdown",
   "id": "a4548093",
   "metadata": {},
   "source": [
    "# default constructor"
   ]
  },
  {
   "cell_type": "code",
   "execution_count": 5,
   "id": "bf8bd726",
   "metadata": {},
   "outputs": [
    {
     "name": "stdout",
     "output_type": "stream",
     "text": [
      "my name is khan.\n"
     ]
    }
   ],
   "source": [
    "class add:\n",
    "    def sum(self):\n",
    "        print(\"my name is khan.\")\n",
    "s=add()\n",
    "s.sum()"
   ]
  },
  {
   "cell_type": "code",
   "execution_count": 1,
   "id": "cb46a8d9",
   "metadata": {},
   "outputs": [],
   "source": [
    "# non-parametrized constructor"
   ]
  },
  {
   "cell_type": "code",
   "execution_count": 2,
   "id": "43a3fd83",
   "metadata": {},
   "outputs": [
    {
     "name": "stdout",
     "output_type": "stream",
     "text": [
      "NAME: khan AGE: 50\n"
     ]
    }
   ],
   "source": [
    "class student:\n",
    "    def __init__(self):\n",
    "        self.name=\"khan\"\n",
    "        self.age=\"50\"\n",
    "    def show(self):\n",
    "        print(\"NAME:\",self.name,\"AGE:\",self.age)\n",
    "        \n",
    "s=student()        \n",
    "s.show()"
   ]
  },
  {
   "cell_type": "code",
   "execution_count": 9,
   "id": "a3308b54",
   "metadata": {},
   "outputs": [],
   "source": [
    "# parametrized constructor\n"
   ]
  },
  {
   "cell_type": "code",
   "execution_count": 11,
   "id": "dfaac126",
   "metadata": {},
   "outputs": [
    {
     "name": "stdout",
     "output_type": "stream",
     "text": [
      "NAME: khan khalid AGE: 30 SALARY: 10000\n",
      "NAME: khan huma AGE: 40 SALARY: 20000\n"
     ]
    }
   ],
   "source": [
    "class Employee:\n",
    "    def __init__(self,name,age,salary):\n",
    "        self.name = name\n",
    "        self.age = age\n",
    "        self.salary = salary\n",
    "    def show(self):\n",
    "        print(\"NAME:\",self.name,\"AGE:\",self.age,\"SALARY:\",self.salary)\n",
    "s1=Employee(\"khan khalid\",30,10000)\n",
    "s1.show()\n",
    "\n",
    "s2=Employee(\"khan huma\",40,20000)\n",
    "s2.show()\n",
    "\n",
    "\n"
   ]
  },
  {
   "cell_type": "code",
   "execution_count": 17,
   "id": "f9b2484a",
   "metadata": {},
   "outputs": [
    {
     "name": "stdout",
     "output_type": "stream",
     "text": [
      "Amma 12 7\n",
      "namma 13 7\n"
     ]
    }
   ],
   "source": [
    "# constructor with default value\n",
    "\n",
    "class Student:\n",
    "    def __init__(self,name, age=12, classroom=7):\n",
    "        \n",
    "        self.name = name\n",
    "        self.age = age\n",
    "        self.classroom = classroom\n",
    "    \n",
    "    def add(self):\n",
    "        print(self.name,self.age,self.classroom)\n",
    "s1 = Student(\"Amma\")\n",
    "s1.add()\n",
    "\n",
    "s2 = Student(\"namma\",13)\n",
    "s2.add()"
   ]
  },
  {
   "cell_type": "code",
   "execution_count": 56,
   "id": "db03a2a6",
   "metadata": {},
   "outputs": [
    {
     "name": "stdout",
     "output_type": "stream",
     "text": [
      "no of employee is: 3\n"
     ]
    }
   ],
   "source": [
    "# counting the no of object\n",
    "class Employee:\n",
    "    count=0\n",
    "    def __init__(self):\n",
    "        Employee.count=Employee.count+1\n",
    "a=Employee()\n",
    "b=Employee()\n",
    "c=Employee()\n",
    "print(\"no of employee is:\",Employee.count)"
   ]
  },
  {
   "cell_type": "code",
   "execution_count": 35,
   "id": "93b918c4",
   "metadata": {},
   "outputs": [
    {
     "name": "stdout",
     "output_type": "stream",
     "text": [
      "12\n",
      "13\n",
      "14\n"
     ]
    }
   ],
   "source": [
    "list=[2,4,5,6]\n",
    "list=[12,13,14]\n",
    "\n",
    "def add():\n",
    "    for i in list:\n",
    "        print(i) \n",
    "def show_element():\n",
    "    for i in list:\n",
    "        print(i)\n",
    "        \n",
    "# add() \n",
    "\n",
    "show_element()\n"
   ]
  },
  {
   "cell_type": "code",
   "execution_count": 47,
   "id": "d83ca729",
   "metadata": {},
   "outputs": [
    {
     "name": "stdout",
     "output_type": "stream",
     "text": [
      "h\n",
      "e\n",
      "l\n",
      "l\n",
      "o\n"
     ]
    }
   ],
   "source": [
    "def show_element(a):\n",
    "    for i in a:\n",
    "        print(i)\n",
    "lst3=[2,3,4]\n",
    "p=\"my name khan\"\n",
    "# show_element(lst3)\n",
    "# show_element(p)\n",
    "show_element(\"hello\")"
   ]
  },
  {
   "cell_type": "code",
   "execution_count": 11,
   "id": "daae71d0",
   "metadata": {},
   "outputs": [
    {
     "name": "stdout",
     "output_type": "stream",
     "text": [
      "2605773750544\n",
      "2605773750544\n",
      "2\n"
     ]
    }
   ],
   "source": [
    "a=2\n",
    "b=a\n",
    "print(id(a))\n",
    "print(id(b))\n",
    "del b\n",
    "# print(a)\n",
    "print(a)\n"
   ]
  },
  {
   "cell_type": "code",
   "execution_count": 8,
   "id": "9f24c873",
   "metadata": {},
   "outputs": [],
   "source": [
    "# return value"
   ]
  },
  {
   "cell_type": "code",
   "execution_count": 19,
   "id": "21162c41",
   "metadata": {},
   "outputs": [
    {
     "name": "stdout",
     "output_type": "stream",
     "text": [
      "11\n"
     ]
    }
   ],
   "source": [
    "class Test:\n",
    "\n",
    "    def __init__(self, i):\n",
    "        self.i = i\n",
    "\n",
    "    def add(self,k):\n",
    "        self.k=k\n",
    "        return(self.i+self.k)\n",
    "        \n",
    "d = Test(8)\n",
    "d.add(3)\n",
    "print(d.add(3))"
   ]
  },
  {
   "cell_type": "code",
   "execution_count": null,
   "id": "59e621b2",
   "metadata": {},
   "outputs": [],
   "source": []
  },
  {
   "cell_type": "code",
   "execution_count": null,
   "id": "e5dcf532",
   "metadata": {},
   "outputs": [],
   "source": []
  },
  {
   "cell_type": "markdown",
   "id": "cf0ca543",
   "metadata": {},
   "source": [
    "# destructor"
   ]
  },
  {
   "cell_type": "code",
   "execution_count": 22,
   "id": "cc6e7b86",
   "metadata": {},
   "outputs": [
    {
     "ename": "NameError",
     "evalue": "name 's' is not defined",
     "output_type": "error",
     "traceback": [
      "\u001b[1;31m---------------------------------------------------------------------------\u001b[0m",
      "\u001b[1;31mNameError\u001b[0m                                 Traceback (most recent call last)",
      "Input \u001b[1;32mIn [22]\u001b[0m, in \u001b[0;36m<cell line: 10>\u001b[1;34m()\u001b[0m\n\u001b[0;32m      7\u001b[0m s\u001b[38;5;241m=\u001b[39madd(\u001b[38;5;124m\"\u001b[39m\u001b[38;5;124msurya\u001b[39m\u001b[38;5;124m\"\u001b[39m,\u001b[38;5;241m50\u001b[39m)\n\u001b[0;32m      9\u001b[0m \u001b[38;5;28;01mdel\u001b[39;00m s\n\u001b[1;32m---> 10\u001b[0m \u001b[43ms\u001b[49m\u001b[38;5;241m.\u001b[39mshow()\n",
      "\u001b[1;31mNameError\u001b[0m: name 's' is not defined"
     ]
    }
   ],
   "source": [
    "class add:\n",
    "    def __init__(self,name,age):\n",
    "        self.name=name\n",
    "        self.age=age\n",
    "    def show(self):\n",
    "        print(\"name:\",self.name,\"age:\",self.age)\n",
    "s=add(\"surya\",50)\n",
    "\n",
    "del s\n",
    "s.show()"
   ]
  },
  {
   "cell_type": "code",
   "execution_count": 42,
   "id": "44bcd221",
   "metadata": {},
   "outputs": [
    {
     "ename": "NameError",
     "evalue": "name 's1' is not defined",
     "output_type": "error",
     "traceback": [
      "\u001b[1;31m---------------------------------------------------------------------------\u001b[0m",
      "\u001b[1;31mNameError\u001b[0m                                 Traceback (most recent call last)",
      "Input \u001b[1;32mIn [42]\u001b[0m, in \u001b[0;36m<cell line: 16>\u001b[1;34m()\u001b[0m\n\u001b[0;32m     13\u001b[0m s3\u001b[38;5;241m=\u001b[39madd(\u001b[38;5;124m\"\u001b[39m\u001b[38;5;124mminja\u001b[39m\u001b[38;5;124m\"\u001b[39m,\u001b[38;5;241m60\u001b[39m)\n\u001b[0;32m     15\u001b[0m \u001b[38;5;28;01mdel\u001b[39;00m s1, s2,s3 \n\u001b[1;32m---> 16\u001b[0m \u001b[43ms1\u001b[49m\u001b[38;5;241m.\u001b[39mshow()\n\u001b[0;32m     17\u001b[0m s3\u001b[38;5;241m.\u001b[39mshow()\n",
      "\u001b[1;31mNameError\u001b[0m: name 's1' is not defined"
     ]
    }
   ],
   "source": [
    "class add:\n",
    "    def __init__(self,name,age):\n",
    "        self.name=name\n",
    "        self.age=age\n",
    "    def show(self):\n",
    "        print(\"name:\",self.name,\"age:\",self.age)\n",
    "    def __del__(self):\n",
    "#         print(\"world\")\n",
    "        \n",
    "        \n",
    "s1=add(\"surya\",20)\n",
    "s2=add(\"ninja\",30)\n",
    "s3=add(\"minja\",60)\n",
    "\n",
    "del s1, s2,s3 \n",
    "s1.show()\n",
    "s3.show()"
   ]
  },
  {
   "cell_type": "code",
   "execution_count": null,
   "id": "d301f499",
   "metadata": {},
   "outputs": [],
   "source": []
  },
  {
   "cell_type": "code",
   "execution_count": null,
   "id": "e025e53d",
   "metadata": {},
   "outputs": [],
   "source": []
  },
  {
   "cell_type": "code",
   "execution_count": 7,
   "id": "37fc3537",
   "metadata": {},
   "outputs": [
    {
     "name": "stdout",
     "output_type": "stream",
     "text": [
      "name: emma\n",
      "name: emma\n"
     ]
    }
   ],
   "source": [
    "class student:\n",
    "    def __init__(self,name):\n",
    "        self.name= name\n",
    "    def show(self):\n",
    "        print(\"name:\",self.name)\n",
    "s1=student('emma')\n",
    "s2=s1\n",
    "s1.show()\n",
    "del s1\n",
    "# s1.show()\n",
    "s2.show()\n",
    "\n",
    " \n",
    "        "
   ]
  },
  {
   "cell_type": "code",
   "execution_count": null,
   "id": "8772e3b8",
   "metadata": {},
   "outputs": [],
   "source": []
  },
  {
   "cell_type": "code",
   "execution_count": null,
   "id": "184fcca2",
   "metadata": {},
   "outputs": [],
   "source": []
  }
 ],
 "metadata": {
  "kernelspec": {
   "display_name": "Python 3 (ipykernel)",
   "language": "python",
   "name": "python3"
  },
  "language_info": {
   "codemirror_mode": {
    "name": "ipython",
    "version": 3
   },
   "file_extension": ".py",
   "mimetype": "text/x-python",
   "name": "python",
   "nbconvert_exporter": "python",
   "pygments_lexer": "ipython3",
   "version": "3.10.4"
  }
 },
 "nbformat": 4,
 "nbformat_minor": 5
}
