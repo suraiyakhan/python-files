{
 "cells": [
  {
   "cell_type": "markdown",
   "id": "d8f3e387",
   "metadata": {},
   "source": [
    "# STRINGS"
   ]
  },
  {
   "cell_type": "code",
   "execution_count": 2,
   "id": "6d89b0f9",
   "metadata": {},
   "outputs": [
    {
     "name": "stdout",
     "output_type": "stream",
     "text": [
      "khan\n",
      "not palindrome\n"
     ]
    }
   ],
   "source": [
    "# to check weather a given string is a palindrome?(1)\n",
    "a=input(\"\")\n",
    "b=a[::-1]\n",
    "if a==b:\n",
    "    print(\"palindrome\")\n",
    "else:\n",
    "    print(\"not palindrome\")\n",
    "    \n"
   ]
  },
  {
   "cell_type": "code",
   "execution_count": 3,
   "id": "ba518dc7",
   "metadata": {},
   "outputs": [
    {
     "name": "stdout",
     "output_type": "stream",
     "text": [
      "She has a car\n"
     ]
    }
   ],
   "source": [
    "# to capitalize the first character in a given sentence:(2)\n",
    "a=\"she has a car\"\n",
    "b=a.capitalize()\n",
    "print(b)"
   ]
  },
  {
   "cell_type": "code",
   "execution_count": 4,
   "id": "86073220",
   "metadata": {},
   "outputs": [
    {
     "name": "stdout",
     "output_type": "stream",
     "text": [
      "['minhaj', 'is', 'a', 'bad', 'boy']\n"
     ]
    }
   ],
   "source": [
    "# 3.Program to convert String to a List.(3)\n",
    "a=\"minhaj is a bad boy\"\n",
    "b=a.split()\n",
    "print(b)"
   ]
  },
  {
   "cell_type": "code",
   "execution_count": 15,
   "id": "c09320cf",
   "metadata": {},
   "outputs": [
    {
     "name": "stdout",
     "output_type": "stream",
     "text": [
      "['a', 'car', 'has', 'he', 'mar']\n",
      "['a', 'car', 'has', 'he', 'mar']\n",
      "['a', 'car', 'has', 'he', 'mar']\n",
      "['a', 'car', 'has', 'he', 'mar']\n",
      "['a', 'car', 'has', 'he', 'mar']\n"
     ]
    }
   ],
   "source": [
    "# to sort alphabetically the words in a given sentence(4)\n",
    "a=\"he has a car mar\"\n",
    "b=a.split()\n",
    "b.sort()\n",
    "for i in b:\n",
    "    print(b)"
   ]
  },
  {
   "cell_type": "code",
   "execution_count": 16,
   "id": "4a6187a3",
   "metadata": {},
   "outputs": [
    {
     "name": "stdout",
     "output_type": "stream",
     "text": [
      "['a', 'car', 'has', 'he']\n"
     ]
    }
   ],
   "source": [
    "a=\"he has a car\"\n",
    "b=a.split()\n",
    "b.sort()\n",
    "print(b)"
   ]
  },
  {
   "cell_type": "code",
   "execution_count": 17,
   "id": "d2df9f83",
   "metadata": {},
   "outputs": [
    {
     "name": "stdout",
     "output_type": "stream",
     "text": [
      "a\n",
      "car\n",
      "has\n",
      "he\n"
     ]
    }
   ],
   "source": [
    "a=\"he has a car\"\n",
    "b=a.split()\n",
    "b.sort()\n",
    "for i in b:\n",
    "    print(i)"
   ]
  },
  {
   "cell_type": "code",
   "execution_count": 18,
   "id": "00ce731c",
   "metadata": {},
   "outputs": [
    {
     "name": "stdout",
     "output_type": "stream",
     "text": [
      "Blow your nose\n"
     ]
    }
   ],
   "source": [
    "#  to demonstrate any 10 functions of string class(5)\n",
    "a=\"blow your nose\"\n",
    "b=a.capitalize()\n",
    "print(b)"
   ]
  },
  {
   "cell_type": "code",
   "execution_count": 19,
   "id": "cc3ebb81",
   "metadata": {},
   "outputs": [
    {
     "name": "stdout",
     "output_type": "stream",
     "text": [
      "3\n"
     ]
    }
   ],
   "source": [
    "a=\"blow your nose\"\n",
    "b=a.count(\"o\")\n",
    "print(b)"
   ]
  },
  {
   "cell_type": "code",
   "execution_count": 20,
   "id": "0b8fc17f",
   "metadata": {},
   "outputs": [
    {
     "name": "stdout",
     "output_type": "stream",
     "text": [
      "True\n"
     ]
    }
   ],
   "source": [
    "a=\"    \"\n",
    "b=a.isspace()\n",
    "print(b)"
   ]
  },
  {
   "cell_type": "code",
   "execution_count": 28,
   "id": "f80ad559",
   "metadata": {},
   "outputs": [
    {
     "name": "stdout",
     "output_type": "stream",
     "text": [
      "True\n"
     ]
    }
   ],
   "source": [
    "a=\"412mdugb\"\n",
    "b=a.isalnum()\n",
    "print(b)"
   ]
  },
  {
   "cell_type": "code",
   "execution_count": 41,
   "id": "2efddf87",
   "metadata": {},
   "outputs": [
    {
     "name": "stdout",
     "output_type": "stream",
     "text": [
      "12\n"
     ]
    }
   ],
   "source": [
    "a=\"blow, your, nose\"\n",
    "b=a.rindex(\"nose\")\n",
    "print(b)"
   ]
  },
  {
   "cell_type": "code",
   "execution_count": 45,
   "id": "5f2ffed0",
   "metadata": {},
   "outputs": [
    {
     "name": "stdout",
     "output_type": "stream",
     "text": [
      "blowyournose\n"
     ]
    }
   ],
   "source": [
    "a=\"blow\" \"your\" \"nose\"\n",
    "b=\"#\".join(a)\n",
    "print(a)"
   ]
  },
  {
   "cell_type": "code",
   "execution_count": 48,
   "id": "445af4d1",
   "metadata": {},
   "outputs": [
    {
     "name": "stdout",
     "output_type": "stream",
     "text": [
      "blow#your#nose\n"
     ]
    }
   ],
   "source": [
    "a=\"blow\",\"your\",\"nose\"\n",
    "b=\"#\".join(a)\n",
    "print(b)"
   ]
  },
  {
   "cell_type": "code",
   "execution_count": 49,
   "id": "e92091ec",
   "metadata": {},
   "outputs": [
    {
     "name": "stdout",
     "output_type": "stream",
     "text": [
      "b#l#o#w#,# #y#o#u#r#,#n#o#s#e\n"
     ]
    }
   ],
   "source": [
    "a=\"blow, your,nose\"\n",
    "b=\"#\".join(a)\n",
    "print(b)"
   ]
  },
  {
   "cell_type": "code",
   "execution_count": 50,
   "id": "b43cf468",
   "metadata": {},
   "outputs": [
    {
     "name": "stdout",
     "output_type": "stream",
     "text": [
      "BLOW your NOSE\n"
     ]
    }
   ],
   "source": [
    "a=\"blow YOUR nose\"\n",
    "b=a.swapcase()\n",
    "print(b)"
   ]
  },
  {
   "cell_type": "code",
   "execution_count": 59,
   "id": "d5ccb835",
   "metadata": {},
   "outputs": [
    {
     "name": "stdout",
     "output_type": "stream",
     "text": [
      "0000minhaj\n",
      "00020\n"
     ]
    }
   ],
   "source": [
    "a=\"minhaj\"\n",
    "b=\"20\"\n",
    "print(a.zfill(10))\n",
    "print(b.zfill(5))"
   ]
  },
  {
   "cell_type": "code",
   "execution_count": 73,
   "id": "33f30a5b",
   "metadata": {},
   "outputs": [
    {
     "name": "stdout",
     "output_type": "stream",
     "text": [
      "ekib a sah ehs\n",
      "ekib a sah ehs\n",
      "she has a bike\n"
     ]
    }
   ],
   "source": [
    "a=\"she has a bike\"\n",
    "print(a[::-1])\n",
    "print(a[-1::-1])\n",
    "print(a[::])\n",
    "# print(a[5:10:-1])"
   ]
  },
  {
   "cell_type": "code",
   "execution_count": 74,
   "id": "41eee8ae",
   "metadata": {},
   "outputs": [
    {
     "name": "stdout",
     "output_type": "stream",
     "text": [
      "True\n"
     ]
    }
   ],
   "source": [
    "x=\"minhaj is a bad boy\"\n",
    "print(\"is\"in x)"
   ]
  },
  {
   "cell_type": "code",
   "execution_count": 5,
   "id": "bb3a4c23",
   "metadata": {},
   "outputs": [
    {
     "name": "stdout",
     "output_type": "stream",
     "text": [
      "blowyournose\n"
     ]
    }
   ],
   "source": [
    "a=\"blow\"  \"your\"  \"nose\"\n",
    "b=\"#\".join(a)\n",
    "print(a)"
   ]
  },
  {
   "cell_type": "code",
   "execution_count": 6,
   "id": "57236634",
   "metadata": {},
   "outputs": [
    {
     "name": "stdout",
     "output_type": "stream",
     "text": [
      "blow#your#nose\n"
     ]
    }
   ],
   "source": [
    "a=\"blow\",\"your\",\"nose\"\n",
    "b=\"#\".join(a)\n",
    "print(b)\n"
   ]
  },
  {
   "cell_type": "code",
   "execution_count": 13,
   "id": "88200d53",
   "metadata": {},
   "outputs": [
    {
     "name": "stdout",
     "output_type": "stream",
     "text": [
      "blow, your, nose\n"
     ]
    }
   ],
   "source": [
    "a=\"blow, your, nose\"\n",
    "b=\"#\".join(a)\n",
    "print(a)"
   ]
  },
  {
   "cell_type": "markdown",
   "id": "407ba1f5",
   "metadata": {},
   "source": [
    "# list"
   ]
  },
  {
   "cell_type": "code",
   "execution_count": 16,
   "id": "2831416a",
   "metadata": {},
   "outputs": [
    {
     "name": "stdout",
     "output_type": "stream",
     "text": [
      "['apple', 'banana']\n"
     ]
    }
   ],
   "source": [
    "# (1)TO CREAT 5 DIFFERENT LIST USING LIST COMPREHENSION METHOD loop method\n",
    "\n",
    "b=[\"apple\",\"banana\",\"cherry\",\"lichi\",\"melon\"]\n",
    "newlist=[]\n",
    "for x in b:\n",
    "    if \"a\" in x:\n",
    "        newlist.append(x)\n",
    "print(newlist)        \n",
    "        \n",
    "\n"
   ]
  },
  {
   "cell_type": "code",
   "execution_count": 18,
   "id": "92804d3d",
   "metadata": {},
   "outputs": [
    {
     "name": "stdout",
     "output_type": "stream",
     "text": [
      "['apple', 'cherry', 'melon']\n"
     ]
    }
   ],
   "source": [
    "a=[\"apple\",\"banana\",\"cherry\",\"lichi\",\"melon\"]\n",
    "newlist=[]\n",
    "for i in a:\n",
    "    if \"e\" in i:\n",
    "        newlist.append(i)\n",
    "print(newlist)        \n",
    "        "
   ]
  },
  {
   "cell_type": "code",
   "execution_count": 22,
   "id": "2276886d",
   "metadata": {},
   "outputs": [
    {
     "name": "stdout",
     "output_type": "stream",
     "text": [
      "['all', 'ball', 'call', 'shall', 'pagal']\n"
     ]
    }
   ],
   "source": [
    "a=[\"all\",\"ball\",\"call\",\"shall\",\"ill\",\"merry\"]\n",
    "newlist=[]\n",
    "for x in a:\n",
    "    if \"a\" in x:\n",
    "        newlist.append(x)\n",
    "print(newlist)        "
   ]
  },
  {
   "cell_type": "code",
   "execution_count": 24,
   "id": "bf49d18c",
   "metadata": {},
   "outputs": [
    {
     "name": "stdout",
     "output_type": "stream",
     "text": [
      "['dog', 'orange']\n"
     ]
    }
   ],
   "source": [
    "#  with lisT comprehension we can do all that with only one line of code\n",
    "\n",
    "a=[\"apple\",\"ball\",\"cell\",\"dog\",\"orange\"]\n",
    "newlist=[x for x in a if \"o\" in x]\n",
    "print(newlist)"
   ]
  },
  {
   "cell_type": "code",
   "execution_count": 25,
   "id": "0e5b4f64",
   "metadata": {},
   "outputs": [
    {
     "name": "stdout",
     "output_type": "stream",
     "text": [
      "['orange', 'ball', 'call']\n"
     ]
    }
   ],
   "source": [
    "a=[\"orange\",\"bowl\",\"ball\",\"call\",\"old\"]\n",
    "newlist=[x for x in a if \"a\" in x]\n",
    "print(newlist)"
   ]
  },
  {
   "cell_type": "code",
   "execution_count": 26,
   "id": "1b06a1f0",
   "metadata": {},
   "outputs": [
    {
     "name": "stdout",
     "output_type": "stream",
     "text": [
      "['zainab', 'zeba']\n"
     ]
    }
   ],
   "source": [
    "b=[\"neha\",\"tabassum\",\"minhaj\",\"zainab\",\"zeba\"]\n",
    "newlist=[x for x in b if \"z\" in x ]\n",
    "print(newlist)"
   ]
  },
  {
   "cell_type": "code",
   "execution_count": 27,
   "id": "e14ba6a3",
   "metadata": {},
   "outputs": [
    {
     "name": "stdout",
     "output_type": "stream",
     "text": [
      "['apple', 'ball', 'cherry']\n"
     ]
    }
   ],
   "source": [
    "# only execpt items that are not \"cherry\"\n",
    "a=[\"apple\",\"ball\",\"call\",\"cherry\"]\n",
    "newlist=[x for x in a if x!=\"call\"]\n",
    "print(newlist)"
   ]
  },
  {
   "cell_type": "code",
   "execution_count": 30,
   "id": "f016766c",
   "metadata": {},
   "outputs": [
    {
     "name": "stdout",
     "output_type": "stream",
     "text": [
      "['apple', 'ball', 'call']\n"
     ]
    }
   ],
   "source": [
    "b=[\"apple\",\"ball\",\"call\",\"cherry\"]\n",
    "newlist=[x for x in b if x!=\"cherry\"]\n",
    "print(newlist)"
   ]
  },
  {
   "cell_type": "code",
   "execution_count": 36,
   "id": "16dee3fc",
   "metadata": {},
   "outputs": [
    {
     "name": "stdout",
     "output_type": "stream",
     "text": [
      "['apple', 'call', 'dog', 'cat', 'car']\n"
     ]
    }
   ],
   "source": [
    "b=[\"apple\",\"ball\",\"call\",\"dog\",\"cat\",\"car\"]\n",
    "newlist=[x for x in b if x!=\"ball\"]\n",
    "print(newlist)"
   ]
  },
  {
   "cell_type": "code",
   "execution_count": 34,
   "id": "cb24a6ba",
   "metadata": {},
   "outputs": [
    {
     "name": "stdout",
     "output_type": "stream",
     "text": [
      "['cat', 'bat']\n"
     ]
    }
   ],
   "source": [
    "a=[\"apple\",\"ball\",\"call\",\"cat\",\"bat\"]\n",
    "newlist=[]\n",
    "for i in a:\n",
    "    if \"t\" in i:\n",
    "        newlist.append(i)\n",
    "print(newlist)        "
   ]
  },
  {
   "cell_type": "code",
   "execution_count": 41,
   "id": "a55e14fb",
   "metadata": {},
   "outputs": [
    {
     "name": "stdout",
     "output_type": "stream",
     "text": [
      "['wall', 'wall', 'wall', 'wall']\n"
     ]
    }
   ],
   "source": [
    "# set all values in list\n",
    "a=[\"ball\",\"call\",\"all\",\"hall\"]\n",
    "newlist=[\"wall\"  for x in a]\n",
    "print(newlist)"
   ]
  },
  {
   "cell_type": "code",
   "execution_count": 42,
   "id": "5d4b8ff3",
   "metadata": {},
   "outputs": [
    {
     "name": "stdout",
     "output_type": "stream",
     "text": [
      "['wall']\n"
     ]
    }
   ],
   "source": [
    "a=[\"ball\",\"call\",\"all\"]\n",
    "newlist=[\"wall\" for x in \"a\"]\n",
    "print(newlist)"
   ]
  },
  {
   "cell_type": "code",
   "execution_count": 28,
   "id": "0b7c2906",
   "metadata": {},
   "outputs": [
    {
     "name": "stdout",
     "output_type": "stream",
     "text": [
      "['APPLE', 'CALL', 'BALL', 'DOG']\n"
     ]
    }
   ],
   "source": [
    "a=[\"apple\",\"call\",\"ball\",\"dog\"]\n",
    "newlist=[i.upper () for i in a]\n",
    "print(newlist)"
   ]
  },
  {
   "cell_type": "code",
   "execution_count": 10,
   "id": "a714fc6f",
   "metadata": {},
   "outputs": [
    {
     "name": "stdout",
     "output_type": "stream",
     "text": [
      "['apple', 'hall', 'call', 'fall']\n"
     ]
    }
   ],
   "source": [
    "a=[\"apple\",\"ball\",\"call\",\"fall\"]\n",
    "newlist=[x if x != \"ball\" else \"hall\"for x in a]\n",
    "print(newlist)"
   ]
  },
  {
   "cell_type": "code",
   "execution_count": 15,
   "id": "74cd6bf3",
   "metadata": {},
   "outputs": [
    {
     "name": "stdout",
     "output_type": "stream",
     "text": [
      "['apple', 'hall', 'call', 'fall']\n"
     ]
    }
   ],
   "source": [
    "a=[\"apple\",\"ball\",\"call\",\"fall\"]\n",
    "newlist+[x if x != \"apple\" else \"wall\" for x in a]\n",
    "print(newlist)"
   ]
  },
  {
   "cell_type": "code",
   "execution_count": 18,
   "id": "8db8bfc8",
   "metadata": {},
   "outputs": [
    {
     "name": "stdout",
     "output_type": "stream",
     "text": [
      "9\n"
     ]
    }
   ],
   "source": [
    "# 2.Create list , add random 10 numbers in list and print largest number of list.\n",
    "a=[2,6,4,9,3]\n",
    "print(max(a))\n"
   ]
  },
  {
   "cell_type": "code",
   "execution_count": 21,
   "id": "6fba6dc0",
   "metadata": {},
   "outputs": [
    {
     "name": "stdout",
     "output_type": "stream",
     "text": [
      "True\n"
     ]
    }
   ],
   "source": [
    "# (3) to check whethere a given number is present in list or not\n",
    "a=[3,6,9,2,6,8]\n",
    "print(6 in a)"
   ]
  },
  {
   "cell_type": "code",
   "execution_count": 23,
   "id": "c6e8a59e",
   "metadata": {},
   "outputs": [
    {
     "name": "stdout",
     "output_type": "stream",
     "text": [
      "True\n"
     ]
    }
   ],
   "source": [
    "a=\"mumbai coding club\"\n",
    "print('coding' in a)"
   ]
  },
  {
   "cell_type": "code",
   "execution_count": 26,
   "id": "a34c4582",
   "metadata": {},
   "outputs": [
    {
     "name": "stdout",
     "output_type": "stream",
     "text": [
      "True\n"
     ]
    }
   ],
   "source": [
    "a=[2,4,6,9,3]\n",
    "print(9 in a)"
   ]
  },
  {
   "cell_type": "code",
   "execution_count": 30,
   "id": "69a1bb23",
   "metadata": {},
   "outputs": [
    {
     "name": "stdout",
     "output_type": "stream",
     "text": [
      "['apple', 'ball', 'call', 'hall', 'mall', 'shall', 'wall']\n"
     ]
    }
   ],
   "source": [
    "# any 10 method of list\n",
    "# append\n",
    "a=[\"apple\",\"ball\",\"call\",\"hall\",\"mall\",\"shall\"]\n",
    "a.append(\"wall\")\n",
    "print(a)"
   ]
  },
  {
   "cell_type": "code",
   "execution_count": 33,
   "id": "7b309764",
   "metadata": {},
   "outputs": [
    {
     "name": "stdout",
     "output_type": "stream",
     "text": [
      "['apple', 'ball', 'call', 'hall', 'mall', 'shall', 'goal']\n"
     ]
    }
   ],
   "source": [
    "a=[\"apple\",\"ball\",\"call\",\"hall\",\"mall\",\"shall\"]\n",
    "a.append(\"goal\")\n",
    "print(a)"
   ]
  },
  {
   "cell_type": "code",
   "execution_count": 36,
   "id": "beff0ffe",
   "metadata": {},
   "outputs": [
    {
     "name": "stdout",
     "output_type": "stream",
     "text": [
      "['apple', 'banana', 'melon', 'cherry', 'rose', 'lilly', 'mogra', 'tulip']\n"
     ]
    }
   ],
   "source": [
    "fruit=[\"apple\",\"banana\",\"melon\",\"cherry\"]\n",
    "flower=[\"rose\",\"lilly\",\"mogra\",\"tulip\"]\n",
    "fruit.extend(flower)\n",
    "print(fruit)"
   ]
  },
  {
   "cell_type": "code",
   "execution_count": 57,
   "id": "d0904536",
   "metadata": {},
   "outputs": [
    {
     "name": "stdout",
     "output_type": "stream",
     "text": [
      "['apple', 'banana', 'melon', 'cherry', 'flower']\n"
     ]
    }
   ],
   "source": [
    "fruit=[\"apple\",\"banana\",\"melon\",\"cherry\"]\n",
    "fruit.append(\"flower\")\n",
    "print(fruit)"
   ]
  },
  {
   "cell_type": "code",
   "execution_count": 43,
   "id": "2964b41f",
   "metadata": {},
   "outputs": [
    {
     "name": "stdout",
     "output_type": "stream",
     "text": [
      "['apple', 'banana', 'melon', 'cherry', 'rose', 'lilly', 'mogra', 'tulip']\n"
     ]
    }
   ],
   "source": [
    "fruit=[\"apple\",\"banana\",\"melon\",\"cherry\"]\n",
    "flower=[\"rose\",\"lilly\",\"mogra\",\"tulip\"]\n",
    "fruit.extend(flower)\n",
    "print(fruit)"
   ]
  },
  {
   "cell_type": "code",
   "execution_count": 50,
   "id": "5d7c0f48",
   "metadata": {},
   "outputs": [
    {
     "name": "stdout",
     "output_type": "stream",
     "text": [
      "2\n"
     ]
    }
   ],
   "source": [
    "flower=[\"rose\",\"apple\",\"lilly\",\"apple\",\"mogra\",\"tulip\"]\n",
    "x=flower.count(\"apple\")\n",
    "print(x)"
   ]
  },
  {
   "cell_type": "code",
   "execution_count": 58,
   "id": "8ba81791",
   "metadata": {},
   "outputs": [
    {
     "name": "stdout",
     "output_type": "stream",
     "text": [
      "2\n"
     ]
    }
   ],
   "source": [
    "x=['anam',\"shabn=eena\",\"minhaj\",\"iram\",\"zikra\",\"afreen\",\"iram\",\"anam\"]\n",
    "y=x.count(\"iram\")\n",
    "print(y)"
   ]
  },
  {
   "cell_type": "code",
   "execution_count": 53,
   "id": "23d8a29f",
   "metadata": {},
   "outputs": [
    {
     "name": "stdout",
     "output_type": "stream",
     "text": [
      "['anam', 'iram', 'afreen', 'zikra', 'iram', 'minhaj', 'shabn=eena', 'anam']\n"
     ]
    }
   ],
   "source": [
    "name=['anam',\"shabn=eena\",\"minhaj\",\"iram\",\"zikra\",\"afreen\",\"iram\",\"anam\"]\n",
    "name.reverse()\n",
    "print(name)"
   ]
  },
  {
   "cell_type": "code",
   "execution_count": 54,
   "id": "e329169c",
   "metadata": {},
   "outputs": [
    {
     "name": "stdout",
     "output_type": "stream",
     "text": [
      "['afreen', 'anam', 'anam', 'iram', 'iram', 'minhaj', 'shabn=eena', 'zikra']\n"
     ]
    }
   ],
   "source": [
    "x=['anam',\"shabn=eena\",\"minhaj\",\"iram\",\"zikra\",\"afreen\",\"iram\",\"anam\"]\n",
    "x.sort()\n",
    "print(x)"
   ]
  },
  {
   "cell_type": "code",
   "execution_count": 63,
   "id": "0a26c824",
   "metadata": {},
   "outputs": [
    {
     "name": "stdout",
     "output_type": "stream",
     "text": [
      "['anam', 'shabn=eena', 'minhaj', 'iram', 'zikra', 'iram', 'anam']\n"
     ]
    }
   ],
   "source": [
    "x=['anam',\"shabn=eena\",\"minhaj\",\"iram\",\"zikra\",\"afreen\",\"iram\",\"anam\"]\n",
    "x.pop(5)\n",
    "print(x)\n"
   ]
  },
  {
   "cell_type": "code",
   "execution_count": 64,
   "id": "96cb650e",
   "metadata": {},
   "outputs": [
    {
     "name": "stdout",
     "output_type": "stream",
     "text": [
      "['anam', 'mareena', 'shabn=eena', 'minhaj', 'iram', 'zikra', 'afreen', 'iram', 'anam']\n"
     ]
    }
   ],
   "source": [
    "x=['anam',\"shabn=eena\",\"minhaj\",\"iram\",\"zikra\",\"afreen\",\"iram\",\"anam\"]\n",
    "x.insert(1,\"mareena\")\n",
    "print(x)"
   ]
  },
  {
   "cell_type": "code",
   "execution_count": 66,
   "id": "b1a72b14",
   "metadata": {},
   "outputs": [
    {
     "name": "stdout",
     "output_type": "stream",
     "text": [
      "3\n"
     ]
    }
   ],
   "source": [
    "x=['anam',\"shabn=eena\",\"minhaj\",\"iram\",\"zikra\",\"afreen\",\"iram\",\"anam\"]\n",
    "y=x.index(\"iram\")\n",
    "print(y)"
   ]
  },
  {
   "cell_type": "code",
   "execution_count": 70,
   "id": "43d0f094",
   "metadata": {},
   "outputs": [
    {
     "name": "stdout",
     "output_type": "stream",
     "text": [
      "['anam', 'shabn=eena', 'minhaj', 'iram', 'zikra', 'afreen', 'iram', 'anam']\n"
     ]
    }
   ],
   "source": [
    "x=['anam',\"shabn=eena\",\"minhaj\",\"iram\",\"zikra\",\"afreen\",\"iram\",\"anam\"]\n",
    "y=x.copy()\n",
    "print(x)"
   ]
  },
  {
   "cell_type": "code",
   "execution_count": 71,
   "id": "4833765b",
   "metadata": {},
   "outputs": [
    {
     "name": "stdout",
     "output_type": "stream",
     "text": [
      "[]\n"
     ]
    }
   ],
   "source": [
    "x=['anam',\"shabn=eena\",\"minhaj\",\"iram\",\"zikra\",\"afreen\",\"iram\",\"anam\"]\n",
    "x.clear()\n",
    "print(x)"
   ]
  },
  {
   "cell_type": "code",
   "execution_count": 75,
   "id": "283039a4",
   "metadata": {},
   "outputs": [
    {
     "name": "stdout",
     "output_type": "stream",
     "text": [
      "[('apple', 'rose'), ('ball', 'lilly'), ('cat', 'tulip')]\n"
     ]
    }
   ],
   "source": [
    "# .To add two list [ adding elements of list ]\n",
    "list1=[\"apple\",\"ball\",\"cat\"]\n",
    "list2=[\"rose\",\"lilly\",\"tulip\"]\n",
    "zipped=zip(list1,list2)\n",
    "\n",
    "print(list(zipped))"
   ]
  },
  {
   "cell_type": "code",
   "execution_count": 1,
   "id": "5b659279",
   "metadata": {},
   "outputs": [
    {
     "name": "stdout",
     "output_type": "stream",
     "text": [
      "<zip object at 0x0000021B1F36E0C0>\n"
     ]
    }
   ],
   "source": [
    "list1=[\"1st standard\",\"2nd standard\",\"3rd standard\"]\n",
    "list2=[40,50,50]\n",
    "zipped=zip(list1,list2)\n",
    "# print(list(zipped))\n",
    "\n",
    "l1=[1,2,3]\n",
    "l2=\"minhaj\"\n",
    "print(zip(l1,l2))\n"
   ]
  },
  {
   "cell_type": "code",
   "execution_count": 2,
   "id": "1d413380",
   "metadata": {},
   "outputs": [
    {
     "name": "stdout",
     "output_type": "stream",
     "text": [
      "[('apple', '1kg'), ('cherry', '5kg'), ('melon', '3kg')]\n"
     ]
    }
   ],
   "source": [
    "list1=[\"apple\",\"cherry\",\"melon\"]\n",
    "list2=[\"1kg\",\"5kg\",\"3kg\"]\n",
    "x=zip(list1,list2)\n",
    "print(list(x))"
   ]
  },
  {
   "cell_type": "code",
   "execution_count": 3,
   "id": "18c0b813",
   "metadata": {},
   "outputs": [
    {
     "name": "stdout",
     "output_type": "stream",
     "text": [
      "['a', 'girl', 'good', 'is', 'minhaj']\n"
     ]
    }
   ],
   "source": [
    "# .To sort a given number list in ascending order using functions.\n",
    "def add():\n",
    "    x=['minhaj', 'is','a','good','girl']\n",
    "    x.sort()\n",
    "    print(x)\n",
    "add()   \n",
    "    \n"
   ]
  },
  {
   "cell_type": "code",
   "execution_count": 96,
   "id": "ef3af339",
   "metadata": {},
   "outputs": [
    {
     "name": "stdout",
     "output_type": "stream",
     "text": [
      "['a', 'minhaj is a good gir']\n"
     ]
    }
   ],
   "source": [
    "def add():\n",
    "    x=[\"minhaj is a good gir\",\"a\"]\n",
    "    x.sort()\n",
    "    print(x)\n",
    "add()    \n",
    "    "
   ]
  },
  {
   "cell_type": "code",
   "execution_count": 3,
   "id": "51c2028e",
   "metadata": {},
   "outputs": [
    {
     "name": "stdout",
     "output_type": "stream",
     "text": [
      "['apple', 'ball', 'cat']\n",
      "['apple', 'ball']\n",
      "['apple']\n"
     ]
    }
   ],
   "source": [
    "# stack (last in first out)\n",
    "a=[]\n",
    "a.append(\"apple\")\n",
    "a.append(\"ball\")\n",
    "a.append(\"cat\")\n",
    "print(a)\n",
    "\n",
    "a.pop()\n",
    "print(a)\n",
    "\n",
    "a.pop()\n",
    "print(a)"
   ]
  },
  {
   "cell_type": "code",
   "execution_count": 6,
   "id": "25479190",
   "metadata": {},
   "outputs": [
    {
     "name": "stdout",
     "output_type": "stream",
     "text": [
      "['hall', 'ball', 'call', 'mall']\n",
      "['hall', 'ball', 'call']\n"
     ]
    }
   ],
   "source": [
    "b=[]\n",
    "b.append(\"hall\")\n",
    "b.append(\"ball\")\n",
    "b.append(\"call\")\n",
    "b.append(\"mall\")\n",
    "print(b)\n",
    "\n",
    "b.pop()\n",
    "print(b)"
   ]
  },
  {
   "cell_type": "markdown",
   "id": "18c0e460",
   "metadata": {},
   "source": [
    "# if else, for loop, and range() Exercises\n"
   ]
  },
  {
   "cell_type": "code",
   "execution_count": 8,
   "id": "86e4efe4",
   "metadata": {},
   "outputs": [
    {
     "name": "stdout",
     "output_type": "stream",
     "text": [
      "enter number6\n",
      "number is even\n"
     ]
    }
   ],
   "source": [
    "# to print odd and even number(1)\n",
    "\n",
    "n=int(input(\"enter number\"))\n",
    "if n%2==0:\n",
    "    print(\"number is even\")\n",
    "else:\n",
    "    print(\"number is odd\")\n",
    "        "
   ]
  },
  {
   "cell_type": "code",
   "execution_count": 9,
   "id": "02de62f7",
   "metadata": {},
   "outputs": [
    {
     "name": "stdout",
     "output_type": "stream",
     "text": [
      "enter number3\n",
      "odd number\n"
     ]
    }
   ],
   "source": [
    "n=int(input(\"enter number\"))\n",
    "if n%2==0:\n",
    "    print(\"even number\")\n",
    "else:\n",
    "    print(\"odd number\")"
   ]
  },
  {
   "cell_type": "code",
   "execution_count": 1,
   "id": "590c03e5",
   "metadata": {},
   "outputs": [
    {
     "name": "stdout",
     "output_type": "stream",
     "text": [
      "enter number23456\n",
      "digit number 5\n"
     ]
    }
   ],
   "source": [
    "# 2.Count the total number of digits in a number while loop\n",
    "\n",
    "n=int(input(\"enter number\"))\n",
    "count=0\n",
    "while n>0:\n",
    "    n=n//10\n",
    "    count+=1\n",
    "print(\"digit number\",count)    \n"
   ]
  },
  {
   "cell_type": "code",
   "execution_count": 2,
   "id": "9794e53d",
   "metadata": {},
   "outputs": [
    {
     "name": "stdout",
     "output_type": "stream",
     "text": [
      "enter number34567\n",
      "enter digits 5\n"
     ]
    }
   ],
   "source": [
    "# 2.Count the total number of digits in a number for loop\n",
    "n=input(\"enter number\")\n",
    "def digits(n):\n",
    "    count=0\n",
    "    for i in n:\n",
    "        if i .isdigit():\n",
    "            count+=1\n",
    "    return count   \n",
    "s=digits(n)\n",
    "print(\"enter digits\",s)\n",
    "        \n",
    "        \n"
   ]
  },
  {
   "cell_type": "code",
   "execution_count": null,
   "id": "b80b0c4b",
   "metadata": {},
   "outputs": [],
   "source": [
    "n=input(\"enter number\")\n",
    "count=0\n",
    "for i in n:\n",
    "    if i .isdigit():\n",
    "        count+=1\n",
    "print(\"enter digits\",i)\n",
    "        "
   ]
  },
  {
   "cell_type": "code",
   "execution_count": 1,
   "id": "18b82dc6",
   "metadata": {},
   "outputs": [
    {
     "name": "stdout",
     "output_type": "stream",
     "text": [
      "5\n",
      "enter digit 1\n"
     ]
    }
   ],
   "source": [
    "n=input(\"\")\n",
    "def digits(n):\n",
    "    count=0\n",
    "    for x in n:\n",
    "        if x .isdigit():\n",
    "            count+=1\n",
    "    return count\n",
    "k=digits(n)\n",
    "print(\"enter digit\",k)"
   ]
  },
  {
   "cell_type": "code",
   "execution_count": 2,
   "id": "9ba5de51",
   "metadata": {},
   "outputs": [
    {
     "name": "stdout",
     "output_type": "stream",
     "text": [
      "67gh\n",
      "enter digit 2\n"
     ]
    }
   ],
   "source": [
    "n=input(\"\")\n",
    "def digit(n):\n",
    "    count=0\n",
    "    for i in n:\n",
    "        if i .isdigit():\n",
    "            count+=1\n",
    "    return count\n",
    "m=digit(n)\n",
    "print(\"enter digit\",m)"
   ]
  },
  {
   "cell_type": "code",
   "execution_count": 7,
   "id": "b3327fcc",
   "metadata": {},
   "outputs": [
    {
     "name": "stdout",
     "output_type": "stream",
     "text": [
      "3456\n",
      "enter digit 4\n"
     ]
    }
   ],
   "source": [
    "# 2.Count the total number of digits in a number for loop\n",
    "\n",
    "n=input(\"\")\n",
    "def digit(n):\n",
    "    count=0\n",
    "    for x in n:\n",
    "        if n .isdigit():\n",
    "            count+=1\n",
    "    return count\n",
    "k=digit(n)\n",
    "print(\"enter digit\",k)"
   ]
  },
  {
   "cell_type": "code",
   "execution_count": 9,
   "id": "cad2a02f",
   "metadata": {},
   "outputs": [
    {
     "name": "stdout",
     "output_type": "stream",
     "text": [
      "345sdf\n",
      "enter digit 3\n"
     ]
    }
   ],
   "source": [
    "n=input(\"\")\n",
    "def digit(n):\n",
    "    count=0\n",
    "    for i in n:\n",
    "        if i .isdigit():\n",
    "            count+=1\n",
    "    return count\n",
    "x=digit(n)\n",
    "print(\"enter digit\",x)    "
   ]
  },
  {
   "cell_type": "code",
   "execution_count": 16,
   "id": "1aa12df4",
   "metadata": {},
   "outputs": [
    {
     "name": "stdout",
     "output_type": "stream",
     "text": [
      "suraiya\n",
      "enter alpha 7\n"
     ]
    }
   ],
   "source": [
    "n=str(input(\"\"))\n",
    "def alpha(n):\n",
    "    count=0\n",
    "    for i in n:\n",
    "        if i .isalpha():\n",
    "            count+=1\n",
    "    return count\n",
    "k=alpha(n)\n",
    "print(\"enter alpha\",k)            "
   ]
  },
  {
   "cell_type": "code",
   "execution_count": 19,
   "id": "cab265db",
   "metadata": {},
   "outputs": [
    {
     "name": "stdout",
     "output_type": "stream",
     "text": [
      "345678sdfghjk\n",
      "digit 6\n"
     ]
    }
   ],
   "source": [
    "# 2.Count the total number of digits in a number for loop\n",
    "n=input(\"\")\n",
    "count=0\n",
    "for i in n:\n",
    "    if i.isdigit():\n",
    "        count+=1\n",
    "print(\"digit\",count)        "
   ]
  },
  {
   "cell_type": "code",
   "execution_count": null,
   "id": "747bf240",
   "metadata": {},
   "outputs": [],
   "source": [
    "n=input()\n",
    "count=0\n",
    "for i in n:\n",
    "    if i .isalpha():\n",
    "        count+=1\n",
    "print(\"digit\",count)        "
   ]
  },
  {
   "cell_type": "code",
   "execution_count": 1,
   "id": "5eb72946",
   "metadata": {},
   "outputs": [
    {
     "name": "stdout",
     "output_type": "stream",
     "text": [
      "3467\n",
      "digit 4\n"
     ]
    }
   ],
   "source": [
    "n=int(input(\"\"))\n",
    "count=0\n",
    "while n>0:\n",
    "    n=n//10\n",
    "    count+=1\n",
    "print(\"digit\",count)    \n",
    "\n",
    "        \n",
    "    \n",
    "\n",
    "            "
   ]
  },
  {
   "cell_type": "code",
   "execution_count": 2,
   "id": "583bbd9e",
   "metadata": {},
   "outputs": [
    {
     "name": "stdout",
     "output_type": "stream",
     "text": [
      "2345678\n",
      "digit 7\n"
     ]
    }
   ],
   "source": [
    "n=int(input(\"\"))\n",
    "count=0\n",
    "while n>0:\n",
    "    n=n//10\n",
    "    count+=1\n",
    "print(\"digit\",count)    "
   ]
  },
  {
   "cell_type": "code",
   "execution_count": 3,
   "id": "b010e447",
   "metadata": {},
   "outputs": [
    {
     "name": "stdout",
     "output_type": "stream",
     "text": [
      "123456\n",
      "digit 6\n"
     ]
    }
   ],
   "source": [
    "n=input(\"\")\n",
    "count=0\n",
    "for i in n:\n",
    "    if i .isdigit():\n",
    "        count+=1\n",
    "print(\"digit\",count)    "
   ]
  },
  {
   "cell_type": "code",
   "execution_count": 16,
   "id": "eb63c84a",
   "metadata": {},
   "outputs": [
    {
     "name": "stdout",
     "output_type": "stream",
     "text": [
      "2\n",
      "digit 1\n"
     ]
    }
   ],
   "source": [
    "n=input(\"\")\n",
    "def digit(n):\n",
    "    count=0\n",
    "    for i in n :\n",
    "        if i .isdigit():\n",
    "            count+=1\n",
    "    return count\n",
    "l=digit(n)\n",
    "print(\"digit\",l)\n"
   ]
  },
  {
   "cell_type": "code",
   "execution_count": 6,
   "id": "efaeea96",
   "metadata": {},
   "outputs": [
    {
     "name": "stdout",
     "output_type": "stream",
     "text": [
      "enter number3\n",
      "odd number\n"
     ]
    }
   ],
   "source": [
    "n=int(input(\"enter number\"))\n",
    "if n%2==1:\n",
    "    print(\"odd number\")\n",
    "else:\n",
    "    print(\"even number\")"
   ]
  },
  {
   "cell_type": "code",
   "execution_count": 18,
   "id": "4514071f",
   "metadata": {},
   "outputs": [
    {
     "name": "stdout",
     "output_type": "stream",
     "text": [
      "345ert\n",
      " 3\n"
     ]
    }
   ],
   "source": [
    "count=0\n",
    "n =input(\"\")\n",
    "# count=0\n",
    "for i in n:\n",
    "    if i .isalpha():\n",
    "        count+=1\n",
    "print(\"\",count)        "
   ]
  },
  {
   "cell_type": "code",
   "execution_count": 3,
   "id": "a39b9053",
   "metadata": {},
   "outputs": [
    {
     "name": "stdout",
     "output_type": "stream",
     "text": [
      "enter number2\n",
      "2 x 1 = 2\n",
      "2 x 2 = 4\n",
      "2 x 3 = 6\n",
      "2 x 4 = 8\n",
      "2 x 5 = 10\n",
      "2 x 6 = 12\n",
      "2 x 7 = 14\n",
      "2 x 8 = 16\n",
      "2 x 9 = 18\n",
      "2 x 10 = 20\n"
     ]
    }
   ],
   "source": [
    "# write a programm to print multiplication table of a given number\n",
    "\n",
    "# i=1\n",
    "a=int(input(\"enter number\"))\n",
    "i=1\n",
    "while i<=10:\n",
    "    print(a,'x',i,\"=\",a*i)\n",
    "    i=i+1\n"
   ]
  },
  {
   "cell_type": "code",
   "execution_count": 5,
   "id": "5bd67f08",
   "metadata": {},
   "outputs": [
    {
     "name": "stdout",
     "output_type": "stream",
     "text": [
      "enter number2\n",
      "2 x 1 = 2\n",
      "2 x 2 = 4\n",
      "2 x 3 = 6\n",
      "2 x 4 = 8\n",
      "2 x 5 = 10\n",
      "2 x 6 = 12\n",
      "2 x 7 = 14\n",
      "2 x 8 = 16\n",
      "2 x 9 = 18\n",
      "2 x 10 = 20\n"
     ]
    }
   ],
   "source": [
    "a=int(input(\"enter number\"))\n",
    "b=1\n",
    "while b<11:\n",
    "    print(a, \"x\",b, \"=\",a*b)\n",
    "    b=b+1\n",
    "    \n",
    "    "
   ]
  },
  {
   "cell_type": "code",
   "execution_count": 7,
   "id": "dff95197",
   "metadata": {},
   "outputs": [
    {
     "name": "stdout",
     "output_type": "stream",
     "text": [
      "enter numnber2\n",
      "2 x 1 = 2\n",
      "2 x 2 = 4\n",
      "2 x 3 = 6\n",
      "2 x 4 = 8\n",
      "2 x 5 = 10\n",
      "2 x 6 = 12\n",
      "2 x 7 = 14\n",
      "2 x 8 = 16\n",
      "2 x 9 = 18\n",
      "2 x 10 = 20\n"
     ]
    }
   ],
   "source": [
    "x=int(input(\"enter numnber\"))\n",
    "y=1\n",
    "while y<11:\n",
    "    print(x,\"x\",y,\"=\",x*y)\n",
    "    y=y+1"
   ]
  },
  {
   "cell_type": "code",
   "execution_count": 8,
   "id": "2696a781",
   "metadata": {},
   "outputs": [
    {
     "name": "stdout",
     "output_type": "stream",
     "text": [
      "number2\n",
      "2 x 1 = 2\n",
      "2 x 2 = 4\n",
      "2 x 3 = 6\n",
      "2 x 4 = 8\n",
      "2 x 5 = 10\n",
      "2 x 6 = 12\n",
      "2 x 7 = 14\n",
      "2 x 8 = 16\n",
      "2 x 9 = 18\n",
      "2 x 10 = 20\n"
     ]
    }
   ],
   "source": [
    "n=int(input(\"number\"))\n",
    "a=1\n",
    "while a<11:\n",
    "    print(n,\"x\",a,\"=\",n*a)\n",
    "    a=a+1"
   ]
  },
  {
   "cell_type": "code",
   "execution_count": 1,
   "id": "53a640a6",
   "metadata": {},
   "outputs": [
    {
     "name": "stdout",
     "output_type": "stream",
     "text": [
      "number2\n",
      "2 x 1 = 2\n",
      "2 x 2 = 4\n",
      "2 x 3 = 6\n",
      "2 x 4 = 8\n",
      "2 x 5 = 10\n",
      "2 x 6 = 12\n",
      "2 x 7 = 14\n",
      "2 x 8 = 16\n",
      "2 x 9 = 18\n",
      "2 x 10 = 20\n"
     ]
    }
   ],
   "source": [
    "m=1\n",
    "n=int(input(\"number\"))\n",
    "while m<11:\n",
    "    print(n,\"x\",m,\"=\",n*m)\n",
    "    m=m+1"
   ]
  },
  {
   "cell_type": "code",
   "execution_count": 5,
   "id": "58fcb998",
   "metadata": {},
   "outputs": [
    {
     "name": "stdout",
     "output_type": "stream",
     "text": [
      "enter number4\n",
      "64\n"
     ]
    }
   ],
   "source": [
    "# calculate the cube of all numbers from 1 to a given number\n",
    "def cube (x):\n",
    "    res = x**3\n",
    "    return res\n",
    "n= int (input(\"enter number\"))\n",
    "print(cube(n))"
   ]
  },
  {
   "cell_type": "code",
   "execution_count": 6,
   "id": "608783f4",
   "metadata": {},
   "outputs": [
    {
     "name": "stdout",
     "output_type": "stream",
     "text": [
      "enter number2\n",
      "8\n"
     ]
    }
   ],
   "source": [
    "n=int(input(\"enter number\"))\n",
    "def cube(n):\n",
    "    a=n**3\n",
    "    return a\n",
    "print(cube(n))\n"
   ]
  },
  {
   "cell_type": "code",
   "execution_count": 9,
   "id": "a4f91b25",
   "metadata": {},
   "outputs": [
    {
     "name": "stdout",
     "output_type": "stream",
     "text": [
      "enter2\n",
      "8\n"
     ]
    }
   ],
   "source": [
    "n=int(input(\"enter\"))\n",
    "def cube(n):\n",
    "    m=n**3\n",
    "    return m\n",
    "print(cube(n))"
   ]
  },
  {
   "cell_type": "code",
   "execution_count": 10,
   "id": "8e4b72e2",
   "metadata": {},
   "outputs": [
    {
     "name": "stdout",
     "output_type": "stream",
     "text": [
      "number2\n",
      "enter number 8\n"
     ]
    }
   ],
   "source": [
    "a=int(input(\"number\"))\n",
    "def cube(a):\n",
    "    b=a**3\n",
    "    return b\n",
    "c=cube(a)\n",
    "print(\"enter number\",c)"
   ]
  },
  {
   "cell_type": "code",
   "execution_count": 17,
   "id": "4319a008",
   "metadata": {},
   "outputs": [
    {
     "name": "stdout",
     "output_type": "stream",
     "text": [
      "number2\n",
      "8\n"
     ]
    }
   ],
   "source": [
    "n=int(input(\"number\"))\n",
    "def cube(n):\n",
    "    a=n**3\n",
    "    return a\n",
    "print(cube(n))"
   ]
  },
  {
   "cell_type": "code",
   "execution_count": 21,
   "id": "8126176a",
   "metadata": {},
   "outputs": [
    {
     "name": "stdout",
     "output_type": "stream",
     "text": [
      "enter a number:3\n",
      "factorial= 6\n"
     ]
    }
   ],
   "source": [
    "#  (5)find a factorial of a given number\n",
    "\n",
    "i=int(input(\"enter a number:\"))\n",
    "fac=1\n",
    "while i > 0:\n",
    "    fac=fac*i\n",
    "    i=i-1\n",
    "print(\"factorial=\",fac)"
   ]
  },
  {
   "cell_type": "code",
   "execution_count": 28,
   "id": "17dd5a95",
   "metadata": {},
   "outputs": [
    {
     "name": "stdout",
     "output_type": "stream",
     "text": [
      "enter number3\n",
      "factorial= 6\n"
     ]
    }
   ],
   "source": [
    "n=int(input(\"enter number\"))\n",
    "fact=1\n",
    "while n>0:\n",
    "    fact=fact*n\n",
    "    n= n-1\n",
    "print(\"factorial=\",fact)    "
   ]
  },
  {
   "cell_type": "code",
   "execution_count": 31,
   "id": "118f49b6",
   "metadata": {},
   "outputs": [
    {
     "name": "stdout",
     "output_type": "stream",
     "text": [
      "enter3\n",
      "factorial= 6\n"
     ]
    }
   ],
   "source": [
    "n=int(input(\"enter\"))\n",
    "fact=1\n",
    "while n>0:\n",
    "    fact=fact*n\n",
    "    n=n-1\n",
    "print(\"factorial=\",fact)    "
   ]
  },
  {
   "cell_type": "code",
   "execution_count": 32,
   "id": "6d026257",
   "metadata": {},
   "outputs": [
    {
     "name": "stdout",
     "output_type": "stream",
     "text": [
      "enter3\n",
      "factorial= 6\n"
     ]
    }
   ],
   "source": [
    "a=int(input(\"enter\"))\n",
    "fac=1\n",
    "while a>0:\n",
    "    fac=fac*a\n",
    "    a=a-1\n",
    "print(\"factorial=\",fac)    \n",
    "    \n",
    "    "
   ]
  },
  {
   "cell_type": "code",
   "execution_count": 35,
   "id": "c5f0f9d6",
   "metadata": {},
   "outputs": [
    {
     "name": "stdout",
     "output_type": "stream",
     "text": [
      "enter number5\n",
      "0\n",
      "1\n",
      "1\n",
      "2\n",
      "3\n",
      "5\n"
     ]
    }
   ],
   "source": [
    "# display fibonacci series up to 10 terms\n",
    "\n",
    "n=int(input(\"enter number\"))\n",
    "x=0\n",
    "y=1\n",
    "z=0\n",
    "while (z <= n):\n",
    "    print(z)\n",
    "    x=y\n",
    "    y=z\n",
    "    z=x+y"
   ]
  },
  {
   "cell_type": "code",
   "execution_count": 37,
   "id": "6eb5f770",
   "metadata": {},
   "outputs": [
    {
     "name": "stdout",
     "output_type": "stream",
     "text": [
      "number7\n",
      "0\n",
      "1\n",
      "1\n",
      "2\n",
      "3\n",
      "5\n"
     ]
    }
   ],
   "source": [
    "n=int(input(\"number\"))\n",
    "x=0\n",
    "y=1\n",
    "z=0\n",
    "while z<n:\n",
    "    print(z)\n",
    "    x=y\n",
    "    y=z\n",
    "    z=x+y\n",
    "    "
   ]
  },
  {
   "cell_type": "code",
   "execution_count": 40,
   "id": "f37f6381",
   "metadata": {},
   "outputs": [
    {
     "name": "stdout",
     "output_type": "stream",
     "text": [
      "number10\n",
      "0\n",
      "1\n",
      "1\n",
      "2\n",
      "3\n",
      "5\n",
      "8\n"
     ]
    }
   ],
   "source": [
    "a=int(input(\"number\"))\n",
    "x=0\n",
    "y=1\n",
    "z=0\n",
    "while z<a:\n",
    "    print(z)\n",
    "    x=y\n",
    "    y=z\n",
    "    z=x+y\n",
    "    "
   ]
  },
  {
   "cell_type": "code",
   "execution_count": 42,
   "id": "a9fe2e9f",
   "metadata": {},
   "outputs": [
    {
     "name": "stdout",
     "output_type": "stream",
     "text": [
      "number8\n",
      "0\n",
      "1\n",
      "1\n",
      "2\n",
      "3\n",
      "5\n"
     ]
    }
   ],
   "source": [
    "n=int(input(\"number\"))\n",
    "x=0\n",
    "y=1\n",
    "z=0\n",
    "while z<n:\n",
    "    print(z)\n",
    "    x=y\n",
    "    y=z\n",
    "    z=x+y"
   ]
  },
  {
   "cell_type": "code",
   "execution_count": 3,
   "id": "b5447c5b",
   "metadata": {},
   "outputs": [
    {
     "name": "stdout",
     "output_type": "stream",
     "text": [
      "enter number5\n",
      "factorial 120\n"
     ]
    }
   ],
   "source": [
    "n=int(input(\"enter number\"))\n",
    "fact=1\n",
    "while n>0:\n",
    "    fact=fact*n\n",
    "    n=n-1\n",
    "print(\"factorial\",fact)    "
   ]
  },
  {
   "cell_type": "code",
   "execution_count": 2,
   "id": "01522ebe",
   "metadata": {},
   "outputs": [
    {
     "name": "stdout",
     "output_type": "stream",
     "text": [
      "enter number5\n",
      "0\n",
      "1\n",
      "1\n",
      "2\n",
      "3\n"
     ]
    }
   ],
   "source": [
    "n=int(input(\"enter number\"))\n",
    "x=0\n",
    "y=1\n",
    "z=0\n",
    "while z<n:\n",
    "    print(z)\n",
    "    x=y\n",
    "    y=z\n",
    "    z=x+y\n",
    "    "
   ]
  },
  {
   "cell_type": "code",
   "execution_count": 4,
   "id": "7afb91b3",
   "metadata": {},
   "outputs": [
    {
     "name": "stdout",
     "output_type": "stream",
     "text": [
      "number6\n",
      "factorial 720\n"
     ]
    }
   ],
   "source": [
    "n=int(input(\"number\"))\n",
    "fac=1\n",
    "while n>0:\n",
    "    fac=fac*n\n",
    "    n=n-1\n",
    "print(\"factorial\",fac)    "
   ]
  },
  {
   "cell_type": "code",
   "execution_count": null,
   "id": "b1a5bb61",
   "metadata": {},
   "outputs": [],
   "source": [
    "n=int(input(\"enter number\"))\n",
    "def cube(n):\n",
    "    a=n**3\n",
    "    return a\n",
    "print(cube(n))\n"
   ]
  },
  {
   "cell_type": "code",
   "execution_count": 1,
   "id": "3ad9146e",
   "metadata": {},
   "outputs": [
    {
     "name": "stdout",
     "output_type": "stream",
     "text": [
      "enter number5\n",
      "number 125\n"
     ]
    }
   ],
   "source": [
    "n=int(input(\"enter number\"))\n",
    "def cube(n):\n",
    "    a=n**3\n",
    "    return a\n",
    "b=cube(n)\n",
    "print(\"number\",b)"
   ]
  },
  {
   "cell_type": "markdown",
   "id": "64853abc",
   "metadata": {},
   "source": [
    "# TUPLE\n"
   ]
  },
  {
   "cell_type": "code",
   "execution_count": 4,
   "id": "68cc17fd",
   "metadata": {},
   "outputs": [
    {
     "name": "stdout",
     "output_type": "stream",
     "text": [
      "(1, 2, 4, 6, 9, 15, 12, 4, 5, 9)\n",
      "(14, 1, 4, 2, 1, 7)\n"
     ]
    }
   ],
   "source": [
    "# a. To create a tuple having a number from 1-20. Print the half of its \n",
    "# value in 1 line and other half in next line .\n",
    "\n",
    "tp=(1,2,4,6,9,15,12,4,5,9,14,1,4,2,1,7)\n",
    "tp1=tp[:10]\n",
    "tp2=tp[10:]\n",
    "print(tp1)\n",
    "print(tp2)"
   ]
  },
  {
   "cell_type": "code",
   "execution_count": 1,
   "id": "829a7bbe",
   "metadata": {},
   "outputs": [
    {
     "name": "stdout",
     "output_type": "stream",
     "text": [
      "enter number1\n",
      "enter number2\n",
      "enter number3\n",
      "enter number4\n",
      "enter number5\n",
      "(1, 2, 3, 4, 5)\n",
      "(2, 4)\n",
      "(1, 3, 5)\n"
     ]
    }
   ],
   "source": [
    "# (2). To create a tuple consisting of 20 number from a user. Create \n",
    "#  another tuple whose values are even number in the first tuple.\n",
    "a=[]\n",
    "for i in range(5):\n",
    "    n=int(input(\"enter number\"))\n",
    "    a.append(n)\n",
    "print(tuple(a)) \n",
    "\n",
    "b=[]\n",
    "for x in a:\n",
    "    if x%2==0:\n",
    "        b.append(x)\n",
    "print(tuple(b)) \n",
    "\n",
    "c=[]\n",
    "\n",
    "for k in a:\n",
    "    if k%2==1:\n",
    "        c.append(k)\n",
    "print(tuple(c))        "
   ]
  },
  {
   "cell_type": "code",
   "execution_count": 8,
   "id": "931401d7",
   "metadata": {},
   "outputs": [
    {
     "name": "stdout",
     "output_type": "stream",
     "text": [
      "number1\n",
      "number2\n",
      "number60\n",
      "number6\n",
      "(1, 2, 60, 6)\n",
      "(2, 60, 6)\n",
      "(1,)\n"
     ]
    }
   ],
   "source": [
    "a=[]\n",
    "for i in range(1,5):\n",
    "    n=int(input(\"number\"))\n",
    "    a.append(n)\n",
    "print(tuple(a)) \n",
    "\n",
    "b=[]\n",
    "\n",
    "for x in a:\n",
    "    if x%2==0:\n",
    "        b.append(x)\n",
    "print(tuple(b)) \n",
    "\n",
    "c=[]\n",
    "for k in a:\n",
    "    if k%2==1:\n",
    "        c.append(k)\n",
    "print(tuple(c))        "
   ]
  },
  {
   "cell_type": "code",
   "execution_count": 6,
   "id": "09ac0afc",
   "metadata": {},
   "outputs": [
    {
     "name": "stdout",
     "output_type": "stream",
     "text": [
      "(1, 3, 5, 6, 2, 2, 4, 5, 6)\n"
     ]
    }
   ],
   "source": [
    "# c. To concatenate two tuples\n",
    "tp1=(1,3,5,6,)\n",
    "tp2=(2,2,4,5,6)\n",
    "tp3=tp1+tp2\n",
    "print(tp3)"
   ]
  },
  {
   "cell_type": "code",
   "execution_count": 4,
   "id": "9fb8c62f",
   "metadata": {},
   "outputs": [
    {
     "name": "stdout",
     "output_type": "stream",
     "text": [
      "(1, 2, 3, 4, 5)\n",
      "(6, 7, 8, 9, 1)\n"
     ]
    }
   ],
   "source": [
    "tp=(1,2,3,4,5,6,7,8,9,1)\n",
    "tp1=tp[:5]\n",
    "tp2=tp[5:]\n",
    "print(tp1)\n",
    "print(tp2)\n",
    "        "
   ]
  },
  {
   "cell_type": "markdown",
   "id": "e4d29f6e",
   "metadata": {},
   "source": [
    "## "
   ]
  },
  {
   "cell_type": "code",
   "execution_count": 6,
   "id": "d9b32ef6",
   "metadata": {},
   "outputs": [
    {
     "name": "stdout",
     "output_type": "stream",
     "text": [
      "True\n"
     ]
    }
   ],
   "source": [
    "a=\"mumbai coding club\"\n",
    "print(\"club\" in a)"
   ]
  },
  {
   "cell_type": "code",
   "execution_count": 16,
   "id": "a149a56e",
   "metadata": {},
   "outputs": [
    {
     "name": "stdout",
     "output_type": "stream",
     "text": [
      "False\n",
      "yes,'ball' in tp\n"
     ]
    }
   ],
   "source": [
    "#d. To check whether a given element is present in tuple or not .\n",
    "\n",
    "thistp=(\"a\",'s','t','y','u')\n",
    "print(\"vb\" in thistp)\n",
    "\n",
    "tp=(\"apple\",\"ball\",\"cat\",\"dog\")\n",
    "if \"ball\"in tp:\n",
    "    print(\"yes,'ball' in tp\")"
   ]
  },
  {
   "cell_type": "code",
   "execution_count": 13,
   "id": "3ed6f26b",
   "metadata": {},
   "outputs": [
    {
     "name": "stdout",
     "output_type": "stream",
     "text": [
      "True\n"
     ]
    }
   ],
   "source": [
    "# to check substring is present in a given string\n",
    "a=\"minhaj is a good girl\"\n",
    "print(\"minhaj\"in a)"
   ]
  },
  {
   "cell_type": "code",
   "execution_count": 14,
   "id": "2338da36",
   "metadata": {},
   "outputs": [
    {
     "name": "stdout",
     "output_type": "stream",
     "text": [
      "True\n"
     ]
    }
   ],
   "source": [
    "tuple1=(\"minhaj is a good girl\")\n",
    "print(\"minhaj\" in a)"
   ]
  },
  {
   "cell_type": "code",
   "execution_count": 18,
   "id": "a03a44a9",
   "metadata": {},
   "outputs": [
    {
     "name": "stdout",
     "output_type": "stream",
     "text": [
      "yess,'boy'in tp1\n"
     ]
    }
   ],
   "source": [
    "tp1=(\"minhaj is a bad boy\")\n",
    "if \"boy\"in tp1:\n",
    "    print(\"yess,'boy'in tp1\")"
   ]
  },
  {
   "cell_type": "code",
   "execution_count": 20,
   "id": "32db5ecb",
   "metadata": {},
   "outputs": [
    {
     "name": "stdout",
     "output_type": "stream",
     "text": [
      "4\n"
     ]
    }
   ],
   "source": [
    "(5)# e. To use the following methods on a tuple in the program: \n",
    "# cmp(t1,t2)/t1==t2 ,len(t1) , zip(t1,t2) , max(t) , min(t) , tuple()\n",
    "\n",
    "list1=[2,4,5,7,]\n",
    "print(len(list1))\n"
   ]
  },
  {
   "cell_type": "code",
   "execution_count": 11,
   "id": "5fd804c7",
   "metadata": {},
   "outputs": [
    {
     "name": "stdout",
     "output_type": "stream",
     "text": [
      "4\n"
     ]
    }
   ],
   "source": [
    "t1=('s','g','5','9')\n",
    "print(len(t1))"
   ]
  },
  {
   "cell_type": "code",
   "execution_count": 24,
   "id": "6e51b3cd",
   "metadata": {},
   "outputs": [
    {
     "name": "stdout",
     "output_type": "stream",
     "text": [
      "9\n"
     ]
    }
   ],
   "source": [
    "tup=(2,3,4,6,7,9)\n",
    "print(max(tup))"
   ]
  },
  {
   "cell_type": "code",
   "execution_count": 25,
   "id": "7ac75fcb",
   "metadata": {},
   "outputs": [
    {
     "name": "stdout",
     "output_type": "stream",
     "text": [
      "0\n"
     ]
    }
   ],
   "source": [
    "tp=(1,3,8,9,0)\n",
    "print(min(tp))"
   ]
  },
  {
   "cell_type": "code",
   "execution_count": 10,
   "id": "ddb15d60",
   "metadata": {},
   "outputs": [
    {
     "name": "stdout",
     "output_type": "stream",
     "text": [
      "<class 'tuple'>\n"
     ]
    }
   ],
   "source": [
    "tup=(\"d\",\"y\")\n",
    "print(type(tup))"
   ]
  },
  {
   "cell_type": "code",
   "execution_count": 22,
   "id": "74b5d6fb",
   "metadata": {},
   "outputs": [
    {
     "name": "stdout",
     "output_type": "stream",
     "text": [
      "[('apple6', 'minhaj'), ('ball', 'pagal'), ('cat', 'hai')]\n"
     ]
    }
   ],
   "source": [
    "list1=[\"apple6\",\"ball\",\"cat\"]\n",
    "list2=[\"minhaj\",\"pagal\",\"hai\"]\n",
    "zipped=zip(list1,list2)\n",
    "print(list(zipped))"
   ]
  },
  {
   "cell_type": "markdown",
   "id": "16cb5515",
   "metadata": {},
   "source": [
    "# DICTIONARY"
   ]
  },
  {
   "cell_type": "code",
   "execution_count": 3,
   "id": "5c29cbcc",
   "metadata": {},
   "outputs": [
    {
     "name": "stdout",
     "output_type": "stream",
     "text": [
      "enter key=420\n",
      "kabab\n"
     ]
    }
   ],
   "source": [
    "n=input(\"enter key=\")\n",
    "d={\"minhaj\":\"pav\",\"suraiya\":\"roti\",\"nargis\":{\"B\":\"maggi\",\"lunch\":\"bada\",\"dinner\":\"dalroti\",}}\n",
    "# print(d)\n",
    "d[\"zikra\"]=\"junkfood\"\n",
    "d['420']=\"kabab\"\n",
    "print(d[n])"
   ]
  },
  {
   "cell_type": "code",
   "execution_count": 6,
   "id": "c0c3b8ef",
   "metadata": {},
   "outputs": [
    {
     "name": "stdout",
     "output_type": "stream",
     "text": [
      "None\n"
     ]
    }
   ],
   "source": [
    "d={\"minhaj\":\"pav\",\"suraiya\":\"roti\"}\n",
    "print(d.get(\"harry\"))"
   ]
  },
  {
   "cell_type": "code",
   "execution_count": 14,
   "id": "c21a29c9",
   "metadata": {},
   "outputs": [
    {
     "name": "stdout",
     "output_type": "stream",
     "text": [
      "{'anam': '14', 'mimnhaj': '15', 'nargis': '16', 'zikra': '17', 'iram': '18'}\n",
      "{'anam': '14', 'mimnhaj': '15', 'nargis': '16', 'zikra': '17', 'iram': '18', 'suraiya': '20'}\n",
      "{'anam': '14', 'mimnhaj': '15', 'nargis': '16', 'iram': '18', 'suraiya': '20'}\n"
     ]
    }
   ],
   "source": [
    "#  f. To create a dictionary with any five key value pair . print the \n",
    "# dictionary . Add an element in a given dictionary and delete an \n",
    "# element\n",
    "\n",
    "d={\n",
    "    \"anam\":\"14\",\n",
    "    \"mimnhaj\":\"15\",\n",
    "    \"nargis\":\"16\",\n",
    "    \"zikra\":\"17\",\n",
    "    \"iram\":\"18\",\n",
    "}\n",
    "print(d)\n",
    "\n",
    "d['suraiya']=\"20\"\n",
    "print(d)\n",
    "\n",
    "del d['zikra']\n",
    "\n",
    "print(d)"
   ]
  },
  {
   "cell_type": "code",
   "execution_count": 8,
   "id": "6929db3f",
   "metadata": {},
   "outputs": [
    {
     "data": {
      "text/plain": [
       "{'lily': '50', 'rose': '60', 'lotus': '40'}"
      ]
     },
     "execution_count": 8,
     "metadata": {},
     "output_type": "execute_result"
    }
   ],
   "source": [
    "# g. To create 2 dictionaries using dictionary comprehension method.\n",
    "flower={\n",
    "    \"lily\":\"50\",\n",
    "    \"rose\":\"60\",\n",
    "    \"lotus\":\"40\"\n",
    "}\n",
    "# print(flower)\n",
    "flow={x for x in flower}\n",
    "# print(flow)\n",
    "\n",
    "{k:v for k,v in flower.items()}"
   ]
  },
  {
   "cell_type": "code",
   "execution_count": 9,
   "id": "f505c961",
   "metadata": {},
   "outputs": [
    {
     "name": "stdout",
     "output_type": "stream",
     "text": [
      "{'nargis': 'khan', 'suraiya': 'khan', 'anam': 'khan'}\n"
     ]
    }
   ],
   "source": [
    "# h. To demonstrate any five methods on dictionary (fromkeys)1\n",
    "\n",
    "x=('nargis','suraiya','anam')\n",
    "y='khan'\n",
    "mydict=dict.fromkeys(x,y)\n",
    "print(mydict)"
   ]
  },
  {
   "cell_type": "code",
   "execution_count": 10,
   "id": "804f3b06",
   "metadata": {},
   "outputs": [
    {
     "name": "stdout",
     "output_type": "stream",
     "text": [
      "{'nargis': 'khan', 'jahnim': 'khan', 'minhaj': 'khan'}\n"
     ]
    }
   ],
   "source": [
    "x=(\"nargis\",\"jahnim\",\"minhaj\")\n",
    "y=\"khan\"\n",
    "z=dict.fromkeys(x,y)\n",
    "print(z)"
   ]
  },
  {
   "cell_type": "code",
   "execution_count": 11,
   "id": "51663386",
   "metadata": {},
   "outputs": [
    {
     "name": "stdout",
     "output_type": "stream",
     "text": [
      "dict_keys(['suraiya', 'ruqaiya', 'anam'])\n",
      "dict_values(['khan', 'shaikh', 'malik'])\n"
     ]
    }
   ],
   "source": [
    "name={\n",
    "    \"suraiya\":\"khan\",\n",
    "    \"ruqaiya\":\"shaikh\",\n",
    "    \"anam\":\"malik\"\n",
    "}\n",
    "x=name.keys()\n",
    "print(x)\n",
    "x=name.values()\n",
    "print(x)"
   ]
  },
  {
   "cell_type": "code",
   "execution_count": 12,
   "id": "62ea72fd",
   "metadata": {},
   "outputs": [
    {
     "name": "stdout",
     "output_type": "stream",
     "text": [
      "dict_keys(['suraiya', 'ruqaiya', 'anam'])\n",
      "dict_values(['khan', 'shaikh', 'malik'])\n"
     ]
    }
   ],
   "source": [
    "d={\"minhaj\":\"khan\",\"sumaiya\":\"samani\",\"suraiya\":\"khan\"}\n",
    "y=name.keys()\n",
    "z=name.values()\n",
    "print(y)\n",
    "print(z)"
   ]
  },
  {
   "cell_type": "code",
   "execution_count": 14,
   "id": "95654a76",
   "metadata": {},
   "outputs": [
    {
     "name": "stdout",
     "output_type": "stream",
     "text": [
      "{'brand': 'Ford', 'model': 'Mustang', 'year': 1964, 'color': 'White'}\n"
     ]
    }
   ],
   "source": [
    "#  update 3\n",
    "car = {\n",
    "  \"brand\": \"Ford\",\n",
    "  \"model\": \"Mustang\",\n",
    "  \"year\": 1964\n",
    "}\n",
    "\n",
    "car.update({\"color\": \"White\"})\n",
    "\n",
    "print(car)\n"
   ]
  },
  {
   "cell_type": "code",
   "execution_count": 2,
   "id": "af3c3cbd",
   "metadata": {},
   "outputs": [
    {
     "name": "stdout",
     "output_type": "stream",
     "text": [
      "[0, 1, 4, 9, 16, 25, 36, 49, 64, 81, 100, 121, 144, 169, 196, 225, 256, 289, 324, 361, 400, 441, 484, 529, 576, 625, 676, 729, 784, 841]\n"
     ]
    }
   ],
   "source": [
    "# Write a Python function to create and print a list where \n",
    "# the values are square\n",
    "# of numbers between 1 and 30 (both included).(5)\n",
    "\n",
    "def printValues():\n",
    "    l = list()\n",
    "    for i in range(0,30):\n",
    "        l.append(i**2)\n",
    "    print(l)\n",
    "printValues()\n",
    "\n",
    "\n"
   ]
  },
  {
   "cell_type": "code",
   "execution_count": 21,
   "id": "a8a735e4",
   "metadata": {},
   "outputs": [
    {
     "data": {
      "text/plain": [
       "<map at 0x219a3c59120>"
      ]
     },
     "execution_count": 21,
     "metadata": {},
     "output_type": "execute_result"
    }
   ],
   "source": [
    "a=[1,2,3,4,5]\n",
    "def square(x):\n",
    "    return x**2\n",
    "# map(square,a)\n",
    "list(map(square,a))"
   ]
  },
  {
   "cell_type": "code",
   "execution_count": 19,
   "id": "a65ed869",
   "metadata": {},
   "outputs": [
    {
     "data": {
      "text/plain": [
       "(1, 4, 9, 16, 25, 36)"
      ]
     },
     "execution_count": 19,
     "metadata": {},
     "output_type": "execute_result"
    }
   ],
   "source": [
    "a=[1,2,3,4,5,6]\n",
    "tuple(map(lambda x:x*x,a))\n"
   ]
  },
  {
   "cell_type": "code",
   "execution_count": null,
   "id": "2f8426f4",
   "metadata": {},
   "outputs": [],
   "source": []
  },
  {
   "cell_type": "code",
   "execution_count": null,
   "id": "f685a895",
   "metadata": {},
   "outputs": [],
   "source": []
  }
 ],
 "metadata": {
  "kernelspec": {
   "display_name": "Python 3 (ipykernel)",
   "language": "python",
   "name": "python3"
  },
  "language_info": {
   "codemirror_mode": {
    "name": "ipython",
    "version": 3
   },
   "file_extension": ".py",
   "mimetype": "text/x-python",
   "name": "python",
   "nbconvert_exporter": "python",
   "pygments_lexer": "ipython3",
   "version": "3.10.4"
  }
 },
 "nbformat": 4,
 "nbformat_minor": 5
}
