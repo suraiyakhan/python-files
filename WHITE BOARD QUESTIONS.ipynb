{
 "cells": [
  {
   "cell_type": "code",
   "execution_count": 14,
   "id": "22c49340",
   "metadata": {},
   "outputs": [
    {
     "name": "stdout",
     "output_type": "stream",
     "text": [
      "5\n"
     ]
    },
    {
     "data": {
      "text/plain": [
       "15"
      ]
     },
     "execution_count": 14,
     "metadata": {},
     "output_type": "execute_result"
    }
   ],
   "source": [
    "class abc:\n",
    "    def add (self,a,b,c):\n",
    "        return a+b\n",
    "    def add (self,a,b,c=0):\n",
    "        return a+b+c\n",
    "c=abc()\n",
    "print(c.add(2,3))\n",
    "c.add(2,5,8)\n",
    "\n",
    "\n",
    "\n",
    "\n",
    "\n",
    "    "
   ]
  },
  {
   "cell_type": "code",
   "execution_count": 10,
   "id": "8026769f",
   "metadata": {},
   "outputs": [
    {
     "data": {
      "text/plain": [
       "6"
      ]
     },
     "execution_count": 10,
     "metadata": {},
     "output_type": "execute_result"
    }
   ],
   "source": [
    "str=\"python\"\n",
    "lst=[\"hii\",\"276\",\"python\"]\n",
    "len(str)\n",
    "# len(lst)"
   ]
  },
  {
   "cell_type": "code",
   "execution_count": 12,
   "id": "bbe8e316",
   "metadata": {},
   "outputs": [
    {
     "name": "stdout",
     "output_type": "stream",
     "text": [
      "brand Ford\n",
      "model Mustang\n",
      "year 1964\n"
     ]
    }
   ],
   "source": [
    "thisdict = {\n",
    "  \"brand\": \"Ford\",\n",
    "  \"model\": \"Mustang\",\n",
    "  \"year\": 1964\n",
    "}\n",
    "for i,j in thisdict.items():\n",
    "    print(i,j)\n",
    "\n",
    "# for i in thisdict.items():\n",
    "#     print(i)"
   ]
  },
  {
   "cell_type": "code",
   "execution_count": 6,
   "id": "10fd4b20",
   "metadata": {},
   "outputs": [
    {
     "name": "stdout",
     "output_type": "stream",
     "text": [
      "5\n"
     ]
    }
   ],
   "source": [
    "def add(a,b):\n",
    "    c=a+b\n",
    "    return c\n",
    "a=add(2,3)\n",
    ".\n",
    "print(a)"
   ]
  },
  {
   "cell_type": "code",
   "execution_count": 2,
   "id": "57409841",
   "metadata": {},
   "outputs": [
    {
     "name": "stdout",
     "output_type": "stream",
     "text": [
      "None\n"
     ]
    }
   ],
   "source": [
    "thisdict = {\n",
    "  \"brand\": \"Ford\",\n",
    "  \"model\": \"Mustang\",\n",
    "  \"year\": 1964\n",
    "}\n",
    "c=thisdict.get(\"price\")\n",
    "print(c)\n",
    "\n"
   ]
  },
  {
   "cell_type": "code",
   "execution_count": 27,
   "id": "6f728139",
   "metadata": {},
   "outputs": [
    {
     "ename": "NameError",
     "evalue": "name 'age' is not defined",
     "output_type": "error",
     "traceback": [
      "\u001b[1;31m---------------------------------------------------------------------------\u001b[0m",
      "\u001b[1;31mNameError\u001b[0m                                 Traceback (most recent call last)",
      "Input \u001b[1;32mIn [27]\u001b[0m, in \u001b[0;36m<cell line: 8>\u001b[1;34m()\u001b[0m\n\u001b[0;32m      6\u001b[0m         \u001b[38;5;28mprint\u001b[39m(age,name)\n\u001b[0;32m      7\u001b[0m d\u001b[38;5;241m=\u001b[39madd(\u001b[38;5;124m\"\u001b[39m\u001b[38;5;124mkhan\u001b[39m\u001b[38;5;124m\"\u001b[39m,\u001b[38;5;241m20\u001b[39m)\n\u001b[1;32m----> 8\u001b[0m \u001b[43md\u001b[49m\u001b[38;5;241;43m.\u001b[39;49m\u001b[43mshow\u001b[49m\u001b[43m(\u001b[49m\u001b[43m)\u001b[49m\n",
      "Input \u001b[1;32mIn [27]\u001b[0m, in \u001b[0;36madd.show\u001b[1;34m(self)\u001b[0m\n\u001b[0;32m      5\u001b[0m \u001b[38;5;28;01mdef\u001b[39;00m \u001b[38;5;21mshow\u001b[39m(\u001b[38;5;28mself\u001b[39m):\n\u001b[1;32m----> 6\u001b[0m     \u001b[38;5;28mprint\u001b[39m(\u001b[43mage\u001b[49m,name)\n",
      "\u001b[1;31mNameError\u001b[0m: name 'age' is not defined"
     ]
    }
   ],
   "source": [
    "class add:\n",
    "    def __init__(self,name,age):\n",
    "        self.name = name \n",
    "        self.age = age \n",
    "    def show(self):\n",
    "        print(age,name)\n",
    "d=add(\"khan\",20)\n",
    "d.show()"
   ]
  },
  {
   "cell_type": "code",
   "execution_count": 1,
   "id": "66d3516c",
   "metadata": {},
   "outputs": [
    {
     "name": "stdout",
     "output_type": "stream",
     "text": [
      "{3: 4, 2: 9, 5: 2}\n"
     ]
    }
   ],
   "source": [
    "# key should or must be unique/value can be duplicate\n",
    "a={1:2,3:4,2:9}\n",
    "a[5]=a.pop(1)\n",
    "print(a)\n",
    "# print(a)\n",
    "a.get(1)"
   ]
  },
  {
   "cell_type": "code",
   "execution_count": 5,
   "id": "3706be79",
   "metadata": {},
   "outputs": [
    {
     "name": "stdout",
     "output_type": "stream",
     "text": [
      "{'brand': 'Ford', 'gam': '1964', 'year': 1964}\n"
     ]
    }
   ],
   "source": [
    "thisdict = {\n",
    "  \"brand\": \"Ford\",\n",
    "  \"gam\": \"1964\",\n",
    "  \"year\": 1964\n",
    "}\n",
    "print(thisdict)\n"
   ]
  },
  {
   "cell_type": "code",
   "execution_count": 39,
   "id": "c5a5f83a",
   "metadata": {},
   "outputs": [
    {
     "name": "stdout",
     "output_type": "stream",
     "text": [
      "2032606999840\n",
      "2032606999840\n"
     ]
    }
   ],
   "source": [
    "a=[2,3,4]\n",
    "# b=[2,3,4]\n",
    "a=b\n",
    "print(id(a))\n",
    "print(id(b))"
   ]
  },
  {
   "cell_type": "code",
   "execution_count": 8,
   "id": "ec181482",
   "metadata": {},
   "outputs": [
    {
     "name": "stdout",
     "output_type": "stream",
     "text": [
      "False\n"
     ]
    }
   ],
   "source": [
    "x=5\n",
    "print(x>3 and x>10)"
   ]
  },
  {
   "cell_type": "code",
   "execution_count": 10,
   "id": "c0cfba7a",
   "metadata": {},
   "outputs": [
    {
     "name": "stdout",
     "output_type": "stream",
     "text": [
      "1943873388816\n",
      "1943873388816\n"
     ]
    }
   ],
   "source": [
    "a=2\n",
    "b=2\n",
    "print(id(a))\n",
    "print(id(b))"
   ]
  },
  {
   "cell_type": "code",
   "execution_count": 21,
   "id": "9f234621",
   "metadata": {},
   "outputs": [
    {
     "name": "stdout",
     "output_type": "stream",
     "text": [
      "ood girl\n"
     ]
    }
   ],
   "source": [
    "a=\"iram ia mood girl\"\n",
    "print(a.strip(\"  iram\"))"
   ]
  },
  {
   "cell_type": "code",
   "execution_count": 1,
   "id": "39e5eab1",
   "metadata": {},
   "outputs": [],
   "source": [
    "# tuple packing and unpacking"
   ]
  },
  {
   "cell_type": "code",
   "execution_count": 3,
   "id": "da8ae7e8",
   "metadata": {},
   "outputs": [
    {
     "name": "stdout",
     "output_type": "stream",
     "text": [
      "(10, 20, 20, 40)\n",
      "10 20 30 40\n"
     ]
    }
   ],
   "source": [
    "# a=2\n",
    "# b=\"suraiya\"\n",
    "# c=33\n",
    "# tp=a,b,c\n",
    "# print(tp)\n",
    "# print(type(tp))\n",
    "\n",
    "a = 10\n",
    "b = 20\n",
    "c = 20\n",
    "d = 40\n",
    "tuple1 = a, b, c, d # Packing tuple\n",
    "print(tuple1) # (10, 20, 20, 40)\n",
    "\n",
    "tuple1 = (10, 20, 30, 40)\n",
    "a, b, c, d = tuple1\n",
    "print(a, b, c, d)  # 10 20 30 40\n",
    " "
   ]
  },
  {
   "cell_type": "code",
   "execution_count": 10,
   "id": "e76f8b3a",
   "metadata": {},
   "outputs": [
    {
     "name": "stdout",
     "output_type": "stream",
     "text": [
      "bhai\n",
      "(2, 'suraiya', 33, 'bhai')\n"
     ]
    }
   ],
   "source": [
    "tp=(2,\"suraiya\",33,\"bhai\")\n",
    "x,y,z,w=tp\n",
    "print(w)\n",
    "print(tp)\n"
   ]
  },
  {
   "cell_type": "code",
   "execution_count": 11,
   "id": "89a417fe",
   "metadata": {},
   "outputs": [
    {
     "name": "stdout",
     "output_type": "stream",
     "text": [
      "<class 'set'>\n",
      "{33, 2, 'suraiya', 'bhai'}\n"
     ]
    }
   ],
   "source": [
    "tp={2,\"suraiya\",33,\"bhai\"}\n",
    "x,y,z,w=tp\n",
    "print(type(tp))\n",
    "print(tp)"
   ]
  },
  {
   "cell_type": "code",
   "execution_count": 38,
   "id": "8acd5f58",
   "metadata": {},
   "outputs": [],
   "source": [
    "class A:\n",
    "    def __init__(self,name,age):\n",
    "        self.name = name\n",
    "        self.age = age\n",
    "    def show(self):\n",
    "        print(\"\")\n",
    "        \n",
    "        "
   ]
  },
  {
   "cell_type": "code",
   "execution_count": 6,
   "id": "7b7c8b34",
   "metadata": {},
   "outputs": [
    {
     "name": "stdout",
     "output_type": "stream",
     "text": [
      "[2, 5, 78]\n"
     ]
    }
   ],
   "source": [
    "lst= list((2,5,78))\n",
    "print(lst)"
   ]
  },
  {
   "cell_type": "code",
   "execution_count": 11,
   "id": "08cff5c7",
   "metadata": {},
   "outputs": [
    {
     "name": "stdout",
     "output_type": "stream",
     "text": [
      "\n"
     ]
    }
   ],
   "source": [
    "class A:\n",
    "    print()\n",
    "s=A()    "
   ]
  },
  {
   "cell_type": "code",
   "execution_count": 16,
   "id": "a05e8555",
   "metadata": {},
   "outputs": [
    {
     "name": "stdout",
     "output_type": "stream",
     "text": [
      "456\n"
     ]
    }
   ],
   "source": [
    "class A:\n",
    "    def __init__(self):\n",
    "        print(123)\n",
    "    def __new__(self):\n",
    "        print(456)\n",
    "s=A()        "
   ]
  },
  {
   "cell_type": "code",
   "execution_count": 6,
   "id": "4bf63548",
   "metadata": {},
   "outputs": [
    {
     "name": "stdout",
     "output_type": "stream",
     "text": [
      "5\n"
     ]
    }
   ],
   "source": [
    "def add(a,b):\n",
    "    c=a+b\n",
    "    return c\n",
    "a=add(2,3)\n",
    "print(a)"
   ]
  },
  {
   "cell_type": "code",
   "execution_count": 5,
   "id": "6372c826",
   "metadata": {},
   "outputs": [
    {
     "name": "stdout",
     "output_type": "stream",
     "text": [
      "None\n"
     ]
    }
   ],
   "source": [
    "def add(a,b):\n",
    "    c= a+b\n",
    "a=add(5,2)\n",
    "print(a)"
   ]
  },
  {
   "cell_type": "code",
   "execution_count": 12,
   "id": "484c00e5",
   "metadata": {},
   "outputs": [
    {
     "name": "stdout",
     "output_type": "stream",
     "text": [
      "9\n"
     ]
    }
   ],
   "source": [
    "def add(a,b):\n",
    "    print(a+b)\n",
    "    \n",
    "add(2,7)    \n"
   ]
  },
  {
   "cell_type": "markdown",
   "id": "919e426c",
   "metadata": {},
   "source": [
    "# @3topic of board list comprehension"
   ]
  },
  {
   "cell_type": "code",
   "execution_count": 4,
   "id": "3f7aa416",
   "metadata": {},
   "outputs": [
    {
     "name": "stdout",
     "output_type": "stream",
     "text": [
      "[0, 3, 6, 9, 12, 15, 18, 21, 24, 27, 30, 33, 36, 39, 42, 45, 48, 51, 54, 57, 60, 63, 66, 69, 72, 75, 78, 81, 84, 87, 90, 93, 96, 99]\n"
     ]
    }
   ],
   "source": [
    "lst=[]\n",
    "for i in range(100):\n",
    "    if i%3 ==0:\n",
    "        lst.append(i)\n",
    "print(lst)        "
   ]
  },
  {
   "cell_type": "code",
   "execution_count": 5,
   "id": "863d173a",
   "metadata": {},
   "outputs": [
    {
     "name": "stdout",
     "output_type": "stream",
     "text": [
      "[0, 3, 6, 9, 12, 15, 18, 21, 24, 27, 30, 33, 36, 39, 42, 45, 48, 51, 54, 57, 60, 63, 66, 69, 72, 75, 78, 81, 84, 87, 90, 93, 96, 99]\n"
     ]
    }
   ],
   "source": [
    "a=[]\n",
    "for i in range(100):\n",
    "    if i % 3==0:\n",
    "        a.append(i)\n",
    "print(a)        \n",
    "        "
   ]
  },
  {
   "cell_type": "code",
   "execution_count": 6,
   "id": "84a6666d",
   "metadata": {},
   "outputs": [],
   "source": [
    "# list comprehension"
   ]
  },
  {
   "cell_type": "code",
   "execution_count": 10,
   "id": "b04edc92",
   "metadata": {},
   "outputs": [
    {
     "name": "stdout",
     "output_type": "stream",
     "text": [
      "[0, 3, 6, 9, 12, 15, 18, 21, 24, 27, 30, 33, 36, 39, 42, 45, 48, 51, 54, 57, 60, 63, 66, 69, 72, 75, 78, 81, 84, 87, 90, 93, 96, 99]\n"
     ]
    }
   ],
   "source": [
    "a=[i for i in range(100) if i%3==0]\n",
    "print(a)"
   ]
  },
  {
   "cell_type": "code",
   "execution_count": 11,
   "id": "13aab958",
   "metadata": {},
   "outputs": [],
   "source": [
    "# dict comprehension"
   ]
  },
  {
   "cell_type": "code",
   "execution_count": 13,
   "id": "3e2995ac",
   "metadata": {},
   "outputs": [
    {
     "name": "stdout",
     "output_type": "stream",
     "text": [
      "this is suraiyakhan\n"
     ]
    }
   ],
   "source": [
    "me='suraiya'\n",
    "m='khan'\n",
    "a=f\"this is {me}{m}\"\n",
    "print(a)"
   ]
  },
  {
   "cell_type": "code",
   "execution_count": 14,
   "id": "2230e7e5",
   "metadata": {},
   "outputs": [
    {
     "name": "stdout",
     "output_type": "stream",
     "text": [
      "{0: 'item0', 1: 'item1', 2: 'item2'}\n"
     ]
    }
   ],
   "source": [
    "dict1={0:'item0',1:'item1',2:'item2'}\n",
    "print(dict1)"
   ]
  },
  {
   "cell_type": "code",
   "execution_count": 15,
   "id": "ee303152",
   "metadata": {},
   "outputs": [],
   "source": [
    "# dict comprehension"
   ]
  },
  {
   "cell_type": "code",
   "execution_count": 1,
   "id": "594ddc79",
   "metadata": {},
   "outputs": [
    {
     "name": "stdout",
     "output_type": "stream",
     "text": [
      "{1: 'item', 2: 'item', 3: 'item', 4: 'item', 5: 'item', 6: 'item', 7: 'item', 8: 'item', 9: 'item', 10: 'item', 11: 'item', 12: 'item', 13: 'item', 14: 'item', 15: 'item', 16: 'item', 17: 'item', 18: 'item', 19: 'item', 20: 'item', 21: 'item', 22: 'item', 23: 'item', 24: 'item', 25: 'item', 26: 'item', 27: 'item', 28: 'item', 29: 'item', 30: 'item', 31: 'item', 32: 'item', 33: 'item', 34: 'item', 35: 'item', 36: 'item', 37: 'item', 38: 'item', 39: 'item', 40: 'item', 41: 'item', 42: 'item', 43: 'item', 44: 'item', 45: 'item', 46: 'item', 47: 'item', 48: 'item', 49: 'item', 50: 'item', 51: 'item', 52: 'item', 53: 'item', 54: 'item', 55: 'item', 56: 'item', 57: 'item', 58: 'item', 59: 'item', 60: 'item', 61: 'item', 62: 'item', 63: 'item', 64: 'item', 65: 'item', 66: 'item', 67: 'item', 68: 'item', 69: 'item', 70: 'item', 71: 'item', 72: 'item', 73: 'item', 74: 'item', 75: 'item', 76: 'item', 77: 'item', 78: 'item', 79: 'item', 80: 'item', 81: 'item', 82: 'item', 83: 'item', 84: 'item', 85: 'item', 86: 'item', 87: 'item', 88: 'item', 89: 'item', 90: 'item', 91: 'item', 92: 'item', 93: 'item', 94: 'item', 95: 'item', 96: 'item', 97: 'item', 98: 'item', 99: 'item', 100: 'item'}\n"
     ]
    }
   ],
   "source": [
    "dict1={i:\"item\"  for i in range(1,101)}\n",
    "print(dict1)"
   ]
  },
  {
   "cell_type": "code",
   "execution_count": 41,
   "id": "0ea96b4b",
   "metadata": {},
   "outputs": [],
   "source": [
    "# set comprehension"
   ]
  },
  {
   "cell_type": "code",
   "execution_count": 39,
   "id": "6a62dc56",
   "metadata": {},
   "outputs": [
    {
     "name": "stdout",
     "output_type": "stream",
     "text": [
      "{0, 1, 256, 4, 9, 16, 144, 400, 529, 784, 25, 289, 36, 676, 169, 49, 441, 64, 576, 196, 324, 841, 81, 729, 225, 100, 484, 361, 625, 121}\n"
     ]
    }
   ],
   "source": [
    "# s={i for i in range(100) if i%3==0}\n",
    "s={i**2 for i in range(30)}\n",
    "print(s)"
   ]
  },
  {
   "cell_type": "code",
   "execution_count": 27,
   "id": "bc9a522c",
   "metadata": {},
   "outputs": [
    {
     "name": "stdout",
     "output_type": "stream",
     "text": [
      "{1, 2, 3, 4, 5, 6, 7, 8, 9}\n"
     ]
    }
   ],
   "source": [
    "s={1,2,5,4,7,8,9,6,3,1,2}\n",
    "print(s)"
   ]
  },
  {
   "cell_type": "code",
   "execution_count": 28,
   "id": "19c74e2f",
   "metadata": {},
   "outputs": [
    {
     "name": "stdout",
     "output_type": "stream",
     "text": [
      "{0, 1, 2, 3, 4, 5, 6, 7, 8, 9, 10, 11, 12, 13, 14, 15, 16, 17, 18, 19, 20, 21, 22, 23, 24, 25, 26, 27, 28, 29, 30, 31, 32, 33, 34, 35, 36, 37, 38, 39, 40, 41, 42, 43, 44, 45, 46, 47, 48, 49, 50, 51, 52, 53, 54, 55, 56, 57, 58, 59, 60, 61, 62, 63, 64, 65, 66, 67, 68, 69, 70, 71, 72, 73, 74, 75, 76, 77, 78, 79, 80, 81, 82, 83, 84, 85, 86, 87, 88, 89, 90, 91, 92, 93, 94, 95, 96, 97, 98, 99}\n"
     ]
    }
   ],
   "source": [
    "s={i for i in range(100)}\n",
    "print(s)"
   ]
  },
  {
   "cell_type": "markdown",
   "id": "242eb708",
   "metadata": {},
   "source": [
    "# lambda"
   ]
  },
  {
   "cell_type": "code",
   "execution_count": 30,
   "id": "850ac762",
   "metadata": {},
   "outputs": [
    {
     "name": "stdout",
     "output_type": "stream",
     "text": [
      "9\n"
     ]
    }
   ],
   "source": [
    "minus = lambda x,y:x-y\n",
    "print(minus(15,6))"
   ]
  },
  {
   "cell_type": "code",
   "execution_count": 2,
   "id": "f38cfef4",
   "metadata": {},
   "outputs": [
    {
     "name": "stdout",
     "output_type": "stream",
     "text": [
      "3\n"
     ]
    }
   ],
   "source": [
    "def minus(x,y):\n",
    "    return x-y\n",
    "    \n",
    "print(minus(5,2))"
   ]
  },
  {
   "cell_type": "code",
   "execution_count": 3,
   "id": "f7f4c105",
   "metadata": {},
   "outputs": [],
   "source": [
    "# map function for loop se"
   ]
  },
  {
   "cell_type": "code",
   "execution_count": 6,
   "id": "e38ba62f",
   "metadata": {},
   "outputs": [
    {
     "name": "stdout",
     "output_type": "stream",
     "text": [
      "[41, 25, 56]\n"
     ]
    }
   ],
   "source": [
    "name=[\"41\",\"25\",'56']\n",
    "for i in range(len(name)):\n",
    "    name[i] = int (name[i])\n",
    "print(name)    "
   ]
  },
  {
   "cell_type": "code",
   "execution_count": 7,
   "id": "b50f4a1e",
   "metadata": {},
   "outputs": [
    {
     "name": "stdout",
     "output_type": "stream",
     "text": [
      "[0, 1, 4, 9, 16, 25, 36, 49, 64, 81, 100, 121, 144, 169, 196, 225, 256, 289, 324, 361, 400, 441, 484, 529, 576, 625, 676, 729, 784, 841]\n"
     ]
    }
   ],
   "source": [
    "def printValues():\n",
    "    l = list()\n",
    "    for i in range(0,30):\n",
    "        l.append(i**2)\n",
    "    print(l)\n",
    "printValues()"
   ]
  },
  {
   "cell_type": "code",
   "execution_count": 38,
   "id": "9998be48",
   "metadata": {},
   "outputs": [
    {
     "ename": "SyntaxError",
     "evalue": "invalid syntax (3194872551.py, line 1)",
     "output_type": "error",
     "traceback": [
      "\u001b[1;36m  Input \u001b[1;32mIn [38]\u001b[1;36m\u001b[0m\n\u001b[1;33m    a=[i for i in range(30) i**2]\u001b[0m\n\u001b[1;37m                            ^\u001b[0m\n\u001b[1;31mSyntaxError\u001b[0m\u001b[1;31m:\u001b[0m invalid syntax\n"
     ]
    }
   ],
   "source": [
    "a=[i for i in range(30) i**2]\n",
    "print(a)"
   ]
  },
  {
   "cell_type": "code",
   "execution_count": 4,
   "id": "af6efb67",
   "metadata": {},
   "outputs": [
    {
     "name": "stdout",
     "output_type": "stream",
     "text": [
      "[0, 1, 4, 9, 16, 25, 36, 49, 64, 81, 100, 121, 144, 169, 196, 225, 256, 289, 324, 361, 400, 441, 484, 529, 576, 625, 676, 729, 784, 841]\n"
     ]
    }
   ],
   "source": [
    "a=[i**2 for i in range(0,30)]\n",
    "print(a)"
   ]
  },
  {
   "cell_type": "code",
   "execution_count": 5,
   "id": "e664c51e",
   "metadata": {},
   "outputs": [
    {
     "name": "stdout",
     "output_type": "stream",
     "text": [
      "[40, 90, 102]\n"
     ]
    }
   ],
   "source": [
    "name = [\"20\",\"45\",\"51\"]\n",
    "name = list(map(int,name))\n",
    "name = list(map(lambda x:x+x,name))\n",
    "print(name)    "
   ]
  },
  {
   "cell_type": "code",
   "execution_count": 12,
   "id": "2f3c2dc6",
   "metadata": {},
   "outputs": [],
   "source": [
    "# reduce"
   ]
  },
  {
   "cell_type": "code",
   "execution_count": 18,
   "id": "502e2757",
   "metadata": {},
   "outputs": [
    {
     "name": "stdout",
     "output_type": "stream",
     "text": [
      "45\n"
     ]
    }
   ],
   "source": [
    "from functools import reduce\n",
    "n=[12,5,2,8,9,6,3]\n",
    "n=reduce(lambda x,y:x+y ,n)\n",
    "print(n)"
   ]
  },
  {
   "cell_type": "code",
   "execution_count": 22,
   "id": "02b5e01c",
   "metadata": {},
   "outputs": [
    {
     "name": "stdout",
     "output_type": "stream",
     "text": [
      "[('apple', 'rose'), ('ball', 'lilly'), ('cat', 'tulip')]\n"
     ]
    }
   ],
   "source": [
    "# .To add two list [ adding elements of list ]\n",
    "list1=[\"apple\",\"ball\",\"cat\"]\n",
    "list2=[\"rose\",\"lilly\",\"tulip\"]\n",
    "zipped=zip(list1,list2)\n",
    "\n",
    "print(list(zipped))"
   ]
  },
  {
   "cell_type": "code",
   "execution_count": 25,
   "id": "d37e0638",
   "metadata": {},
   "outputs": [
    {
     "name": "stdout",
     "output_type": "stream",
     "text": [
      "[('apple', 'red'), ('banana', 'yellow'), ('orange', 'green')]\n"
     ]
    }
   ],
   "source": [
    "l1=[\"apple\",\"banana\",\"orange\"]\n",
    "l2=[\"red\",\"yellow\",\"green\"]\n",
    "a=zip(l1,l2)\n",
    "print(list(a))"
   ]
  },
  {
   "cell_type": "code",
   "execution_count": 26,
   "id": "6244af5a",
   "metadata": {},
   "outputs": [
    {
     "name": "stdout",
     "output_type": "stream",
     "text": [
      "geeks\n"
     ]
    }
   ],
   "source": [
    "# Python program to demonstrate the\n",
    "# use of join function to join list\n",
    "# elements without any separator.\n",
    "\n",
    "# Joining with empty separator\n",
    "list1 = ['g','e','e','k', 's']\n",
    "print(\"\".join(list1))\n"
   ]
  },
  {
   "cell_type": "code",
   "execution_count": 32,
   "id": "b3dbcbba",
   "metadata": {},
   "outputs": [
    {
     "name": "stdout",
     "output_type": "stream",
     "text": [
      "khan\n"
     ]
    }
   ],
   "source": [
    "l= ['k','h','a','n']\n",
    "print(\"\".join(l))"
   ]
  },
  {
   "cell_type": "markdown",
   "id": "4529c3b4",
   "metadata": {},
   "source": [
    "# map"
   ]
  },
  {
   "cell_type": "code",
   "execution_count": 34,
   "id": "0bb4a06e",
   "metadata": {},
   "outputs": [],
   "source": [
    "# Write a Python program to triple all numbers of a given list of integers. Use Python map."
   ]
  },
  {
   "cell_type": "code",
   "execution_count": 36,
   "id": "d56f15ca",
   "metadata": {},
   "outputs": [
    {
     "name": "stdout",
     "output_type": "stream",
     "text": [
      "[3, 6, 15, 12, 24, 21]\n"
     ]
    }
   ],
   "source": [
    "l=[1,2,5,4,8,7]\n",
    "l=list(map(lambda x:x+x+x,l))\n",
    "print(l)"
   ]
  },
  {
   "cell_type": "code",
   "execution_count": 39,
   "id": "f7d11cfa",
   "metadata": {},
   "outputs": [
    {
     "name": "stdout",
     "output_type": "stream",
     "text": [
      "[12, 15, 18]\n"
     ]
    }
   ],
   "source": [
    "# Write a Python program to add three given lists using Python map and lambda.\n",
    "\n",
    "l1 = [1,2,3]\n",
    "l2 = [4,5,6]\n",
    "l3 = [7,8,9]\n",
    "l = list(map(lambda x,y,z:x+y+z,l1,l2,l3))\n",
    "print(l)"
   ]
  },
  {
   "cell_type": "markdown",
   "id": "56f9f381",
   "metadata": {},
   "source": [
    "# enumerate"
   ]
  },
  {
   "cell_type": "code",
   "execution_count": 40,
   "id": "9e71b2b9",
   "metadata": {},
   "outputs": [
    {
     "name": "stdout",
     "output_type": "stream",
     "text": [
      "[(0, 'apple'), (1, 'banana'), (2, 'cherry')]\n"
     ]
    }
   ],
   "source": [
    "x = ('apple', 'banana', 'cherry')\n",
    "y = enumerate(x)\n",
    "\n",
    "print(list(y))"
   ]
  },
  {
   "cell_type": "code",
   "execution_count": 11,
   "id": "ebbef91c",
   "metadata": {},
   "outputs": [
    {
     "name": "stdout",
     "output_type": "stream",
     "text": [
      "bhindi\n",
      "gobhi\n"
     ]
    }
   ],
   "source": [
    "l1 = [\"bhindi\",\"alooo\",\"gobhi\",\"kanda\"]\n",
    "# i=1\n",
    "# for item in l1:\n",
    "#     if i%2!=0:\n",
    "#         print(item)\n",
    "#     i += 1\n",
    "\n",
    "for index,item in enumerate(l1):\n",
    "    if index%2==0:\n",
    "        print(item)\n",
    "    "
   ]
  },
  {
   "cell_type": "code",
   "execution_count": 35,
   "id": "9f5098ba",
   "metadata": {},
   "outputs": [
    {
     "ename": "NameError",
     "evalue": "name 'num' is not defined",
     "output_type": "error",
     "traceback": [
      "\u001b[1;31m---------------------------------------------------------------------------\u001b[0m",
      "\u001b[1;31mNameError\u001b[0m                                 Traceback (most recent call last)",
      "Input \u001b[1;32mIn [35]\u001b[0m, in \u001b[0;36m<cell line: 4>\u001b[1;34m()\u001b[0m\n\u001b[0;32m      2\u001b[0m number \u001b[38;5;241m=\u001b[39m \u001b[38;5;241m9\u001b[39m\n\u001b[0;32m      3\u001b[0m a \u001b[38;5;241m=\u001b[39m [\u001b[38;5;241m1\u001b[39m,\u001b[38;5;241m2\u001b[39m,\u001b[38;5;241m3\u001b[39m,\u001b[38;5;241m4\u001b[39m,\u001b[38;5;241m6\u001b[39m,\u001b[38;5;241m7\u001b[39m,\u001b[38;5;241m8\u001b[39m]\n\u001b[1;32m----> 4\u001b[0m \u001b[38;5;28mprint\u001b[39m(bisect\u001b[38;5;241m.\u001b[39mbisect(a,\u001b[43mnum\u001b[49m))\n\u001b[0;32m      5\u001b[0m bisect\u001b[38;5;241m.\u001b[39minsort(a,number)\n\u001b[0;32m      6\u001b[0m \u001b[38;5;28mprint\u001b[39m(a)\n",
      "\u001b[1;31mNameError\u001b[0m: name 'num' is not defined"
     ]
    }
   ],
   "source": [
    "import bisect\n",
    "number = 9\n",
    "a = [1,2,3,4,6,7,8]\n",
    "print(bisect.bisect(a,number))\n",
    "bisect.insort(a,number)\n",
    "print(a)\n",
    " "
   ]
  },
  {
   "cell_type": "code",
   "execution_count": 6,
   "id": "f38e174f",
   "metadata": {},
   "outputs": [],
   "source": [
    "# magic or dunder method"
   ]
  },
  {
   "cell_type": "code",
   "execution_count": 35,
   "id": "547d3f40",
   "metadata": {},
   "outputs": [
    {
     "name": "stdout",
     "output_type": "stream",
     "text": [
      "7000\n"
     ]
    }
   ],
   "source": [
    "class Employee:\n",
    "    def __init__(self,name,salary):\n",
    "        self.name = name\n",
    "        self.salary = salary\n",
    "        \n",
    "    def __add__(self,other):\n",
    "        return self.salary + other.salary\n",
    "    \n",
    "        \n",
    "a = Employee(\"khan\",5000)\n",
    "b = Employee(\"minhaj\",2000)\n",
    "c = Employee(\"inam\",1000) \n",
    "print(a+b)\n",
    "        "
   ]
  },
  {
   "cell_type": "code",
   "execution_count": 40,
   "id": "d4154431",
   "metadata": {},
   "outputs": [],
   "source": [
    "# tuple packing"
   ]
  },
  {
   "cell_type": "code",
   "execution_count": 41,
   "id": "f925328b",
   "metadata": {},
   "outputs": [
    {
     "name": "stdout",
     "output_type": "stream",
     "text": [
      "(10, 'khan', 50)\n"
     ]
    }
   ],
   "source": [
    "a=10\n",
    "b=\"khan\"\n",
    "c=50\n",
    "a=a,b,c\n",
    "print(a)"
   ]
  },
  {
   "cell_type": "code",
   "execution_count": 43,
   "id": "216acfa5",
   "metadata": {},
   "outputs": [
    {
     "name": "stdout",
     "output_type": "stream",
     "text": [
      "10 khan 50\n"
     ]
    }
   ],
   "source": [
    "# tuple unpacking\n",
    "\n",
    "a=(10,\"khan\",50)\n",
    "a,b,c=a\n",
    "print(a,b,c)"
   ]
  },
  {
   "cell_type": "code",
   "execution_count": 52,
   "id": "7e48317c",
   "metadata": {},
   "outputs": [
    {
     "name": "stdout",
     "output_type": "stream",
     "text": [
      "Emma 20\n",
      "Kelly 20\n"
     ]
    }
   ],
   "source": [
    "class Student:\n",
    "    # one argument constructor\n",
    "    def __init__(self, name):\n",
    "        print(\"One arguments constructor\")\n",
    "        self.name = name\n",
    "\n",
    "    # two argument constructor\n",
    "    def __init__(self, name, age=20):\n",
    "#         print(\"Two arguments constructor\")\n",
    "        self.name = name\n",
    "        self.age = age\n",
    "        print(self.name,self.age)\n",
    "# creating first object\n",
    "emma = Student('Emma')\n",
    "\n",
    "# creating Second object\n",
    "kelly = Student('Kelly')"
   ]
  },
  {
   "cell_type": "code",
   "execution_count": 54,
   "id": "276d62de",
   "metadata": {},
   "outputs": [
    {
     "name": "stdout",
     "output_type": "stream",
     "text": [
      "my name is surya roll_no is 20\n"
     ]
    }
   ],
   "source": [
    "def student(a,b):\n",
    "    print(\"my name is\",a,\"roll_no is\",b)\n",
    "    \n",
    "student(\"surya\",20)\n",
    "\n",
    "    "
   ]
  },
  {
   "cell_type": "code",
   "execution_count": 7,
   "id": "78ae6a5a",
   "metadata": {},
   "outputs": [
    {
     "name": "stdout",
     "output_type": "stream",
     "text": [
      "first line\n",
      "the new line\n",
      "second line\n"
     ]
    }
   ],
   "source": [
    "def my_func(func):\n",
    "    def inner_func(*args):\n",
    "        print(\"first line\")\n",
    "        func()\n",
    "        print(\"second line\")\n",
    "    return inner_func\n",
    "    \n",
    "@my_func\n",
    "def new_func():\n",
    "    print(\"the new line\")\n",
    "new_func()\n",
    "              \n",
    "              \n",
    "              \n",
    "              \n",
    "              \n",
    "              "
   ]
  },
  {
   "cell_type": "code",
   "execution_count": 4,
   "id": "f2a786ec",
   "metadata": {},
   "outputs": [
    {
     "name": "stdout",
     "output_type": "stream",
     "text": [
      "surya khan\n",
      "l 45\n"
     ]
    }
   ],
   "source": [
    "a = {\"surya\":\"khan\",\"l\":\"45\"}\n",
    "for i,j in a.items():\n",
    "    print(i,j)\n",
    "#     print(a)\n",
    "# print(type(a))    \n"
   ]
  },
  {
   "cell_type": "code",
   "execution_count": 5,
   "id": "57953e74",
   "metadata": {},
   "outputs": [
    {
     "name": "stdout",
     "output_type": "stream",
     "text": [
      "1\n",
      "4\n",
      "9\n",
      "16\n",
      "25\n",
      "36\n",
      "49\n",
      "64\n",
      "81\n",
      "100\n"
     ]
    }
   ],
   "source": [
    "# Generator yield\n",
    "\n",
    "def square():\n",
    "    i = 1\n",
    "    while True:\n",
    "        yield i*i\n",
    "        i+=1\n",
    "        \n",
    "#print(type(var))\n",
    "for j in square():\n",
    "    if j>100:\n",
    "        break\n",
    "    print(j)"
   ]
  },
  {
   "cell_type": "code",
   "execution_count": 7,
   "id": "e9ab7cdc",
   "metadata": {},
   "outputs": [
    {
     "name": "stdout",
     "output_type": "stream",
     "text": [
      "my name is  khan 20\n"
     ]
    }
   ],
   "source": [
    "def name(func):\n",
    "    def inner(name,roll,age):\n",
    "        print(\"age is\",age)\n",
    "        func(name,roll)\n",
    "    return inner    \n",
    "@name\n",
    "def student(name,roll):\n",
    "    print(\"my name is \",name,roll)\n",
    "student(\"khan\",\"20\",25)"
   ]
  },
  {
   "cell_type": "code",
   "execution_count": 1,
   "id": "2dd7b959",
   "metadata": {},
   "outputs": [
    {
     "name": "stdout",
     "output_type": "stream",
     "text": [
      "khan my name\n"
     ]
    }
   ],
   "source": [
    "a=(\"khan\",\"my\",\"name\")\n",
    "a,b,c=a\n",
    "print(a,b,c)"
   ]
  },
  {
   "cell_type": "code",
   "execution_count": 4,
   "id": "30a665ca",
   "metadata": {},
   "outputs": [
    {
     "name": "stdout",
     "output_type": "stream",
     "text": [
      "my name is khan and age is 10\n",
      "in std fifth\n"
     ]
    }
   ],
   "source": [
    "def name(func):\n",
    "    def inner(name,age,std):\n",
    "        func(name,age)\n",
    "        print(\"in std\",std)\n",
    "#         func(name,age)\n",
    "    return inner\n",
    "\n",
    "@name\n",
    "def Student(name,age):\n",
    "    print(\"my name is\",name,\"and age is\",age)\n",
    "Student(\"khan\",10,\"fifth\")    "
   ]
  },
  {
   "cell_type": "code",
   "execution_count": 14,
   "id": "53c43493",
   "metadata": {},
   "outputs": [
    {
     "name": "stdout",
     "output_type": "stream",
     "text": [
      "5\n",
      "9\n"
     ]
    }
   ],
   "source": [
    "def add(a,b):\n",
    "    print(a+b)\n",
    "add(2,3)  \n",
    "add(4,5)\n",
    "\n",
    "# a=lambda x,y:x+y\n",
    "# print(a(5,2))"
   ]
  },
  {
   "cell_type": "code",
   "execution_count": 2,
   "id": "f43d43ce",
   "metadata": {},
   "outputs": [
    {
     "ename": "TypeError",
     "evalue": "'NoneType' object is not callable",
     "output_type": "error",
     "traceback": [
      "\u001b[1;31m---------------------------------------------------------------------------\u001b[0m",
      "\u001b[1;31mTypeError\u001b[0m                                 Traceback (most recent call last)",
      "Input \u001b[1;32mIn [2]\u001b[0m, in \u001b[0;36m<cell line: 12>\u001b[1;34m()\u001b[0m\n\u001b[0;32m      9\u001b[0m \u001b[38;5;129m@add\u001b[39m\n\u001b[0;32m     10\u001b[0m \u001b[38;5;28;01mdef\u001b[39;00m \u001b[38;5;21mStudent\u001b[39m(name,age):\n\u001b[0;32m     11\u001b[0m     \u001b[38;5;28mprint\u001b[39m(\u001b[38;5;124m\"\u001b[39m\u001b[38;5;124mmy name is\u001b[39m\u001b[38;5;124m\"\u001b[39m,name,\u001b[38;5;124m\"\u001b[39m\u001b[38;5;124mand age is\u001b[39m\u001b[38;5;124m\"\u001b[39m,age)\n\u001b[1;32m---> 12\u001b[0m \u001b[43mStudent\u001b[49m\u001b[43m(\u001b[49m\u001b[38;5;124;43m\"\u001b[39;49m\u001b[38;5;124;43mkhan\u001b[39;49m\u001b[38;5;124;43m\"\u001b[39;49m\u001b[43m,\u001b[49m\u001b[38;5;241;43m15\u001b[39;49m\u001b[43m,\u001b[49m\u001b[38;5;124;43m\"\u001b[39;49m\u001b[38;5;124;43mtenth\u001b[39;49m\u001b[38;5;124;43m\"\u001b[39;49m\u001b[43m)\u001b[49m\n",
      "\u001b[1;31mTypeError\u001b[0m: 'NoneType' object is not callable"
     ]
    }
   ],
   "source": [
    "\n",
    "\n",
    "def add(func):\n",
    "    def inner(name,age,std):\n",
    "        func(name,age)\n",
    "        print(\"in std\",std)\n",
    "        return inner\n",
    "@add\n",
    "def Student(name,age):\n",
    "    print(\"my name is\",name,\"and age is\",age)\n",
    "Student(\"khan\",15,\"tenth\")    "
   ]
  },
  {
   "cell_type": "code",
   "execution_count": 8,
   "id": "4d566e24",
   "metadata": {},
   "outputs": [
    {
     "name": "stdout",
     "output_type": "stream",
     "text": [
      "apple\n",
      "banana\n",
      "cherry\n"
     ]
    }
   ],
   "source": [
    "a = [\"apple\", \"banana\", \"cherry\"]\n",
    "for x in a:\n",
    "  print(x) "
   ]
  },
  {
   "cell_type": "code",
   "execution_count": 1,
   "id": "86807bdb",
   "metadata": {},
   "outputs": [
    {
     "name": "stdout",
     "output_type": "stream",
     "text": [
      "<filter object at 0x00000250C897A4D0>\n"
     ]
    }
   ],
   "source": [
    "fruits = [\"apple\", \"banana\", \"cherry\"]\n",
    "fruits = filter(list,fruits)\n",
    "print(fruits)\n"
   ]
  },
  {
   "cell_type": "code",
   "execution_count": 30,
   "id": "b1945961",
   "metadata": {},
   "outputs": [
    {
     "name": "stdout",
     "output_type": "stream",
     "text": [
      "[1, 4, 9, 16, 25]\n"
     ]
    }
   ],
   "source": [
    "a=[1,2,3,4,5]\n",
    "b=list(map(lambda x:x*x,a))\n",
    "print(b)"
   ]
  },
  {
   "cell_type": "code",
   "execution_count": 3,
   "id": "99a4e0bd",
   "metadata": {},
   "outputs": [
    {
     "name": "stdout",
     "output_type": "stream",
     "text": [
      "my name is khan and age is 10\n",
      "in std fifth\n"
     ]
    }
   ],
   "source": [
    "def name(func):\n",
    "    def inner(name,age,std):\n",
    "        func(name,age)\n",
    "        print(\"in std\",std)\n",
    "#         func(name,age)\n",
    "    return inner\n",
    "\n",
    "@name\n",
    "def Student(name,age):\n",
    "    print(\"my name is\",name,\"and age is\",age)\n",
    "Student(\"khan\",10,\"fifth\")    "
   ]
  },
  {
   "cell_type": "code",
   "execution_count": 5,
   "id": "12dc80d7",
   "metadata": {},
   "outputs": [
    {
     "name": "stdout",
     "output_type": "stream",
     "text": [
      "my name is khan and age is 15\n",
      "in std tenth\n"
     ]
    }
   ],
   "source": [
    "def add(func):\n",
    "    def inner(name,age,std):\n",
    "        func(name,age)\n",
    "        print(\"in std\",std)\n",
    "    return inner\n",
    "@add\n",
    "def Student(name,age):\n",
    "    print(\"my name is\",name,\"and age is\",age)\n",
    "\n",
    "    Student(\"khan\",15,\"tenth\")    "
   ]
  },
  {
   "cell_type": "code",
   "execution_count": 8,
   "id": "d274d235",
   "metadata": {},
   "outputs": [
    {
     "name": "stdout",
     "output_type": "stream",
     "text": [
      "my name is khan and age is 15\n",
      "and my roll no is 28\n"
     ]
    }
   ],
   "source": [
    "def add(a):\n",
    "    def inner(name,age,roll):\n",
    "        a(name,age)\n",
    "        print(\"and my roll no is\",roll)\n",
    "    return inner    \n",
    "\n",
    "@add\n",
    "def Student(name,age):\n",
    "    print(\"my name is\",name,\"and age is\",age)\n",
    "Student(\"khan\",15,28)    "
   ]
  },
  {
   "cell_type": "code",
   "execution_count": 20,
   "id": "bf8eb205",
   "metadata": {},
   "outputs": [
    {
     "name": "stdout",
     "output_type": "stream",
     "text": [
      "12\n"
     ]
    }
   ],
   "source": [
    "from functools import reduce\n",
    "n=[1,2,4,5]\n",
    "n=reduce(lambda x,y:x+y,n)\n",
    "print(n)"
   ]
  },
  {
   "cell_type": "code",
   "execution_count": 23,
   "id": "f674ef98",
   "metadata": {},
   "outputs": [
    {
     "name": "stdout",
     "output_type": "stream",
     "text": [
      "45\n"
     ]
    }
   ],
   "source": [
    "from functools import reduce\n",
    "n=[12,5,2,8,9,6,3]\n",
    "n=reduce(lambda x,y:x+y ,n)\n",
    "print(n)"
   ]
  },
  {
   "cell_type": "code",
   "execution_count": 25,
   "id": "8e9dd267",
   "metadata": {},
   "outputs": [
    {
     "ename": "TypeError",
     "evalue": "range expected at least 1 argument, got 0",
     "output_type": "error",
     "traceback": [
      "\u001b[1;31m---------------------------------------------------------------------------\u001b[0m",
      "\u001b[1;31mTypeError\u001b[0m                                 Traceback (most recent call last)",
      "Input \u001b[1;32mIn [25]\u001b[0m, in \u001b[0;36m<cell line: 1>\u001b[1;34m()\u001b[0m\n\u001b[1;32m----> 1\u001b[0m \u001b[38;5;28;01mfor\u001b[39;00m i \u001b[38;5;129;01min\u001b[39;00m  \u001b[38;5;28;43mrange\u001b[39;49m\u001b[43m(\u001b[49m\u001b[43m)\u001b[49m:\n\u001b[0;32m      2\u001b[0m     \u001b[38;5;28mprint\u001b[39m(i)\n",
      "\u001b[1;31mTypeError\u001b[0m: range expected at least 1 argument, got 0"
     ]
    }
   ],
   "source": [
    "for i in  range():\n",
    "    print(i)"
   ]
  },
  {
   "cell_type": "code",
   "execution_count": 27,
   "id": "97429a62",
   "metadata": {},
   "outputs": [
    {
     "name": "stdout",
     "output_type": "stream",
     "text": [
      "[(0, 'apple'), (1, 'ball')]\n"
     ]
    }
   ],
   "source": [
    "x=[\"apple\",\"ball\"]\n",
    "y=enumerate(x)\n",
    "print(list(y))"
   ]
  },
  {
   "cell_type": "code",
   "execution_count": 33,
   "id": "294fade8",
   "metadata": {},
   "outputs": [
    {
     "name": "stdout",
     "output_type": "stream",
     "text": [
      "2\n",
      "[1, 2, 3, 4, 5, 6]\n"
     ]
    }
   ],
   "source": [
    "import bisect\n",
    "num=3\n",
    "a=[1,2,4,5,6]\n",
    "print(bisect.bisect(a,num))\n",
    "bisect.insort(a,num)\n",
    "print(a)\n"
   ]
  },
  {
   "cell_type": "code",
   "execution_count": 3,
   "id": "321038fe",
   "metadata": {},
   "outputs": [
    {
     "name": "stdout",
     "output_type": "stream",
     "text": [
      "0\n",
      "1\n",
      "2\n"
     ]
    }
   ],
   "source": [
    "def gen(n):\n",
    "    for i in range(n):\n",
    "        yield i\n",
    "# print(gen(10000))\n",
    "# for i in gen(10):\n",
    "#     print(i)\n",
    "b=gen(1000)\n",
    "print(next(b))\n",
    "print(next(b))\n",
    "print(next(b))\n",
    "    \n",
    "    \n",
    "        "
   ]
  },
  {
   "cell_type": "code",
   "execution_count": 3,
   "id": "8eb725d9",
   "metadata": {},
   "outputs": [
    {
     "name": "stdout",
     "output_type": "stream",
     "text": [
      "1\n",
      "4\n",
      "9\n",
      "16\n",
      "25\n",
      "36\n",
      "49\n",
      "64\n",
      "81\n",
      "100\n"
     ]
    }
   ],
   "source": [
    "# generator\n",
    "def square():\n",
    "    i=1\n",
    "    while True:\n",
    "        yield i*i\n",
    "        i+=1\n",
    "for j in square():\n",
    "    if j>100:\n",
    "        break\n",
    "    print(j)"
   ]
  },
  {
   "cell_type": "code",
   "execution_count": 6,
   "id": "2a3e0297",
   "metadata": {},
   "outputs": [
    {
     "name": "stdout",
     "output_type": "stream",
     "text": [
      "k\n",
      "h\n",
      "a\n",
      "n\n"
     ]
    },
    {
     "ename": "StopIteration",
     "evalue": "",
     "output_type": "error",
     "traceback": [
      "\u001b[1;31m---------------------------------------------------------------------------\u001b[0m",
      "\u001b[1;31mStopIteration\u001b[0m                             Traceback (most recent call last)",
      "Input \u001b[1;32mIn [6]\u001b[0m, in \u001b[0;36m<cell line: 6>\u001b[1;34m()\u001b[0m\n\u001b[0;32m      4\u001b[0m \u001b[38;5;28mprint\u001b[39m(\u001b[38;5;28mnext\u001b[39m(a))\n\u001b[0;32m      5\u001b[0m \u001b[38;5;28mprint\u001b[39m(\u001b[38;5;28mnext\u001b[39m(a))\n\u001b[1;32m----> 6\u001b[0m \u001b[38;5;28mprint\u001b[39m(\u001b[38;5;28;43mnext\u001b[39;49m\u001b[43m(\u001b[49m\u001b[43ma\u001b[49m\u001b[43m)\u001b[49m)\n",
      "\u001b[1;31mStopIteration\u001b[0m: "
     ]
    }
   ],
   "source": [
    "a=iter(\"khan\")\n",
    "print(next(a))\n",
    "print(a.__next__())\n",
    "print(next(a))\n",
    "print(next(a))\n",
    "print(next(a))\n"
   ]
  },
  {
   "cell_type": "markdown",
   "id": "25b47454",
   "metadata": {},
   "source": [
    "# random"
   ]
  },
  {
   "cell_type": "code",
   "execution_count": 18,
   "id": "2a05202d",
   "metadata": {},
   "outputs": [
    {
     "name": "stdout",
     "output_type": "stream",
     "text": [
      "100.62166765388318\n"
     ]
    }
   ],
   "source": [
    "import random\n",
    "a= random.randint(1,2)\n",
    "b= random.random()+100\n",
    "print(b)"
   ]
  },
  {
   "cell_type": "code",
   "execution_count": 19,
   "id": "22a787d7",
   "metadata": {},
   "outputs": [],
   "source": [
    "# random choice"
   ]
  },
  {
   "cell_type": "code",
   "execution_count": 24,
   "id": "1f78d19a",
   "metadata": {},
   "outputs": [
    {
     "name": "stdout",
     "output_type": "stream",
     "text": [
      "codewithharry\n"
     ]
    }
   ],
   "source": [
    "a=[\"codewithharry\",\"DD\",\"humtv\"]\n",
    "b=random.choice(a)\n",
    "print(b)"
   ]
  },
  {
   "cell_type": "code",
   "execution_count": 1,
   "id": "1cf96b65",
   "metadata": {},
   "outputs": [
    {
     "name": "stdout",
     "output_type": "stream",
     "text": [
      "<zip object at 0x0000025A62A94740>\n"
     ]
    }
   ],
   "source": [
    "a=[\"a\",\"b\",\"b\"]\n",
    "b=[\"1\",\"2\",\"3\"]\n",
    "c=zip(a,b)\n",
    "print(c)"
   ]
  },
  {
   "cell_type": "markdown",
   "id": "c0d3dad3",
   "metadata": {},
   "source": [
    "# generator"
   ]
  },
  {
   "cell_type": "code",
   "execution_count": 2,
   "id": "703bb091",
   "metadata": {},
   "outputs": [
    {
     "name": "stdout",
     "output_type": "stream",
     "text": [
      "10\n",
      "11\n",
      "14\n",
      "19\n",
      "26\n"
     ]
    }
   ],
   "source": [
    "def square(x):\n",
    "    for i in range(5):\n",
    "        yield i*i\n",
    "def test(x):\n",
    "    for i in square(5):\n",
    "        print(i+x)\n",
    "test(10)        "
   ]
  },
  {
   "cell_type": "code",
   "execution_count": 1,
   "id": "04865c2b",
   "metadata": {},
   "outputs": [],
   "source": [
    "# task 2/08/2022"
   ]
  },
  {
   "cell_type": "code",
   "execution_count": 14,
   "id": "adbe3304",
   "metadata": {},
   "outputs": [
    {
     "ename": "SyntaxError",
     "evalue": "invalid syntax (2720469249.py, line 2)",
     "output_type": "error",
     "traceback": [
      "\u001b[1;36m  Input \u001b[1;32mIn [14]\u001b[1;36m\u001b[0m\n\u001b[1;33m    \"Answer:\":\".Py\"}]\u001b[0m\n\u001b[1;37m             ^\u001b[0m\n\u001b[1;31mSyntaxError\u001b[0m\u001b[1;31m:\u001b[0m invalid syntax\n"
     ]
    }
   ],
   "source": [
    "dict1=[{\"Question\":\"Correct extention of python file?\"\n",
    "       \"Answer:\":\".Py\"}]"
   ]
  },
  {
   "cell_type": "code",
   "execution_count": 7,
   "id": "db6ec63c",
   "metadata": {},
   "outputs": [
    {
     "name": "stdout",
     "output_type": "stream",
     "text": [
      "{'brand': 'Ford', 'model': 'Mustang', 'year': 1964}\n"
     ]
    }
   ],
   "source": [
    "thisdict = {\n",
    "  \"brand\": \"Ford\",\n",
    "  \"model\": \"Mustang\",\n",
    "  \"year\": 1964\n",
    "}\n",
    "print(thisdict)"
   ]
  },
  {
   "cell_type": "code",
   "execution_count": 8,
   "id": "87c58b48",
   "metadata": {},
   "outputs": [],
   "source": [
    "Dictionary \n"
   ]
  },
  {
   "cell_type": "code",
   "execution_count": null,
   "id": "8329de94",
   "metadata": {},
   "outputs": [],
   "source": [
    "\n",
    "\n",
    "\n"
   ]
  },
  {
   "cell_type": "code",
   "execution_count": 1,
   "id": "7e942e9d",
   "metadata": {},
   "outputs": [
    {
     "name": "stdout",
     "output_type": "stream",
     "text": [
      "True\n"
     ]
    }
   ],
   "source": [
    "i=7\n",
    "if i:\n",
    "    print(\"True\")\n",
    "else:\n",
    "    print(\"False\")"
   ]
  },
  {
   "cell_type": "code",
   "execution_count": 42,
   "id": "7322017b",
   "metadata": {},
   "outputs": [
    {
     "name": "stdout",
     "output_type": "stream",
     "text": [
      "True\n"
     ]
    }
   ],
   "source": [
    "i=7\n",
    "print(bool(i))\n"
   ]
  },
  {
   "cell_type": "markdown",
   "id": "ac96f72e",
   "metadata": {},
   "source": [
    "# how to using loop using dictionary inside list Task"
   ]
  },
  {
   "cell_type": "code",
   "execution_count": 31,
   "id": "945f7a4e",
   "metadata": {},
   "outputs": [
    {
     "name": "stdout",
     "output_type": "stream",
     "text": [
      "1 python?\n",
      "Ans- .py\n",
      "2 django?\n",
      "Ans- framework\n",
      "3 second lang?\n",
      "Ans- java\n",
      "4 Favourate color?\n",
      "Ans- White\n",
      "5 hobby?\n",
      "Ans- Nothing\n",
      "1 building projects\n",
      "2 color\n",
      "3 no phone\n"
     ]
    }
   ],
   "source": [
    "Q=[{\"question\":\"python?\", \"answer\":\".py\",\"explanation\":\"\"},\n",
    "           {\"question\":\"django?\", \"answer\":\"framework\", \"explanation\":\"building projects\"},\n",
    "           {\"question\":\"second lang?\", \"answer\":\"java\", \"explanation\":\"\"},\n",
    "           {\"question\":\"Favourate color?\", \"answer\":\"White\", \"explanation\":\"color\"},\n",
    "           {\"question\":\"hobby?\", \"answer\":\"Nothing\", \"explanation\":\"no phone\"}]\n",
    "count=1\n",
    "for i in Q:\n",
    "    print(count,i[\"question\"])\n",
    "    count+=1\n",
    "    print(\"Ans-\",i[\"answer\"])\n",
    "#     print(\"Explanation:\",i[\"explanation\"])\n",
    "c=1\n",
    "for i in Q:\n",
    "    if i[\"explanation\"]==\"\":\n",
    "        pass\n",
    "    else:\n",
    "        print(c,i[\"explanation\"])\n",
    "        c+=1\n",
    "    \n"
   ]
  },
  {
   "cell_type": "code",
   "execution_count": 6,
   "id": "356722c1",
   "metadata": {},
   "outputs": [
    {
     "name": "stdout",
     "output_type": "stream",
     "text": [
      "[0, 5, 8, 15]\n"
     ]
    }
   ],
   "source": [
    "a=[5,8,15,19]\n",
    "b=[5,3,7,4]\n",
    "sub=[element1-element2 for (element1,element2) in zip (a,b)]\n",
    "print(sub)"
   ]
  },
  {
   "cell_type": "code",
   "execution_count": null,
   "id": "fd1f9757",
   "metadata": {},
   "outputs": [],
   "source": [
    "\n",
    "number=int(input(\"enter number\"))\n"
   ]
  },
  {
   "cell_type": "code",
   "execution_count": 1,
   "id": "7daca5c9",
   "metadata": {},
   "outputs": [
    {
     "name": "stdout",
     "output_type": "stream",
     "text": [
      "-37\n"
     ]
    }
   ],
   "source": [
    "from functools import reduce\n",
    "a = [5,8,15,19]\n",
    "b =reduce(lambda x,y:x-y,a)\n",
    "print(b)"
   ]
  },
  {
   "cell_type": "code",
   "execution_count": 5,
   "id": "db966520",
   "metadata": {},
   "outputs": [
    {
     "ename": "SyntaxError",
     "evalue": "invalid syntax (4000375376.py, line 2)",
     "output_type": "error",
     "traceback": [
      "\u001b[1;36m  Input \u001b[1;32mIn [5]\u001b[1;36m\u001b[0m\n\u001b[1;33m    b=[i for i in a element1-element1]\u001b[0m\n\u001b[1;37m                    ^\u001b[0m\n\u001b[1;31mSyntaxError\u001b[0m\u001b[1;31m:\u001b[0m invalid syntax\n"
     ]
    }
   ],
   "source": [
    "a=[5,8,15,19]\n",
    "b=[i for i in a element1-element1]\n",
    "pr"
   ]
  },
  {
   "cell_type": "code",
   "execution_count": 20,
   "id": "46c0588c",
   "metadata": {},
   "outputs": [
    {
     "name": "stdout",
     "output_type": "stream",
     "text": [
      "1 2 3\n",
      "[2, 8, 18]\n"
     ]
    }
   ],
   "source": [
    "array =list(map(int,input().split(\" \")))\n",
    "\n",
    "def sqaure():\n",
    "    return lambda x:x*x\n",
    "\n",
    "def Add():\n",
    "    return lambda x:x+x\n",
    "func=[sqaure(),Add()]\n",
    "\n",
    "def cmap(func,array):\n",
    "    result=list(map(func[0],array))\n",
    "    result1=list(map(func[1],result))\n",
    "    return result1\n",
    "a=cmap(func,array)\n",
    "print(a)"
   ]
  },
  {
   "cell_type": "code",
   "execution_count": 14,
   "id": "d3cef240",
   "metadata": {},
   "outputs": [
    {
     "name": "stdout",
     "output_type": "stream",
     "text": [
      "1 2 3\n",
      "[2, 8, 18]\n"
     ]
    }
   ],
   "source": [
    "array =list(map(int,input().split(\" \")))\n",
    "a=list(map(lambda x:x**2+x**2,array))\n",
    "print(a)"
   ]
  },
  {
   "cell_type": "code",
   "execution_count": 15,
   "id": "547d365e",
   "metadata": {},
   "outputs": [
    {
     "name": "stdout",
     "output_type": "stream",
     "text": [
      "2 3 4\n",
      "[8, 18, 32]\n"
     ]
    }
   ],
   "source": [
    "array =list(map(int,input().split(\" \")))\n",
    "a=map(lambda x:x*x*2,array)\n",
    "print(list(a))"
   ]
  },
  {
   "cell_type": "code",
   "execution_count": null,
   "id": "e3d26b5e",
   "metadata": {},
   "outputs": [],
   "source": []
  },
  {
   "cell_type": "code",
   "execution_count": 19,
   "id": "6684e038",
   "metadata": {},
   "outputs": [
    {
     "name": "stdout",
     "output_type": "stream",
     "text": [
      "[8, 15, 19] [5, 8, 15]\n"
     ]
    }
   ],
   "source": [
    "z=[5,8,15,19]\n",
    "diffs = [z[0]]+[x-y for x, y in zip(z[1:], z[:-1])]\n",
    "print(z[1:],z[-1])\n",
    "print(diffs)"
   ]
  },
  {
   "cell_type": "code",
   "execution_count": 1,
   "id": "5551d24f",
   "metadata": {},
   "outputs": [],
   "source": [
    "c={'a':45,'b':65,'A':5}\n",
    "if 'a'=='A':\n",
    "    print(50)\n",
    "\n",
    "\n",
    "\n"
   ]
  },
  {
   "cell_type": "code",
   "execution_count": null,
   "id": "cadda847",
   "metadata": {},
   "outputs": [],
   "source": []
  },
  {
   "cell_type": "code",
   "execution_count": 3,
   "id": "e1fe3cfa",
   "metadata": {},
   "outputs": [
    {
     "ename": "NameError",
     "evalue": "name 'a' is not defined",
     "output_type": "error",
     "traceback": [
      "\u001b[1;31m---------------------------------------------------------------------------\u001b[0m",
      "\u001b[1;31mNameError\u001b[0m                                 Traceback (most recent call last)",
      "Input \u001b[1;32mIn [3]\u001b[0m, in \u001b[0;36m<cell line: 2>\u001b[1;34m()\u001b[0m\n\u001b[0;32m      1\u001b[0m lst\u001b[38;5;241m=\u001b[39m[\u001b[38;5;241m1\u001b[39m,\u001b[38;5;241m13\u001b[39m,\u001b[38;5;241m14\u001b[39m,\u001b[38;5;241m17\u001b[39m,\u001b[38;5;241m51\u001b[39m,\u001b[38;5;241m80\u001b[39m,\u001b[38;5;241m19\u001b[39m]\n\u001b[1;32m----> 2\u001b[0m \u001b[43ma\u001b[49m[\u001b[38;5;241m0\u001b[39m]\n\u001b[0;32m      3\u001b[0m \u001b[38;5;28;01mfor\u001b[39;00m i \u001b[38;5;129;01min\u001b[39;00m a:\n\u001b[0;32m      4\u001b[0m     \u001b[38;5;28;01mif\u001b[39;00m i \u001b[38;5;241m>\u001b[39m b:\n",
      "\u001b[1;31mNameError\u001b[0m: name 'a' is not defined"
     ]
    }
   ],
   "source": [
    "lst=[1,13,14,17,51,80,19]\n",
    "a[0]\n",
    "for i in a:\n",
    "    if i > b:\n",
    "        b = i\n",
    "print(b)        "
   ]
  },
  {
   "cell_type": "code",
   "execution_count": 2,
   "id": "6c332105",
   "metadata": {},
   "outputs": [
    {
     "name": "stdout",
     "output_type": "stream",
     "text": [
      "80\n"
     ]
    }
   ],
   "source": [
    "a=[1,13,14,17,51,80,19]\n",
    "b=0\n",
    "for i in a:\n",
    "    if i > b:\n",
    "        b = i\n",
    "print(b)        "
   ]
  },
  {
   "cell_type": "code",
   "execution_count": 3,
   "id": "756a31e6",
   "metadata": {},
   "outputs": [],
   "source": [
    "l = [64, 25, 12, 22, 11, 1,2,44,3,122, 23, 34]\n",
    "\n",
    "for i in range(len(l)):\n",
    "    for j in range(i + 1, len(l)):\n",
    "\n",
    "        if l[i] > l[j]:\n",
    "           l[i], l[j] = l[j], l[i]\n"
   ]
  },
  {
   "cell_type": "code",
   "execution_count": 7,
   "id": "e00bc24e",
   "metadata": {},
   "outputs": [
    {
     "name": "stdout",
     "output_type": "stream",
     "text": [
      "[1, 13, 14, 17, 51, 80, 90]\n"
     ]
    }
   ],
   "source": [
    "l = [1,13,14,17,51,80,90]\n",
    "\n",
    "for i in range(len(l)):\n",
    "    for j in range(i + 1, len(l)):\n",
    "\n",
    "        if l[i] > l[j]:\n",
    "            l[i], l[j] = l[j], l[i]\n",
    "\n",
    "print (l)"
   ]
  },
  {
   "cell_type": "code",
   "execution_count": 5,
   "id": "302205b4",
   "metadata": {},
   "outputs": [
    {
     "name": "stdout",
     "output_type": "stream",
     "text": [
      "1\n",
      "8\n"
     ]
    }
   ],
   "source": [
    "a=[1,8,2,3]\n",
    "b=0\n",
    "for i in a:\n",
    "    if i>b:\n",
    "        b=i\n",
    "        print(b)"
   ]
  },
  {
   "cell_type": "code",
   "execution_count": 10,
   "id": "0587f216",
   "metadata": {},
   "outputs": [
    {
     "name": "stdout",
     "output_type": "stream",
     "text": [
      "[1, 1, 2, 2, 5, 7, 8]\n"
     ]
    }
   ],
   "source": [
    "a=[1,5,8,1,2,7,2]\n",
    "a.sort()\n",
    "for i in a:\n",
    "    pass\n",
    "print(a)\n"
   ]
  },
  {
   "cell_type": "code",
   "execution_count": 2,
   "id": "535277a1",
   "metadata": {},
   "outputs": [
    {
     "name": "stdout",
     "output_type": "stream",
     "text": [
      "hello world\n"
     ]
    }
   ],
   "source": [
    "# search value by in operator\n",
    "\n",
    "a=\"hello world\"\n",
    "if \"e\" in a:\n",
    "    print(a)"
   ]
  },
  {
   "cell_type": "code",
   "execution_count": 13,
   "id": "13a3b528",
   "metadata": {},
   "outputs": [
    {
     "name": "stdout",
     "output_type": "stream",
     "text": [
      "present\n"
     ]
    }
   ],
   "source": [
    "a={\"abc\":455,\"kbc\":105}\n",
    "# p=(105 in a.keys())\n",
    "for i in a.values():\n",
    "    if \"105\"in str (i):\n",
    "        print(\"present\")\n",
    "    else:\n",
    "        (\"not\")\n",
    "    \n",
    "\n",
    "\n",
    "# print(p)\n"
   ]
  },
  {
   "cell_type": "code",
   "execution_count": 26,
   "id": "d77755c8",
   "metadata": {},
   "outputs": [
    {
     "ename": "SyntaxError",
     "evalue": "invalid syntax. Perhaps you forgot a comma? (647869879.py, line 1)",
     "output_type": "error",
     "traceback": [
      "\u001b[1;36m  Input \u001b[1;32mIn [26]\u001b[1;36m\u001b[0m\n\u001b[1;33m    student={\"Ali\":{\"score\":91}\"Akbar:{\"score\":70}\"}\u001b[0m\n\u001b[1;37m                   ^\u001b[0m\n\u001b[1;31mSyntaxError\u001b[0m\u001b[1;31m:\u001b[0m invalid syntax. Perhaps you forgot a comma?\n"
     ]
    }
   ],
   "source": [
    "student={\"Ali\":{\"score\":91}\"Akbar\":{\"score\":70}\"\"}\n",
    "result = max(data.keys()\n",
    "\n",
    "print(result)\n"
   ]
  },
  {
   "cell_type": "code",
   "execution_count": 6,
   "id": "2eddce4a",
   "metadata": {},
   "outputs": [],
   "source": [
    "# sort method"
   ]
  },
  {
   "cell_type": "code",
   "execution_count": 25,
   "id": "92f5c165",
   "metadata": {},
   "outputs": [
    {
     "name": "stdout",
     "output_type": "stream",
     "text": [
      "['Bmw', 'view', 'Skoda', 'unicon']\n"
     ]
    }
   ],
   "source": [
    "a=[\"view\",\"Bmw\",\"Skoda\",\"unicon\"]\n",
    "# for i in sorted(a,key=len):\n",
    "#     print(i)\n",
    "a.sort(key=len)\n",
    "print(a)\n",
    "\n",
    "\n"
   ]
  },
  {
   "cell_type": "code",
   "execution_count": 2,
   "id": "12fdc691",
   "metadata": {},
   "outputs": [
    {
     "name": "stdout",
     "output_type": "stream",
     "text": [
      "ball\n",
      "hello\n",
      "why\n"
     ]
    }
   ],
   "source": [
    "x= \"hello why ball\"\n",
    "y=x.split()\n",
    "y.sort()\n",
    "for i in y:\n",
    "    print(i)\n"
   ]
  },
  {
   "cell_type": "code",
   "execution_count": 1,
   "id": "d520cf99",
   "metadata": {},
   "outputs": [],
   "source": [
    "# NESTED DICTIONARY"
   ]
  },
  {
   "cell_type": "code",
   "execution_count": null,
   "id": "dd9ddf5a",
   "metadata": {},
   "outputs": [],
   "source": [
    "student={\"Ali\":{\"score\":91},\"Akbar\":{\"score\":70},\"Bilal\":{}}\n"
   ]
  }
 ],
 "metadata": {
  "kernelspec": {
   "display_name": "Python 3 (ipykernel)",
   "language": "python",
   "name": "python3"
  },
  "language_info": {
   "codemirror_mode": {
    "name": "ipython",
    "version": 3
   },
   "file_extension": ".py",
   "mimetype": "text/x-python",
   "name": "python",
   "nbconvert_exporter": "python",
   "pygments_lexer": "ipython3",
   "version": "3.10.4"
  }
 },
 "nbformat": 4,
 "nbformat_minor": 5
}
